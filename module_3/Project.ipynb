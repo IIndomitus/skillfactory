{
 "cells": [
  {
   "cell_type": "markdown",
   "metadata": {},
   "source": [
    "![](https://www.pata.org/wp-content/uploads/2014/09/TripAdvisor_Logo-300x119.png)\n",
    "# Predict TripAdvisor Rating\n",
    "## В этом соревновании нам предстоит предсказать рейтинг ресторана в TripAdvisor\n",
    "**По ходу задачи:**\n",
    "* Прокачаем работу с pandas\n",
    "* Научимся работать с Kaggle Notebooks\n",
    "* Поймем как делать предобработку различных данных\n",
    "* Научимся работать с пропущенными данными (Nan)\n",
    "* Познакомимся с различными видами кодирования признаков\n",
    "* Немного попробуем [Feature Engineering](https://ru.wikipedia.org/wiki/Конструирование_признаков) (генерировать новые признаки)\n",
    "* И совсем немного затронем ML\n",
    "* И многое другое...   \n",
    "\n",
    "\n",
    "\n",
    "### И самое важное, все это вы сможете сделать самостоятельно!\n",
    "\n",
    "*Этот Ноутбук являетсся Примером/Шаблоном к этому соревнованию (Baseline) и не служит готовым решением!*   \n",
    "Вы можете использовать его как основу для построения своего решения.\n",
    "\n",
    "> что такое baseline решение, зачем оно нужно и почему предоставлять baseline к соревнованию стало важным стандартом на kaggle и других площадках.   \n",
    "**baseline** создается больше как шаблон, где можно посмотреть как происходит обращение с входящими данными и что нужно получить на выходе. При этом МЛ начинка может быть достаточно простой, просто для примера. Это помогает быстрее приступить к самому МЛ, а не тратить ценное время на чисто инженерные задачи. \n",
    "Также baseline являеться хорошей опорной точкой по метрике. Если твое решение хуже baseline - ты явно делаешь что-то не то и стоит попробовать другой путь) \n",
    "\n",
    "В контексте нашего соревнования baseline идет с небольшими примерами того, что можно делать с данными, и с инструкцией, что делать дальше, чтобы улучшить результат.  Вообще готовым решением это сложно назвать, так как используются всего 2 самых простых признака (а остальные исключаются)."
   ]
  },
  {
   "cell_type": "markdown",
   "metadata": {},
   "source": [
    "# import"
   ]
  },
  {
   "cell_type": "code",
   "execution_count": 1,
   "metadata": {
    "_cell_guid": "b1076dfc-b9ad-4769-8c92-a6c4dae69d19",
    "_uuid": "8f2839f25d086af736a60e9eeb907d3b93b6e0e5",
    "execution": {
     "iopub.execute_input": "2021-06-26T09:14:21.894567Z",
     "iopub.status.busy": "2021-06-26T09:14:21.893994Z",
     "iopub.status.idle": "2021-06-26T09:14:21.913535Z",
     "shell.execute_reply": "2021-06-26T09:14:21.912229Z",
     "shell.execute_reply.started": "2021-06-26T09:14:21.894499Z"
    }
   },
   "outputs": [
    {
     "name": "stdout",
     "output_type": "stream",
     "text": [
      "/kaggle/input/sf-dst-restaurant-rating/sample_submission.csv\n",
      "/kaggle/input/sf-dst-restaurant-rating/main_task.csv\n",
      "/kaggle/input/sf-dst-restaurant-rating/kaggle_task.csv\n"
     ]
    }
   ],
   "source": [
    "# This Python 3 environment comes with many helpful analytics libraries installed\n",
    "# It is defined by the kaggle/python docker image: https://github.com/kaggle/docker-python\n",
    "# For example, here's several helpful packages to load in \n",
    "\n",
    "import numpy as np # linear algebra\n",
    "import pandas as pd # data processing, CSV file I/O (e.g. pd.read_csv)\n",
    "\n",
    "import matplotlib.pyplot as plt\n",
    "import seaborn as sns \n",
    "%matplotlib inline\n",
    "\n",
    "# Загружаем специальный удобный инструмент для разделения датасета:\n",
    "from sklearn.model_selection import train_test_split\n",
    "\n",
    "# Input data files are available in the \"../input/\" directory.\n",
    "# For example, running this (by clicking run or pressing Shift+Enter) will list all files under the input directory\n",
    "\n",
    "import os\n",
    "for dirname, _, filenames in os.walk('/kaggle/input'):\n",
    "    for filename in filenames:\n",
    "        print(os.path.join(dirname, filename))\n",
    "\n",
    "# Any results you write to the current directory are saved as output.\n",
    "\n",
    "import regex as re\n",
    "from datetime import datetime, timedelta"
   ]
  },
  {
   "cell_type": "code",
   "execution_count": 2,
   "metadata": {
    "execution": {
     "iopub.execute_input": "2021-06-26T09:14:21.916298Z",
     "iopub.status.busy": "2021-06-26T09:14:21.916007Z",
     "iopub.status.idle": "2021-06-26T09:14:21.922011Z",
     "shell.execute_reply": "2021-06-26T09:14:21.921105Z",
     "shell.execute_reply.started": "2021-06-26T09:14:21.916243Z"
    }
   },
   "outputs": [],
   "source": [
    "# всегда фиксируйте RANDOM_SEED, чтобы ваши эксперименты были воспроизводимы!\n",
    "RANDOM_SEED = 42"
   ]
  },
  {
   "cell_type": "code",
   "execution_count": 3,
   "metadata": {
    "execution": {
     "iopub.execute_input": "2021-06-26T09:14:21.924144Z",
     "iopub.status.busy": "2021-06-26T09:14:21.923547Z",
     "iopub.status.idle": "2021-06-26T09:14:24.303440Z",
     "shell.execute_reply": "2021-06-26T09:14:24.302153Z",
     "shell.execute_reply.started": "2021-06-26T09:14:21.924095Z"
    }
   },
   "outputs": [],
   "source": [
    "# зафиксируем версию пакетов, чтобы эксперименты были воспроизводимы:\n",
    "!pip freeze > requirements.txt"
   ]
  },
  {
   "cell_type": "markdown",
   "metadata": {},
   "source": [
    "# DATA"
   ]
  },
  {
   "cell_type": "code",
   "execution_count": 4,
   "metadata": {
    "_cell_guid": "79c7e3d0-c299-4dcb-8224-4455121ee9b0",
    "_uuid": "d629ff2d2480ee46fbb7e2d37f6b5fab8052498a",
    "execution": {
     "iopub.execute_input": "2021-06-26T09:14:24.309095Z",
     "iopub.status.busy": "2021-06-26T09:14:24.308761Z",
     "iopub.status.idle": "2021-06-26T09:14:24.610151Z",
     "shell.execute_reply": "2021-06-26T09:14:24.609062Z",
     "shell.execute_reply.started": "2021-06-26T09:14:24.309040Z"
    }
   },
   "outputs": [],
   "source": [
    "DATA_DIR = '/kaggle/input/sf-dst-restaurant-rating/'\n",
    "df_train = pd.read_csv(DATA_DIR+'/main_task.csv')\n",
    "df_test = pd.read_csv(DATA_DIR+'kaggle_task.csv')\n",
    "sample_submission = pd.read_csv(DATA_DIR+'/sample_submission.csv')"
   ]
  },
  {
   "cell_type": "code",
   "execution_count": 5,
   "metadata": {
    "execution": {
     "iopub.execute_input": "2021-06-26T09:14:24.614023Z",
     "iopub.status.busy": "2021-06-26T09:14:24.613681Z",
     "iopub.status.idle": "2021-06-26T09:14:24.656184Z",
     "shell.execute_reply": "2021-06-26T09:14:24.654960Z",
     "shell.execute_reply.started": "2021-06-26T09:14:24.613964Z"
    }
   },
   "outputs": [],
   "source": [
    "# ВАЖНО! дря корректной обработки признаков объединяем трейн и тест в один датасет\n",
    "df_train['sample'] = 1 # помечаем где у нас трейн\n",
    "df_test['sample'] = 0 # помечаем где у нас тест\n",
    "df_test['Rating'] = 0 # в тесте у нас нет значения Rating, мы его должны предсказать, по этому пока просто заполняем нулями\n",
    "\n",
    "df = df_test.append(df_train, sort=False).reset_index(drop=True) # объединяем"
   ]
  },
  {
   "cell_type": "code",
   "execution_count": 6,
   "metadata": {
    "execution": {
     "iopub.execute_input": "2021-06-26T09:14:24.660762Z",
     "iopub.status.busy": "2021-06-26T09:14:24.660266Z",
     "iopub.status.idle": "2021-06-26T09:14:24.713505Z",
     "shell.execute_reply": "2021-06-26T09:14:24.711943Z",
     "shell.execute_reply.started": "2021-06-26T09:14:24.660668Z"
    }
   },
   "outputs": [
    {
     "name": "stdout",
     "output_type": "stream",
     "text": [
      "<class 'pandas.core.frame.DataFrame'>\n",
      "RangeIndex: 50000 entries, 0 to 49999\n",
      "Data columns (total 11 columns):\n",
      "Restaurant_id        50000 non-null object\n",
      "City                 50000 non-null object\n",
      "Cuisine Style        38410 non-null object\n",
      "Ranking              50000 non-null float64\n",
      "Price Range          32639 non-null object\n",
      "Number of Reviews    46800 non-null float64\n",
      "Reviews              49998 non-null object\n",
      "URL_TA               50000 non-null object\n",
      "ID_TA                50000 non-null object\n",
      "sample               50000 non-null int64\n",
      "Rating               50000 non-null float64\n",
      "dtypes: float64(3), int64(1), object(7)\n",
      "memory usage: 4.2+ MB\n"
     ]
    }
   ],
   "source": [
    "df.info()"
   ]
  },
  {
   "cell_type": "markdown",
   "metadata": {},
   "source": [
    "Подробнее по признакам:\n",
    "* City: Город \n",
    "* Cuisine Style: Кухня\n",
    "* Ranking: Ранг ресторана относительно других ресторанов в этом городе\n",
    "* Price Range: Цены в ресторане в 3 категориях\n",
    "* Number of Reviews: Количество отзывов\n",
    "* Reviews: 2 последних отзыва и даты этих отзывов\n",
    "* URL_TA: страница ресторана на 'www.tripadvisor.com' \n",
    "* ID_TA: ID ресторана в TripAdvisor\n",
    "* Rating: Рейтинг ресторана"
   ]
  },
  {
   "cell_type": "code",
   "execution_count": 7,
   "metadata": {
    "execution": {
     "iopub.execute_input": "2021-06-26T09:14:24.715762Z",
     "iopub.status.busy": "2021-06-26T09:14:24.715431Z",
     "iopub.status.idle": "2021-06-26T09:14:24.725116Z",
     "shell.execute_reply": "2021-06-26T09:14:24.723750Z",
     "shell.execute_reply.started": "2021-06-26T09:14:24.715693Z"
    }
   },
   "outputs": [
    {
     "data": {
      "text/plain": [
       "Index(['Restaurant_id', 'City', 'Cuisine Style', 'Ranking', 'Price Range',\n",
       "       'Number of Reviews', 'Reviews', 'URL_TA', 'ID_TA', 'sample', 'Rating'],\n",
       "      dtype='object')"
      ]
     },
     "execution_count": 7,
     "metadata": {},
     "output_type": "execute_result"
    }
   ],
   "source": [
    "df.columns"
   ]
  },
  {
   "cell_type": "code",
   "execution_count": 8,
   "metadata": {
    "execution": {
     "iopub.execute_input": "2021-06-26T09:14:24.727215Z",
     "iopub.status.busy": "2021-06-26T09:14:24.726919Z",
     "iopub.status.idle": "2021-06-26T09:14:24.739587Z",
     "shell.execute_reply": "2021-06-26T09:14:24.738314Z",
     "shell.execute_reply.started": "2021-06-26T09:14:24.727163Z"
    }
   },
   "outputs": [],
   "source": [
    "df.columns = ['id', 'city', 'cuisine', 'rank',\n",
    "'price', 'reviews_n', 'reviews', 'url', 'id_ta', 'sample', 'Rating']"
   ]
  },
  {
   "cell_type": "code",
   "execution_count": 9,
   "metadata": {
    "execution": {
     "iopub.execute_input": "2021-06-26T09:14:24.742201Z",
     "iopub.status.busy": "2021-06-26T09:14:24.741882Z",
     "iopub.status.idle": "2021-06-26T09:14:24.771432Z",
     "shell.execute_reply": "2021-06-26T09:14:24.770435Z",
     "shell.execute_reply.started": "2021-06-26T09:14:24.742144Z"
    }
   },
   "outputs": [
    {
     "data": {
      "text/html": [
       "<div>\n",
       "<style scoped>\n",
       "    .dataframe tbody tr th:only-of-type {\n",
       "        vertical-align: middle;\n",
       "    }\n",
       "\n",
       "    .dataframe tbody tr th {\n",
       "        vertical-align: top;\n",
       "    }\n",
       "\n",
       "    .dataframe thead th {\n",
       "        text-align: right;\n",
       "    }\n",
       "</style>\n",
       "<table border=\"1\" class=\"dataframe\">\n",
       "  <thead>\n",
       "    <tr style=\"text-align: right;\">\n",
       "      <th></th>\n",
       "      <th>id</th>\n",
       "      <th>city</th>\n",
       "      <th>cuisine</th>\n",
       "      <th>rank</th>\n",
       "      <th>price</th>\n",
       "      <th>reviews_n</th>\n",
       "      <th>reviews</th>\n",
       "      <th>url</th>\n",
       "      <th>id_ta</th>\n",
       "      <th>sample</th>\n",
       "      <th>Rating</th>\n",
       "    </tr>\n",
       "  </thead>\n",
       "  <tbody>\n",
       "    <tr>\n",
       "      <th>0</th>\n",
       "      <td>id_0</td>\n",
       "      <td>Paris</td>\n",
       "      <td>['Bar', 'Pub']</td>\n",
       "      <td>12963.0</td>\n",
       "      <td>$$ - $$$</td>\n",
       "      <td>4.0</td>\n",
       "      <td>[[], []]</td>\n",
       "      <td>/Restaurant_Review-g187147-d10746918-Reviews-L...</td>\n",
       "      <td>d10746918</td>\n",
       "      <td>0</td>\n",
       "      <td>0.0</td>\n",
       "    </tr>\n",
       "  </tbody>\n",
       "</table>\n",
       "</div>"
      ],
      "text/plain": [
       "     id   city         cuisine     rank     price  reviews_n   reviews  \\\n",
       "0  id_0  Paris  ['Bar', 'Pub']  12963.0  $$ - $$$        4.0  [[], []]   \n",
       "\n",
       "                                                 url      id_ta  sample  \\\n",
       "0  /Restaurant_Review-g187147-d10746918-Reviews-L...  d10746918       0   \n",
       "\n",
       "   Rating  \n",
       "0     0.0  "
      ]
     },
     "execution_count": 9,
     "metadata": {},
     "output_type": "execute_result"
    }
   ],
   "source": [
    "df.head(1)"
   ]
  },
  {
   "cell_type": "markdown",
   "metadata": {},
   "source": [
    "# Preprocessing"
   ]
  },
  {
   "cell_type": "markdown",
   "metadata": {},
   "source": [
    "## 1. reviews_n"
   ]
  },
  {
   "cell_type": "code",
   "execution_count": 10,
   "metadata": {
    "execution": {
     "iopub.execute_input": "2021-06-26T09:14:24.773935Z",
     "iopub.status.busy": "2021-06-26T09:14:24.773411Z",
     "iopub.status.idle": "2021-06-26T09:14:24.790189Z",
     "shell.execute_reply": "2021-06-26T09:14:24.788775Z",
     "shell.execute_reply.started": "2021-06-26T09:14:24.773718Z"
    }
   },
   "outputs": [
    {
     "data": {
      "text/plain": [
       "46800"
      ]
     },
     "execution_count": 10,
     "metadata": {},
     "output_type": "execute_result"
    }
   ],
   "source": [
    "len(df.reviews_n[~df.reviews_n.isna()])"
   ]
  },
  {
   "cell_type": "code",
   "execution_count": 11,
   "metadata": {
    "execution": {
     "iopub.execute_input": "2021-06-26T09:14:24.792563Z",
     "iopub.status.busy": "2021-06-26T09:14:24.792068Z",
     "iopub.status.idle": "2021-06-26T09:14:24.810876Z",
     "shell.execute_reply": "2021-06-26T09:14:24.809559Z",
     "shell.execute_reply.started": "2021-06-26T09:14:24.792504Z"
    }
   },
   "outputs": [
    {
     "data": {
      "text/plain": [
       "count    46800.000000\n",
       "mean       124.471197\n",
       "std        294.114345\n",
       "min          2.000000\n",
       "25%          9.000000\n",
       "50%         33.000000\n",
       "75%        115.000000\n",
       "max       9660.000000\n",
       "Name: reviews_n, dtype: float64"
      ]
     },
     "execution_count": 11,
     "metadata": {},
     "output_type": "execute_result"
    }
   ],
   "source": [
    "df.reviews_n.describe()"
   ]
  },
  {
   "cell_type": "code",
   "execution_count": 12,
   "metadata": {
    "execution": {
     "iopub.execute_input": "2021-06-26T09:14:24.812589Z",
     "iopub.status.busy": "2021-06-26T09:14:24.812318Z",
     "iopub.status.idle": "2021-06-26T09:14:25.318149Z",
     "shell.execute_reply": "2021-06-26T09:14:25.316708Z",
     "shell.execute_reply.started": "2021-06-26T09:14:24.812543Z"
    }
   },
   "outputs": [
    {
     "name": "stdout",
     "output_type": "stream",
     "text": [
      "25-й перцентиль: 9.0, 75-й перцентиль: 115.0, I: 106.0,  Границы выбросов: [-150.0, 274.0].\n"
     ]
    },
    {
     "data": {
      "text/plain": [
       "<matplotlib.axes._subplots.AxesSubplot at 0x7f9baccd9780>"
      ]
     },
     "execution_count": 12,
     "metadata": {},
     "output_type": "execute_result"
    },
    {
     "data": {
      "image/png": "[encoded data removed]",
      "text/plain": [
       "<Figure size 432x288 with 1 Axes>"
      ]
     },
     "metadata": {
      "needs_background": "light"
     },
     "output_type": "display_data"
    }
   ],
   "source": [
    "I = df.reviews_n.quantile(0.75) - df.reviews_n.quantile(0.25)\n",
    "perc25 = df.reviews_n.quantile(0.25)\n",
    "perc75 = df.reviews_n.quantile(0.75)\n",
    "print('25-й перцентиль: {},'.format(perc25), '75-й перцентиль: {},'.format(perc75), \"I: {}, \".format(I), \"Границы выбросов: [{f}, {l}].\".format(f=perc25 - 1.5*I, l=perc75 + 1.5*I))\n",
    " \n",
    "df.reviews_n.loc[df.reviews_n.between(perc25 - 1.5*I, perc75 + 1.5*I)].hist(bins = 100, range = (0, 10), label = 'I')"
   ]
  },
  {
   "cell_type": "code",
   "execution_count": 13,
   "metadata": {
    "execution": {
     "iopub.execute_input": "2021-06-26T09:14:25.320879Z",
     "iopub.status.busy": "2021-06-26T09:14:25.320425Z",
     "iopub.status.idle": "2021-06-26T09:14:25.378007Z",
     "shell.execute_reply": "2021-06-26T09:14:25.376938Z",
     "shell.execute_reply.started": "2021-06-26T09:14:25.320806Z"
    }
   },
   "outputs": [
    {
     "data": {
      "text/plain": [
       "50000"
      ]
     },
     "execution_count": 13,
     "metadata": {},
     "output_type": "execute_result"
    }
   ],
   "source": [
    "df.reviews_n.fillna(124, inplace=True) # use mean to fill na\n",
    "df['reviews_n'] = df['reviews_n'].apply(lambda x: 124 if x > 274 else x) # use mean for outliers\n",
    "len(df.reviews_n[~df.reviews_n.isna()])"
   ]
  },
  {
   "cell_type": "markdown",
   "metadata": {},
   "source": [
    "## 2. cuisine"
   ]
  },
  {
   "cell_type": "code",
   "execution_count": 14,
   "metadata": {
    "execution": {
     "iopub.execute_input": "2021-06-26T09:14:25.380755Z",
     "iopub.status.busy": "2021-06-26T09:14:25.380052Z",
     "iopub.status.idle": "2021-06-26T09:14:25.688696Z",
     "shell.execute_reply": "2021-06-26T09:14:25.687870Z",
     "shell.execute_reply.started": "2021-06-26T09:14:25.380688Z"
    }
   },
   "outputs": [],
   "source": [
    "df['cuisine'].fillna(value=\"change\",inplace=True) \n",
    "df['cuisine'] = df['cuisine'].apply(lambda x: x[1:-1] if x !=\"change\" else x)\n",
    "df['cuisine'] = df['cuisine'].apply(lambda x: x.replace(\"'\", \"\")  if x!=\"change\" else x)\n",
    "df['cuisine'] = df['cuisine'].apply(lambda x: x.replace(\" \", \"\")  if x!=\"change\" else x)\n",
    "df['cuisine'] = df['cuisine'].apply(lambda x: x.split(\",\") if x !=\"change\" else x)"
   ]
  },
  {
   "cell_type": "code",
   "execution_count": 15,
   "metadata": {
    "execution": {
     "iopub.execute_input": "2021-06-26T09:14:25.690685Z",
     "iopub.status.busy": "2021-06-26T09:14:25.690147Z",
     "iopub.status.idle": "2021-06-26T09:14:25.713160Z",
     "shell.execute_reply": "2021-06-26T09:14:25.712379Z",
     "shell.execute_reply.started": "2021-06-26T09:14:25.690622Z"
    }
   },
   "outputs": [],
   "source": [
    "df['cuisine'] = df['cuisine'].apply(lambda x: \"VegetarianFriendly\" if x ==\"change\" else x)"
   ]
  },
  {
   "cell_type": "code",
   "execution_count": 16,
   "metadata": {
    "execution": {
     "iopub.execute_input": "2021-06-26T09:14:25.715182Z",
     "iopub.status.busy": "2021-06-26T09:14:25.714613Z",
     "iopub.status.idle": "2021-06-26T09:14:25.768655Z",
     "shell.execute_reply": "2021-06-26T09:14:25.767930Z",
     "shell.execute_reply.started": "2021-06-26T09:14:25.715134Z"
    }
   },
   "outputs": [],
   "source": [
    "c = [] \n",
    "for i in df.cuisine:\n",
    "    if i!=\"change\":\n",
    "        c.append(len(i))\n",
    "    else:\n",
    "        c.append(1)\n",
    "df['cuisine_n'] = c #new category (number of cuisine)"
   ]
  },
  {
   "cell_type": "code",
   "execution_count": 17,
   "metadata": {
    "execution": {
     "iopub.execute_input": "2021-06-26T09:14:25.770555Z",
     "iopub.status.busy": "2021-06-26T09:14:25.770062Z",
     "iopub.status.idle": "2021-06-26T09:14:30.552767Z",
     "shell.execute_reply": "2021-06-26T09:14:30.551935Z",
     "shell.execute_reply.started": "2021-06-26T09:14:25.770512Z"
    }
   },
   "outputs": [
    {
     "data": {
      "text/html": [
       "<div>\n",
       "<style scoped>\n",
       "    .dataframe tbody tr th:only-of-type {\n",
       "        vertical-align: middle;\n",
       "    }\n",
       "\n",
       "    .dataframe tbody tr th {\n",
       "        vertical-align: top;\n",
       "    }\n",
       "\n",
       "    .dataframe thead th {\n",
       "        text-align: right;\n",
       "    }\n",
       "</style>\n",
       "<table border=\"1\" class=\"dataframe\">\n",
       "  <thead>\n",
       "    <tr style=\"text-align: right;\">\n",
       "      <th></th>\n",
       "      <th>id</th>\n",
       "      <th>city</th>\n",
       "      <th>cuisine</th>\n",
       "      <th>rank</th>\n",
       "      <th>price</th>\n",
       "      <th>reviews_n</th>\n",
       "      <th>reviews</th>\n",
       "      <th>url</th>\n",
       "      <th>id_ta</th>\n",
       "      <th>sample</th>\n",
       "      <th>...</th>\n",
       "      <th>Armenian</th>\n",
       "      <th>Georgian</th>\n",
       "      <th>Jamaican</th>\n",
       "      <th>Lebanese</th>\n",
       "      <th>Cafe</th>\n",
       "      <th>International</th>\n",
       "      <th>Sushi</th>\n",
       "      <th>Cuban</th>\n",
       "      <th>Swedish</th>\n",
       "      <th>Contemporary</th>\n",
       "    </tr>\n",
       "  </thead>\n",
       "  <tbody>\n",
       "    <tr>\n",
       "      <th>0</th>\n",
       "      <td>id_0</td>\n",
       "      <td>Paris</td>\n",
       "      <td>[Bar, Pub]</td>\n",
       "      <td>12963.0</td>\n",
       "      <td>$$ - $$$</td>\n",
       "      <td>4.0</td>\n",
       "      <td>[[], []]</td>\n",
       "      <td>/Restaurant_Review-g187147-d10746918-Reviews-L...</td>\n",
       "      <td>d10746918</td>\n",
       "      <td>0</td>\n",
       "      <td>...</td>\n",
       "      <td>0</td>\n",
       "      <td>0</td>\n",
       "      <td>0</td>\n",
       "      <td>0</td>\n",
       "      <td>0</td>\n",
       "      <td>0</td>\n",
       "      <td>0</td>\n",
       "      <td>0</td>\n",
       "      <td>0</td>\n",
       "      <td>0</td>\n",
       "    </tr>\n",
       "    <tr>\n",
       "      <th>1</th>\n",
       "      <td>id_1</td>\n",
       "      <td>Helsinki</td>\n",
       "      <td>[European, Scandinavian, GlutenFreeOptions, Ve...</td>\n",
       "      <td>106.0</td>\n",
       "      <td>$$ - $$$</td>\n",
       "      <td>97.0</td>\n",
       "      <td>[['Very good reviews!', 'Fine dining in Hakani...</td>\n",
       "      <td>/Restaurant_Review-g189934-d6674944-Reviews-Ra...</td>\n",
       "      <td>d6674944</td>\n",
       "      <td>0</td>\n",
       "      <td>...</td>\n",
       "      <td>0</td>\n",
       "      <td>0</td>\n",
       "      <td>0</td>\n",
       "      <td>0</td>\n",
       "      <td>0</td>\n",
       "      <td>0</td>\n",
       "      <td>0</td>\n",
       "      <td>0</td>\n",
       "      <td>0</td>\n",
       "      <td>0</td>\n",
       "    </tr>\n",
       "  </tbody>\n",
       "</table>\n",
       "<p>2 rows × 137 columns</p>\n",
       "</div>"
      ],
      "text/plain": [
       "     id      city                                            cuisine     rank  \\\n",
       "0  id_0     Paris                                         [Bar, Pub]  12963.0   \n",
       "1  id_1  Helsinki  [European, Scandinavian, GlutenFreeOptions, Ve...    106.0   \n",
       "\n",
       "      price  reviews_n                                            reviews  \\\n",
       "0  $$ - $$$        4.0                                           [[], []]   \n",
       "1  $$ - $$$       97.0  [['Very good reviews!', 'Fine dining in Hakani...   \n",
       "\n",
       "                                                 url      id_ta  sample  ...  \\\n",
       "0  /Restaurant_Review-g187147-d10746918-Reviews-L...  d10746918       0  ...   \n",
       "1  /Restaurant_Review-g189934-d6674944-Reviews-Ra...   d6674944       0  ...   \n",
       "\n",
       "   Armenian  Georgian  Jamaican  Lebanese  Cafe  International  Sushi  Cuban  \\\n",
       "0         0         0         0         0     0              0      0      0   \n",
       "1         0         0         0         0     0              0      0      0   \n",
       "\n",
       "   Swedish  Contemporary  \n",
       "0        0             0  \n",
       "1        0             0  \n",
       "\n",
       "[2 rows x 137 columns]"
      ]
     },
     "execution_count": 17,
     "metadata": {},
     "output_type": "execute_result"
    }
   ],
   "source": [
    "dat = df.explode(\"cuisine\")\n",
    "\n",
    "a = set()\n",
    "for x in dat.cuisine:\n",
    "    if x != \"change\":\n",
    "        a.add(x)\n",
    "\n",
    "cuisine_list = list(a)\n",
    "\n",
    "def find_cuisine(cell): \n",
    "    if cuisine in cell:\n",
    "        return 1\n",
    "    return 0\n",
    "\n",
    "for cuisine in cuisine_list:\n",
    "    df[cuisine] = df['cuisine'].apply(find_cuisine)\n",
    "    \n",
    "df.head(2)"
   ]
  },
  {
   "cell_type": "code",
   "execution_count": 18,
   "metadata": {
    "execution": {
     "iopub.execute_input": "2021-06-26T09:14:30.554659Z",
     "iopub.status.busy": "2021-06-26T09:14:30.554359Z",
     "iopub.status.idle": "2021-06-26T09:14:30.620905Z",
     "shell.execute_reply": "2021-06-26T09:14:30.620054Z",
     "shell.execute_reply.started": "2021-06-26T09:14:30.554589Z"
    }
   },
   "outputs": [],
   "source": [
    "df.drop(columns=[\"cuisine\"],axis=1,inplace=True)"
   ]
  },
  {
   "cell_type": "markdown",
   "metadata": {},
   "source": [
    "## 3. price"
   ]
  },
  {
   "cell_type": "code",
   "execution_count": 19,
   "metadata": {
    "execution": {
     "iopub.execute_input": "2021-06-26T09:14:30.623244Z",
     "iopub.status.busy": "2021-06-26T09:14:30.622654Z",
     "iopub.status.idle": "2021-06-26T09:14:30.673172Z",
     "shell.execute_reply": "2021-06-26T09:14:30.671392Z",
     "shell.execute_reply.started": "2021-06-26T09:14:30.622973Z"
    }
   },
   "outputs": [
    {
     "data": {
      "text/plain": [
       "'$           0\\n   $$ - $$$    1\\n   $$$$        2'"
      ]
     },
     "execution_count": 19,
     "metadata": {},
     "output_type": "execute_result"
    }
   ],
   "source": [
    "df['price'] = df['price'].apply(lambda x: 0 if x == '$' else 1 if x=='$$ - $$$' else 2 if x=='$$$$' else x)\n",
    "'''$           0\n",
    "   $$ - $$$    1\n",
    "   $$$$        2'''"
   ]
  },
  {
   "cell_type": "code",
   "execution_count": 20,
   "metadata": {
    "execution": {
     "iopub.execute_input": "2021-06-26T09:14:30.675138Z",
     "iopub.status.busy": "2021-06-26T09:14:30.674804Z",
     "iopub.status.idle": "2021-06-26T09:14:30.682489Z",
     "shell.execute_reply": "2021-06-26T09:14:30.681064Z",
     "shell.execute_reply.started": "2021-06-26T09:14:30.675084Z"
    }
   },
   "outputs": [],
   "source": [
    "df['price'].fillna(value=1,inplace=True) # most common"
   ]
  },
  {
   "cell_type": "code",
   "execution_count": 21,
   "metadata": {
    "execution": {
     "iopub.execute_input": "2021-06-26T09:14:30.685184Z",
     "iopub.status.busy": "2021-06-26T09:14:30.684445Z",
     "iopub.status.idle": "2021-06-26T09:14:31.071102Z",
     "shell.execute_reply": "2021-06-26T09:14:31.070136Z",
     "shell.execute_reply.started": "2021-06-26T09:14:30.685119Z"
    }
   },
   "outputs": [],
   "source": [
    "df[df['price']==2] = 0  # more representative reatures"
   ]
  },
  {
   "cell_type": "code",
   "execution_count": 22,
   "metadata": {
    "execution": {
     "iopub.execute_input": "2021-06-26T09:14:31.072989Z",
     "iopub.status.busy": "2021-06-26T09:14:31.072695Z",
     "iopub.status.idle": "2021-06-26T09:14:31.333447Z",
     "shell.execute_reply": "2021-06-26T09:14:31.331775Z",
     "shell.execute_reply.started": "2021-06-26T09:14:31.072938Z"
    }
   },
   "outputs": [
    {
     "data": {
      "image/png": "[encoded data removed]",
      "text/plain": [
       "<Figure size 432x288 with 1 Axes>"
      ]
     },
     "metadata": {
      "needs_background": "light"
     },
     "output_type": "display_data"
    }
   ],
   "source": [
    " e = sns.countplot(x=df.price,data=df)"
   ]
  },
  {
   "cell_type": "markdown",
   "metadata": {},
   "source": [
    "## 4. city"
   ]
  },
  {
   "cell_type": "code",
   "execution_count": 23,
   "metadata": {
    "execution": {
     "iopub.execute_input": "2021-06-26T09:14:31.336442Z",
     "iopub.status.busy": "2021-06-26T09:14:31.336022Z",
     "iopub.status.idle": "2021-06-26T09:14:31.370614Z",
     "shell.execute_reply": "2021-06-26T09:14:31.369084Z",
     "shell.execute_reply.started": "2021-06-26T09:14:31.336367Z"
    }
   },
   "outputs": [
    {
     "data": {
      "text/plain": [
       "London        6917\n",
       "Paris         5825\n",
       "Madrid        3692\n",
       "Barcelona     3291\n",
       "Berlin        2649\n",
       "Milan         2587\n",
       "Rome          2491\n",
       "0             1782\n",
       "Prague        1774\n",
       "Lisbon        1603\n",
       "Vienna        1404\n",
       "Amsterdam     1331\n",
       "Brussels      1265\n",
       "Hamburg       1153\n",
       "Lyon          1093\n",
       "Munich        1091\n",
       "Stockholm     1001\n",
       "Budapest       993\n",
       "Warsaw         893\n",
       "Dublin         819\n",
       "Copenhagen     782\n",
       "Athens         752\n",
       "Edinburgh      726\n",
       "Zurich         638\n",
       "Oporto         624\n",
       "Krakow         541\n",
       "Geneva         538\n",
       "Oslo           456\n",
       "Helsinki       456\n",
       "Bratislava     366\n",
       "Luxembourg     252\n",
       "Ljubljana      215\n",
       "Name: city, dtype: int64"
      ]
     },
     "execution_count": 23,
     "metadata": {},
     "output_type": "execute_result"
    }
   ],
   "source": [
    "df.city.value_counts()"
   ]
  },
  {
   "cell_type": "code",
   "execution_count": 24,
   "metadata": {
    "execution": {
     "iopub.execute_input": "2021-06-26T09:14:31.373345Z",
     "iopub.status.busy": "2021-06-26T09:14:31.372688Z",
     "iopub.status.idle": "2021-06-26T09:14:31.409388Z",
     "shell.execute_reply": "2021-06-26T09:14:31.408688Z",
     "shell.execute_reply.started": "2021-06-26T09:14:31.373285Z"
    }
   },
   "outputs": [],
   "source": [
    "df['city'] = df['city'].apply(lambda x: 'London' if x ==0 else x) #most common"
   ]
  },
  {
   "cell_type": "code",
   "execution_count": 25,
   "metadata": {
    "execution": {
     "iopub.execute_input": "2021-06-26T09:14:31.410849Z",
     "iopub.status.busy": "2021-06-26T09:14:31.410450Z",
     "iopub.status.idle": "2021-06-26T09:14:31.430274Z",
     "shell.execute_reply": "2021-06-26T09:14:31.429323Z",
     "shell.execute_reply.started": "2021-06-26T09:14:31.410807Z"
    }
   },
   "outputs": [
    {
     "name": "stdout",
     "output_type": "stream",
     "text": [
      "{'Edinburgh', 'Lisbon', 'Milan', 'Zurich', 'Helsinki', 'Barcelona', 'Dublin', 'Prague', 'Athens', 'Stockholm', 'London', 'Munich', 'Madrid', 'Amsterdam', 'Oslo', 'Hamburg', 'Brussels', 'Oporto', 'Rome', 'Luxembourg', 'Vienna', 'Berlin', 'Geneva', 'Budapest', 'Warsaw', 'Bratislava', 'Krakow', 'Ljubljana', 'Paris', 'Lyon', 'Copenhagen'}\n"
     ]
    }
   ],
   "source": [
    "a = set()\n",
    "for x in df.city:\n",
    "    a.add(x)\n",
    "print(a)"
   ]
  },
  {
   "cell_type": "code",
   "execution_count": 26,
   "metadata": {
    "execution": {
     "iopub.execute_input": "2021-06-26T09:14:31.431700Z",
     "iopub.status.busy": "2021-06-26T09:14:31.431331Z",
     "iopub.status.idle": "2021-06-26T09:14:32.457921Z",
     "shell.execute_reply": "2021-06-26T09:14:32.457103Z",
     "shell.execute_reply.started": "2021-06-26T09:14:31.431660Z"
    }
   },
   "outputs": [
    {
     "data": {
      "text/html": [
       "<div>\n",
       "<style scoped>\n",
       "    .dataframe tbody tr th:only-of-type {\n",
       "        vertical-align: middle;\n",
       "    }\n",
       "\n",
       "    .dataframe tbody tr th {\n",
       "        vertical-align: top;\n",
       "    }\n",
       "\n",
       "    .dataframe thead th {\n",
       "        text-align: right;\n",
       "    }\n",
       "</style>\n",
       "<table border=\"1\" class=\"dataframe\">\n",
       "  <thead>\n",
       "    <tr style=\"text-align: right;\">\n",
       "      <th></th>\n",
       "      <th>id</th>\n",
       "      <th>rank</th>\n",
       "      <th>price</th>\n",
       "      <th>reviews_n</th>\n",
       "      <th>reviews</th>\n",
       "      <th>url</th>\n",
       "      <th>id_ta</th>\n",
       "      <th>sample</th>\n",
       "      <th>Rating</th>\n",
       "      <th>cuisine_n</th>\n",
       "      <th>...</th>\n",
       "      <th>Berlin</th>\n",
       "      <th>Geneva</th>\n",
       "      <th>Budapest</th>\n",
       "      <th>Warsaw</th>\n",
       "      <th>Bratislava</th>\n",
       "      <th>Krakow</th>\n",
       "      <th>Ljubljana</th>\n",
       "      <th>Paris</th>\n",
       "      <th>Lyon</th>\n",
       "      <th>Copenhagen</th>\n",
       "    </tr>\n",
       "  </thead>\n",
       "  <tbody>\n",
       "    <tr>\n",
       "      <th>0</th>\n",
       "      <td>id_0</td>\n",
       "      <td>12963.0</td>\n",
       "      <td>1.0</td>\n",
       "      <td>4.0</td>\n",
       "      <td>[[], []]</td>\n",
       "      <td>/Restaurant_Review-g187147-d10746918-Reviews-L...</td>\n",
       "      <td>d10746918</td>\n",
       "      <td>0</td>\n",
       "      <td>0.0</td>\n",
       "      <td>2</td>\n",
       "      <td>...</td>\n",
       "      <td>0</td>\n",
       "      <td>0</td>\n",
       "      <td>0</td>\n",
       "      <td>0</td>\n",
       "      <td>0</td>\n",
       "      <td>0</td>\n",
       "      <td>0</td>\n",
       "      <td>1</td>\n",
       "      <td>0</td>\n",
       "      <td>0</td>\n",
       "    </tr>\n",
       "    <tr>\n",
       "      <th>1</th>\n",
       "      <td>id_1</td>\n",
       "      <td>106.0</td>\n",
       "      <td>1.0</td>\n",
       "      <td>97.0</td>\n",
       "      <td>[['Very good reviews!', 'Fine dining in Hakani...</td>\n",
       "      <td>/Restaurant_Review-g189934-d6674944-Reviews-Ra...</td>\n",
       "      <td>d6674944</td>\n",
       "      <td>0</td>\n",
       "      <td>0.0</td>\n",
       "      <td>5</td>\n",
       "      <td>...</td>\n",
       "      <td>0</td>\n",
       "      <td>0</td>\n",
       "      <td>0</td>\n",
       "      <td>0</td>\n",
       "      <td>0</td>\n",
       "      <td>0</td>\n",
       "      <td>0</td>\n",
       "      <td>0</td>\n",
       "      <td>0</td>\n",
       "      <td>0</td>\n",
       "    </tr>\n",
       "  </tbody>\n",
       "</table>\n",
       "<p>2 rows × 166 columns</p>\n",
       "</div>"
      ],
      "text/plain": [
       "     id     rank  price  reviews_n  \\\n",
       "0  id_0  12963.0    1.0        4.0   \n",
       "1  id_1    106.0    1.0       97.0   \n",
       "\n",
       "                                             reviews  \\\n",
       "0                                           [[], []]   \n",
       "1  [['Very good reviews!', 'Fine dining in Hakani...   \n",
       "\n",
       "                                                 url      id_ta  sample  \\\n",
       "0  /Restaurant_Review-g187147-d10746918-Reviews-L...  d10746918       0   \n",
       "1  /Restaurant_Review-g189934-d6674944-Reviews-Ra...   d6674944       0   \n",
       "\n",
       "   Rating  cuisine_n  ...  Berlin  Geneva  Budapest  Warsaw  Bratislava  \\\n",
       "0     0.0          2  ...       0       0         0       0           0   \n",
       "1     0.0          5  ...       0       0         0       0           0   \n",
       "\n",
       "   Krakow  Ljubljana  Paris  Lyon  Copenhagen  \n",
       "0       0          0      1     0           0  \n",
       "1       0          0      0     0           0  \n",
       "\n",
       "[2 rows x 166 columns]"
      ]
     },
     "execution_count": 26,
     "metadata": {},
     "output_type": "execute_result"
    }
   ],
   "source": [
    "city_list = list(a)\n",
    "\n",
    "def find_city(cell): \n",
    "    if city in cell:\n",
    "        return 1\n",
    "    return 0\n",
    "\n",
    "for city in city_list:\n",
    "    df[city] = df['city'].apply(find_city)\n",
    "    \n",
    "df.drop(columns=[\"city\"],axis=1,inplace=True)    \n",
    "df.head(2)"
   ]
  },
  {
   "cell_type": "markdown",
   "metadata": {},
   "source": [
    "## 5. reviews"
   ]
  },
  {
   "cell_type": "code",
   "execution_count": 27,
   "metadata": {
    "execution": {
     "iopub.execute_input": "2021-06-26T09:14:32.459560Z",
     "iopub.status.busy": "2021-06-26T09:14:32.459277Z",
     "iopub.status.idle": "2021-06-26T09:14:32.467220Z",
     "shell.execute_reply": "2021-06-26T09:14:32.466240Z",
     "shell.execute_reply.started": "2021-06-26T09:14:32.459510Z"
    }
   },
   "outputs": [
    {
     "data": {
      "text/plain": [
       "<bound method NDFrame.describe of 0                                                 [[], []]\n",
       "1        [['Very good reviews!', 'Fine dining in Hakani...\n",
       "2        [['Better than the Links', 'Ivy Black'], ['12/...\n",
       "3                                                        0\n",
       "4                                                        0\n",
       "                               ...                        \n",
       "49995    [['The real Italian experience!', 'Wonderful f...\n",
       "49996    [['Parisian atmosphere', 'Bit pricey but inter...\n",
       "49997    [['Good by swedish standards', 'A hidden jewel...\n",
       "49998    [['Underground restaurant', 'Oldest Restaurant...\n",
       "49999    [['Average', 'Nice an informal'], ['01/31/2016...\n",
       "Name: reviews, Length: 50000, dtype: object>"
      ]
     },
     "execution_count": 27,
     "metadata": {},
     "output_type": "execute_result"
    }
   ],
   "source": [
    "df['reviews'].describe"
   ]
  },
  {
   "cell_type": "code",
   "execution_count": 28,
   "metadata": {
    "execution": {
     "iopub.execute_input": "2021-06-26T09:14:32.469223Z",
     "iopub.status.busy": "2021-06-26T09:14:32.468926Z",
     "iopub.status.idle": "2021-06-26T09:14:32.506111Z",
     "shell.execute_reply": "2021-06-26T09:14:32.505128Z",
     "shell.execute_reply.started": "2021-06-26T09:14:32.469172Z"
    }
   },
   "outputs": [],
   "source": [
    "df['reviews'] = df['reviews'].apply(lambda x: str(x))"
   ]
  },
  {
   "cell_type": "code",
   "execution_count": 29,
   "metadata": {
    "execution": {
     "iopub.execute_input": "2021-06-26T09:14:32.507915Z",
     "iopub.status.busy": "2021-06-26T09:14:32.507582Z",
     "iopub.status.idle": "2021-06-26T09:14:32.648235Z",
     "shell.execute_reply": "2021-06-26T09:14:32.647571Z",
     "shell.execute_reply.started": "2021-06-26T09:14:32.507863Z"
    }
   },
   "outputs": [],
   "source": [
    "df['reviews'] = df['reviews'].apply(lambda x: x.replace(\"[\",\"\"))\n",
    "df['reviews'] = df['reviews'].apply(lambda x: x.replace(\"]\",\"\"))\n",
    "df['reviews'] = df['reviews'].apply(lambda x: x.replace(\"'\",\"\"))\n",
    "df['reviews'] = df['reviews'].apply(lambda x: x.replace(\"/\",\".\"))"
   ]
  },
  {
   "cell_type": "code",
   "execution_count": 30,
   "metadata": {
    "execution": {
     "iopub.execute_input": "2021-06-26T09:14:32.649868Z",
     "iopub.status.busy": "2021-06-26T09:14:32.649408Z",
     "iopub.status.idle": "2021-06-26T09:14:32.662303Z",
     "shell.execute_reply": "2021-06-26T09:14:32.661169Z",
     "shell.execute_reply.started": "2021-06-26T09:14:32.649805Z"
    }
   },
   "outputs": [],
   "source": [
    "df.reviews.fillna('01.01.2011',inplace=True)"
   ]
  },
  {
   "cell_type": "code",
   "execution_count": 31,
   "metadata": {
    "execution": {
     "iopub.execute_input": "2021-06-26T09:14:32.664040Z",
     "iopub.status.busy": "2021-06-26T09:14:32.663734Z",
     "iopub.status.idle": "2021-06-26T09:14:33.516378Z",
     "shell.execute_reply": "2021-06-26T09:14:33.515536Z",
     "shell.execute_reply.started": "2021-06-26T09:14:32.663988Z"
    }
   },
   "outputs": [],
   "source": [
    "data_1 = [] # searching dates\n",
    "data_2 = []\n",
    "for i in df.reviews:\n",
    "    if re.search(r'\\d+.\\d+.\\d+', i):\n",
    "        result = re.findall(r'\\d+.\\d+.\\d+', i)\n",
    "        data_1.append(result[0])\n",
    "        if len(result)>=2:\n",
    "            data_2.append(result[1])\n",
    "        else:\n",
    "            data_2.append(result[0])\n",
    "    else:\n",
    "        data_1.append('01.01.2011')\n",
    "        data_2.append('01.01.2011')\n",
    "\n",
    "df['data_1'] = data_1\n",
    "df['data_2'] = data_2"
   ]
  },
  {
   "cell_type": "code",
   "execution_count": 32,
   "metadata": {
    "execution": {
     "iopub.execute_input": "2021-06-26T09:14:33.524091Z",
     "iopub.status.busy": "2021-06-26T09:14:33.523600Z",
     "iopub.status.idle": "2021-06-26T09:14:34.964163Z",
     "shell.execute_reply": "2021-06-26T09:14:34.963383Z",
     "shell.execute_reply.started": "2021-06-26T09:14:33.524028Z"
    }
   },
   "outputs": [],
   "source": [
    "d1 = [] #change format\n",
    "for i in df.data_1:\n",
    "    try:\n",
    "        x = datetime.strptime(i, '%m.%d.%Y')\n",
    "        d1.append(x)\n",
    "    except ValueError:\n",
    "        d1.append(datetime.strptime('01.01.2011','%m.%d.%Y'))\n",
    "d2 = []\n",
    "for i in df.data_2:\n",
    "    try:\n",
    "        x = datetime.strptime(i, '%m.%d.%Y')\n",
    "        d2.append(x)\n",
    "    except ValueError:\n",
    "        d2.append(datetime.strptime('01.01.2011','%m.%d.%Y'))\n",
    "                \n",
    "df['data_1'] = d1\n",
    "df['data_2'] = d2"
   ]
  },
  {
   "cell_type": "code",
   "execution_count": 33,
   "metadata": {
    "execution": {
     "iopub.execute_input": "2021-06-26T09:14:34.966060Z",
     "iopub.status.busy": "2021-06-26T09:14:34.965769Z",
     "iopub.status.idle": "2021-06-26T09:14:41.551665Z",
     "shell.execute_reply": "2021-06-26T09:14:41.550942Z",
     "shell.execute_reply.started": "2021-06-26T09:14:34.966009Z"
    }
   },
   "outputs": [],
   "source": [
    "ex = df['data_1'][3] #presenting data as number of days \n",
    "new = []\n",
    "for i in range (0,len(df['data_1'])):\n",
    "    if df['data_1'][i] != ex and df['data_1'][i] != ex:\n",
    "        new.append(abs(df['data_1'][i] - df['data_2'][i]))\n",
    "    else:\n",
    "        new.append(0)\n",
    "        \n",
    "new1 = []\n",
    "for i in new:\n",
    "    if i != 0:\n",
    "        element = i// np.timedelta64(1, 'D')\n",
    "        new1.append(int(element))\n",
    "    else:\n",
    "        new1.append(0)\n",
    "\n",
    "df['range'] = new1 "
   ]
  },
  {
   "cell_type": "code",
   "execution_count": 34,
   "metadata": {
    "execution": {
     "iopub.execute_input": "2021-06-26T09:14:41.553263Z",
     "iopub.status.busy": "2021-06-26T09:14:41.552839Z",
     "iopub.status.idle": "2021-06-26T09:14:41.732599Z",
     "shell.execute_reply": "2021-06-26T09:14:41.731304Z",
     "shell.execute_reply.started": "2021-06-26T09:14:41.553195Z"
    }
   },
   "outputs": [],
   "source": [
    "total = datetime(1970, 1, 1) # number of days in different representation\n",
    "d_1 = []\n",
    "for i in d1:\n",
    "    elem = (i - total).total_seconds() \n",
    "    elem = elem/360/24/100\n",
    "    d_1.append(int(elem))\n",
    "d_2 = []\n",
    "for i in d2:\n",
    "    elem = (i - total).total_seconds()\n",
    "    elem = elem/360/24/100\n",
    "    d_2.append(int(elem))  \n",
    "    \n",
    "df['data_1'] = d_1\n",
    "df['data_2'] = d_2"
   ]
  },
  {
   "cell_type": "code",
   "execution_count": 35,
   "metadata": {
    "execution": {
     "iopub.execute_input": "2021-06-26T09:14:41.734269Z",
     "iopub.status.busy": "2021-06-26T09:14:41.734008Z",
     "iopub.status.idle": "2021-06-26T09:14:44.657760Z",
     "shell.execute_reply": "2021-06-26T09:14:44.656749Z",
     "shell.execute_reply.started": "2021-06-26T09:14:41.734222Z"
    }
   },
   "outputs": [
    {
     "data": {
      "text/html": [
       "<div>\n",
       "<style scoped>\n",
       "    .dataframe tbody tr th:only-of-type {\n",
       "        vertical-align: middle;\n",
       "    }\n",
       "\n",
       "    .dataframe tbody tr th {\n",
       "        vertical-align: top;\n",
       "    }\n",
       "\n",
       "    .dataframe thead th {\n",
       "        text-align: right;\n",
       "    }\n",
       "</style>\n",
       "<table border=\"1\" class=\"dataframe\">\n",
       "  <thead>\n",
       "    <tr style=\"text-align: right;\">\n",
       "      <th></th>\n",
       "      <th>rank</th>\n",
       "      <th>price</th>\n",
       "      <th>reviews_n</th>\n",
       "      <th>sample</th>\n",
       "      <th>Rating</th>\n",
       "      <th>cuisine_n</th>\n",
       "      <th>Halal</th>\n",
       "      <th>Australian</th>\n",
       "      <th>Healthy</th>\n",
       "      <th>Peruvian</th>\n",
       "      <th>...</th>\n",
       "      <th>Warsaw</th>\n",
       "      <th>Bratislava</th>\n",
       "      <th>Krakow</th>\n",
       "      <th>Ljubljana</th>\n",
       "      <th>Paris</th>\n",
       "      <th>Lyon</th>\n",
       "      <th>Copenhagen</th>\n",
       "      <th>data_1</th>\n",
       "      <th>data_2</th>\n",
       "      <th>range</th>\n",
       "    </tr>\n",
       "  </thead>\n",
       "  <tbody>\n",
       "    <tr>\n",
       "      <th>rank</th>\n",
       "      <td>True</td>\n",
       "      <td>False</td>\n",
       "      <td>False</td>\n",
       "      <td>False</td>\n",
       "      <td>False</td>\n",
       "      <td>False</td>\n",
       "      <td>False</td>\n",
       "      <td>False</td>\n",
       "      <td>False</td>\n",
       "      <td>False</td>\n",
       "      <td>...</td>\n",
       "      <td>False</td>\n",
       "      <td>False</td>\n",
       "      <td>False</td>\n",
       "      <td>False</td>\n",
       "      <td>False</td>\n",
       "      <td>False</td>\n",
       "      <td>False</td>\n",
       "      <td>False</td>\n",
       "      <td>False</td>\n",
       "      <td>False</td>\n",
       "    </tr>\n",
       "    <tr>\n",
       "      <th>price</th>\n",
       "      <td>False</td>\n",
       "      <td>True</td>\n",
       "      <td>False</td>\n",
       "      <td>False</td>\n",
       "      <td>False</td>\n",
       "      <td>False</td>\n",
       "      <td>False</td>\n",
       "      <td>False</td>\n",
       "      <td>False</td>\n",
       "      <td>False</td>\n",
       "      <td>...</td>\n",
       "      <td>False</td>\n",
       "      <td>False</td>\n",
       "      <td>False</td>\n",
       "      <td>False</td>\n",
       "      <td>False</td>\n",
       "      <td>False</td>\n",
       "      <td>False</td>\n",
       "      <td>False</td>\n",
       "      <td>False</td>\n",
       "      <td>False</td>\n",
       "    </tr>\n",
       "    <tr>\n",
       "      <th>reviews_n</th>\n",
       "      <td>False</td>\n",
       "      <td>False</td>\n",
       "      <td>True</td>\n",
       "      <td>False</td>\n",
       "      <td>False</td>\n",
       "      <td>False</td>\n",
       "      <td>False</td>\n",
       "      <td>False</td>\n",
       "      <td>False</td>\n",
       "      <td>False</td>\n",
       "      <td>...</td>\n",
       "      <td>False</td>\n",
       "      <td>False</td>\n",
       "      <td>False</td>\n",
       "      <td>False</td>\n",
       "      <td>False</td>\n",
       "      <td>False</td>\n",
       "      <td>False</td>\n",
       "      <td>False</td>\n",
       "      <td>False</td>\n",
       "      <td>False</td>\n",
       "    </tr>\n",
       "    <tr>\n",
       "      <th>sample</th>\n",
       "      <td>False</td>\n",
       "      <td>False</td>\n",
       "      <td>False</td>\n",
       "      <td>True</td>\n",
       "      <td>True</td>\n",
       "      <td>False</td>\n",
       "      <td>False</td>\n",
       "      <td>False</td>\n",
       "      <td>False</td>\n",
       "      <td>False</td>\n",
       "      <td>...</td>\n",
       "      <td>False</td>\n",
       "      <td>False</td>\n",
       "      <td>False</td>\n",
       "      <td>False</td>\n",
       "      <td>False</td>\n",
       "      <td>False</td>\n",
       "      <td>False</td>\n",
       "      <td>False</td>\n",
       "      <td>False</td>\n",
       "      <td>False</td>\n",
       "    </tr>\n",
       "    <tr>\n",
       "      <th>Rating</th>\n",
       "      <td>False</td>\n",
       "      <td>False</td>\n",
       "      <td>False</td>\n",
       "      <td>True</td>\n",
       "      <td>True</td>\n",
       "      <td>False</td>\n",
       "      <td>False</td>\n",
       "      <td>False</td>\n",
       "      <td>False</td>\n",
       "      <td>False</td>\n",
       "      <td>...</td>\n",
       "      <td>False</td>\n",
       "      <td>False</td>\n",
       "      <td>False</td>\n",
       "      <td>False</td>\n",
       "      <td>False</td>\n",
       "      <td>False</td>\n",
       "      <td>False</td>\n",
       "      <td>False</td>\n",
       "      <td>False</td>\n",
       "      <td>False</td>\n",
       "    </tr>\n",
       "    <tr>\n",
       "      <th>...</th>\n",
       "      <td>...</td>\n",
       "      <td>...</td>\n",
       "      <td>...</td>\n",
       "      <td>...</td>\n",
       "      <td>...</td>\n",
       "      <td>...</td>\n",
       "      <td>...</td>\n",
       "      <td>...</td>\n",
       "      <td>...</td>\n",
       "      <td>...</td>\n",
       "      <td>...</td>\n",
       "      <td>...</td>\n",
       "      <td>...</td>\n",
       "      <td>...</td>\n",
       "      <td>...</td>\n",
       "      <td>...</td>\n",
       "      <td>...</td>\n",
       "      <td>...</td>\n",
       "      <td>...</td>\n",
       "      <td>...</td>\n",
       "      <td>...</td>\n",
       "    </tr>\n",
       "    <tr>\n",
       "      <th>Lyon</th>\n",
       "      <td>False</td>\n",
       "      <td>False</td>\n",
       "      <td>False</td>\n",
       "      <td>False</td>\n",
       "      <td>False</td>\n",
       "      <td>False</td>\n",
       "      <td>False</td>\n",
       "      <td>False</td>\n",
       "      <td>False</td>\n",
       "      <td>False</td>\n",
       "      <td>...</td>\n",
       "      <td>False</td>\n",
       "      <td>False</td>\n",
       "      <td>False</td>\n",
       "      <td>False</td>\n",
       "      <td>False</td>\n",
       "      <td>True</td>\n",
       "      <td>False</td>\n",
       "      <td>False</td>\n",
       "      <td>False</td>\n",
       "      <td>False</td>\n",
       "    </tr>\n",
       "    <tr>\n",
       "      <th>Copenhagen</th>\n",
       "      <td>False</td>\n",
       "      <td>False</td>\n",
       "      <td>False</td>\n",
       "      <td>False</td>\n",
       "      <td>False</td>\n",
       "      <td>False</td>\n",
       "      <td>False</td>\n",
       "      <td>False</td>\n",
       "      <td>False</td>\n",
       "      <td>False</td>\n",
       "      <td>...</td>\n",
       "      <td>False</td>\n",
       "      <td>False</td>\n",
       "      <td>False</td>\n",
       "      <td>False</td>\n",
       "      <td>False</td>\n",
       "      <td>False</td>\n",
       "      <td>True</td>\n",
       "      <td>False</td>\n",
       "      <td>False</td>\n",
       "      <td>False</td>\n",
       "    </tr>\n",
       "    <tr>\n",
       "      <th>data_1</th>\n",
       "      <td>False</td>\n",
       "      <td>False</td>\n",
       "      <td>False</td>\n",
       "      <td>False</td>\n",
       "      <td>False</td>\n",
       "      <td>False</td>\n",
       "      <td>False</td>\n",
       "      <td>False</td>\n",
       "      <td>False</td>\n",
       "      <td>False</td>\n",
       "      <td>...</td>\n",
       "      <td>False</td>\n",
       "      <td>False</td>\n",
       "      <td>False</td>\n",
       "      <td>False</td>\n",
       "      <td>False</td>\n",
       "      <td>False</td>\n",
       "      <td>False</td>\n",
       "      <td>True</td>\n",
       "      <td>True</td>\n",
       "      <td>False</td>\n",
       "    </tr>\n",
       "    <tr>\n",
       "      <th>data_2</th>\n",
       "      <td>False</td>\n",
       "      <td>False</td>\n",
       "      <td>False</td>\n",
       "      <td>False</td>\n",
       "      <td>False</td>\n",
       "      <td>False</td>\n",
       "      <td>False</td>\n",
       "      <td>False</td>\n",
       "      <td>False</td>\n",
       "      <td>False</td>\n",
       "      <td>...</td>\n",
       "      <td>False</td>\n",
       "      <td>False</td>\n",
       "      <td>False</td>\n",
       "      <td>False</td>\n",
       "      <td>False</td>\n",
       "      <td>False</td>\n",
       "      <td>False</td>\n",
       "      <td>True</td>\n",
       "      <td>True</td>\n",
       "      <td>False</td>\n",
       "    </tr>\n",
       "    <tr>\n",
       "      <th>range</th>\n",
       "      <td>False</td>\n",
       "      <td>False</td>\n",
       "      <td>False</td>\n",
       "      <td>False</td>\n",
       "      <td>False</td>\n",
       "      <td>False</td>\n",
       "      <td>False</td>\n",
       "      <td>False</td>\n",
       "      <td>False</td>\n",
       "      <td>False</td>\n",
       "      <td>...</td>\n",
       "      <td>False</td>\n",
       "      <td>False</td>\n",
       "      <td>False</td>\n",
       "      <td>False</td>\n",
       "      <td>False</td>\n",
       "      <td>False</td>\n",
       "      <td>False</td>\n",
       "      <td>False</td>\n",
       "      <td>False</td>\n",
       "      <td>True</td>\n",
       "    </tr>\n",
       "  </tbody>\n",
       "</table>\n",
       "<p>165 rows × 165 columns</p>\n",
       "</div>"
      ],
      "text/plain": [
       "             rank  price  reviews_n  sample  Rating  cuisine_n  Halal  \\\n",
       "rank         True  False      False   False   False      False  False   \n",
       "price       False   True      False   False   False      False  False   \n",
       "reviews_n   False  False       True   False   False      False  False   \n",
       "sample      False  False      False    True    True      False  False   \n",
       "Rating      False  False      False    True    True      False  False   \n",
       "...           ...    ...        ...     ...     ...        ...    ...   \n",
       "Lyon        False  False      False   False   False      False  False   \n",
       "Copenhagen  False  False      False   False   False      False  False   \n",
       "data_1      False  False      False   False   False      False  False   \n",
       "data_2      False  False      False   False   False      False  False   \n",
       "range       False  False      False   False   False      False  False   \n",
       "\n",
       "            Australian  Healthy  Peruvian  ...  Warsaw  Bratislava  Krakow  \\\n",
       "rank             False    False     False  ...   False       False   False   \n",
       "price            False    False     False  ...   False       False   False   \n",
       "reviews_n        False    False     False  ...   False       False   False   \n",
       "sample           False    False     False  ...   False       False   False   \n",
       "Rating           False    False     False  ...   False       False   False   \n",
       "...                ...      ...       ...  ...     ...         ...     ...   \n",
       "Lyon             False    False     False  ...   False       False   False   \n",
       "Copenhagen       False    False     False  ...   False       False   False   \n",
       "data_1           False    False     False  ...   False       False   False   \n",
       "data_2           False    False     False  ...   False       False   False   \n",
       "range            False    False     False  ...   False       False   False   \n",
       "\n",
       "            Ljubljana  Paris   Lyon  Copenhagen  data_1  data_2  range  \n",
       "rank            False  False  False       False   False   False  False  \n",
       "price           False  False  False       False   False   False  False  \n",
       "reviews_n       False  False  False       False   False   False  False  \n",
       "sample          False  False  False       False   False   False  False  \n",
       "Rating          False  False  False       False   False   False  False  \n",
       "...               ...    ...    ...         ...     ...     ...    ...  \n",
       "Lyon            False  False   True       False   False   False  False  \n",
       "Copenhagen      False  False  False        True   False   False  False  \n",
       "data_1          False  False  False       False    True    True  False  \n",
       "data_2          False  False  False       False    True    True  False  \n",
       "range           False  False  False       False   False   False   True  \n",
       "\n",
       "[165 rows x 165 columns]"
      ]
     },
     "execution_count": 35,
     "metadata": {},
     "output_type": "execute_result"
    }
   ],
   "source": [
    "df.corr()>0.7 # High corr between data_1 and data_2. data_2 will be dropped."
   ]
  },
  {
   "cell_type": "markdown",
   "metadata": {},
   "source": [
    "## 6. delet columns"
   ]
  },
  {
   "cell_type": "code",
   "execution_count": 36,
   "metadata": {
    "execution": {
     "iopub.execute_input": "2021-06-26T09:14:44.659443Z",
     "iopub.status.busy": "2021-06-26T09:14:44.659138Z",
     "iopub.status.idle": "2021-06-26T09:14:44.666915Z",
     "shell.execute_reply": "2021-06-26T09:14:44.665848Z",
     "shell.execute_reply.started": "2021-06-26T09:14:44.659388Z"
    }
   },
   "outputs": [
    {
     "data": {
      "text/plain": [
       "Index(['id', 'rank', 'price', 'reviews_n', 'reviews', 'url', 'id_ta', 'sample',\n",
       "       'Rating', 'cuisine_n',\n",
       "       ...\n",
       "       'Warsaw', 'Bratislava', 'Krakow', 'Ljubljana', 'Paris', 'Lyon',\n",
       "       'Copenhagen', 'data_1', 'data_2', 'range'],\n",
       "      dtype='object', length=169)"
      ]
     },
     "execution_count": 36,
     "metadata": {},
     "output_type": "execute_result"
    }
   ],
   "source": [
    "df.columns"
   ]
  },
  {
   "cell_type": "code",
   "execution_count": 37,
   "metadata": {
    "execution": {
     "iopub.execute_input": "2021-06-26T09:14:44.669809Z",
     "iopub.status.busy": "2021-06-26T09:14:44.668947Z",
     "iopub.status.idle": "2021-06-26T09:14:44.729017Z",
     "shell.execute_reply": "2021-06-26T09:14:44.727695Z",
     "shell.execute_reply.started": "2021-06-26T09:14:44.669694Z"
    }
   },
   "outputs": [
    {
     "data": {
      "text/html": [
       "<div>\n",
       "<style scoped>\n",
       "    .dataframe tbody tr th:only-of-type {\n",
       "        vertical-align: middle;\n",
       "    }\n",
       "\n",
       "    .dataframe tbody tr th {\n",
       "        vertical-align: top;\n",
       "    }\n",
       "\n",
       "    .dataframe thead th {\n",
       "        text-align: right;\n",
       "    }\n",
       "</style>\n",
       "<table border=\"1\" class=\"dataframe\">\n",
       "  <thead>\n",
       "    <tr style=\"text-align: right;\">\n",
       "      <th></th>\n",
       "      <th>id</th>\n",
       "      <th>rank</th>\n",
       "      <th>price</th>\n",
       "      <th>reviews_n</th>\n",
       "      <th>sample</th>\n",
       "      <th>Rating</th>\n",
       "      <th>cuisine_n</th>\n",
       "      <th>Halal</th>\n",
       "      <th>Australian</th>\n",
       "      <th>Healthy</th>\n",
       "      <th>...</th>\n",
       "      <th>Budapest</th>\n",
       "      <th>Warsaw</th>\n",
       "      <th>Bratislava</th>\n",
       "      <th>Krakow</th>\n",
       "      <th>Ljubljana</th>\n",
       "      <th>Paris</th>\n",
       "      <th>Lyon</th>\n",
       "      <th>Copenhagen</th>\n",
       "      <th>data_1</th>\n",
       "      <th>range</th>\n",
       "    </tr>\n",
       "  </thead>\n",
       "  <tbody>\n",
       "    <tr>\n",
       "      <th>0</th>\n",
       "      <td>id_0</td>\n",
       "      <td>12963.0</td>\n",
       "      <td>1.0</td>\n",
       "      <td>4.0</td>\n",
       "      <td>0</td>\n",
       "      <td>0.0</td>\n",
       "      <td>2</td>\n",
       "      <td>0</td>\n",
       "      <td>0</td>\n",
       "      <td>0</td>\n",
       "      <td>...</td>\n",
       "      <td>0</td>\n",
       "      <td>0</td>\n",
       "      <td>0</td>\n",
       "      <td>0</td>\n",
       "      <td>0</td>\n",
       "      <td>1</td>\n",
       "      <td>0</td>\n",
       "      <td>0</td>\n",
       "      <td>1497</td>\n",
       "      <td>0</td>\n",
       "    </tr>\n",
       "  </tbody>\n",
       "</table>\n",
       "<p>1 rows × 165 columns</p>\n",
       "</div>"
      ],
      "text/plain": [
       "     id     rank  price  reviews_n  sample  Rating  cuisine_n  Halal  \\\n",
       "0  id_0  12963.0    1.0        4.0       0     0.0          2      0   \n",
       "\n",
       "   Australian  Healthy  ...  Budapest  Warsaw  Bratislava  Krakow  Ljubljana  \\\n",
       "0           0        0  ...         0       0           0       0          0   \n",
       "\n",
       "   Paris  Lyon  Copenhagen  data_1  range  \n",
       "0      1     0           0    1497      0  \n",
       "\n",
       "[1 rows x 165 columns]"
      ]
     },
     "execution_count": 37,
     "metadata": {},
     "output_type": "execute_result"
    }
   ],
   "source": [
    "df.drop(labels=['reviews', 'url', 'id_ta','data_2'],inplace=True,axis=1)\n",
    "df.head(1)"
   ]
  },
  {
   "cell_type": "code",
   "execution_count": 38,
   "metadata": {
    "execution": {
     "iopub.execute_input": "2021-06-26T09:14:44.730716Z",
     "iopub.status.busy": "2021-06-26T09:14:44.730426Z",
     "iopub.status.idle": "2021-06-26T09:14:44.826257Z",
     "shell.execute_reply": "2021-06-26T09:14:44.825064Z",
     "shell.execute_reply.started": "2021-06-26T09:14:44.730666Z"
    }
   },
   "outputs": [],
   "source": [
    "# Теперь выделим тестовую часть\n",
    "train_data = df.query('sample == 1').drop(['sample'], axis=1)\n",
    "test_data = df.query('sample == 0').drop(['sample'], axis=1)\n",
    "\n",
    "y = train_data.Rating.values            # наш таргет\n",
    "X = train_data.drop(['Rating', 'id'], axis=1)"
   ]
  },
  {
   "cell_type": "markdown",
   "metadata": {},
   "source": [
    "**Перед тем как отправлять наши данные на обучение, разделим данные на еще один тест и трейн, для валидации. \n",
    "Это поможет нам проверить, как хорошо наша модель работает, до отправки submissiona на kaggle.**"
   ]
  },
  {
   "cell_type": "code",
   "execution_count": 39,
   "metadata": {
    "execution": {
     "iopub.execute_input": "2021-06-26T09:14:44.828176Z",
     "iopub.status.busy": "2021-06-26T09:14:44.827913Z",
     "iopub.status.idle": "2021-06-26T09:14:44.880454Z",
     "shell.execute_reply": "2021-06-26T09:14:44.879510Z",
     "shell.execute_reply.started": "2021-06-26T09:14:44.828130Z"
    }
   },
   "outputs": [],
   "source": [
    "# Воспользуемся специальной функцие train_test_split для разбивки тестовых данных\n",
    "# выделим 20% данных на валидацию (параметр test_size)\n",
    "X_train, X_test, y_train, y_test = train_test_split(X, y, test_size=0.2, random_state=RANDOM_SEED)"
   ]
  },
  {
   "cell_type": "code",
   "execution_count": 40,
   "metadata": {
    "execution": {
     "iopub.execute_input": "2021-06-26T09:14:44.882015Z",
     "iopub.status.busy": "2021-06-26T09:14:44.881764Z",
     "iopub.status.idle": "2021-06-26T09:14:44.890299Z",
     "shell.execute_reply": "2021-06-26T09:14:44.888728Z",
     "shell.execute_reply.started": "2021-06-26T09:14:44.881970Z"
    }
   },
   "outputs": [
    {
     "data": {
      "text/plain": [
       "((11423, 164), (38577, 164), (38577, 162), (30861, 162), (7716, 162))"
      ]
     },
     "execution_count": 40,
     "metadata": {},
     "output_type": "execute_result"
    }
   ],
   "source": [
    "# проверяем\n",
    "test_data.shape, train_data.shape, X.shape, X_train.shape, X_test.shape"
   ]
  },
  {
   "cell_type": "markdown",
   "metadata": {},
   "source": [
    "# Model \n",
    "Сам ML"
   ]
  },
  {
   "cell_type": "code",
   "execution_count": 41,
   "metadata": {
    "execution": {
     "iopub.execute_input": "2021-06-26T09:14:44.891983Z",
     "iopub.status.busy": "2021-06-26T09:14:44.891717Z",
     "iopub.status.idle": "2021-06-26T09:14:44.903882Z",
     "shell.execute_reply": "2021-06-26T09:14:44.902136Z",
     "shell.execute_reply.started": "2021-06-26T09:14:44.891937Z"
    }
   },
   "outputs": [],
   "source": [
    "# Импортируем необходимые библиотеки:\n",
    "from sklearn.ensemble import RandomForestRegressor # инструмент для создания и обучения модели\n",
    "from sklearn import metrics # инструменты для оценки точности модели"
   ]
  },
  {
   "cell_type": "code",
   "execution_count": 42,
   "metadata": {
    "execution": {
     "iopub.execute_input": "2021-06-26T09:14:44.907278Z",
     "iopub.status.busy": "2021-06-26T09:14:44.906761Z",
     "iopub.status.idle": "2021-06-26T09:14:44.917241Z",
     "shell.execute_reply": "2021-06-26T09:14:44.916397Z",
     "shell.execute_reply.started": "2021-06-26T09:14:44.907193Z"
    }
   },
   "outputs": [],
   "source": [
    "# Создаём модель (НАСТРОЙКИ НЕ ТРОГАЕМ)\n",
    "model = RandomForestRegressor(n_estimators=100, verbose=1, n_jobs=-1, random_state=RANDOM_SEED)"
   ]
  },
  {
   "cell_type": "code",
   "execution_count": 43,
   "metadata": {
    "execution": {
     "iopub.execute_input": "2021-06-26T09:14:44.918887Z",
     "iopub.status.busy": "2021-06-26T09:14:44.918593Z",
     "iopub.status.idle": "2021-06-26T09:15:01.566197Z",
     "shell.execute_reply": "2021-06-26T09:15:01.564937Z",
     "shell.execute_reply.started": "2021-06-26T09:14:44.918837Z"
    }
   },
   "outputs": [
    {
     "name": "stderr",
     "output_type": "stream",
     "text": [
      "[Parallel(n_jobs=-1)]: Using backend ThreadingBackend with 4 concurrent workers.\n",
      "[Parallel(n_jobs=-1)]: Done  42 tasks      | elapsed:    5.6s\n",
      "[Parallel(n_jobs=-1)]: Done 100 out of 100 | elapsed:   12.8s finished\n",
      "[Parallel(n_jobs=4)]: Using backend ThreadingBackend with 4 concurrent workers.\n",
      "[Parallel(n_jobs=4)]: Done  42 tasks      | elapsed:    0.0s\n",
      "[Parallel(n_jobs=4)]: Done 100 out of 100 | elapsed:    0.1s finished\n"
     ]
    }
   ],
   "source": [
    "# Обучаем модель на тестовом наборе данных\n",
    "model.fit(X_train, y_train)\n",
    "\n",
    "# Используем обученную модель для предсказания рейтинга ресторанов в тестовой выборке.\n",
    "# Предсказанные значения записываем в переменную y_pred\n",
    "y_pred = model.predict(X_test)"
   ]
  },
  {
   "cell_type": "code",
   "execution_count": 44,
   "metadata": {
    "execution": {
     "iopub.execute_input": "2021-06-26T09:16:16.191992Z",
     "iopub.status.busy": "2021-06-26T09:16:16.191624Z",
     "iopub.status.idle": "2021-06-26T09:16:16.198814Z",
     "shell.execute_reply": "2021-06-26T09:16:16.197836Z",
     "shell.execute_reply.started": "2021-06-26T09:16:16.191950Z"
    }
   },
   "outputs": [
    {
     "data": {
      "text/plain": [
       "array([3.785, 4.035, 4.42 , ..., 4.37 , 4.515, 3.965])"
      ]
     },
     "execution_count": 44,
     "metadata": {},
     "output_type": "execute_result"
    }
   ],
   "source": [
    "y_pred"
   ]
  },
  {
   "cell_type": "code",
   "execution_count": 45,
   "metadata": {
    "execution": {
     "iopub.execute_input": "2021-06-26T09:23:53.915482Z",
     "iopub.status.busy": "2021-06-26T09:23:53.915189Z",
     "iopub.status.idle": "2021-06-26T09:23:53.922840Z",
     "shell.execute_reply": "2021-06-26T09:23:53.921975Z",
     "shell.execute_reply.started": "2021-06-26T09:23:53.915445Z"
    }
   },
   "outputs": [
    {
     "data": {
      "text/plain": [
       "array([4. , 4. , 4.5, ..., 4.5, 4.5, 4. ])"
      ]
     },
     "execution_count": 45,
     "metadata": {},
     "output_type": "execute_result"
    }
   ],
   "source": [
    "a = y_pred/0.5\n",
    "a = a.round()\n",
    "y_pred = a*0.5\n",
    "y_pred"
   ]
  },
  {
   "cell_type": "code",
   "execution_count": 46,
   "metadata": {
    "execution": {
     "iopub.execute_input": "2021-06-26T09:24:00.764555Z",
     "iopub.status.busy": "2021-06-26T09:24:00.763989Z",
     "iopub.status.idle": "2021-06-26T09:24:00.772666Z",
     "shell.execute_reply": "2021-06-26T09:24:00.771400Z",
     "shell.execute_reply.started": "2021-06-26T09:24:00.764486Z"
    }
   },
   "outputs": [
    {
     "name": "stdout",
     "output_type": "stream",
     "text": [
      "MAE: 0.18805080352514256\n"
     ]
    }
   ],
   "source": [
    "# Сравниваем предсказанные значения (y_pred) с реальными (y_test), и смотрим насколько они в среднем отличаются\n",
    "# Метрика называется Mean Absolute Error (MAE) и показывает среднее отклонение предсказанных значений от фактических.\n",
    "print('MAE:', metrics.mean_absolute_error(y_test, y_pred))"
   ]
  },
  {
   "cell_type": "code",
   "execution_count": 47,
   "metadata": {
    "execution": {
     "iopub.execute_input": "2021-06-26T09:15:01.574872Z",
     "iopub.status.busy": "2021-06-26T09:15:01.574630Z",
     "iopub.status.idle": "2021-06-26T09:15:02.037456Z",
     "shell.execute_reply": "2021-06-26T09:15:02.036260Z",
     "shell.execute_reply.started": "2021-06-26T09:15:01.574837Z"
    }
   },
   "outputs": [
    {
     "data": {
      "text/plain": [
       "<matplotlib.axes._subplots.AxesSubplot at 0x7f9b88a1a898>"
      ]
     },
     "execution_count": 47,
     "metadata": {},
     "output_type": "execute_result"
    },
    {
     "data": {
      "image/png": "[encoded data removed]",
      "text/plain": [
       "<Figure size 720x720 with 1 Axes>"
      ]
     },
     "metadata": {
      "needs_background": "light"
     },
     "output_type": "display_data"
    }
   ],
   "source": [
    "# в RandomForestRegressor есть возможность вывести самые важные признаки для модели\n",
    "plt.rcParams['figure.figsize'] = (10,10)\n",
    "feat_importances = pd.Series(model.feature_importances_, index=X.columns)\n",
    "feat_importances.nlargest(15).plot(kind='barh')"
   ]
  },
  {
   "cell_type": "markdown",
   "metadata": {},
   "source": [
    "# Submission\n",
    "Если все устраевает - готовим Submission на кагл"
   ]
  },
  {
   "cell_type": "code",
   "execution_count": 48,
   "metadata": {
    "execution": {
     "iopub.execute_input": "2021-06-26T09:15:02.040449Z",
     "iopub.status.busy": "2021-06-26T09:15:02.039617Z",
     "iopub.status.idle": "2021-06-26T09:15:02.077127Z",
     "shell.execute_reply": "2021-06-26T09:15:02.076459Z",
     "shell.execute_reply.started": "2021-06-26T09:15:02.040379Z"
    }
   },
   "outputs": [
    {
     "data": {
      "text/html": [
       "<div>\n",
       "<style scoped>\n",
       "    .dataframe tbody tr th:only-of-type {\n",
       "        vertical-align: middle;\n",
       "    }\n",
       "\n",
       "    .dataframe tbody tr th {\n",
       "        vertical-align: top;\n",
       "    }\n",
       "\n",
       "    .dataframe thead th {\n",
       "        text-align: right;\n",
       "    }\n",
       "</style>\n",
       "<table border=\"1\" class=\"dataframe\">\n",
       "  <thead>\n",
       "    <tr style=\"text-align: right;\">\n",
       "      <th></th>\n",
       "      <th>id</th>\n",
       "      <th>rank</th>\n",
       "      <th>price</th>\n",
       "      <th>reviews_n</th>\n",
       "      <th>Rating</th>\n",
       "      <th>cuisine_n</th>\n",
       "      <th>Halal</th>\n",
       "      <th>Australian</th>\n",
       "      <th>Healthy</th>\n",
       "      <th>Peruvian</th>\n",
       "      <th>...</th>\n",
       "      <th>Budapest</th>\n",
       "      <th>Warsaw</th>\n",
       "      <th>Bratislava</th>\n",
       "      <th>Krakow</th>\n",
       "      <th>Ljubljana</th>\n",
       "      <th>Paris</th>\n",
       "      <th>Lyon</th>\n",
       "      <th>Copenhagen</th>\n",
       "      <th>data_1</th>\n",
       "      <th>range</th>\n",
       "    </tr>\n",
       "  </thead>\n",
       "  <tbody>\n",
       "    <tr>\n",
       "      <th>1456</th>\n",
       "      <td>id_1456</td>\n",
       "      <td>2366.0</td>\n",
       "      <td>1.0</td>\n",
       "      <td>124.0</td>\n",
       "      <td>0.0</td>\n",
       "      <td>5</td>\n",
       "      <td>0</td>\n",
       "      <td>0</td>\n",
       "      <td>0</td>\n",
       "      <td>0</td>\n",
       "      <td>...</td>\n",
       "      <td>0</td>\n",
       "      <td>0</td>\n",
       "      <td>0</td>\n",
       "      <td>0</td>\n",
       "      <td>0</td>\n",
       "      <td>0</td>\n",
       "      <td>0</td>\n",
       "      <td>0</td>\n",
       "      <td>1742</td>\n",
       "      <td>80</td>\n",
       "    </tr>\n",
       "    <tr>\n",
       "      <th>15805</th>\n",
       "      <td>0</td>\n",
       "      <td>0.0</td>\n",
       "      <td>0.0</td>\n",
       "      <td>0.0</td>\n",
       "      <td>0.0</td>\n",
       "      <td>0</td>\n",
       "      <td>0</td>\n",
       "      <td>0</td>\n",
       "      <td>0</td>\n",
       "      <td>0</td>\n",
       "      <td>...</td>\n",
       "      <td>0</td>\n",
       "      <td>0</td>\n",
       "      <td>0</td>\n",
       "      <td>0</td>\n",
       "      <td>0</td>\n",
       "      <td>0</td>\n",
       "      <td>0</td>\n",
       "      <td>0</td>\n",
       "      <td>1497</td>\n",
       "      <td>0</td>\n",
       "    </tr>\n",
       "    <tr>\n",
       "      <th>9284</th>\n",
       "      <td>0</td>\n",
       "      <td>0.0</td>\n",
       "      <td>0.0</td>\n",
       "      <td>0.0</td>\n",
       "      <td>0.0</td>\n",
       "      <td>0</td>\n",
       "      <td>0</td>\n",
       "      <td>0</td>\n",
       "      <td>0</td>\n",
       "      <td>0</td>\n",
       "      <td>...</td>\n",
       "      <td>0</td>\n",
       "      <td>0</td>\n",
       "      <td>0</td>\n",
       "      <td>0</td>\n",
       "      <td>0</td>\n",
       "      <td>0</td>\n",
       "      <td>0</td>\n",
       "      <td>0</td>\n",
       "      <td>1497</td>\n",
       "      <td>0</td>\n",
       "    </tr>\n",
       "    <tr>\n",
       "      <th>9849</th>\n",
       "      <td>id_9849</td>\n",
       "      <td>1985.0</td>\n",
       "      <td>0.0</td>\n",
       "      <td>7.0</td>\n",
       "      <td>0.0</td>\n",
       "      <td>2</td>\n",
       "      <td>0</td>\n",
       "      <td>0</td>\n",
       "      <td>0</td>\n",
       "      <td>0</td>\n",
       "      <td>...</td>\n",
       "      <td>1</td>\n",
       "      <td>0</td>\n",
       "      <td>0</td>\n",
       "      <td>0</td>\n",
       "      <td>0</td>\n",
       "      <td>0</td>\n",
       "      <td>0</td>\n",
       "      <td>0</td>\n",
       "      <td>1719</td>\n",
       "      <td>245</td>\n",
       "    </tr>\n",
       "    <tr>\n",
       "      <th>8329</th>\n",
       "      <td>id_8329</td>\n",
       "      <td>932.0</td>\n",
       "      <td>1.0</td>\n",
       "      <td>124.0</td>\n",
       "      <td>0.0</td>\n",
       "      <td>5</td>\n",
       "      <td>0</td>\n",
       "      <td>0</td>\n",
       "      <td>0</td>\n",
       "      <td>0</td>\n",
       "      <td>...</td>\n",
       "      <td>0</td>\n",
       "      <td>0</td>\n",
       "      <td>0</td>\n",
       "      <td>0</td>\n",
       "      <td>0</td>\n",
       "      <td>0</td>\n",
       "      <td>0</td>\n",
       "      <td>0</td>\n",
       "      <td>1753</td>\n",
       "      <td>2</td>\n",
       "    </tr>\n",
       "    <tr>\n",
       "      <th>6287</th>\n",
       "      <td>id_6287</td>\n",
       "      <td>11040.0</td>\n",
       "      <td>1.0</td>\n",
       "      <td>104.0</td>\n",
       "      <td>0.0</td>\n",
       "      <td>1</td>\n",
       "      <td>0</td>\n",
       "      <td>0</td>\n",
       "      <td>0</td>\n",
       "      <td>0</td>\n",
       "      <td>...</td>\n",
       "      <td>0</td>\n",
       "      <td>0</td>\n",
       "      <td>0</td>\n",
       "      <td>0</td>\n",
       "      <td>0</td>\n",
       "      <td>1</td>\n",
       "      <td>0</td>\n",
       "      <td>0</td>\n",
       "      <td>1637</td>\n",
       "      <td>0</td>\n",
       "    </tr>\n",
       "    <tr>\n",
       "      <th>14170</th>\n",
       "      <td>0</td>\n",
       "      <td>0.0</td>\n",
       "      <td>0.0</td>\n",
       "      <td>0.0</td>\n",
       "      <td>0.0</td>\n",
       "      <td>0</td>\n",
       "      <td>0</td>\n",
       "      <td>0</td>\n",
       "      <td>0</td>\n",
       "      <td>0</td>\n",
       "      <td>...</td>\n",
       "      <td>0</td>\n",
       "      <td>0</td>\n",
       "      <td>0</td>\n",
       "      <td>0</td>\n",
       "      <td>0</td>\n",
       "      <td>0</td>\n",
       "      <td>0</td>\n",
       "      <td>0</td>\n",
       "      <td>1497</td>\n",
       "      <td>0</td>\n",
       "    </tr>\n",
       "    <tr>\n",
       "      <th>27288</th>\n",
       "      <td>0</td>\n",
       "      <td>0.0</td>\n",
       "      <td>0.0</td>\n",
       "      <td>0.0</td>\n",
       "      <td>0.0</td>\n",
       "      <td>0</td>\n",
       "      <td>0</td>\n",
       "      <td>0</td>\n",
       "      <td>0</td>\n",
       "      <td>0</td>\n",
       "      <td>...</td>\n",
       "      <td>0</td>\n",
       "      <td>0</td>\n",
       "      <td>0</td>\n",
       "      <td>0</td>\n",
       "      <td>0</td>\n",
       "      <td>0</td>\n",
       "      <td>0</td>\n",
       "      <td>0</td>\n",
       "      <td>1497</td>\n",
       "      <td>0</td>\n",
       "    </tr>\n",
       "    <tr>\n",
       "      <th>9887</th>\n",
       "      <td>id_9887</td>\n",
       "      <td>5107.0</td>\n",
       "      <td>1.0</td>\n",
       "      <td>124.0</td>\n",
       "      <td>0.0</td>\n",
       "      <td>18</td>\n",
       "      <td>0</td>\n",
       "      <td>0</td>\n",
       "      <td>0</td>\n",
       "      <td>0</td>\n",
       "      <td>...</td>\n",
       "      <td>0</td>\n",
       "      <td>0</td>\n",
       "      <td>0</td>\n",
       "      <td>0</td>\n",
       "      <td>0</td>\n",
       "      <td>0</td>\n",
       "      <td>0</td>\n",
       "      <td>0</td>\n",
       "      <td>1497</td>\n",
       "      <td>0</td>\n",
       "    </tr>\n",
       "    <tr>\n",
       "      <th>4717</th>\n",
       "      <td>id_4717</td>\n",
       "      <td>1050.0</td>\n",
       "      <td>1.0</td>\n",
       "      <td>89.0</td>\n",
       "      <td>0.0</td>\n",
       "      <td>3</td>\n",
       "      <td>0</td>\n",
       "      <td>0</td>\n",
       "      <td>0</td>\n",
       "      <td>0</td>\n",
       "      <td>...</td>\n",
       "      <td>0</td>\n",
       "      <td>0</td>\n",
       "      <td>0</td>\n",
       "      <td>0</td>\n",
       "      <td>0</td>\n",
       "      <td>0</td>\n",
       "      <td>0</td>\n",
       "      <td>0</td>\n",
       "      <td>1747</td>\n",
       "      <td>62</td>\n",
       "    </tr>\n",
       "  </tbody>\n",
       "</table>\n",
       "<p>10 rows × 164 columns</p>\n",
       "</div>"
      ],
      "text/plain": [
       "            id     rank  price  reviews_n  Rating  cuisine_n  Halal  \\\n",
       "1456   id_1456   2366.0    1.0      124.0     0.0          5      0   \n",
       "15805        0      0.0    0.0        0.0     0.0          0      0   \n",
       "9284         0      0.0    0.0        0.0     0.0          0      0   \n",
       "9849   id_9849   1985.0    0.0        7.0     0.0          2      0   \n",
       "8329   id_8329    932.0    1.0      124.0     0.0          5      0   \n",
       "6287   id_6287  11040.0    1.0      104.0     0.0          1      0   \n",
       "14170        0      0.0    0.0        0.0     0.0          0      0   \n",
       "27288        0      0.0    0.0        0.0     0.0          0      0   \n",
       "9887   id_9887   5107.0    1.0      124.0     0.0         18      0   \n",
       "4717   id_4717   1050.0    1.0       89.0     0.0          3      0   \n",
       "\n",
       "       Australian  Healthy  Peruvian  ...  Budapest  Warsaw  Bratislava  \\\n",
       "1456            0        0         0  ...         0       0           0   \n",
       "15805           0        0         0  ...         0       0           0   \n",
       "9284            0        0         0  ...         0       0           0   \n",
       "9849            0        0         0  ...         1       0           0   \n",
       "8329            0        0         0  ...         0       0           0   \n",
       "6287            0        0         0  ...         0       0           0   \n",
       "14170           0        0         0  ...         0       0           0   \n",
       "27288           0        0         0  ...         0       0           0   \n",
       "9887            0        0         0  ...         0       0           0   \n",
       "4717            0        0         0  ...         0       0           0   \n",
       "\n",
       "       Krakow  Ljubljana  Paris  Lyon  Copenhagen  data_1  range  \n",
       "1456        0          0      0     0           0    1742     80  \n",
       "15805       0          0      0     0           0    1497      0  \n",
       "9284        0          0      0     0           0    1497      0  \n",
       "9849        0          0      0     0           0    1719    245  \n",
       "8329        0          0      0     0           0    1753      2  \n",
       "6287        0          0      1     0           0    1637      0  \n",
       "14170       0          0      0     0           0    1497      0  \n",
       "27288       0          0      0     0           0    1497      0  \n",
       "9887        0          0      0     0           0    1497      0  \n",
       "4717        0          0      0     0           0    1747     62  \n",
       "\n",
       "[10 rows x 164 columns]"
      ]
     },
     "execution_count": 48,
     "metadata": {},
     "output_type": "execute_result"
    }
   ],
   "source": [
    "test_data.sample(10)"
   ]
  },
  {
   "cell_type": "code",
   "execution_count": 49,
   "metadata": {
    "execution": {
     "iopub.execute_input": "2021-06-26T09:15:02.078888Z",
     "iopub.status.busy": "2021-06-26T09:15:02.078418Z",
     "iopub.status.idle": "2021-06-26T09:15:02.087487Z",
     "shell.execute_reply": "2021-06-26T09:15:02.086800Z",
     "shell.execute_reply.started": "2021-06-26T09:15:02.078846Z"
    }
   },
   "outputs": [],
   "source": [
    "test_data = test_data.drop(['Rating', 'id'], axis=1)"
   ]
  },
  {
   "cell_type": "code",
   "execution_count": 50,
   "metadata": {
    "execution": {
     "iopub.execute_input": "2021-06-26T09:15:02.089284Z",
     "iopub.status.busy": "2021-06-26T09:15:02.088745Z",
     "iopub.status.idle": "2021-06-26T09:15:02.113914Z",
     "shell.execute_reply": "2021-06-26T09:15:02.112654Z",
     "shell.execute_reply.started": "2021-06-26T09:15:02.089235Z"
    }
   },
   "outputs": [
    {
     "data": {
      "text/html": [
       "<div>\n",
       "<style scoped>\n",
       "    .dataframe tbody tr th:only-of-type {\n",
       "        vertical-align: middle;\n",
       "    }\n",
       "\n",
       "    .dataframe tbody tr th {\n",
       "        vertical-align: top;\n",
       "    }\n",
       "\n",
       "    .dataframe thead th {\n",
       "        text-align: right;\n",
       "    }\n",
       "</style>\n",
       "<table border=\"1\" class=\"dataframe\">\n",
       "  <thead>\n",
       "    <tr style=\"text-align: right;\">\n",
       "      <th></th>\n",
       "      <th>Restaurant_id</th>\n",
       "      <th>Rating</th>\n",
       "    </tr>\n",
       "  </thead>\n",
       "  <tbody>\n",
       "    <tr>\n",
       "      <th>0</th>\n",
       "      <td>id_0</td>\n",
       "      <td>2.0</td>\n",
       "    </tr>\n",
       "    <tr>\n",
       "      <th>1</th>\n",
       "      <td>id_1</td>\n",
       "      <td>2.5</td>\n",
       "    </tr>\n",
       "    <tr>\n",
       "      <th>2</th>\n",
       "      <td>id_2</td>\n",
       "      <td>4.0</td>\n",
       "    </tr>\n",
       "    <tr>\n",
       "      <th>3</th>\n",
       "      <td>id_3</td>\n",
       "      <td>1.0</td>\n",
       "    </tr>\n",
       "    <tr>\n",
       "      <th>4</th>\n",
       "      <td>id_4</td>\n",
       "      <td>4.0</td>\n",
       "    </tr>\n",
       "    <tr>\n",
       "      <th>...</th>\n",
       "      <td>...</td>\n",
       "      <td>...</td>\n",
       "    </tr>\n",
       "    <tr>\n",
       "      <th>9995</th>\n",
       "      <td>id_9995</td>\n",
       "      <td>3.0</td>\n",
       "    </tr>\n",
       "    <tr>\n",
       "      <th>9996</th>\n",
       "      <td>id_9996</td>\n",
       "      <td>1.5</td>\n",
       "    </tr>\n",
       "    <tr>\n",
       "      <th>9997</th>\n",
       "      <td>id_9997</td>\n",
       "      <td>4.5</td>\n",
       "    </tr>\n",
       "    <tr>\n",
       "      <th>9998</th>\n",
       "      <td>id_9998</td>\n",
       "      <td>1.0</td>\n",
       "    </tr>\n",
       "    <tr>\n",
       "      <th>9999</th>\n",
       "      <td>id_9999</td>\n",
       "      <td>2.5</td>\n",
       "    </tr>\n",
       "  </tbody>\n",
       "</table>\n",
       "<p>10000 rows × 2 columns</p>\n",
       "</div>"
      ],
      "text/plain": [
       "     Restaurant_id  Rating\n",
       "0             id_0     2.0\n",
       "1             id_1     2.5\n",
       "2             id_2     4.0\n",
       "3             id_3     1.0\n",
       "4             id_4     4.0\n",
       "...            ...     ...\n",
       "9995       id_9995     3.0\n",
       "9996       id_9996     1.5\n",
       "9997       id_9997     4.5\n",
       "9998       id_9998     1.0\n",
       "9999       id_9999     2.5\n",
       "\n",
       "[10000 rows x 2 columns]"
      ]
     },
     "execution_count": 50,
     "metadata": {},
     "output_type": "execute_result"
    }
   ],
   "source": [
    "sample_submission"
   ]
  },
  {
   "cell_type": "code",
   "execution_count": 51,
   "metadata": {
    "execution": {
     "iopub.execute_input": "2021-06-26T09:15:02.115827Z",
     "iopub.status.busy": "2021-06-26T09:15:02.115543Z",
     "iopub.status.idle": "2021-06-26T09:15:02.346623Z",
     "shell.execute_reply": "2021-06-26T09:15:02.345433Z",
     "shell.execute_reply.started": "2021-06-26T09:15:02.115780Z"
    }
   },
   "outputs": [
    {
     "name": "stderr",
     "output_type": "stream",
     "text": [
      "[Parallel(n_jobs=4)]: Using backend ThreadingBackend with 4 concurrent workers.\n",
      "[Parallel(n_jobs=4)]: Done  42 tasks      | elapsed:    0.0s\n",
      "[Parallel(n_jobs=4)]: Done 100 out of 100 | elapsed:    0.1s finished\n"
     ]
    }
   ],
   "source": [
    "predict_submission = model.predict(test_data)"
   ]
  },
  {
   "cell_type": "code",
   "execution_count": 52,
   "metadata": {
    "execution": {
     "iopub.execute_input": "2021-06-26T09:15:02.349277Z",
     "iopub.status.busy": "2021-06-26T09:15:02.348811Z",
     "iopub.status.idle": "2021-06-26T09:15:02.358579Z",
     "shell.execute_reply": "2021-06-26T09:15:02.357152Z",
     "shell.execute_reply.started": "2021-06-26T09:15:02.349213Z"
    }
   },
   "outputs": [
    {
     "data": {
      "text/plain": [
       "array([3.075, 4.205, 4.355, ..., 4.795, 4.795, 4.795])"
      ]
     },
     "execution_count": 52,
     "metadata": {},
     "output_type": "execute_result"
    }
   ],
   "source": [
    "predict_submission"
   ]
  },
  {
   "cell_type": "code",
   "execution_count": 53,
   "metadata": {
    "execution": {
     "iopub.execute_input": "2021-06-26T09:15:36.149420Z",
     "iopub.status.busy": "2021-06-26T09:15:36.149096Z",
     "iopub.status.idle": "2021-06-26T09:15:36.160059Z",
     "shell.execute_reply": "2021-06-26T09:15:36.158672Z",
     "shell.execute_reply.started": "2021-06-26T09:15:36.149354Z"
    }
   },
   "outputs": [
    {
     "data": {
      "text/plain": [
       "11423"
      ]
     },
     "execution_count": 53,
     "metadata": {},
     "output_type": "execute_result"
    }
   ],
   "source": [
    "len(predict_submission)"
   ]
  },
  {
   "cell_type": "code",
   "execution_count": 54,
   "metadata": {
    "execution": {
     "iopub.execute_input": "2021-06-26T09:24:56.609408Z",
     "iopub.status.busy": "2021-06-26T09:24:56.608806Z",
     "iopub.status.idle": "2021-06-26T09:24:56.617384Z",
     "shell.execute_reply": "2021-06-26T09:24:56.616179Z",
     "shell.execute_reply.started": "2021-06-26T09:24:56.609344Z"
    }
   },
   "outputs": [
    {
     "data": {
      "text/plain": [
       "array([3.075, 4.205, 4.355, ..., 3.   , 4.41 , 4.26 ])"
      ]
     },
     "execution_count": 54,
     "metadata": {},
     "output_type": "execute_result"
    }
   ],
   "source": [
    "predicted = predict_submission[0:10000]\n",
    "predicted"
   ]
  },
  {
   "cell_type": "code",
   "execution_count": 55,
   "metadata": {
    "execution": {
     "iopub.execute_input": "2021-06-26T09:24:59.714297Z",
     "iopub.status.busy": "2021-06-26T09:24:59.713943Z",
     "iopub.status.idle": "2021-06-26T09:24:59.721674Z",
     "shell.execute_reply": "2021-06-26T09:24:59.720366Z",
     "shell.execute_reply.started": "2021-06-26T09:24:59.714207Z"
    }
   },
   "outputs": [
    {
     "data": {
      "text/plain": [
       "10000"
      ]
     },
     "execution_count": 55,
     "metadata": {},
     "output_type": "execute_result"
    }
   ],
   "source": [
    "len(predicted)"
   ]
  },
  {
   "cell_type": "code",
   "execution_count": 56,
   "metadata": {
    "execution": {
     "iopub.execute_input": "2021-06-26T09:25:01.606238Z",
     "iopub.status.busy": "2021-06-26T09:25:01.605868Z",
     "iopub.status.idle": "2021-06-26T09:25:01.616195Z",
     "shell.execute_reply": "2021-06-26T09:25:01.614801Z",
     "shell.execute_reply.started": "2021-06-26T09:25:01.606177Z"
    }
   },
   "outputs": [
    {
     "data": {
      "text/plain": [
       "array([3. , 4. , 4.5, ..., 3. , 4.5, 4.5])"
      ]
     },
     "execution_count": 56,
     "metadata": {},
     "output_type": "execute_result"
    }
   ],
   "source": [
    "a = predicted/0.5\n",
    "a = a.round()\n",
    "predicted = a*0.5\n",
    "predicted"
   ]
  },
  {
   "cell_type": "code",
   "execution_count": 57,
   "metadata": {
    "execution": {
     "iopub.execute_input": "2021-06-26T09:25:09.014171Z",
     "iopub.status.busy": "2021-06-26T09:25:09.013875Z",
     "iopub.status.idle": "2021-06-26T09:25:09.062685Z",
     "shell.execute_reply": "2021-06-26T09:25:09.061812Z",
     "shell.execute_reply.started": "2021-06-26T09:25:09.014134Z"
    }
   },
   "outputs": [
    {
     "data": {
      "text/html": [
       "<div>\n",
       "<style scoped>\n",
       "    .dataframe tbody tr th:only-of-type {\n",
       "        vertical-align: middle;\n",
       "    }\n",
       "\n",
       "    .dataframe tbody tr th {\n",
       "        vertical-align: top;\n",
       "    }\n",
       "\n",
       "    .dataframe thead th {\n",
       "        text-align: right;\n",
       "    }\n",
       "</style>\n",
       "<table border=\"1\" class=\"dataframe\">\n",
       "  <thead>\n",
       "    <tr style=\"text-align: right;\">\n",
       "      <th></th>\n",
       "      <th>Restaurant_id</th>\n",
       "      <th>Rating</th>\n",
       "    </tr>\n",
       "  </thead>\n",
       "  <tbody>\n",
       "    <tr>\n",
       "      <th>0</th>\n",
       "      <td>id_0</td>\n",
       "      <td>3.0</td>\n",
       "    </tr>\n",
       "    <tr>\n",
       "      <th>1</th>\n",
       "      <td>id_1</td>\n",
       "      <td>4.0</td>\n",
       "    </tr>\n",
       "    <tr>\n",
       "      <th>2</th>\n",
       "      <td>id_2</td>\n",
       "      <td>4.5</td>\n",
       "    </tr>\n",
       "    <tr>\n",
       "      <th>3</th>\n",
       "      <td>id_3</td>\n",
       "      <td>5.0</td>\n",
       "    </tr>\n",
       "    <tr>\n",
       "      <th>4</th>\n",
       "      <td>id_4</td>\n",
       "      <td>5.0</td>\n",
       "    </tr>\n",
       "    <tr>\n",
       "      <th>5</th>\n",
       "      <td>id_5</td>\n",
       "      <td>4.5</td>\n",
       "    </tr>\n",
       "    <tr>\n",
       "      <th>6</th>\n",
       "      <td>id_6</td>\n",
       "      <td>2.0</td>\n",
       "    </tr>\n",
       "    <tr>\n",
       "      <th>7</th>\n",
       "      <td>id_7</td>\n",
       "      <td>3.0</td>\n",
       "    </tr>\n",
       "    <tr>\n",
       "      <th>8</th>\n",
       "      <td>id_8</td>\n",
       "      <td>4.0</td>\n",
       "    </tr>\n",
       "    <tr>\n",
       "      <th>9</th>\n",
       "      <td>id_9</td>\n",
       "      <td>4.5</td>\n",
       "    </tr>\n",
       "  </tbody>\n",
       "</table>\n",
       "</div>"
      ],
      "text/plain": [
       "  Restaurant_id  Rating\n",
       "0          id_0     3.0\n",
       "1          id_1     4.0\n",
       "2          id_2     4.5\n",
       "3          id_3     5.0\n",
       "4          id_4     5.0\n",
       "5          id_5     4.5\n",
       "6          id_6     2.0\n",
       "7          id_7     3.0\n",
       "8          id_8     4.0\n",
       "9          id_9     4.5"
      ]
     },
     "execution_count": 57,
     "metadata": {},
     "output_type": "execute_result"
    }
   ],
   "source": [
    "sample_submission['Rating'] = predicted\n",
    "sample_submission.to_csv('submission.csv', index=False)\n",
    "sample_submission.head(10)"
   ]
  },
  {
   "cell_type": "markdown",
   "metadata": {},
   "source": [
    "# What's next?\n",
    "Или что делать, чтоб улучшить результат:\n",
    "* Обработать оставшиеся признаки в понятный для машины формат\n",
    "* Посмотреть, что еще можно извлечь из признаков\n",
    "* Сгенерировать новые признаки\n",
    "* Подгрузить дополнительные данные, например: по населению или благосостоянию городов\n",
    "* Подобрать состав признаков\n",
    "\n",
    "В общем, процесс творческий и весьма увлекательный! Удачи в соревновании!\n"
   ]
  },
  {
   "cell_type": "code",
   "execution_count": null,
   "metadata": {},
   "outputs": [],
   "source": []
  }
 ],
 "metadata": {
  "kernelspec": {
   "display_name": "Python 3",
   "language": "python",
   "name": "python3"
  },
  "language_info": {
   "codemirror_mode": {
    "name": "ipython",
    "version": 3
   },
   "file_extension": ".py",
   "mimetype": "text/x-python",
   "name": "python",
   "nbconvert_exporter": "python",
   "pygments_lexer": "ipython3",
   "version": "3.6.6"
  }
 },
 "nbformat": 4,
 "nbformat_minor": 4
}
