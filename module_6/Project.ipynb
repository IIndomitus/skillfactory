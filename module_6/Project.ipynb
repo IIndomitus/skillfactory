{
 "cells": [
  {
   "cell_type": "code",
   "execution_count": 1,
   "metadata": {},
   "outputs": [],
   "source": [
    "import pandas as pd\n",
    "import numpy as np\n",
    "import time\n",
    "\n",
    "import datetime\n",
    "import re\n",
    "\n",
    "import seaborn as sns\n",
    "import matplotlib.pyplot as plt\n",
    "\n",
    "from sklearn.model_selection import train_test_split, KFold, RandomizedSearchCV, cross_val_score\n",
    "\n",
    "import xgboost as xgb\n",
    "from catboost import CatBoostRegressor\n",
    "from sklearn.linear_model import LinearRegression\n",
    "from sklearn.ensemble import RandomForestRegressor, ExtraTreesRegressor, BaggingRegressor,  StackingRegressor\n",
    "#from lazypredict.Supervised import LazyRegressor\n",
    "\n",
    "from sklearn.preprocessing import RobustScaler\n",
    "\n",
    "from sklearn.model_selection import GridSearchCV\n",
    "from sklearn.model_selection import RandomizedSearchCV\n",
    "\n",
    "from sklearn.metrics import mean_absolute_error"
   ]
  },
  {
   "cell_type": "markdown",
   "metadata": {},
   "source": [
    "## Осмотр данных"
   ]
  },
  {
   "cell_type": "code",
   "execution_count": 3,
   "metadata": {},
   "outputs": [
    {
     "data": {
      "text/html": [
       "<div>\n",
       "<style scoped>\n",
       "    .dataframe tbody tr th:only-of-type {\n",
       "        vertical-align: middle;\n",
       "    }\n",
       "\n",
       "    .dataframe tbody tr th {\n",
       "        vertical-align: top;\n",
       "    }\n",
       "\n",
       "    .dataframe thead th {\n",
       "        text-align: right;\n",
       "    }\n",
       "</style>\n",
       "<table border=\"1\" class=\"dataframe\">\n",
       "  <thead>\n",
       "    <tr style=\"text-align: right;\">\n",
       "      <th></th>\n",
       "      <th>bodyType</th>\n",
       "      <th>brand</th>\n",
       "      <th>color</th>\n",
       "      <th>description</th>\n",
       "      <th>engineDisplacement</th>\n",
       "      <th>enginePower</th>\n",
       "      <th>equipment_dict</th>\n",
       "      <th>fuelType</th>\n",
       "      <th>mileage</th>\n",
       "      <th>modelDate</th>\n",
       "      <th>...</th>\n",
       "      <th>vehicleConfiguration</th>\n",
       "      <th>vehicleTransmission</th>\n",
       "      <th>vendor</th>\n",
       "      <th>Владельцы</th>\n",
       "      <th>Владение</th>\n",
       "      <th>ПТС</th>\n",
       "      <th>Привод</th>\n",
       "      <th>Руль</th>\n",
       "      <th>Состояние</th>\n",
       "      <th>Таможня</th>\n",
       "    </tr>\n",
       "  </thead>\n",
       "  <tbody>\n",
       "    <tr>\n",
       "      <th>0</th>\n",
       "      <td>WAGON_5_DOORS</td>\n",
       "      <td>VAZ</td>\n",
       "      <td>007F00</td>\n",
       "      <td>Авто приобреталось для работы , ездил каждый д...</td>\n",
       "      <td>1596.0</td>\n",
       "      <td>98.0</td>\n",
       "      <td>{}</td>\n",
       "      <td>GASOLINE</td>\n",
       "      <td>189000</td>\n",
       "      <td>2007.0</td>\n",
       "      <td>...</td>\n",
       "      <td>WAGON_5_DOORS</td>\n",
       "      <td>MECHANICAL</td>\n",
       "      <td>RUSSIAN</td>\n",
       "      <td>4.0</td>\n",
       "      <td>2009</td>\n",
       "      <td>ORIGINAL</td>\n",
       "      <td>FORWARD_CONTROL</td>\n",
       "      <td>LEFT</td>\n",
       "      <td>NaN</td>\n",
       "      <td>True</td>\n",
       "    </tr>\n",
       "    <tr>\n",
       "      <th>1</th>\n",
       "      <td>LIFTBACK</td>\n",
       "      <td>VAZ</td>\n",
       "      <td>FAFBFB</td>\n",
       "      <td>Один владелец!!! Оригинал ПТС!!! Усилитель рул...</td>\n",
       "      <td>1596.0</td>\n",
       "      <td>87.0</td>\n",
       "      <td>{'steel-wheels': True, 'condition': True, 'abs...</td>\n",
       "      <td>GASOLINE</td>\n",
       "      <td>72000</td>\n",
       "      <td>2011.0</td>\n",
       "      <td>...</td>\n",
       "      <td>LIFTBACK</td>\n",
       "      <td>MECHANICAL</td>\n",
       "      <td>RUSSIAN</td>\n",
       "      <td>1.0</td>\n",
       "      <td>2017</td>\n",
       "      <td>ORIGINAL</td>\n",
       "      <td>FORWARD_CONTROL</td>\n",
       "      <td>LEFT</td>\n",
       "      <td>NaN</td>\n",
       "      <td>True</td>\n",
       "    </tr>\n",
       "    <tr>\n",
       "      <th>2</th>\n",
       "      <td>SEDAN</td>\n",
       "      <td>VAZ</td>\n",
       "      <td>FAFBFB</td>\n",
       "      <td>Сделка проходит под полным контролем сотрудник...</td>\n",
       "      <td>1596.0</td>\n",
       "      <td>106.0</td>\n",
       "      <td>{'glonass': True, 'tinted-glass': True, 'steel...</td>\n",
       "      <td>GASOLINE</td>\n",
       "      <td>42000</td>\n",
       "      <td>2018.0</td>\n",
       "      <td>...</td>\n",
       "      <td>SEDAN</td>\n",
       "      <td>ROBOT</td>\n",
       "      <td>RUSSIAN</td>\n",
       "      <td>1.0</td>\n",
       "      <td>2018</td>\n",
       "      <td>ORIGINAL</td>\n",
       "      <td>FORWARD_CONTROL</td>\n",
       "      <td>LEFT</td>\n",
       "      <td>NaN</td>\n",
       "      <td>True</td>\n",
       "    </tr>\n",
       "    <tr>\n",
       "      <th>3</th>\n",
       "      <td>ALLROAD_3_DOORS</td>\n",
       "      <td>VAZ</td>\n",
       "      <td>007F00</td>\n",
       "      <td>Машина с организации, продажа за наличку. Авто...</td>\n",
       "      <td>1900.0</td>\n",
       "      <td>75.0</td>\n",
       "      <td>{}</td>\n",
       "      <td>DIESEL</td>\n",
       "      <td>117000</td>\n",
       "      <td>1993.0</td>\n",
       "      <td>...</td>\n",
       "      <td>ALLROAD_3_DOORS</td>\n",
       "      <td>MECHANICAL</td>\n",
       "      <td>RUSSIAN</td>\n",
       "      <td>3.0</td>\n",
       "      <td>2009</td>\n",
       "      <td>DUPLICATE</td>\n",
       "      <td>ALL_WHEEL_DRIVE</td>\n",
       "      <td>LEFT</td>\n",
       "      <td>NaN</td>\n",
       "      <td>True</td>\n",
       "    </tr>\n",
       "    <tr>\n",
       "      <th>4</th>\n",
       "      <td>SEDAN</td>\n",
       "      <td>VAZ</td>\n",
       "      <td>0000CC</td>\n",
       "      <td>ЛАДА–ЦЕНТР — Дилер № 1 в Санкт-Петербурге!\\r\\n...</td>\n",
       "      <td>1596.0</td>\n",
       "      <td>106.0</td>\n",
       "      <td>{'glonass': True, 'asr': True, 'tinted-glass':...</td>\n",
       "      <td>GASOLINE</td>\n",
       "      <td>0</td>\n",
       "      <td>2015.0</td>\n",
       "      <td>...</td>\n",
       "      <td>SEDAN</td>\n",
       "      <td>ROBOT</td>\n",
       "      <td>RUSSIAN</td>\n",
       "      <td>NaN</td>\n",
       "      <td>2021</td>\n",
       "      <td>ORIGINAL</td>\n",
       "      <td>FORWARD_CONTROL</td>\n",
       "      <td>LEFT</td>\n",
       "      <td>NaN</td>\n",
       "      <td>True</td>\n",
       "    </tr>\n",
       "  </tbody>\n",
       "</table>\n",
       "<p>5 rows × 26 columns</p>\n",
       "</div>"
      ],
      "text/plain": [
       "          bodyType brand   color  \\\n",
       "0    WAGON_5_DOORS   VAZ  007F00   \n",
       "1         LIFTBACK   VAZ  FAFBFB   \n",
       "2            SEDAN   VAZ  FAFBFB   \n",
       "3  ALLROAD_3_DOORS   VAZ  007F00   \n",
       "4            SEDAN   VAZ  0000CC   \n",
       "\n",
       "                                         description  engineDisplacement  \\\n",
       "0  Авто приобреталось для работы , ездил каждый д...              1596.0   \n",
       "1  Один владелец!!! Оригинал ПТС!!! Усилитель рул...              1596.0   \n",
       "2  Сделка проходит под полным контролем сотрудник...              1596.0   \n",
       "3  Машина с организации, продажа за наличку. Авто...              1900.0   \n",
       "4  ЛАДА–ЦЕНТР — Дилер № 1 в Санкт-Петербурге!\\r\\n...              1596.0   \n",
       "\n",
       "   enginePower                                     equipment_dict  fuelType  \\\n",
       "0         98.0                                                 {}  GASOLINE   \n",
       "1         87.0  {'steel-wheels': True, 'condition': True, 'abs...  GASOLINE   \n",
       "2        106.0  {'glonass': True, 'tinted-glass': True, 'steel...  GASOLINE   \n",
       "3         75.0                                                 {}    DIESEL   \n",
       "4        106.0  {'glonass': True, 'asr': True, 'tinted-glass':...  GASOLINE   \n",
       "\n",
       "   mileage  modelDate  ... vehicleConfiguration vehicleTransmission   vendor  \\\n",
       "0   189000     2007.0  ...        WAGON_5_DOORS          MECHANICAL  RUSSIAN   \n",
       "1    72000     2011.0  ...             LIFTBACK          MECHANICAL  RUSSIAN   \n",
       "2    42000     2018.0  ...                SEDAN               ROBOT  RUSSIAN   \n",
       "3   117000     1993.0  ...      ALLROAD_3_DOORS          MECHANICAL  RUSSIAN   \n",
       "4        0     2015.0  ...                SEDAN               ROBOT  RUSSIAN   \n",
       "\n",
       "   Владельцы  Владение        ПТС           Привод  Руль Состояние  Таможня  \n",
       "0        4.0      2009   ORIGINAL  FORWARD_CONTROL  LEFT       NaN     True  \n",
       "1        1.0      2017   ORIGINAL  FORWARD_CONTROL  LEFT       NaN     True  \n",
       "2        1.0      2018   ORIGINAL  FORWARD_CONTROL  LEFT       NaN     True  \n",
       "3        3.0      2009  DUPLICATE  ALL_WHEEL_DRIVE  LEFT       NaN     True  \n",
       "4        NaN      2021   ORIGINAL  FORWARD_CONTROL  LEFT       NaN     True  \n",
       "\n",
       "[5 rows x 26 columns]"
      ]
     },
     "execution_count": 3,
     "metadata": {},
     "output_type": "execute_result"
    }
   ],
   "source": [
    "train = pd.read_csv('new_train.csv', low_memory=False, encoding='utf-8')\n",
    "train.head()"
   ]
  },
  {
   "cell_type": "code",
   "execution_count": 4,
   "metadata": {},
   "outputs": [
    {
     "data": {
      "text/plain": [
       "(187955, 26)"
      ]
     },
     "execution_count": 4,
     "metadata": {},
     "output_type": "execute_result"
    }
   ],
   "source": [
    "train.replace(to_replace=['None'], value=np.nan, inplace=True)\n",
    "train.drop_duplicates(inplace=True)\n",
    "train.shape"
   ]
  },
  {
   "cell_type": "code",
   "execution_count": 5,
   "metadata": {},
   "outputs": [
    {
     "name": "stdout",
     "output_type": "stream",
     "text": [
      "<class 'pandas.core.frame.DataFrame'>\n",
      "Int64Index: 187955 entries, 0 to 187954\n",
      "Data columns (total 26 columns):\n",
      " #   Column                Non-Null Count   Dtype  \n",
      "---  ------                --------------   -----  \n",
      " 0   bodyType              187954 non-null  object \n",
      " 1   brand                 187955 non-null  object \n",
      " 2   color                 187955 non-null  object \n",
      " 3   description           183181 non-null  object \n",
      " 4   engineDisplacement    187953 non-null  float64\n",
      " 5   enginePower           187953 non-null  float64\n",
      " 6   equipment_dict        187955 non-null  object \n",
      " 7   fuelType              187953 non-null  object \n",
      " 8   mileage               187955 non-null  int64  \n",
      " 9   modelDate             187954 non-null  float64\n",
      " 10  model_info            187955 non-null  object \n",
      " 11  model_name            187955 non-null  object \n",
      " 12  name                  186106 non-null  object \n",
      " 13  numberOfDoors         187954 non-null  float64\n",
      " 14  price                 186601 non-null  float64\n",
      " 15  productionDate        187955 non-null  int64  \n",
      " 16  vehicleConfiguration  187954 non-null  object \n",
      " 17  vehicleTransmission   187953 non-null  object \n",
      " 18  vendor                187955 non-null  object \n",
      " 19  Владельцы             145565 non-null  float64\n",
      " 20  Владение              187955 non-null  int64  \n",
      " 21  ПТС                   185446 non-null  object \n",
      " 22  Привод                187953 non-null  object \n",
      " 23  Руль                  187955 non-null  object \n",
      " 24  Состояние             0 non-null       float64\n",
      " 25  Таможня               187955 non-null  bool   \n",
      "dtypes: bool(1), float64(7), int64(3), object(15)\n",
      "memory usage: 37.5+ MB\n"
     ]
    }
   ],
   "source": [
    "train.info()"
   ]
  },
  {
   "cell_type": "code",
   "execution_count": 6,
   "metadata": {},
   "outputs": [
    {
     "data": {
      "text/html": [
       "<div>\n",
       "<style scoped>\n",
       "    .dataframe tbody tr th:only-of-type {\n",
       "        vertical-align: middle;\n",
       "    }\n",
       "\n",
       "    .dataframe tbody tr th {\n",
       "        vertical-align: top;\n",
       "    }\n",
       "\n",
       "    .dataframe thead th {\n",
       "        text-align: right;\n",
       "    }\n",
       "</style>\n",
       "<table border=\"1\" class=\"dataframe\">\n",
       "  <thead>\n",
       "    <tr style=\"text-align: right;\">\n",
       "      <th></th>\n",
       "      <th>bodyType</th>\n",
       "      <th>brand</th>\n",
       "      <th>car_url</th>\n",
       "      <th>color</th>\n",
       "      <th>complectation_dict</th>\n",
       "      <th>description</th>\n",
       "      <th>engineDisplacement</th>\n",
       "      <th>enginePower</th>\n",
       "      <th>equipment_dict</th>\n",
       "      <th>fuelType</th>\n",
       "      <th>...</th>\n",
       "      <th>vehicleConfiguration</th>\n",
       "      <th>vehicleTransmission</th>\n",
       "      <th>vendor</th>\n",
       "      <th>Владельцы</th>\n",
       "      <th>Владение</th>\n",
       "      <th>ПТС</th>\n",
       "      <th>Привод</th>\n",
       "      <th>Руль</th>\n",
       "      <th>Состояние</th>\n",
       "      <th>Таможня</th>\n",
       "    </tr>\n",
       "  </thead>\n",
       "  <tbody>\n",
       "    <tr>\n",
       "      <th>0</th>\n",
       "      <td>лифтбек</td>\n",
       "      <td>SKODA</td>\n",
       "      <td>https://auto.ru/cars/used/sale/skoda/octavia/1...</td>\n",
       "      <td>синий</td>\n",
       "      <td>NaN</td>\n",
       "      <td>Все автомобили, представленные в продаже, прох...</td>\n",
       "      <td>1.2 LTR</td>\n",
       "      <td>105 N12</td>\n",
       "      <td>{\"engine-proof\":true,\"tinted-glass\":true,\"airb...</td>\n",
       "      <td>бензин</td>\n",
       "      <td>...</td>\n",
       "      <td>LIFTBACK ROBOT 1.2</td>\n",
       "      <td>роботизированная</td>\n",
       "      <td>EUROPEAN</td>\n",
       "      <td>3 или более</td>\n",
       "      <td>NaN</td>\n",
       "      <td>Оригинал</td>\n",
       "      <td>передний</td>\n",
       "      <td>Левый</td>\n",
       "      <td>Не требует ремонта</td>\n",
       "      <td>Растаможен</td>\n",
       "    </tr>\n",
       "    <tr>\n",
       "      <th>1</th>\n",
       "      <td>лифтбек</td>\n",
       "      <td>SKODA</td>\n",
       "      <td>https://auto.ru/cars/used/sale/skoda/octavia/1...</td>\n",
       "      <td>чёрный</td>\n",
       "      <td>NaN</td>\n",
       "      <td>ЛОТ: 01217195\\nАвтопрага Север\\nДанный автомоб...</td>\n",
       "      <td>1.6 LTR</td>\n",
       "      <td>110 N12</td>\n",
       "      <td>{\"cruise-control\":true,\"asr\":true,\"esp\":true,\"...</td>\n",
       "      <td>бензин</td>\n",
       "      <td>...</td>\n",
       "      <td>LIFTBACK MECHANICAL 1.6</td>\n",
       "      <td>механическая</td>\n",
       "      <td>EUROPEAN</td>\n",
       "      <td>1 владелец</td>\n",
       "      <td>NaN</td>\n",
       "      <td>Оригинал</td>\n",
       "      <td>передний</td>\n",
       "      <td>Левый</td>\n",
       "      <td>Не требует ремонта</td>\n",
       "      <td>Растаможен</td>\n",
       "    </tr>\n",
       "    <tr>\n",
       "      <th>2</th>\n",
       "      <td>лифтбек</td>\n",
       "      <td>SKODA</td>\n",
       "      <td>https://auto.ru/cars/used/sale/skoda/superb/11...</td>\n",
       "      <td>серый</td>\n",
       "      <td>{\"id\":\"20026336\",\"name\":\"Ambition\",\"available_...</td>\n",
       "      <td>Все автомобили, представленные в продаже, прох...</td>\n",
       "      <td>1.8 LTR</td>\n",
       "      <td>152 N12</td>\n",
       "      <td>{\"cruise-control\":true,\"tinted-glass\":true,\"es...</td>\n",
       "      <td>бензин</td>\n",
       "      <td>...</td>\n",
       "      <td>LIFTBACK ROBOT 1.8</td>\n",
       "      <td>роботизированная</td>\n",
       "      <td>EUROPEAN</td>\n",
       "      <td>1 владелец</td>\n",
       "      <td>NaN</td>\n",
       "      <td>Оригинал</td>\n",
       "      <td>передний</td>\n",
       "      <td>Левый</td>\n",
       "      <td>Не требует ремонта</td>\n",
       "      <td>Растаможен</td>\n",
       "    </tr>\n",
       "    <tr>\n",
       "      <th>3</th>\n",
       "      <td>лифтбек</td>\n",
       "      <td>SKODA</td>\n",
       "      <td>https://auto.ru/cars/used/sale/skoda/octavia/1...</td>\n",
       "      <td>коричневый</td>\n",
       "      <td>{\"id\":\"20803582\",\"name\":\"Ambition\",\"available_...</td>\n",
       "      <td>КОМПЛЕКТ ЗИМНЕЙ (ЛЕТНЕЙ) РЕЗИНЫ ПО СЕЗОНУ В ПО...</td>\n",
       "      <td>1.6 LTR</td>\n",
       "      <td>110 N12</td>\n",
       "      <td>{\"cruise-control\":true,\"roller-blind-for-rear-...</td>\n",
       "      <td>бензин</td>\n",
       "      <td>...</td>\n",
       "      <td>LIFTBACK AUTOMATIC 1.6</td>\n",
       "      <td>автоматическая</td>\n",
       "      <td>EUROPEAN</td>\n",
       "      <td>1 владелец</td>\n",
       "      <td>NaN</td>\n",
       "      <td>Оригинал</td>\n",
       "      <td>передний</td>\n",
       "      <td>Левый</td>\n",
       "      <td>Не требует ремонта</td>\n",
       "      <td>Растаможен</td>\n",
       "    </tr>\n",
       "    <tr>\n",
       "      <th>4</th>\n",
       "      <td>лифтбек</td>\n",
       "      <td>SKODA</td>\n",
       "      <td>https://auto.ru/cars/used/sale/skoda/octavia/1...</td>\n",
       "      <td>белый</td>\n",
       "      <td>NaN</td>\n",
       "      <td>ЛОТ: 01220889\\nАвтопрага Север\\n\\nВы можете по...</td>\n",
       "      <td>1.8 LTR</td>\n",
       "      <td>152 N12</td>\n",
       "      <td>{\"cruise-control\":true,\"asr\":true,\"esp\":true,\"...</td>\n",
       "      <td>бензин</td>\n",
       "      <td>...</td>\n",
       "      <td>LIFTBACK AUTOMATIC 1.8</td>\n",
       "      <td>автоматическая</td>\n",
       "      <td>EUROPEAN</td>\n",
       "      <td>1 владелец</td>\n",
       "      <td>NaN</td>\n",
       "      <td>Оригинал</td>\n",
       "      <td>передний</td>\n",
       "      <td>Левый</td>\n",
       "      <td>Не требует ремонта</td>\n",
       "      <td>Растаможен</td>\n",
       "    </tr>\n",
       "  </tbody>\n",
       "</table>\n",
       "<p>5 rows × 32 columns</p>\n",
       "</div>"
      ],
      "text/plain": [
       "  bodyType  brand                                            car_url  \\\n",
       "0  лифтбек  SKODA  https://auto.ru/cars/used/sale/skoda/octavia/1...   \n",
       "1  лифтбек  SKODA  https://auto.ru/cars/used/sale/skoda/octavia/1...   \n",
       "2  лифтбек  SKODA  https://auto.ru/cars/used/sale/skoda/superb/11...   \n",
       "3  лифтбек  SKODA  https://auto.ru/cars/used/sale/skoda/octavia/1...   \n",
       "4  лифтбек  SKODA  https://auto.ru/cars/used/sale/skoda/octavia/1...   \n",
       "\n",
       "        color                                 complectation_dict  \\\n",
       "0       синий                                                NaN   \n",
       "1      чёрный                                                NaN   \n",
       "2       серый  {\"id\":\"20026336\",\"name\":\"Ambition\",\"available_...   \n",
       "3  коричневый  {\"id\":\"20803582\",\"name\":\"Ambition\",\"available_...   \n",
       "4       белый                                                NaN   \n",
       "\n",
       "                                         description engineDisplacement  \\\n",
       "0  Все автомобили, представленные в продаже, прох...            1.2 LTR   \n",
       "1  ЛОТ: 01217195\\nАвтопрага Север\\nДанный автомоб...            1.6 LTR   \n",
       "2  Все автомобили, представленные в продаже, прох...            1.8 LTR   \n",
       "3  КОМПЛЕКТ ЗИМНЕЙ (ЛЕТНЕЙ) РЕЗИНЫ ПО СЕЗОНУ В ПО...            1.6 LTR   \n",
       "4  ЛОТ: 01220889\\nАвтопрага Север\\n\\nВы можете по...            1.8 LTR   \n",
       "\n",
       "  enginePower                                     equipment_dict fuelType  \\\n",
       "0     105 N12  {\"engine-proof\":true,\"tinted-glass\":true,\"airb...   бензин   \n",
       "1     110 N12  {\"cruise-control\":true,\"asr\":true,\"esp\":true,\"...   бензин   \n",
       "2     152 N12  {\"cruise-control\":true,\"tinted-glass\":true,\"es...   бензин   \n",
       "3     110 N12  {\"cruise-control\":true,\"roller-blind-for-rear-...   бензин   \n",
       "4     152 N12  {\"cruise-control\":true,\"asr\":true,\"esp\":true,\"...   бензин   \n",
       "\n",
       "   ...     vehicleConfiguration  vehicleTransmission    vendor    Владельцы  \\\n",
       "0  ...       LIFTBACK ROBOT 1.2     роботизированная  EUROPEAN  3 или более   \n",
       "1  ...  LIFTBACK MECHANICAL 1.6         механическая  EUROPEAN   1 владелец   \n",
       "2  ...       LIFTBACK ROBOT 1.8     роботизированная  EUROPEAN   1 владелец   \n",
       "3  ...   LIFTBACK AUTOMATIC 1.6       автоматическая  EUROPEAN   1 владелец   \n",
       "4  ...   LIFTBACK AUTOMATIC 1.8       автоматическая  EUROPEAN   1 владелец   \n",
       "\n",
       "  Владение       ПТС    Привод   Руль           Состояние     Таможня  \n",
       "0      NaN  Оригинал  передний  Левый  Не требует ремонта  Растаможен  \n",
       "1      NaN  Оригинал  передний  Левый  Не требует ремонта  Растаможен  \n",
       "2      NaN  Оригинал  передний  Левый  Не требует ремонта  Растаможен  \n",
       "3      NaN  Оригинал  передний  Левый  Не требует ремонта  Растаможен  \n",
       "4      NaN  Оригинал  передний  Левый  Не требует ремонта  Растаможен  \n",
       "\n",
       "[5 rows x 32 columns]"
      ]
     },
     "execution_count": 6,
     "metadata": {},
     "output_type": "execute_result"
    }
   ],
   "source": [
    "test= pd.read_csv('test.csv', low_memory=False, encoding='utf-8')\n",
    "test.head()"
   ]
  },
  {
   "cell_type": "code",
   "execution_count": 7,
   "metadata": {},
   "outputs": [
    {
     "name": "stdout",
     "output_type": "stream",
     "text": [
      "<class 'pandas.core.frame.DataFrame'>\n",
      "RangeIndex: 34686 entries, 0 to 34685\n",
      "Data columns (total 32 columns):\n",
      " #   Column                Non-Null Count  Dtype \n",
      "---  ------                --------------  ----- \n",
      " 0   bodyType              34686 non-null  object\n",
      " 1   brand                 34686 non-null  object\n",
      " 2   car_url               34686 non-null  object\n",
      " 3   color                 34686 non-null  object\n",
      " 4   complectation_dict    6418 non-null   object\n",
      " 5   description           34686 non-null  object\n",
      " 6   engineDisplacement    34686 non-null  object\n",
      " 7   enginePower           34686 non-null  object\n",
      " 8   equipment_dict        24690 non-null  object\n",
      " 9   fuelType              34686 non-null  object\n",
      " 10  image                 34686 non-null  object\n",
      " 11  mileage               34686 non-null  int64 \n",
      " 12  modelDate             34686 non-null  int64 \n",
      " 13  model_info            34686 non-null  object\n",
      " 14  model_name            34686 non-null  object\n",
      " 15  name                  34686 non-null  object\n",
      " 16  numberOfDoors         34686 non-null  int64 \n",
      " 17  parsing_unixtime      34686 non-null  int64 \n",
      " 18  priceCurrency         34686 non-null  object\n",
      " 19  productionDate        34686 non-null  int64 \n",
      " 20  sell_id               34686 non-null  int64 \n",
      " 21  super_gen             34686 non-null  object\n",
      " 22  vehicleConfiguration  34686 non-null  object\n",
      " 23  vehicleTransmission   34686 non-null  object\n",
      " 24  vendor                34686 non-null  object\n",
      " 25  Владельцы             34686 non-null  object\n",
      " 26  Владение              11995 non-null  object\n",
      " 27  ПТС                   34685 non-null  object\n",
      " 28  Привод                34686 non-null  object\n",
      " 29  Руль                  34686 non-null  object\n",
      " 30  Состояние             34686 non-null  object\n",
      " 31  Таможня               34686 non-null  object\n",
      "dtypes: int64(6), object(26)\n",
      "memory usage: 8.5+ MB\n"
     ]
    }
   ],
   "source": [
    "test.info()"
   ]
  },
  {
   "cell_type": "code",
   "execution_count": 8,
   "metadata": {},
   "outputs": [],
   "source": [
    "cols_to_remove = []"
   ]
  },
  {
   "cell_type": "code",
   "execution_count": 9,
   "metadata": {},
   "outputs": [
    {
     "data": {
      "text/plain": [
       "{'car_url',\n",
       " 'complectation_dict',\n",
       " 'image',\n",
       " 'parsing_unixtime',\n",
       " 'priceCurrency',\n",
       " 'sell_id',\n",
       " 'super_gen'}"
      ]
     },
     "execution_count": 9,
     "metadata": {},
     "output_type": "execute_result"
    }
   ],
   "source": [
    "set(test.columns).difference(train.columns)"
   ]
  },
  {
   "cell_type": "markdown",
   "metadata": {},
   "source": [
    "# Предварительная обработка данных и EDA"
   ]
  },
  {
   "cell_type": "markdown",
   "metadata": {},
   "source": [
    "## vendor"
   ]
  },
  {
   "cell_type": "code",
   "execution_count": 10,
   "metadata": {},
   "outputs": [
    {
     "data": {
      "text/plain": [
       "array(['RUSSIAN', 'EUROPEAN', 'CHINESE', 'AMERICAN', 'KOREAN', 'JAPANESE'],\n",
       "      dtype=object)"
      ]
     },
     "execution_count": 10,
     "metadata": {},
     "output_type": "execute_result"
    }
   ],
   "source": [
    "train.vendor.unique()"
   ]
  },
  {
   "cell_type": "code",
   "execution_count": 11,
   "metadata": {},
   "outputs": [
    {
     "data": {
      "text/plain": [
       "array(['EUROPEAN', 'JAPANESE'], dtype=object)"
      ]
     },
     "execution_count": 11,
     "metadata": {},
     "output_type": "execute_result"
    }
   ],
   "source": [
    "test.vendor.unique()"
   ]
  },
  {
   "cell_type": "code",
   "execution_count": 12,
   "metadata": {},
   "outputs": [
    {
     "name": "stdout",
     "output_type": "stream",
     "text": [
      "{'AUDI': 'EUROPEAN', 'BMW': 'EUROPEAN', 'MERCEDES': 'EUROPEAN', 'SKODA': 'EUROPEAN', 'VOLKSWAGEN': 'EUROPEAN', 'VOLVO': 'EUROPEAN', 'HONDA': 'JAPANESE', 'INFINITI': 'JAPANESE', 'LEXUS': 'JAPANESE', 'MITSUBISHI': 'JAPANESE', 'NISSAN': 'JAPANESE', 'TOYOTA': 'JAPANESE'}\n"
     ]
    },
    {
     "data": {
      "text/plain": [
       "array([nan, 'EUROPEAN', 'JAPANESE'], dtype=object)"
      ]
     },
     "execution_count": 12,
     "metadata": {},
     "output_type": "execute_result"
    }
   ],
   "source": [
    "vendor_dict = {k: v for v, k in test.groupby(\n",
    "    ['vendor', 'brand']).name.count().index}\n",
    "print(vendor_dict)\n",
    "train['vendor'] = train.brand.map(vendor_dict)\n",
    "train.vendor.unique()"
   ]
  },
  {
   "cell_type": "markdown",
   "metadata": {},
   "source": [
    "## model_info"
   ]
  },
  {
   "cell_type": "code",
   "execution_count": 13,
   "metadata": {},
   "outputs": [
    {
     "data": {
      "text/plain": [
       "'{\"code\":\"OCTAVIA\",\"name\":\"Octavia\",\"ru_name\":\"Октавия\",\"morphology\":{\"gender\":\"FEMININE\"},\"nameplate\":{\"code\":\"\",\"name\":\"\",\"semantic_url\":\"\"}}'"
      ]
     },
     "execution_count": 13,
     "metadata": {},
     "output_type": "execute_result"
    }
   ],
   "source": [
    "test.model_info[0]"
   ]
  },
  {
   "cell_type": "code",
   "execution_count": 14,
   "metadata": {},
   "outputs": [
    {
     "data": {
      "text/plain": [
       "\"{'code': '2170', 'name': 'Priora', 'ru_name': 'Приора'}\""
      ]
     },
     "execution_count": 14,
     "metadata": {},
     "output_type": "execute_result"
    }
   ],
   "source": [
    "train.model_info[0]"
   ]
  },
  {
   "cell_type": "code",
   "execution_count": 15,
   "metadata": {},
   "outputs": [],
   "source": [
    "test.drop(labels='model_info', axis=1, inplace=True)\n",
    "train.drop(labels='model_info', axis=1, inplace=True)"
   ]
  },
  {
   "cell_type": "markdown",
   "metadata": {},
   "source": [
    "## brands"
   ]
  },
  {
   "cell_type": "code",
   "execution_count": 16,
   "metadata": {},
   "outputs": [
    {
     "data": {
      "text/plain": [
       "array(['VAZ', 'AUDI', 'BMW', 'CHERY', 'CHEVROLET', 'CITROEN', 'DAEWOO',\n",
       "       'FORD', 'GEELY', 'HONDA', 'HYUNDAI', 'INFINITI', 'KIA',\n",
       "       'LAND_ROVER', 'LEXUS', 'MAZDA', 'MERCEDES', 'MITSUBISHI', 'NISSAN',\n",
       "       'OPEL', 'PEUGEOT', 'PORSCHE', 'RENAULT', 'SUBARU', 'SUZUKI',\n",
       "       'TOYOTA', 'VOLKSWAGEN', 'VOLVO', 'GAZ', 'SKODA'], dtype=object)"
      ]
     },
     "execution_count": 16,
     "metadata": {},
     "output_type": "execute_result"
    }
   ],
   "source": [
    "train.brand.unique()"
   ]
  },
  {
   "cell_type": "code",
   "execution_count": 17,
   "metadata": {},
   "outputs": [
    {
     "data": {
      "text/plain": [
       "array(['SKODA', 'AUDI', 'HONDA', 'VOLVO', 'BMW', 'NISSAN', 'INFINITI',\n",
       "       'MERCEDES', 'TOYOTA', 'LEXUS', 'VOLKSWAGEN', 'MITSUBISHI'],\n",
       "      dtype=object)"
      ]
     },
     "execution_count": 17,
     "metadata": {},
     "output_type": "execute_result"
    }
   ],
   "source": [
    "test.brand.unique()"
   ]
  },
  {
   "cell_type": "code",
   "execution_count": 18,
   "metadata": {},
   "outputs": [
    {
     "data": {
      "text/plain": [
       "array(['AUDI', 'BMW', 'HONDA', 'INFINITI', 'LEXUS', 'MERCEDES',\n",
       "       'MITSUBISHI', 'NISSAN', 'TOYOTA', 'VOLKSWAGEN', 'VOLVO', 'SKODA'],\n",
       "      dtype=object)"
      ]
     },
     "execution_count": 18,
     "metadata": {},
     "output_type": "execute_result"
    }
   ],
   "source": [
    "train = train[train.brand.isin(test.brand.unique())]\n",
    "train.brand.unique()"
   ]
  },
  {
   "cell_type": "code",
   "execution_count": 19,
   "metadata": {},
   "outputs": [
    {
     "data": {
      "text/plain": [
       "(124349, 25)"
      ]
     },
     "execution_count": 19,
     "metadata": {},
     "output_type": "execute_result"
    }
   ],
   "source": [
    "train.shape"
   ]
  },
  {
   "cell_type": "markdown",
   "metadata": {},
   "source": [
    "## price "
   ]
  },
  {
   "cell_type": "code",
   "execution_count": 20,
   "metadata": {},
   "outputs": [],
   "source": [
    "test['price'] = 0.0"
   ]
  },
  {
   "cell_type": "code",
   "execution_count": 21,
   "metadata": {},
   "outputs": [
    {
     "data": {
      "text/plain": [
       "0    10 2020\n",
       "1    10 2020\n",
       "2    10 2020\n",
       "3    10 2020\n",
       "4    10 2020\n",
       "Name: parsing_unixtime, dtype: object"
      ]
     },
     "execution_count": 21,
     "metadata": {},
     "output_type": "execute_result"
    }
   ],
   "source": [
    "test['parsing_unixtime'] = test['parsing_unixtime'].apply(lambda x: datetime.datetime.fromtimestamp(x).strftime(\"%m %Y\"))\n",
    "test['parsing_unixtime'].head()\n",
    "#Определить инфляцию примерно за 1 год"
   ]
  },
  {
   "cell_type": "code",
   "execution_count": 22,
   "metadata": {},
   "outputs": [],
   "source": [
    "test.drop(labels='parsing_unixtime', axis=1, inplace=True) #Далее не требуется"
   ]
  },
  {
   "cell_type": "code",
   "execution_count": 23,
   "metadata": {},
   "outputs": [
    {
     "data": {
      "text/plain": [
       "848"
      ]
     },
     "execution_count": 23,
     "metadata": {},
     "output_type": "execute_result"
    }
   ],
   "source": [
    "train['price'].isna().sum()"
   ]
  },
  {
   "cell_type": "code",
   "execution_count": 24,
   "metadata": {},
   "outputs": [
    {
     "data": {
      "text/html": [
       "<div>\n",
       "<style scoped>\n",
       "    .dataframe tbody tr th:only-of-type {\n",
       "        vertical-align: middle;\n",
       "    }\n",
       "\n",
       "    .dataframe tbody tr th {\n",
       "        vertical-align: top;\n",
       "    }\n",
       "\n",
       "    .dataframe thead th {\n",
       "        text-align: right;\n",
       "    }\n",
       "</style>\n",
       "<table border=\"1\" class=\"dataframe\">\n",
       "  <thead>\n",
       "    <tr style=\"text-align: right;\">\n",
       "      <th></th>\n",
       "      <th>brand</th>\n",
       "      <th>price</th>\n",
       "    </tr>\n",
       "  </thead>\n",
       "  <tbody>\n",
       "    <tr>\n",
       "      <th>3400</th>\n",
       "      <td>AUDI</td>\n",
       "      <td>NaN</td>\n",
       "    </tr>\n",
       "    <tr>\n",
       "      <th>3442</th>\n",
       "      <td>AUDI</td>\n",
       "      <td>NaN</td>\n",
       "    </tr>\n",
       "    <tr>\n",
       "      <th>3486</th>\n",
       "      <td>AUDI</td>\n",
       "      <td>NaN</td>\n",
       "    </tr>\n",
       "    <tr>\n",
       "      <th>3518</th>\n",
       "      <td>AUDI</td>\n",
       "      <td>NaN</td>\n",
       "    </tr>\n",
       "    <tr>\n",
       "      <th>3549</th>\n",
       "      <td>AUDI</td>\n",
       "      <td>NaN</td>\n",
       "    </tr>\n",
       "    <tr>\n",
       "      <th>3579</th>\n",
       "      <td>AUDI</td>\n",
       "      <td>NaN</td>\n",
       "    </tr>\n",
       "    <tr>\n",
       "      <th>3617</th>\n",
       "      <td>AUDI</td>\n",
       "      <td>NaN</td>\n",
       "    </tr>\n",
       "  </tbody>\n",
       "</table>\n",
       "</div>"
      ],
      "text/plain": [
       "     brand  price\n",
       "3400  AUDI    NaN\n",
       "3442  AUDI    NaN\n",
       "3486  AUDI    NaN\n",
       "3518  AUDI    NaN\n",
       "3549  AUDI    NaN\n",
       "3579  AUDI    NaN\n",
       "3617  AUDI    NaN"
      ]
     },
     "execution_count": 24,
     "metadata": {},
     "output_type": "execute_result"
    }
   ],
   "source": [
    "train[train['price'].isna()][['brand','price']].head(7)"
   ]
  },
  {
   "cell_type": "code",
   "execution_count": 25,
   "metadata": {},
   "outputs": [
    {
     "name": "stdout",
     "output_type": "stream",
     "text": [
      "{'AUDI': 2170000.0, 'BMW': 3449935.0, 'HONDA': 700000.0, 'INFINITI': 1990000.0, 'LEXUS': 3299000.0, 'MERCEDES': 4590000.0, 'MITSUBISHI': 1449000.0, 'NISSAN': 1349450.0, 'SKODA': 1439000.0, 'TOYOTA': 2200000.0, 'VOLKSWAGEN': 1397000.0, 'VOLVO': 1350000.0}\n"
     ]
    }
   ],
   "source": [
    "dx = list(train.groupby(['brand']).price.median())\n",
    "all_marks_list = [\n",
    "    'AUDI', 'BMW', 'HONDA', 'INFINITI', 'LEXUS', 'MERCEDES',\n",
    "    'MITSUBISHI', 'NISSAN', 'SKODA', 'TOYOTA', 'VOLKSWAGEN', 'VOLVO']\n",
    "\n",
    "median_dict = {}\n",
    "for k in all_marks_list:\n",
    "    median_dict[k]=dx[all_marks_list.index(k)]\n",
    "\n",
    "print(median_dict)"
   ]
  },
  {
   "cell_type": "code",
   "execution_count": 26,
   "metadata": {},
   "outputs": [],
   "source": [
    "train['price'] = train['price'].fillna(train.brand.map(median_dict))"
   ]
  },
  {
   "cell_type": "code",
   "execution_count": 27,
   "metadata": {},
   "outputs": [
    {
     "data": {
      "text/plain": [
       "0"
      ]
     },
     "execution_count": 27,
     "metadata": {},
     "output_type": "execute_result"
    }
   ],
   "source": [
    "train['price'].isna().sum() #все пропуски заполнены"
   ]
  },
  {
   "cell_type": "code",
   "execution_count": 28,
   "metadata": {},
   "outputs": [
    {
     "data": {
      "text/html": [
       "<div>\n",
       "<style scoped>\n",
       "    .dataframe tbody tr th:only-of-type {\n",
       "        vertical-align: middle;\n",
       "    }\n",
       "\n",
       "    .dataframe tbody tr th {\n",
       "        vertical-align: top;\n",
       "    }\n",
       "\n",
       "    .dataframe thead th {\n",
       "        text-align: right;\n",
       "    }\n",
       "</style>\n",
       "<table border=\"1\" class=\"dataframe\">\n",
       "  <thead>\n",
       "    <tr style=\"text-align: right;\">\n",
       "      <th></th>\n",
       "      <th>brand</th>\n",
       "      <th>price</th>\n",
       "    </tr>\n",
       "  </thead>\n",
       "  <tbody>\n",
       "    <tr>\n",
       "      <th>3389</th>\n",
       "      <td>AUDI</td>\n",
       "      <td>2180000.0</td>\n",
       "    </tr>\n",
       "    <tr>\n",
       "      <th>3390</th>\n",
       "      <td>AUDI</td>\n",
       "      <td>140000.0</td>\n",
       "    </tr>\n",
       "    <tr>\n",
       "      <th>3391</th>\n",
       "      <td>AUDI</td>\n",
       "      <td>3800000.0</td>\n",
       "    </tr>\n",
       "    <tr>\n",
       "      <th>3392</th>\n",
       "      <td>AUDI</td>\n",
       "      <td>640000.0</td>\n",
       "    </tr>\n",
       "    <tr>\n",
       "      <th>3393</th>\n",
       "      <td>AUDI</td>\n",
       "      <td>5130000.0</td>\n",
       "    </tr>\n",
       "    <tr>\n",
       "      <th>3394</th>\n",
       "      <td>AUDI</td>\n",
       "      <td>3580000.0</td>\n",
       "    </tr>\n",
       "    <tr>\n",
       "      <th>3395</th>\n",
       "      <td>AUDI</td>\n",
       "      <td>6120000.0</td>\n",
       "    </tr>\n",
       "  </tbody>\n",
       "</table>\n",
       "</div>"
      ],
      "text/plain": [
       "     brand      price\n",
       "3389  AUDI  2180000.0\n",
       "3390  AUDI   140000.0\n",
       "3391  AUDI  3800000.0\n",
       "3392  AUDI   640000.0\n",
       "3393  AUDI  5130000.0\n",
       "3394  AUDI  3580000.0\n",
       "3395  AUDI  6120000.0"
      ]
     },
     "execution_count": 28,
     "metadata": {},
     "output_type": "execute_result"
    }
   ],
   "source": [
    "train[['brand','price']].head(7) # замена прошла успешно"
   ]
  },
  {
   "cell_type": "code",
   "execution_count": 29,
   "metadata": {},
   "outputs": [
    {
     "data": {
      "text/plain": [
       "3389    2180000.0\n",
       "3390     140000.0\n",
       "3391    3800000.0\n",
       "3392     640000.0\n",
       "3393    5130000.0\n",
       "Name: price, dtype: float64"
      ]
     },
     "execution_count": 29,
     "metadata": {},
     "output_type": "execute_result"
    }
   ],
   "source": [
    "train['price'].head()"
   ]
  },
  {
   "cell_type": "code",
   "execution_count": 30,
   "metadata": {},
   "outputs": [
    {
     "data": {
      "text/plain": [
       "3389    1676923\n",
       "3390     107692\n",
       "3391    2923076\n",
       "3392     492307\n",
       "3393    3946153\n",
       "Name: price, dtype: int64"
      ]
     },
     "execution_count": 30,
     "metadata": {},
     "output_type": "execute_result"
    }
   ],
   "source": [
    "#https://abreview.ru/ab/media/kommersant_tachki_napolnyayutsya_zolotom/ инфляция в районе 30%\n",
    "train['price'] = train['price'].apply(lambda x: int(int(x)/1.3))\n",
    "train['price'].head()"
   ]
  },
  {
   "cell_type": "markdown",
   "metadata": {},
   "source": [
    "## engineDisplacement"
   ]
  },
  {
   "cell_type": "code",
   "execution_count": 31,
   "metadata": {},
   "outputs": [
    {
     "data": {
      "text/plain": [
       "array([2967., 1781., 1968., 1984., 2995., 3197., 2773., 2698., 2309.,\n",
       "       1595., 1395., 1598., 3597.,    0., 4163., 4134., 3993., 2976.,\n",
       "       1390., 1798., 2480., 3123., 1498.,  999., 2496., 2671., 2393.,\n",
       "       5934., 2984., 3996., 1197., 6299., 3956., 4143., 2894., 3189.,\n",
       "       1896., 2771., 5204., 4172., 5998., 1851., 4991., 2226., 1986.,\n",
       "       1847., 3200., 2598., 1588., 3936., 2144., 1921., 2998., 1995.,\n",
       "       4799., 2793., 4395., 2443., 2979., 2993.,  647., 2171., 1997.,\n",
       "       1998., 2996., 2497., 2494., 1599., 1496., 1499., 1951., 5972.,\n",
       "       4398., 2926., 3901., 3498., 1596., 3982., 6592., 2498., 1766.,\n",
       "       1895., 1990., 3999., 2693., 1796., 4999., 4619., 1573., 4423.,\n",
       "       1991., 1971., 2990., 3430., 2986., 4000., 1800., 2997., 3600.,\n",
       "       3246., 2354., 2199., 1339.,  658., 1243., 1993., 2204., 2356.,\n",
       "       1799., 1590., 1343., 1493., 1972., 2259., 1589., 3471., 2160.,\n",
       "       1396., 1996., 1597., 1973.,  656., 1834., 1668., 2157., 1497.,\n",
       "       1849., 1994., 3664., 2253., 1399., 2254., 2155., 3165., 2495.,\n",
       "       2156., 1850.,  988., 1488.,  657., 2451., 1797., 1600., 3210.,\n",
       "       3474., 1500.,  660., 2675., 2258., 1198., 3206., 1686., 1342.,\n",
       "       2177., 1400., 3696., 5552., 5026., 3500., 4494., 2143., 3275.,\n",
       "       2488., 1461., 5551., 5600., 2960., 4130., 3456., 4461., 5663.,\n",
       "       4608., 4293., 2487., 4664., 2499., 3311., 2672., 4969., 3300.,\n",
       "       1987., 2500., 3444., 3968., 3969., 2231., 2362., 2994., 1988.,\n",
       "       3303., 2999., 2987., 5461., 2925., 6208., 2874., 5513., 4966.,\n",
       "       2148., 1950., 4663., 1332., 5439., 2800., 5980., 2195., 2688.,\n",
       "       4196., 2597., 3199., 4266., 2685., 2034., 3724., 2746., 2298.,\n",
       "       3489., 5598., 2295., 5786., 1192., 2799., 4973., 1397., 6258.,\n",
       "       1897., 1699., 1999., 3449., 3224., 5987., 2972., 2179.,  659.,\n",
       "       1468., 2378., 2360., 2477., 3828., 2268., 2442., 1560., 3497.,\n",
       "       2351., 2835., 2350., 1584., 2349., 1870., 1299., 1095., 1124.,\n",
       "       2476., 1094., 2400., 2000., 1242., 1193., 2267., 1795., 1789.,\n",
       "       1618., 3954., 1769., 1749., 2184., 2991., 2953., 3799., 4169.,\n",
       "       2663., 1275., 3153., 4759.,  998., 1386., 2389., 1348., 1838.,\n",
       "       2988., 1392., 1974., 2825., 1240., 2826., 2694., 1794., 2492.,\n",
       "       2982., 2493., 2700., 2755.,  996., 4164., 1587., 1975., 1364.,\n",
       "       3378., 4476., 1329., 2975., 3445., 2446., 1398., 4477., 1812.,\n",
       "       1331., 2491., 1762., 3346., 1298., 2438., 3955., 1297., 2364.,\n",
       "       2163., 1296.,  989., 3994.,  997., 2464., 2164., 1992., 2461.,\n",
       "       2792., 2460., 1958., 4921., 1000., 3168., 3598., 1422., 2324.,\n",
       "       2370., 1043., 1199., 2109., 1716., 1969., 2521., 2435., 1477.,\n",
       "       2401., 4414., 3192., 2316., 2922., 1948., 2783., 2849., 2319.,\n",
       "       2300., 2383., 2473., 1721., 2900., 1783., 1731., 2127., 1700.,\n",
       "       2380., 1289., 5379., 1829., 1689., 2962., 2397., 2299., 2197.,\n",
       "       1274., 1680., 4479., 2388., 1295., 1272., 2861., 1665., 2788.,\n",
       "       3697., 1300., 1955., 2959., 1898., 1755., 2454., 1487., 2283.,\n",
       "       2954., 2366., 1839., 1715., 1900., 1391., 2459., 1679., 2100.,\n",
       "       2080., 1238., 2399., 5547., 2398., 3405., 1809., 1952., 1486.,\n",
       "       3376., 2563., 2759.])"
      ]
     },
     "execution_count": 31,
     "metadata": {},
     "output_type": "execute_result"
    }
   ],
   "source": [
    "train.engineDisplacement.unique()"
   ]
  },
  {
   "cell_type": "code",
   "execution_count": 32,
   "metadata": {},
   "outputs": [
    {
     "data": {
      "text/plain": [
       "array([3. , 1.8, 2. , 3.2, 2.8, 2.7, 2.3, 1.6, 1.4, 3.6, 0. , 4.2, 4.1,\n",
       "       4. , 2.5, 3.1, 1.5, 1. , 2.4, 5.9, 1.2, 6.3, 2.9, 1.9, 5.2, 6. ,\n",
       "       5. , 2.2, 2.6, 3.9, 2.1, 4.8, 4.4, 0.6, 3.5, 6.6, 4.6, 3.4, 1.3,\n",
       "       0.7, 1.7, 3.7, 5.6, 4.5, 3.3, 5.7, 4.3, 4.7, 5.5, 6.2, 5.4, 5.8,\n",
       "       3.8, 1.1, 4.9])"
      ]
     },
     "execution_count": 32,
     "metadata": {},
     "output_type": "execute_result"
    }
   ],
   "source": [
    "train.engineDisplacement = train.engineDisplacement.apply(lambda x: np.round(x/1000, 1))\n",
    "train.engineDisplacement.unique()"
   ]
  },
  {
   "cell_type": "code",
   "execution_count": 33,
   "metadata": {},
   "outputs": [
    {
     "data": {
      "text/plain": [
       "array(['1.2 LTR', '1.6 LTR', '1.8 LTR', '2.0 LTR', '1.4 LTR', '1.3 LTR',\n",
       "       '1.0 LTR', '3.6 LTR', '1.5 LTR', '1.9 LTR', '2.8 LTR', '1.1 LTR',\n",
       "       '2.5 LTR', '4.2 LTR', '3.0 LTR', '4.0 LTR', '5.9 LTR', '2.7 LTR',\n",
       "       '3.1 LTR', '2.4 LTR', '5.2 LTR', '3.2 LTR', '4.1 LTR', '6.3 LTR',\n",
       "       '2.3 LTR', '6.0 LTR', '2.2 LTR', '3.7 LTR', '2.9 LTR', '5.0 LTR',\n",
       "       '3.3 LTR', '2.1 LTR', '2.6 LTR', ' LTR', '3.5 LTR', '1.7 LTR',\n",
       "       '0.7 LTR', '4.4 LTR', '4.8 LTR', '5.4 LTR', '6.6 LTR', '4.9 LTR',\n",
       "       '3.8 LTR', '3.4 LTR', '3.9 LTR', '4.6 LTR', '5.6 LTR', '4.5 LTR',\n",
       "       '5.5 LTR', '6.2 LTR', '4.7 LTR', '4.3 LTR', '5.8 LTR', '5.3 LTR',\n",
       "       '5.7 LTR'], dtype=object)"
      ]
     },
     "execution_count": 33,
     "metadata": {},
     "output_type": "execute_result"
    }
   ],
   "source": [
    "test.engineDisplacement.unique()"
   ]
  },
  {
   "cell_type": "code",
   "execution_count": 34,
   "metadata": {},
   "outputs": [],
   "source": [
    "def convert_engineDisplacement_to_float(row):\n",
    "    row = str(row)\n",
    "    volume = re.findall('\\d\\.\\d', row)\n",
    "    if volume == []:\n",
    "        return None\n",
    "    return float(volume[0])"
   ]
  },
  {
   "cell_type": "code",
   "execution_count": 35,
   "metadata": {},
   "outputs": [
    {
     "data": {
      "text/plain": [
       "array([1.2, 1.6, 1.8, 2. , 1.4, 1.3, 1. , 3.6, 1.5, 1.9, 2.8, 1.1, 2.5,\n",
       "       4.2, 3. , 4. , 5.9, 2.7, 3.1, 2.4, 5.2, 3.2, 4.1, 6.3, 2.3, 6. ,\n",
       "       2.2, 3.7, 2.9, 5. , 3.3, 2.1, 2.6, nan, 3.5, 1.7, 0.7, 4.4, 4.8,\n",
       "       5.4, 6.6, 4.9, 3.8, 3.4, 3.9, 4.6, 5.6, 4.5, 5.5, 6.2, 4.7, 4.3,\n",
       "       5.8, 5.3, 5.7])"
      ]
     },
     "execution_count": 35,
     "metadata": {},
     "output_type": "execute_result"
    }
   ],
   "source": [
    "test.engineDisplacement = test.name.apply(convert_engineDisplacement_to_float)\n",
    "test.engineDisplacement.unique()"
   ]
  },
  {
   "cell_type": "code",
   "execution_count": 36,
   "metadata": {},
   "outputs": [
    {
     "data": {
      "text/plain": [
       "(124349, 25)"
      ]
     },
     "execution_count": 36,
     "metadata": {},
     "output_type": "execute_result"
    }
   ],
   "source": [
    "train.shape"
   ]
  },
  {
   "cell_type": "code",
   "execution_count": 37,
   "metadata": {},
   "outputs": [
    {
     "data": {
      "text/plain": [
       "(124295, 25)"
      ]
     },
     "execution_count": 37,
     "metadata": {},
     "output_type": "execute_result"
    }
   ],
   "source": [
    "train.drop_duplicates(inplace=True)\n",
    "train.shape"
   ]
  },
  {
   "cell_type": "markdown",
   "metadata": {},
   "source": [
    "## Обработка признаков"
   ]
  },
  {
   "cell_type": "markdown",
   "metadata": {},
   "source": [
    "### Подготовка"
   ]
  },
  {
   "cell_type": "code",
   "execution_count": 38,
   "metadata": {},
   "outputs": [],
   "source": [
    "train['train'] = 1\n",
    "test['train'] = 0\n",
    "train['sell_id'] = 0"
   ]
  },
  {
   "cell_type": "code",
   "execution_count": 39,
   "metadata": {},
   "outputs": [
    {
     "data": {
      "text/html": [
       "<div>\n",
       "<style scoped>\n",
       "    .dataframe tbody tr th:only-of-type {\n",
       "        vertical-align: middle;\n",
       "    }\n",
       "\n",
       "    .dataframe tbody tr th {\n",
       "        vertical-align: top;\n",
       "    }\n",
       "\n",
       "    .dataframe thead th {\n",
       "        text-align: right;\n",
       "    }\n",
       "</style>\n",
       "<table border=\"1\" class=\"dataframe\">\n",
       "  <thead>\n",
       "    <tr style=\"text-align: right;\">\n",
       "      <th></th>\n",
       "      <th>bodyType</th>\n",
       "      <th>brand</th>\n",
       "      <th>color</th>\n",
       "      <th>description</th>\n",
       "      <th>engineDisplacement</th>\n",
       "      <th>enginePower</th>\n",
       "      <th>equipment_dict</th>\n",
       "      <th>fuelType</th>\n",
       "      <th>mileage</th>\n",
       "      <th>modelDate</th>\n",
       "      <th>...</th>\n",
       "      <th>vendor</th>\n",
       "      <th>Владельцы</th>\n",
       "      <th>Владение</th>\n",
       "      <th>ПТС</th>\n",
       "      <th>Привод</th>\n",
       "      <th>Руль</th>\n",
       "      <th>Состояние</th>\n",
       "      <th>Таможня</th>\n",
       "      <th>price</th>\n",
       "      <th>train</th>\n",
       "    </tr>\n",
       "  </thead>\n",
       "  <tbody>\n",
       "    <tr>\n",
       "      <th>0</th>\n",
       "      <td>лифтбек</td>\n",
       "      <td>SKODA</td>\n",
       "      <td>синий</td>\n",
       "      <td>Все автомобили, представленные в продаже, прох...</td>\n",
       "      <td>1.2</td>\n",
       "      <td>105 N12</td>\n",
       "      <td>{\"engine-proof\":true,\"tinted-glass\":true,\"airb...</td>\n",
       "      <td>бензин</td>\n",
       "      <td>74000</td>\n",
       "      <td>2013.0</td>\n",
       "      <td>...</td>\n",
       "      <td>EUROPEAN</td>\n",
       "      <td>3 или более</td>\n",
       "      <td>NaN</td>\n",
       "      <td>Оригинал</td>\n",
       "      <td>передний</td>\n",
       "      <td>Левый</td>\n",
       "      <td>Не требует ремонта</td>\n",
       "      <td>Растаможен</td>\n",
       "      <td>0.0</td>\n",
       "      <td>0</td>\n",
       "    </tr>\n",
       "    <tr>\n",
       "      <th>1</th>\n",
       "      <td>лифтбек</td>\n",
       "      <td>SKODA</td>\n",
       "      <td>чёрный</td>\n",
       "      <td>ЛОТ: 01217195\\nАвтопрага Север\\nДанный автомоб...</td>\n",
       "      <td>1.6</td>\n",
       "      <td>110 N12</td>\n",
       "      <td>{\"cruise-control\":true,\"asr\":true,\"esp\":true,\"...</td>\n",
       "      <td>бензин</td>\n",
       "      <td>60563</td>\n",
       "      <td>2017.0</td>\n",
       "      <td>...</td>\n",
       "      <td>EUROPEAN</td>\n",
       "      <td>1 владелец</td>\n",
       "      <td>NaN</td>\n",
       "      <td>Оригинал</td>\n",
       "      <td>передний</td>\n",
       "      <td>Левый</td>\n",
       "      <td>Не требует ремонта</td>\n",
       "      <td>Растаможен</td>\n",
       "      <td>0.0</td>\n",
       "      <td>0</td>\n",
       "    </tr>\n",
       "    <tr>\n",
       "      <th>2</th>\n",
       "      <td>лифтбек</td>\n",
       "      <td>SKODA</td>\n",
       "      <td>серый</td>\n",
       "      <td>Все автомобили, представленные в продаже, прох...</td>\n",
       "      <td>1.8</td>\n",
       "      <td>152 N12</td>\n",
       "      <td>{\"cruise-control\":true,\"tinted-glass\":true,\"es...</td>\n",
       "      <td>бензин</td>\n",
       "      <td>88000</td>\n",
       "      <td>2013.0</td>\n",
       "      <td>...</td>\n",
       "      <td>EUROPEAN</td>\n",
       "      <td>1 владелец</td>\n",
       "      <td>NaN</td>\n",
       "      <td>Оригинал</td>\n",
       "      <td>передний</td>\n",
       "      <td>Левый</td>\n",
       "      <td>Не требует ремонта</td>\n",
       "      <td>Растаможен</td>\n",
       "      <td>0.0</td>\n",
       "      <td>0</td>\n",
       "    </tr>\n",
       "    <tr>\n",
       "      <th>3</th>\n",
       "      <td>лифтбек</td>\n",
       "      <td>SKODA</td>\n",
       "      <td>коричневый</td>\n",
       "      <td>КОМПЛЕКТ ЗИМНЕЙ (ЛЕТНЕЙ) РЕЗИНЫ ПО СЕЗОНУ В ПО...</td>\n",
       "      <td>1.6</td>\n",
       "      <td>110 N12</td>\n",
       "      <td>{\"cruise-control\":true,\"roller-blind-for-rear-...</td>\n",
       "      <td>бензин</td>\n",
       "      <td>95000</td>\n",
       "      <td>2013.0</td>\n",
       "      <td>...</td>\n",
       "      <td>EUROPEAN</td>\n",
       "      <td>1 владелец</td>\n",
       "      <td>NaN</td>\n",
       "      <td>Оригинал</td>\n",
       "      <td>передний</td>\n",
       "      <td>Левый</td>\n",
       "      <td>Не требует ремонта</td>\n",
       "      <td>Растаможен</td>\n",
       "      <td>0.0</td>\n",
       "      <td>0</td>\n",
       "    </tr>\n",
       "    <tr>\n",
       "      <th>4</th>\n",
       "      <td>лифтбек</td>\n",
       "      <td>SKODA</td>\n",
       "      <td>белый</td>\n",
       "      <td>ЛОТ: 01220889\\nАвтопрага Север\\n\\nВы можете по...</td>\n",
       "      <td>1.8</td>\n",
       "      <td>152 N12</td>\n",
       "      <td>{\"cruise-control\":true,\"asr\":true,\"esp\":true,\"...</td>\n",
       "      <td>бензин</td>\n",
       "      <td>58536</td>\n",
       "      <td>2008.0</td>\n",
       "      <td>...</td>\n",
       "      <td>EUROPEAN</td>\n",
       "      <td>1 владелец</td>\n",
       "      <td>NaN</td>\n",
       "      <td>Оригинал</td>\n",
       "      <td>передний</td>\n",
       "      <td>Левый</td>\n",
       "      <td>Не требует ремонта</td>\n",
       "      <td>Растаможен</td>\n",
       "      <td>0.0</td>\n",
       "      <td>0</td>\n",
       "    </tr>\n",
       "  </tbody>\n",
       "</table>\n",
       "<p>5 rows × 27 columns</p>\n",
       "</div>"
      ],
      "text/plain": [
       "  bodyType  brand       color  \\\n",
       "0  лифтбек  SKODA       синий   \n",
       "1  лифтбек  SKODA      чёрный   \n",
       "2  лифтбек  SKODA       серый   \n",
       "3  лифтбек  SKODA  коричневый   \n",
       "4  лифтбек  SKODA       белый   \n",
       "\n",
       "                                         description  engineDisplacement  \\\n",
       "0  Все автомобили, представленные в продаже, прох...                 1.2   \n",
       "1  ЛОТ: 01217195\\nАвтопрага Север\\nДанный автомоб...                 1.6   \n",
       "2  Все автомобили, представленные в продаже, прох...                 1.8   \n",
       "3  КОМПЛЕКТ ЗИМНЕЙ (ЛЕТНЕЙ) РЕЗИНЫ ПО СЕЗОНУ В ПО...                 1.6   \n",
       "4  ЛОТ: 01220889\\nАвтопрага Север\\n\\nВы можете по...                 1.8   \n",
       "\n",
       "  enginePower                                     equipment_dict fuelType  \\\n",
       "0     105 N12  {\"engine-proof\":true,\"tinted-glass\":true,\"airb...   бензин   \n",
       "1     110 N12  {\"cruise-control\":true,\"asr\":true,\"esp\":true,\"...   бензин   \n",
       "2     152 N12  {\"cruise-control\":true,\"tinted-glass\":true,\"es...   бензин   \n",
       "3     110 N12  {\"cruise-control\":true,\"roller-blind-for-rear-...   бензин   \n",
       "4     152 N12  {\"cruise-control\":true,\"asr\":true,\"esp\":true,\"...   бензин   \n",
       "\n",
       "   mileage  modelDate  ...    vendor    Владельцы  Владение       ПТС  \\\n",
       "0    74000     2013.0  ...  EUROPEAN  3 или более       NaN  Оригинал   \n",
       "1    60563     2017.0  ...  EUROPEAN   1 владелец       NaN  Оригинал   \n",
       "2    88000     2013.0  ...  EUROPEAN   1 владелец       NaN  Оригинал   \n",
       "3    95000     2013.0  ...  EUROPEAN   1 владелец       NaN  Оригинал   \n",
       "4    58536     2008.0  ...  EUROPEAN   1 владелец       NaN  Оригинал   \n",
       "\n",
       "     Привод   Руль           Состояние     Таможня price train  \n",
       "0  передний  Левый  Не требует ремонта  Растаможен   0.0     0  \n",
       "1  передний  Левый  Не требует ремонта  Растаможен   0.0     0  \n",
       "2  передний  Левый  Не требует ремонта  Растаможен   0.0     0  \n",
       "3  передний  Левый  Не требует ремонта  Растаможен   0.0     0  \n",
       "4  передний  Левый  Не требует ремонта  Растаможен   0.0     0  \n",
       "\n",
       "[5 rows x 27 columns]"
      ]
     },
     "execution_count": 39,
     "metadata": {},
     "output_type": "execute_result"
    }
   ],
   "source": [
    "data = pd.concat([test, train], join='inner', ignore_index=True)\n",
    "data.head()"
   ]
  },
  {
   "cell_type": "code",
   "execution_count": 40,
   "metadata": {},
   "outputs": [
    {
     "data": {
      "text/plain": [
       "(158981, 27)"
      ]
     },
     "execution_count": 40,
     "metadata": {},
     "output_type": "execute_result"
    }
   ],
   "source": [
    "data.shape"
   ]
  },
  {
   "cell_type": "code",
   "execution_count": 41,
   "metadata": {},
   "outputs": [],
   "source": [
    "data.rename(columns={'Владельцы': 'owners', 'Владение': 'ownership', 'ПТС': 'vehicle_licence',\n",
    "       'Привод': 'driving_gear', 'Руль': 'steering_wheel', 'Состояние': 'condition', 'Таможня': 'customs'}, inplace=True)"
   ]
  },
  {
   "cell_type": "code",
   "execution_count": 42,
   "metadata": {},
   "outputs": [
    {
     "data": {
      "text/plain": [
       "bodyType                     0\n",
       "brand                        0\n",
       "color                        0\n",
       "description               2499\n",
       "engineDisplacement          55\n",
       "enginePower                  0\n",
       "equipment_dict            9996\n",
       "fuelType                     0\n",
       "mileage                      0\n",
       "modelDate                    0\n",
       "model_name                   0\n",
       "name                      1848\n",
       "numberOfDoors                0\n",
       "productionDate               0\n",
       "sell_id                      0\n",
       "vehicleConfiguration         0\n",
       "vehicleTransmission          0\n",
       "vendor                       0\n",
       "owners                   26897\n",
       "ownership                22691\n",
       "vehicle_licence           1261\n",
       "driving_gear                 0\n",
       "steering_wheel               0\n",
       "condition               124295\n",
       "customs                      0\n",
       "price                        0\n",
       "train                        0\n",
       "dtype: int64"
      ]
     },
     "execution_count": 42,
     "metadata": {},
     "output_type": "execute_result"
    }
   ],
   "source": [
    "data.isna().sum()"
   ]
  },
  {
   "cell_type": "markdown",
   "metadata": {},
   "source": [
    "### bodyType"
   ]
  },
  {
   "cell_type": "code",
   "execution_count": 43,
   "metadata": {},
   "outputs": [],
   "source": [
    "data.bodyType = data.bodyType.apply(lambda x: x.lower().split()[0].strip() if isinstance(x, str) else x)"
   ]
  },
  {
   "cell_type": "code",
   "execution_count": 44,
   "metadata": {},
   "outputs": [],
   "source": [
    "data.bodyType = data.bodyType.apply(lambda x: \"внедорожник\" if x=='allroad_5_doors' or x=='внедорожник 5 дв. allspace' or x=='allroad_3_doors' or x==\"allroad_open\" or x==\"внедорожник 5 дв.\" or x == 'внедорожник открытый' or x=='внедорожник 3 дв.' or x=='внедорожник 5 дв. l'\n",
    "                                    else \"седан\" if x==\"sedan\" or x==\"sedan_2_doors\" or x==\"sedan_hardtop\"\n",
    "                                    else \"лифтбек\" if x==\"liftback\" or x=='лифтбек gran coupe' or x=='лифтбек gran turismo' or x=='лифтбек sportback' or x=='LIFTBACK'\n",
    "                                    else \"универсал\" if  x=='универсал 5 дв. fielder' or x=='универсал 5 дв. spaceback' or x=='универсал 5 дв. scout' or x=='универсал 5 дв. xc' or x=='универсал 5 дв. ardeo' or x=='универсал 5 дв. plus' or x=='универсал 5 дв. all-terrain' or x=='универсал 5 дв. shuttle' or x=='универсал 5 дв. alltrack' or x=='универсал 5 дв.'\n",
    "                                    else \"хэтчбек\" if x==\"hatchback_5_doors\" or x == 'хэтчбек 5 дв. sportback' or x == 'хэтчбек 3 дв.' or x=='хэтчбек 5 дв.' or x==\"hatchback_3_doors\"\n",
    "                                    else \"минивэн\" if x==\"minivan\"\n",
    "                                    else \"пикап\" if x==\"pickup_two\" or x=='пикап двойная кабина 79' or x=='пикап двойная кабина double cab' or x=='пикап двойная кабина arctic trucks' or x=='пикап двойная кабина crewmax' or x=='пикап двойная кабина' or x=='пикап одинарная кабина' or x=='пикап полуторная кабина' or x==\"wagon_5_doors\" or x==\"pickup_one_half\" or x==\"pickup_one\"\n",
    "                                    else \"кабриолет\" if x==\"cabrio\"\n",
    "                                    else \"компактвэн\" if x==\"compactvan\" or x=='компактвэн gran tourer'\n",
    "                                    else \"микровэн\" if x==\"microvan\"\n",
    "                                    else \"купе\" if x==\"coupe\"\n",
    "                                    else \"купе-хардтоп\" if x==\"coupe_hardtop\"\n",
    "                                    else \"родстер\" if x==\"roadster\"\n",
    "                                    else \"лимузин\" if x==\"limousine\" or x == 'лимузин pullman'\n",
    "                                    else \"фургон\" if x==\"van\"\n",
    "                                    else x\n",
    "                                   )"
   ]
  },
  {
   "cell_type": "code",
   "execution_count": 45,
   "metadata": {},
   "outputs": [
    {
     "data": {
      "text/plain": [
       "внедорожник      0.494405\n",
       "седан            0.290808\n",
       "лифтбек          0.066392\n",
       "хэтчбек          0.056271\n",
       "минивэн          0.021198\n",
       "пикап            0.019675\n",
       "купе             0.016581\n",
       "универсал        0.014304\n",
       "компактвэн       0.013209\n",
       "кабриолет        0.002101\n",
       "купе-хардтоп     0.001874\n",
       "родстер          0.001390\n",
       "фургон           0.001057\n",
       "микровэн         0.000535\n",
       "седан-хардтоп    0.000120\n",
       "лимузин          0.000063\n",
       "тарга            0.000013\n",
       "фастбек          0.000006\n",
       "Name: bodyType, dtype: float64"
      ]
     },
     "execution_count": 45,
     "metadata": {},
     "output_type": "execute_result"
    }
   ],
   "source": [
    "data.bodyType.value_counts(normalize=True)"
   ]
  },
  {
   "cell_type": "code",
   "execution_count": 46,
   "metadata": {},
   "outputs": [
    {
     "data": {
      "text/plain": [
       "18"
      ]
     },
     "execution_count": 46,
     "metadata": {},
     "output_type": "execute_result"
    }
   ],
   "source": [
    "data.bodyType.nunique()"
   ]
  },
  {
   "cell_type": "code",
   "execution_count": 47,
   "metadata": {},
   "outputs": [
    {
     "data": {
      "text/plain": [
       "array(['лифтбек', 'внедорожник', 'хэтчбек', 'седан', 'компактвэн',\n",
       "       'универсал', 'пикап', 'купе', 'кабриолет', 'минивэн', 'родстер',\n",
       "       'микровэн', 'купе-хардтоп', 'фастбек', 'тарга', 'лимузин',\n",
       "       'седан-хардтоп', 'фургон'], dtype=object)"
      ]
     },
     "execution_count": 47,
     "metadata": {},
     "output_type": "execute_result"
    }
   ],
   "source": [
    "data.bodyType.unique()"
   ]
  },
  {
   "cell_type": "code",
   "execution_count": 48,
   "metadata": {},
   "outputs": [
    {
     "data": {
      "text/plain": [
       "(array([8.9156e+04, 5.5179e+04, 4.3740e+03, 3.1280e+03, 2.9700e+03,\n",
       "        3.5910e+03, 8.5000e+01, 2.9900e+02, 1.2000e+01, 1.8700e+02]),\n",
       " array([ 0. ,  1.7,  3.4,  5.1,  6.8,  8.5, 10.2, 11.9, 13.6, 15.3, 17. ]),\n",
       " <BarContainer object of 10 artists>)"
      ]
     },
     "execution_count": 48,
     "metadata": {},
     "output_type": "execute_result"
    },
    {
     "data": {
      "image/png": "[encoded data removed]",
      "text/plain": [
       "<Figure size 432x288 with 1 Axes>"
      ]
     },
     "metadata": {
      "needs_background": "light"
     },
     "output_type": "display_data"
    }
   ],
   "source": [
    "plt.hist(data.bodyType) #Признаки стоит укрупнить. Оставить три "
   ]
  },
  {
   "cell_type": "code",
   "execution_count": 49,
   "metadata": {},
   "outputs": [
    {
     "data": {
      "text/plain": [
       "1    0.494405\n",
       "2    0.290808\n",
       "3    0.214787\n",
       "Name: bodyType, dtype: float64"
      ]
     },
     "execution_count": 49,
     "metadata": {},
     "output_type": "execute_result"
    }
   ],
   "source": [
    "data.bodyType = data.bodyType.apply(lambda x: 1 if x=='внедорожник'\n",
    "                                    else 2 if x=='седан'\n",
    "                                    else 3)\n",
    "data.bodyType.value_counts(normalize=True)"
   ]
  },
  {
   "cell_type": "code",
   "execution_count": 50,
   "metadata": {},
   "outputs": [
    {
     "data": {
      "text/plain": [
       "array([3, 1, 2], dtype=int64)"
      ]
     },
     "execution_count": 50,
     "metadata": {},
     "output_type": "execute_result"
    }
   ],
   "source": [
    "data.bodyType.unique()"
   ]
  },
  {
   "cell_type": "markdown",
   "metadata": {},
   "source": [
    "### color"
   ]
  },
  {
   "cell_type": "code",
   "execution_count": 51,
   "metadata": {},
   "outputs": [
    {
     "data": {
      "text/plain": [
       "040001         36142\n",
       "FAFBFB         28972\n",
       "97948F         17899\n",
       "чёрный         11010\n",
       "0000CC         10928\n",
       "CACECB         10527\n",
       "белый           6133\n",
       "200204          5770\n",
       "EE1D19          5504\n",
       "серебристый     4113\n",
       "серый           3984\n",
       "синий           3289\n",
       "007F00          2458\n",
       "C49648          2266\n",
       "красный         1531\n",
       "коричневый      1501\n",
       "22A0F8          1096\n",
       "зелёный          952\n",
       "DEA522           640\n",
       "бежевый          639\n",
       "660099           615\n",
       "FF8649           567\n",
       "4A2197           529\n",
       "голубой          457\n",
       "FFD600           355\n",
       "золотистый       266\n",
       "пурпурный        254\n",
       "фиолетовый       219\n",
       "жёлтый           194\n",
       "оранжевый        131\n",
       "FFC0CB            27\n",
       "розовый           13\n",
       "Name: color, dtype: int64"
      ]
     },
     "execution_count": 51,
     "metadata": {},
     "output_type": "execute_result"
    }
   ],
   "source": [
    "data.color.value_counts()"
   ]
  },
  {
   "cell_type": "code",
   "execution_count": 52,
   "metadata": {},
   "outputs": [],
   "source": [
    "color_dict = {'040001': 'чёрный', 'FAFBFB': 'белый', '97948F': 'серый', 'CACECB': 'серебристый', '0000CC': 'синий', '200204': 'коричневый',\n",
    "              'EE1D19': 'красный',  '007F00': 'зелёный', 'C49648': 'бежевый', '22A0F8': 'голубой', '660099': 'пурпурный', 'DEA522': 'золотистый', \n",
    "              '4A2197': 'фиолетовый', 'FFD600': 'жёлтый', 'FF8649': 'оранжевый', 'FFC0CB': 'розовый'}"
   ]
  },
  {
   "cell_type": "code",
   "execution_count": 53,
   "metadata": {},
   "outputs": [
    {
     "data": {
      "text/plain": [
       "чёрный         0.296589\n",
       "белый          0.220813\n",
       "серый          0.137645\n",
       "серебристый    0.092086\n",
       "синий          0.089426\n",
       "коричневый     0.045735\n",
       "красный        0.044251\n",
       "зелёный        0.021449\n",
       "бежевый        0.018273\n",
       "голубой        0.009768\n",
       "золотистый     0.005699\n",
       "пурпурный      0.005466\n",
       "фиолетовый     0.004705\n",
       "оранжевый      0.004390\n",
       "жёлтый         0.003453\n",
       "розовый        0.000252\n",
       "Name: color, dtype: float64"
      ]
     },
     "execution_count": 53,
     "metadata": {},
     "output_type": "execute_result"
    }
   ],
   "source": [
    "data.color.replace(to_replace=color_dict, inplace=True)\n",
    "data.color.value_counts(normalize=True)"
   ]
  },
  {
   "cell_type": "code",
   "execution_count": 54,
   "metadata": {},
   "outputs": [
    {
     "data": {
      "text/plain": [
       "(array([61369., 21883., 42376.,   869., 17545.,  7035.,  3959.,  1553.,\n",
       "         1446.,   946.]),\n",
       " array([ 0. ,  1.5,  3. ,  4.5,  6. ,  7.5,  9. , 10.5, 12. , 13.5, 15. ]),\n",
       " <BarContainer object of 10 artists>)"
      ]
     },
     "execution_count": 54,
     "metadata": {},
     "output_type": "execute_result"
    },
    {
     "data": {
      "image/png": "[encoded data removed]",
      "text/plain": [
       "<Figure size 432x288 with 1 Axes>"
      ]
     },
     "metadata": {
      "needs_background": "light"
     },
     "output_type": "display_data"
    }
   ],
   "source": [
    "plt.hist(data.color) #Признаки стоит укрупнить. Оставить шесть"
   ]
  },
  {
   "cell_type": "code",
   "execution_count": 55,
   "metadata": {},
   "outputs": [
    {
     "data": {
      "text/plain": [
       "1    0.296589\n",
       "2    0.220813\n",
       "6    0.163441\n",
       "3    0.137645\n",
       "4    0.092086\n",
       "5    0.089426\n",
       "Name: color, dtype: float64"
      ]
     },
     "execution_count": 55,
     "metadata": {},
     "output_type": "execute_result"
    }
   ],
   "source": [
    "data.color = data.color.apply(lambda x: 1 if x=='чёрный'\n",
    "                            else 2 if x=='белый'\n",
    "                            else 3 if x=='серый'\n",
    "                            else 4 if x=='серебристый'\n",
    "                            else 5 if x=='синий'\n",
    "                            else 6)\n",
    "data.color.value_counts(normalize=True)"
   ]
  },
  {
   "cell_type": "code",
   "execution_count": 56,
   "metadata": {},
   "outputs": [
    {
     "data": {
      "text/plain": [
       "array([5, 1, 3, 6, 2, 4], dtype=int64)"
      ]
     },
     "execution_count": 56,
     "metadata": {},
     "output_type": "execute_result"
    }
   ],
   "source": [
    "data.color.unique()"
   ]
  },
  {
   "cell_type": "markdown",
   "metadata": {},
   "source": [
    "### description "
   ]
  },
  {
   "cell_type": "code",
   "execution_count": 57,
   "metadata": {},
   "outputs": [],
   "source": [
    "data['descr_words_count'] = data.description.apply(lambda x: len(x.split()) if isinstance(x, str) else 0)\n",
    "data['descr_words_count'].replace([np.inf, -np.inf], 0, inplace=True)"
   ]
  },
  {
   "cell_type": "code",
   "execution_count": 58,
   "metadata": {},
   "outputs": [],
   "source": [
    "data.drop(labels='description', axis=1, inplace=True)"
   ]
  },
  {
   "cell_type": "markdown",
   "metadata": {},
   "source": [
    "### engineDisplacement"
   ]
  },
  {
   "cell_type": "code",
   "execution_count": 59,
   "metadata": {},
   "outputs": [],
   "source": [
    "for x in data.engineDisplacement:\n",
    "    x = float(x)"
   ]
  },
  {
   "cell_type": "code",
   "execution_count": 60,
   "metadata": {},
   "outputs": [
    {
     "data": {
      "text/plain": [
       "array([1.2, 1.6, 1.8, 2. , 1.4, 1.3, 1. , 3.6, 1.5, 1.9, 2.8, 1.1, 2.5,\n",
       "       4.2, 3. , 4. , 5.9, 2.7, 3.1, 2.4, 5.2, 3.2, 4.1, 6.3, 2.3, 6. ,\n",
       "       2.2, 3.7, 2.9, 5. , 3.3, 2.1, 2.6, nan, 3.5, 1.7, 0.7, 4.4, 4.8,\n",
       "       5.4, 6.6, 4.9, 3.8, 3.4, 3.9, 4.6, 5.6, 4.5, 5.5, 6.2, 4.7, 4.3,\n",
       "       5.8, 5.3, 5.7, 0. , 0.6])"
      ]
     },
     "execution_count": 60,
     "metadata": {},
     "output_type": "execute_result"
    }
   ],
   "source": [
    "data.engineDisplacement.unique()"
   ]
  },
  {
   "cell_type": "markdown",
   "metadata": {},
   "source": [
    "### enginePower"
   ]
  },
  {
   "cell_type": "code",
   "execution_count": 61,
   "metadata": {},
   "outputs": [
    {
     "data": {
      "text/plain": [
       "array(['105 N12', '110 N12', '152 N12', '200 N12', '102 N12', '150 N12',\n",
       "       '90 N12', '180 N12', '220 N12', '122 N12', '70 N12', '140 N12',\n",
       "       '125 N12', '54 N12', '86 N12', '75 N12', '64 N12', '95 N12',\n",
       "       '260 N12', '170 N12', '80 N12', '68 N12', '160 N12', '115 N12',\n",
       "       '280 N12', '53 N12', '60 N12', '143 N12', '42 N12', '101 N12',\n",
       "       '58 N12', '193 N12', '79 N12', '30 N12', '100 N12', '50 N12',\n",
       "       '163 N12', '225 N12', '420 N12', '211 N12', '245 N12', '560 N12',\n",
       "       '500 N12', '249 N12', '450 N12', '605 N12', '250 N12', '354 N12',\n",
       "       '120 N12', '290 N12', '230 N12', '350 N12', '204 N12', '255 N12',\n",
       "       '340 N12', '177 N12', '272 N12', '372 N12', '210 N12', '130 N12',\n",
       "       '300 N12', '190 N12', '239 N12', '435 N12', '333 N12', '271 N12',\n",
       "       '326 N12', '238 N12', '310 N12', '233 N12', '252 N12', '133 N12',\n",
       "       '460 N12', '520 N12', '400 N12', '525 N12', '367 N12', '265 N12',\n",
       "       '550 N12', '580 N12', '88 N12', '165 N12', '430 N12', '335 N12',\n",
       "       '174 N12', '224 N12', '136 N12', '256 N12', '338 N12', '112 N12',\n",
       "       '218 N12', '360 N12', '93 N12', '182 N12', '113 N12', '240 N12',\n",
       "       '270 N12', '137 N12', '155 N12', '61 N12', '254 N12', '116 N12',\n",
       "       '71 N12', '285 N12', '408 N12', '166 N12', '156 N12', '257 N12',\n",
       "       '201 N12', '162 N12', '194 N12', '142 N12', '154 N12', '147 N12',\n",
       "       '281 N12', '243 N12', '118 N12', '128 N12', '91 N12', '83 N12',\n",
       "       '205 N12', '247 N12', '188 N12', '295 N12', '275 N12', '78 N12',\n",
       "       '109 N12', '94 N12', '185 N12', '258 N12', '145 N12', '132 N12',\n",
       "       '135 N12', '52 N12', '66 N12', '124 N12', '98 N12', '215 N12',\n",
       "       '158 N12', '99 N12', '103 N12', '131 N12', '126 N12', '235 N12',\n",
       "       '181 N12', '315 N12', '203 N12', '231 N12', '82 N12', '304 N12',\n",
       "       '175 N12', '320 N12', '213 N12', '144 N12', '146 N12', '151 N12',\n",
       "       '111 N12', '286 N12', '306 N12', '107 N12', '184 N12', '313 N12',\n",
       "       '264 N12', '575 N12', '407 N12', '192 N12', '129 N12', '555 N12',\n",
       "       '625 N12', '329 N12', '370 N12', '381 N12', '269 N12', '600 N12',\n",
       "       '510 N12', '544 N12', '462 N12', '355 N12', '507 N12', '609 N12',\n",
       "       '431 N12', '530 N12', '387 N12', '610 N12', '197 N12', '343 N12',\n",
       "       '445 N12', '171 N12', '51 N12', '46 N12', '347 N12', '321 N12',\n",
       "       '167 N12', '141 N12', '169 N12', '405 N12', '117 N12', '114 N12',\n",
       "       '173 N12', '234 N12', '540 N12', '106 N12', '49 N12', '248 N12',\n",
       "       '317 N12', '309 N12', '97 N12', '121 N12', '268 N12', '149 N12',\n",
       "       '87 N12', '85 N12', '65 N12', '67 N12', '127 N12', '485 N12',\n",
       "       '186 N12', '222 N12', '307 N12', '262 N12', '302 N12', '284 N12',\n",
       "       '325 N12', '168 N12', '221 N12', '330 N12', '283 N12', '328 N12',\n",
       "       '303 N12', '278 N12', '388 N12', '571 N12', '585 N12', '612 N12',\n",
       "       '401 N12', '279 N12', '455 N12', '382 N12', '557 N12', '517 N12',\n",
       "       '394 N12', '422 N12', '292 N12', '469 N12', '522 N12', '296 N12',\n",
       "       '639 N12', '390 N12', '476 N12', '630 N12', '402 N12', '487 N12',\n",
       "       '558 N12', '421 N12', '316 N12', '514 N12', '457 N12', '626 N12',\n",
       "       '242 N12', '38 N12', '32 N12', '223 N12', '72 N12', '305 N12',\n",
       "       '183 N12', '273 N12', '159 N12', '76 N12', '148 N12', '179 N12',\n",
       "       '73 N12', '277 N12', '282 N12', '178 N12', '288 N12', '199 N12',\n",
       "       '266 N12', '92 N12', '74 N12', '324 N12', '232 N12', '157 N12',\n",
       "       '69 N12', '212 N12', '276 N12', '202 N12', '77 N12', '164 N12',\n",
       "       '96 N12', '84 N12', '228 N12', '108 N12', '208 N12', '263 N12',\n",
       "       '294 N12', '318 N12', '380 N12', '219 N12', '214 N12', '383 N12',\n",
       "       '241 N12', '57 N12', '55 N12', '104 N12', '48 N12', '40 N12',\n",
       "       '44 N12', '227 N12', '139 N12', '209 N12', '195 N12', '189 N12',\n",
       "       '480 N12', '591 N12', '301 N12', 238.0, 113.0, 150.0, 233.0, 249.0,\n",
       "       367.0, 286.0, 340.0, 270.0, 177.0, 252.0, 140.0, 211.0, 220.0,\n",
       "       204.0, 180.0, 163.0, 133.0, 102.0, 231.0, 90.0, 239.0, 280.0,\n",
       "       265.0, 143.0, 333.0, 190.0, 218.0, 646.0, 200.0, 456.0, 310.0,\n",
       "       170.0, 350.0, 125.0, 224.0, 225.0, 460.0, 272.0, 245.0, 136.0,\n",
       "       122.0, 230.0, 462.0, 326.0, 381.0, 271.0, 250.0, 184.0, 255.0,\n",
       "       110.0, 120.0, 105.0, 300.0, 71.0, 210.0, 243.0, 165.0, 500.0,\n",
       "       349.0, 313.0, 450.0, 600.0, 86.0, 258.0, 88.0, 155.0, 338.0, 422.0,\n",
       "       320.0, 116.0, 115.0, 299.0, 160.0, 507.0, 408.0, 112.0, 435.0,\n",
       "       385.0, 240.0, 372.0, 420.0, 260.0, 347.0, 571.0, 75.0, 193.0,\n",
       "       137.0, 503.0, 344.0, 560.0, 354.0, 130.0, 174.0, 290.0, 185.0,\n",
       "       580.0, 430.0, 70.0, 101.0, 100.0, 605.0, 525.0, 335.0, 87.0, 54.0,\n",
       "       275.0, 85.0, 394.0, 355.0, 400.0, 306.0, 235.0, 407.0, 530.0,\n",
       "       304.0, 292.0, 575.0, 178.0, 555.0, 387.0, 360.0, 192.0, 544.0,\n",
       "       625.0, 431.0, 248.0, 269.0, 156.0, 197.0, 449.0, 480.0, 635.0,\n",
       "       264.0, 370.0, 610.0, 374.0, 329.0, 585.0, 118.0, 234.0, 129.0,\n",
       "       46.0, 609.0, 188.0, 95.0, 162.0, 83.0, 58.0, 78.0, 212.0, 166.0,\n",
       "       158.0, 201.0, 186.0, 91.0, 145.0, 132.0, 281.0, 64.0, 128.0, 131.0,\n",
       "       147.0, 182.0, 53.0, 257.0, 99.0, 154.0, 142.0, 124.0, 135.0, 98.0,\n",
       "       152.0, 295.0, 175.0, 173.0, 114.0, 205.0, 66.0, 76.0, 50.0, 169.0,\n",
       "       161.0, 247.0, 215.0, 52.0, 314.0, 148.0, 94.0, 268.0, 194.0, 237.0,\n",
       "       92.0, 126.0, 82.0, 109.0, 176.0, 103.0, 325.0, 222.0, 405.0, 307.0,\n",
       "       309.0, 330.0, 302.0, 328.0, 168.0, 364.0, 390.0, 283.0, 262.0,\n",
       "       315.0, 303.0, 278.0, 221.0, 284.0, 277.0, 279.0, 296.0, 383.0,\n",
       "       263.0, 380.0, 208.0, 317.0, 181.0, 276.0, 421.0, 388.0, 223.0,\n",
       "       305.0, 171.0, 464.0, 294.0, 146.0, 477.0, 316.0, 214.0, 416.0,\n",
       "       228.0, 282.0, 423.0, 288.0, 311.0, 417.0, 232.0, 172.0, 219.0,\n",
       "       510.0, 517.0, 612.0, 489.0, 455.0, 630.0, 401.0, 800.0, 557.0,\n",
       "       469.0, 700.0, 558.0, 639.0, 402.0, 382.0, 183.0, 843.0, 476.0,\n",
       "       444.0, 537.0, 524.0, 481.0, 591.0, 49.0, 121.0, 167.0, 227.0,\n",
       "       189.0, 117.0, 209.0, 97.0, 139.0, 80.0, 144.0, 202.0, 203.0, 195.0,\n",
       "       67.0, 213.0, 149.0, 199.0, 69.0, 68.0, 241.0, 111.0, 74.0, 256.0,\n",
       "       79.0, 141.0, 107.0, 540.0, 106.0, 321.0, 253.0, 60.0, 65.0, 138.0,\n",
       "       151.0, 164.0, 179.0, 187.0, 206.0, 72.0, 318.0, 159.0, 157.0,\n",
       "       274.0, 415.0, 301.0, 73.0, 134.0, 273.0, 77.0, 196.0, 266.0, 236.0,\n",
       "       84.0, 45.0, 254.0, 285.0, 226.0, 410.0, 242.0, 514.0, 650.0, 55.0,\n",
       "       448.0, 343.0, 522.0, 670.0, 626.0, 48.0, 153.0, 89.0, 57.0, 104.0,\n",
       "       520.0, 445.0, 108.0], dtype=object)"
      ]
     },
     "execution_count": 61,
     "metadata": {},
     "output_type": "execute_result"
    }
   ],
   "source": [
    "data.enginePower.unique()"
   ]
  },
  {
   "cell_type": "code",
   "execution_count": 62,
   "metadata": {},
   "outputs": [
    {
     "data": {
      "text/plain": [
       "array([105., 110., 152., 200., 102., 150.,  90., 180., 220., 122.,  70.,\n",
       "       140., 125.,  54.,  86.,  75.,  64.,  95., 260., 170.,  80.,  68.,\n",
       "       160., 115., 280.,  53.,  60., 143.,  42., 101.,  58., 193.,  79.,\n",
       "        30., 100.,  50., 163., 225., 420., 211., 245., 560., 500., 249.,\n",
       "       450., 605., 250., 354., 120., 290., 230., 350., 204., 255., 340.,\n",
       "       177., 272., 372., 210., 130., 300., 190., 239., 435., 333., 271.,\n",
       "       326., 238., 310., 233., 252., 133., 460., 520., 400., 525., 367.,\n",
       "       265., 550., 580.,  88., 165., 430., 335., 174., 224., 136., 256.,\n",
       "       338., 112., 218., 360.,  93., 182., 113., 240., 270., 137., 155.,\n",
       "        61., 254., 116.,  71., 285., 408., 166., 156., 257., 201., 162.,\n",
       "       194., 142., 154., 147., 281., 243., 118., 128.,  91.,  83., 205.,\n",
       "       247., 188., 295., 275.,  78., 109.,  94., 185., 258., 145., 132.,\n",
       "       135.,  52.,  66., 124.,  98., 215., 158.,  99., 103., 131., 126.,\n",
       "       235., 181., 315., 203., 231.,  82., 304., 175., 320., 213., 144.,\n",
       "       146., 151., 111., 286., 306., 107., 184., 313., 264., 575., 407.,\n",
       "       192., 129., 555., 625., 329., 370., 381., 269., 600., 510., 544.,\n",
       "       462., 355., 507., 609., 431., 530., 387., 610., 197., 343., 445.,\n",
       "       171.,  51.,  46., 347., 321., 167., 141., 169., 405., 117., 114.,\n",
       "       173., 234., 540., 106.,  49., 248., 317., 309.,  97., 121., 268.,\n",
       "       149.,  87.,  85.,  65.,  67., 127., 485., 186., 222., 307., 262.,\n",
       "       302., 284., 325., 168., 221., 330., 283., 328., 303., 278., 388.,\n",
       "       571., 585., 612., 401., 279., 455., 382., 557., 517., 394., 422.,\n",
       "       292., 469., 522., 296., 639., 390., 476., 630., 402., 487., 558.,\n",
       "       421., 316., 514., 457., 626., 242.,  38.,  32., 223.,  72., 305.,\n",
       "       183., 273., 159.,  76., 148., 179.,  73., 277., 282., 178., 288.,\n",
       "       199., 266.,  92.,  74., 324., 232., 157.,  69., 212., 276., 202.,\n",
       "        77., 164.,  96.,  84., 228., 108., 208., 263., 294., 318., 380.,\n",
       "       219., 214., 383., 241.,  57.,  55., 104.,  48.,  40.,  44., 227.,\n",
       "       139., 209., 195., 189., 480., 591., 301., 646., 456., 349., 299.,\n",
       "       385., 503., 344., 449., 635., 374., 161., 314., 237., 176., 364.,\n",
       "       464., 477., 416., 423., 311., 417., 172., 489., 800., 700., 843.,\n",
       "       444., 537., 524., 481., 253., 138., 187., 206., 274., 415., 134.,\n",
       "       196., 236.,  45., 226., 410., 650., 448., 670., 153.,  89.])"
      ]
     },
     "execution_count": 62,
     "metadata": {},
     "output_type": "execute_result"
    }
   ],
   "source": [
    "data.enginePower = data.enginePower.apply(\n",
    "    lambda x: float(x.replace(\"N12\", \"\")) if isinstance(x, str) else x\n",
    ")\n",
    "data.enginePower.unique()"
   ]
  },
  {
   "cell_type": "markdown",
   "metadata": {},
   "source": [
    "### equipment_dict"
   ]
  },
  {
   "cell_type": "code",
   "execution_count": 63,
   "metadata": {},
   "outputs": [],
   "source": [
    "data['equipment_dict_len'] = data.equipment_dict.apply(lambda x: int(len(re.findall('true',str(x)))))\n",
    "data['equipment_dict_len'].replace([np.inf, -np.inf], 0, inplace=True)"
   ]
  },
  {
   "cell_type": "code",
   "execution_count": 64,
   "metadata": {},
   "outputs": [
    {
     "data": {
      "text/plain": [
       "0    36\n",
       "1    34\n",
       "2    55\n",
       "3    52\n",
       "4    29\n",
       "Name: equipment_dict_len, dtype: int64"
      ]
     },
     "execution_count": 64,
     "metadata": {},
     "output_type": "execute_result"
    }
   ],
   "source": [
    "data['equipment_dict_len'].head()"
   ]
  },
  {
   "cell_type": "code",
   "execution_count": 65,
   "metadata": {},
   "outputs": [
    {
     "data": {
      "text/plain": [
       "0"
      ]
     },
     "execution_count": 65,
     "metadata": {},
     "output_type": "execute_result"
    }
   ],
   "source": [
    "data['equipment_dict_len'].isna().sum()"
   ]
  },
  {
   "cell_type": "code",
   "execution_count": 66,
   "metadata": {},
   "outputs": [],
   "source": [
    "data.drop(labels='equipment_dict', axis=1, inplace=True)"
   ]
  },
  {
   "cell_type": "markdown",
   "metadata": {},
   "source": [
    "### fuelType"
   ]
  },
  {
   "cell_type": "code",
   "execution_count": 67,
   "metadata": {},
   "outputs": [
    {
     "data": {
      "text/plain": [
       "array(['бензин', 'дизель', 'гибрид', 'электро', 'газ', 'DIESEL',\n",
       "       'GASOLINE', 'HYBRID', 'ELECTRO', 'LPG'], dtype=object)"
      ]
     },
     "execution_count": 67,
     "metadata": {},
     "output_type": "execute_result"
    }
   ],
   "source": [
    "data.fuelType.unique()"
   ]
  },
  {
   "cell_type": "code",
   "execution_count": 68,
   "metadata": {},
   "outputs": [
    {
     "data": {
      "text/plain": [
       "array(['бензин', 'дизель', 'гибрид', 'электро', 'газ'], dtype=object)"
      ]
     },
     "execution_count": 68,
     "metadata": {},
     "output_type": "execute_result"
    }
   ],
   "source": [
    "data.fuelType = data.fuelType.apply(lambda x: \"бензин\" if x=='GASOLINE' \n",
    "                                    else \"дизель\" if x==\"DIESEL\" \n",
    "                                    else \"гибрид\" if x==\"HYBRID\"\n",
    "                                    else \"газ\" if x==\"LPG\"\n",
    "                                    else \"электро\" if x==\"ELECTRO\"\n",
    "                                    else x)\n",
    "data.fuelType.unique()"
   ]
  },
  {
   "cell_type": "code",
   "execution_count": 69,
   "metadata": {},
   "outputs": [],
   "source": [
    "data.loc[(data.engineDisplacement.isna()) & (data.fuelType ==\n",
    "                                                 'электро'), 'engineDisplacement'] = 0.0  # Для электромобидей fillna"
   ]
  },
  {
   "cell_type": "code",
   "execution_count": 70,
   "metadata": {},
   "outputs": [
    {
     "data": {
      "text/plain": [
       "0"
      ]
     },
     "execution_count": 70,
     "metadata": {},
     "output_type": "execute_result"
    }
   ],
   "source": [
    "data.engineDisplacement.isna().sum()"
   ]
  },
  {
   "cell_type": "code",
   "execution_count": 71,
   "metadata": {},
   "outputs": [
    {
     "data": {
      "text/plain": [
       "бензин     0.767576\n",
       "дизель     0.198376\n",
       "гибрид     0.030834\n",
       "электро    0.002472\n",
       "газ        0.000742\n",
       "Name: fuelType, dtype: float64"
      ]
     },
     "execution_count": 71,
     "metadata": {},
     "output_type": "execute_result"
    }
   ],
   "source": [
    "data.fuelType.value_counts(normalize=True)"
   ]
  },
  {
   "cell_type": "code",
   "execution_count": 72,
   "metadata": {},
   "outputs": [
    {
     "data": {
      "text/plain": [
       "(array([1.2203e+05, 0.0000e+00, 3.1538e+04, 0.0000e+00, 0.0000e+00,\n",
       "        4.9020e+03, 0.0000e+00, 3.9300e+02, 0.0000e+00, 1.1800e+02]),\n",
       " array([0. , 0.4, 0.8, 1.2, 1.6, 2. , 2.4, 2.8, 3.2, 3.6, 4. ]),\n",
       " <BarContainer object of 10 artists>)"
      ]
     },
     "execution_count": 72,
     "metadata": {},
     "output_type": "execute_result"
    },
    {
     "data": {
      "image/png": "[encoded data removed]",
      "text/plain": [
       "<Figure size 432x288 with 1 Axes>"
      ]
     },
     "metadata": {
      "needs_background": "light"
     },
     "output_type": "display_data"
    }
   ],
   "source": [
    "plt.hist(data.fuelType) #Признаки стоит укрупнить. Оставить три"
   ]
  },
  {
   "cell_type": "code",
   "execution_count": 73,
   "metadata": {},
   "outputs": [
    {
     "name": "stdout",
     "output_type": "stream",
     "text": [
      "[1 2 3]\n"
     ]
    },
    {
     "data": {
      "text/plain": [
       "1    0.767576\n",
       "2    0.198376\n",
       "3    0.034048\n",
       "Name: fuelType, dtype: float64"
      ]
     },
     "execution_count": 73,
     "metadata": {},
     "output_type": "execute_result"
    }
   ],
   "source": [
    "data.fuelType = data.fuelType.apply(lambda x: 1 if x==\"бензин\"\n",
    "                                    else 2 if x==\"дизель\" \n",
    "                                    else 3)\n",
    "print(data.fuelType.unique())\n",
    "data.fuelType.value_counts(normalize=True)"
   ]
  },
  {
   "cell_type": "markdown",
   "metadata": {},
   "source": [
    "### modelDate"
   ]
  },
  {
   "cell_type": "code",
   "execution_count": 74,
   "metadata": {},
   "outputs": [
    {
     "data": {
      "text/plain": [
       "array([2013., 2017., 2008., 2009., 2016., 2012., 2015., 2010., 2006.,\n",
       "       2000., 2007., 1994., 2004., 1999., 2005., 1976., 2001., 1969.,\n",
       "       1996., 1998., 1989., 1934., 2014., 2011., 2018., 1986., 1997.,\n",
       "       1990., 2019., 2002., 1991., 1987., 1980., 1982., 1938., 1988.,\n",
       "       2003., 1983., 1978., 1979., 1984., 1992., 1995., 1993., 1985.,\n",
       "       1974., 1966., 1977., 1981., 1972., 1968., 1975., 1949., 1937.,\n",
       "       1936., 1973., 1959., 1958., 2020., 1965., 1971., 1904., 1963.,\n",
       "       1955., 1951., 1960., 2021., 1967., 1957.])"
      ]
     },
     "execution_count": 74,
     "metadata": {},
     "output_type": "execute_result"
    }
   ],
   "source": [
    "data.modelDate.unique()"
   ]
  },
  {
   "cell_type": "code",
   "execution_count": 75,
   "metadata": {},
   "outputs": [],
   "source": [
    "for x in data.modelDate:\n",
    "    x = int(x)"
   ]
  },
  {
   "cell_type": "markdown",
   "metadata": {},
   "source": [
    "### model_name"
   ]
  },
  {
   "cell_type": "code",
   "execution_count": 76,
   "metadata": {},
   "outputs": [],
   "source": [
    "data.model_name.replace(\"_\",\" \")\n",
    "data.model_name = data.model_name.apply(lambda x: x.lower())"
   ]
  },
  {
   "cell_type": "code",
   "execution_count": 77,
   "metadata": {},
   "outputs": [
    {
     "name": "stdout",
     "output_type": "stream",
     "text": [
      "773\n"
     ]
    },
    {
     "data": {
      "text/plain": [
       "array(['octavia', 'superb', 'octavia_rs', 'yeti', 'kodiaq', 'rapid',\n",
       "       'fabia', 'roomster', 'felicia', 'karoq', 'fabia_rs', '120',\n",
       "       '100_series', 'favorit', 'popular', 'q5', 'r8', 'q7', 'q3', 'a4',\n",
       "       'a3', 'a5', 'a6', 'rs7', 's6', 'rs6', 'allroad', 'tt', 's5', 's8',\n",
       "       'a1', 'a8', '80', 'a7', 'rsq3', 'rs3', 'a4_allroad', 'q8', '100',\n",
       "       'sq5', 's4', 'tt_rs', 'rs4', 's7', 'rs5', '90', 'coupe', 'a2',\n",
       "       'tts', '920', 's3', '200', 'v8', 'e_tron', 'cr_v', 'accord',\n",
       "       'pilot', 'civic', 'odyssey', 'stream', 'crosstour', 'elysion',\n",
       "       'element', 'ridgeline', 'fit', 'hr_v', 'shuttle', 'freed',\n",
       "       'odyssey_na', 'jazz', 'z', 'civic_ferio', 's2000', 'cr_z',\n",
       "       'legend', 'stepwagon', 'civic_type_r', 'fr_v', 'cr_x', 'prelude',\n",
       "       'mobilio_spike', 'n_box', 'zest', 'integra', 'inspire', 'vezel',\n",
       "       'n_wgn', 'ascot', 'logo', 'acty', 'concerto', 'avancier', 'saber',\n",
       "       'mobilio', 'crossroad', 'insight', 'torneo', 'airwave', 'domani',\n",
       "       'rafaga', 'city', 'vigor', 'orthia', 'partner',\n",
       "       'v60_cross_country', 'xc40', 'xc60', 'c30', 'v50', 'xc90',\n",
       "       'v90_cross_country', 's60', 'xc70', 'v40_cc', 's40', 's90', 'v40',\n",
       "       '240_series', 's80', 'v70', 's60_cross_country', '940', '740',\n",
       "       '850', 'v60', 's70', 'c70', '760', '960', '460', '440', '140',\n",
       "       'x5', 'x6', 'x7', 'x3', '5er', 'x2', 'z4', 'x1', '6er', '7er',\n",
       "       'x5_m', 'm5', '1er', '3er', 'x6_m', '4', 'x4', 'm2', 'm6', 'x4_m',\n",
       "       '8er', 'i8', 'i3', '2er', 'm3', 'm1', 'm4', 'x3_m', '2grandtourer',\n",
       "       'z1', '2activetourer', '02', 'z3', 'e3', '340', '321', 'z3m',\n",
       "       '326', 'patrol', 'teana', 'qashqai', 'avenir', 'x_trail', 'murano',\n",
       "       'maxima', 'navara', 'pathfinder', 'note', 'tiida', 'juke',\n",
       "       'terrano', 'almera_classic', 'primera', 'skyline', 'almera',\n",
       "       'qashqai_plus_2', 'serena', 'ad', 'micra', 'leaf', 'gt_r', 'march',\n",
       "       'sentra', 'bluebird_sylphy', 'presage', 'altima', 'np300',\n",
       "       'clipper', 'prairie', 'almera_tino', 'dayz', 'fairlady_z', 'quest',\n",
       "       'silvia', 'armada', '350z', 'nv200', 'juke_nismo', 'stagea',\n",
       "       '280zx', 'elgrand', '300zx', 'cefiro', 'president', 'cube',\n",
       "       'pulsar', 'bluebird', 'fuga', 'laurel', 'wingroad',\n",
       "       'caravan_coach', 'datsun', 'gloria', 'expert', '100nx', 'safari',\n",
       "       'liberty', 'cedric', 'vanette', 'sunny', 'otti', 'dayz_roox',\n",
       "       'presea', 'bassara', 'terrano_regulus', 'rnessa', 'tino', '200sx',\n",
       "       'lafesta', 'kix', 'largo', 'urvan', 'jx', 'fx', 'g35', 'q50',\n",
       "       'qx56', 'qx50', 'qx80', 'ex', 'q70', 'qx70', 'qx60', 'm', 'qx4',\n",
       "       'q30', 'qx30', 'q60', 'q', 'i', 'v_klasse', 'c_klasse',\n",
       "       'gle_klasse', 'e_klasse', 's_klasse', 'gla_class', 'slk_klasse',\n",
       "       'sls_amg', 'g_klasse_amg', 'gle_klasse_coupe', 'm_klasse_amg',\n",
       "       'e_klasse_amg', 'glc_klasse', 'cla_klasse', 'gl_klasse',\n",
       "       'b_klasse', 'a_klasse', 'gls_klasse', 'glk_klasse', 'm_klasse',\n",
       "       'w124', 'viano', 'vito', 'g_klasse', 's_class_maybach',\n",
       "       'c_klasse_amg', 'clc_klasse', 'clk_klasse', 'gl_klasse_amg',\n",
       "       'glc_coupe', 'cls_klasse', 's_klasse_amg', 'gle_klasse_coupe_amg',\n",
       "       'amg_gt', 'w201', 'cla_klasse_amg', 'sl_klasse', 'gls_klasse_amg',\n",
       "       'cl_klasse', 'r_klasse', 'gle_klasse_amg', 'cls_klasse_amg',\n",
       "       'sl_klasse_amg', 'a_klasse_amg', 'w111', 'w128', 'glc_klasse_amg',\n",
       "       'slc_klasse', 'glb_klasse', 'gla_class_amg', 'amg_glc_coupe',\n",
       "       'x_klasse', 'cl_klasse_amg', 'maybach_gls', 'slr_klasse', 'vaneo',\n",
       "       'w123', 'citan', 'w136', 'simplex', 'w114', '190_sl', 'w186',\n",
       "       'w188', 'camry', 'rav_4', 'avensis', 'gt86', 'land_cruiser',\n",
       "       'corolla', 'land_cruiser_prado', 'matrix', '4runner', 'sequoia',\n",
       "       'highlander', 'crown', 'hilux', 'hilux_surf', 'isis', 'auris',\n",
       "       'vitz', 'prius', 'yaris', 'carina', 'chaser', 'estima', 'esquire',\n",
       "       'verso', 'echo', 'town_ace', 'fj_cruiser', 'venza', 'tundra',\n",
       "       'sienna', 'bb', 'aqua', 'iq', 'caldina', 'fortuner', 'alphard',\n",
       "       'supra', 'c_hr', 'mark_ii', 'celica', 'soarer', 'sera', 'mark_x',\n",
       "       'sprinter_trueno', 'camry_solara', 'voxy', 'crown_majesta',\n",
       "       'altezza', 'mr2', 'avensis_verso', 'aristo', 'harrier', 'hiace',\n",
       "       'verso_s', 'vellfire', 'corolla_verso', 'regius', 'ipsum',\n",
       "       'cresta', 'mr_s', 'yaris_verso', 'noah', 'lite_ace', 'blade',\n",
       "       'picnic', 'corolla_spacio', 'carina_ed', 'corolla_levin',\n",
       "       'corolla_rumion', 'grand_hiace', 'carina_e', 'origin', 'aygo',\n",
       "       'starlet', 'vanguard', 'wish', 'probox', 'curren', 'verossa',\n",
       "       'sienta', 'scepter_sedan', 'funcargo', 'progres', 'passo', 'opa',\n",
       "       'sparky', 'succeed', 'premio', 'previa', 'windom', 'allex',\n",
       "       'corona', 'sprinter_carib', 'spade', 'avalon', 'tercel', 'cynos',\n",
       "       'prius_alpha', 'sprinter', 'master_ace_surf', 'sprinter_marino',\n",
       "       'cami', 'corolla_ii', 'corsa', 'raum', 'vista', 'corona_exiv',\n",
       "       'mega_cruiser', 'mark_x_zio', 'priusplus', 'ist', 'granvia',\n",
       "       'gaia', 'cavalier', 'duet', 'ractis', 'nadia', 'porte', 'ls', 'gs',\n",
       "       'es', 'is', 'lx', 'rx', 'nx', 'gx', 'ux', 'ct', 'lm', 'rc', 'hs',\n",
       "       'sc', 'touareg', 'tiguan', 'passat', 'amarok', 'polo', 'caddy',\n",
       "       'passat_cc', 'jetta', 'transporter', 'scirocco', 'golf', 'touran',\n",
       "       'caravelle', 'multivan', 'sharan', 'golf_plus', 'teramont',\n",
       "       'vento', 'arteon', 'phaeton', 'golf_gti', 'beetle', 'eurovan',\n",
       "       'california', 'golf_r', 'corrado', 'golf_r32', 'eos', 'bora',\n",
       "       'polo_gti', 'lupo', 'type_1', 'pointer', 'fox', 'taro',\n",
       "       'pajero_sport', 'outlander', 'l200', 'montero', 'lancer', 'pajero',\n",
       "       'montero_sport', 'galant', 'pajero_mini', 'pajero_io', 'asx',\n",
       "       'colt', 'carisma', 'space_star', 'pajero_pinin', 'fto',\n",
       "       'lancer_evolution', 'grandis', 'eclipse_cross', 'eclipse',\n",
       "       'minicab', 'delica_d_5', 'endeavor', 'delica', 'i_miev',\n",
       "       'space_wagon', 'lancer_ralliart', 'legnum', 'airtrek',\n",
       "       'space_gear', 'delica_d2', 'l300', 'sigma', 'diamante', 'l400',\n",
       "       'mirage', 'dingo', 'space_runner', 'chariot', 'ek_wagon', 'rvr',\n",
       "       'libero', 'dion', 'emeraude', 'aspire', 'minica', 'atlas',\n",
       "       'will_cypha', 'paseo', 'will', 'platz', 'q3 sportback', 'q2',\n",
       "       'rs e-tron gt', 'a4 allroad', 'a6 allroad', 'rs q3',\n",
       "       'q5 sportback', 'e-tron', 'rs 6', 'sq7', 'rs 5', 'rs 3', 'sq8',\n",
       "       'e-tron sportback', 'e-tron s', 'rs 7', 'rs q8', 'cabriolet',\n",
       "       '8 серии', '5 серии', 'x6 m', '4 серии', '3 серии', '1 серии',\n",
       "       '2 серии', '6 серии', '7 серии', 'x5 m', '2 серии active tourer',\n",
       "       '2 серии gran tourer', 'm8', 'cr-v', 'stepwgn', 'n-wgn', 'n-box',\n",
       "       'hr-v', 'civic type r', 'fit shuttle', 'odyssey (north america)',\n",
       "       'e', 'cr-z', 'grace', 'capa', 'civic ferio', 'fit aria', 'jade',\n",
       "       'passport', 'life', 'ascot innova', 's-mx', 'clarity',\n",
       "       'mobilio spike', 'edix', 'cr-x', 's660', 'fr-v', 'vamos', 'n-one',\n",
       "       'beat', 'integra sj', 'qx55', 'g', 'j', 'lc', 'gs f', 'is f',\n",
       "       'rc f', 'cls', 'v-класс', 'gls', 'glk-класс', 'gle coupe amg',\n",
       "       's-класс', 'm-класс amg', 'e-класс', 'clk-класс', 'r-класс',\n",
       "       's-класс amg', 'c-класс', 'gle', 'm-класс', 'maybach s-класс',\n",
       "       'a-класс', 'cla', 'g-класс', 'gl-класс', 'gls amg', 'glc',\n",
       "       'b-класс', 'gla', 'e-класс amg', 'cl-класс', 'gle coupe',\n",
       "       'g-класс amg', 'gl-класс amg', 'glb', 'glc coupe', 'amg gt',\n",
       "       'sl-класс amg', 'cla amg', 'glc coupe amg', 'gle amg',\n",
       "       'maybach gls', 'a-класс amg', 'cls amg', 'c-класс amg', 'x-класс',\n",
       "       'gla amg', '190 (w201)', 'glc amg', 'sls amg', 'slk-класс', 'eqc',\n",
       "       '190 sl', 'sl-класс', 'eqs', 'eqv', 'clk-класс amg',\n",
       "       'cl-класс amg', 'pajero sport', 'eclipse cross', 'ek wagon',\n",
       "       'pajero pinin', 'montero sport', 'lancer evolution', 'delica d:5',\n",
       "       'pajero io', 'space runner', 'pajero junior', 'space star',\n",
       "       'challenger', 'i-miev', 'pajero mini', 'space gear', 'space wagon',\n",
       "       'delica d:2', 'sapporo', 'ek custom', 'lancer ralliart',\n",
       "       'delica d:3', 'lancer cargo', 'x-trail', 'qashqai+2',\n",
       "       'almera classic', 'gt-r', 'dayz roox', \"r'nessa\",\n",
       "       'bluebird sylphy', 'navara (frontier)', 'almera tino', 'rasheen',\n",
       "       'terrano regulus', 'rogue', 'nv100 clipper', 'caravan', 'rav4',\n",
       "       'land cruiser prado', 'land cruiser', 'mark ii', 'tank',\n",
       "       'corolla levin', 'c-hr', 'corolla spacio', 'corolla verso',\n",
       "       'carina e', 'allion', 'town ace', 'prius alpha', 'roomy',\n",
       "       'fj cruiser', 'lite ace', 'sprinter carib', 'avensis verso',\n",
       "       'kluger', 'mark x', 'carina ed', 'crown majesta', 'tacoma',\n",
       "       'century', 'corolla rumion', 'camry solara', 'golf r', 'golf plus',\n",
       "       'passat cc', 'taos', 'golf gti', 'passat (north america)',\n",
       "       'type 2', 'v60 cross country', 'v90 cross country',\n",
       "       'v40 cross country', 's60 cross country', 'v90', '240 series',\n",
       "       '164', '300 series', 'octavia rs', 'fabia rs', 'forman',\n",
       "       'clc-класс', 'slr mclaren', 'slc', 'juke nismo', 'corona exiv',\n",
       "       'belta', 'tt rs', 'rs 4', 's2', 'mdx', 'w115', 'town box', 'gto',\n",
       "       'strada', 'eterna', 'ek active', 'dualis', 'sprinter trueno',\n",
       "       'sprinter marino', 'corolla ii', 'sai', 'golf sportsvan', 'x4 m',\n",
       "       'w189', 'w142', '180sx', 'stanza', 'cressida', 'brevis', 'up!'],\n",
       "      dtype=object)"
      ]
     },
     "execution_count": 77,
     "metadata": {},
     "output_type": "execute_result"
    }
   ],
   "source": [
    "print(data.model_name.nunique())\n",
    "data.model_name.unique()"
   ]
  },
  {
   "cell_type": "code",
   "execution_count": 78,
   "metadata": {},
   "outputs": [],
   "source": [
    "most_pop_list = data.model_name.value_counts(normalize=True).head(25).index.tolist()\n",
    "pop_list = data.model_name.value_counts(normalize=True).iloc[25:50].index.tolist()\n",
    "less_pop_list = data.model_name.value_counts(normalize=True).tail(50).index.tolist()"
   ]
  },
  {
   "cell_type": "code",
   "execution_count": 79,
   "metadata": {},
   "outputs": [
    {
     "name": "stdout",
     "output_type": "stream",
     "text": [
      "4\n"
     ]
    },
    {
     "data": {
      "text/plain": [
       "1    0.442267\n",
       "3    0.375768\n",
       "2    0.181651\n",
       "4    0.000315\n",
       "Name: model_name, dtype: float64"
      ]
     },
     "execution_count": 79,
     "metadata": {},
     "output_type": "execute_result"
    }
   ],
   "source": [
    "data.model_name = data.model_name.apply(lambda x: 1 if x in most_pop_list\n",
    "                                        else 2 if x in pop_list\n",
    "                                        else 4 if x in less_pop_list\n",
    "                                        else 3)\n",
    "print(data.model_name.nunique())\n",
    "data.model_name.value_counts(normalize=True)"
   ]
  },
  {
   "cell_type": "markdown",
   "metadata": {},
   "source": [
    "### name "
   ]
  },
  {
   "cell_type": "code",
   "execution_count": 80,
   "metadata": {},
   "outputs": [
    {
     "data": {
      "text/plain": [
       "array(['1.2 AMT (105 л.с.)', '1.6 MT (110 л.с.)',\n",
       "       'DSG 1.8 AMT (152 л.с.)', ..., 'TOYOTA Cressida II (X50, X60)',\n",
       "       'VOLKSWAGEN up! I Рестайлинг', 'VOLKSWAGEN Passat B2'],\n",
       "      dtype=object)"
      ]
     },
     "execution_count": 80,
     "metadata": {},
     "output_type": "execute_result"
    }
   ],
   "source": [
    "data.name.unique()"
   ]
  },
  {
   "cell_type": "code",
   "execution_count": 81,
   "metadata": {},
   "outputs": [],
   "source": [
    "data.drop(labels='name', axis=1, inplace=True)"
   ]
  },
  {
   "cell_type": "markdown",
   "metadata": {},
   "source": [
    "### numberOfDoors"
   ]
  },
  {
   "cell_type": "code",
   "execution_count": 82,
   "metadata": {},
   "outputs": [
    {
     "data": {
      "text/plain": [
       "array([5., 4., 2., 3., 0.])"
      ]
     },
     "execution_count": 82,
     "metadata": {},
     "output_type": "execute_result"
    }
   ],
   "source": [
    "data.numberOfDoors.unique()"
   ]
  },
  {
   "cell_type": "markdown",
   "metadata": {},
   "source": [
    "### productionDate"
   ]
  },
  {
   "cell_type": "code",
   "execution_count": 83,
   "metadata": {},
   "outputs": [
    {
     "data": {
      "text/plain": [
       "array([2014, 2017, 2012, 2011, 2019, 2018, 2010, 2020, 2016, 2013, 2006,\n",
       "       2007, 2015, 2005, 2008, 2009, 1997, 2004, 2002, 1987, 2003, 2001,\n",
       "       1976, 2000, 1998, 1995, 1999, 1993, 1939, 1996, 1984, 1990, 1991,\n",
       "       1992, 1989, 1982, 1985, 1994, 1938, 1981, 1988, 1983, 1980, 1986,\n",
       "       1978, 1970, 1979, 1977, 1972, 1975, 1969, 1950, 1953, 1949, 1937,\n",
       "       1959, 1968, 1936, 1904, 1974, 1967, 1961, 1960, 1965, 1963, 1957,\n",
       "       1952, 1973, 1948, 2021], dtype=int64)"
      ]
     },
     "execution_count": 83,
     "metadata": {},
     "output_type": "execute_result"
    }
   ],
   "source": [
    "data.productionDate.unique()"
   ]
  },
  {
   "cell_type": "code",
   "execution_count": 84,
   "metadata": {},
   "outputs": [],
   "source": [
    "for x in data.productionDate:\n",
    "    x = int(x)"
   ]
  },
  {
   "cell_type": "markdown",
   "metadata": {},
   "source": [
    "### sell_id"
   ]
  },
  {
   "cell_type": "code",
   "execution_count": 85,
   "metadata": {},
   "outputs": [
    {
     "data": {
      "text/plain": [
       "array([1100575026, 1100549428, 1100658222, ..., 1101362518, 1101256068,\n",
       "                0], dtype=int64)"
      ]
     },
     "execution_count": 85,
     "metadata": {},
     "output_type": "execute_result"
    }
   ],
   "source": [
    "data.sell_id.unique() "
   ]
  },
  {
   "cell_type": "code",
   "execution_count": 86,
   "metadata": {},
   "outputs": [],
   "source": [
    "data.drop(labels='sell_id', axis=1, inplace=True)"
   ]
  },
  {
   "cell_type": "markdown",
   "metadata": {},
   "source": [
    "### vehicleConfiguration"
   ]
  },
  {
   "cell_type": "code",
   "execution_count": 87,
   "metadata": {},
   "outputs": [
    {
     "data": {
      "text/plain": [
       "array(['LIFTBACK ROBOT 1.2', 'LIFTBACK MECHANICAL 1.6',\n",
       "       'LIFTBACK ROBOT 1.8', 'LIFTBACK AUTOMATIC 1.6',\n",
       "       'LIFTBACK AUTOMATIC 1.8', 'LIFTBACK ROBOT 2.0',\n",
       "       'ALLROAD_5_DOORS ROBOT 1.8', 'ALLROAD_5_DOORS MECHANICAL 1.4',\n",
       "       'ALLROAD_5_DOORS MECHANICAL 1.8', 'LIFTBACK ROBOT 1.4',\n",
       "       'ALLROAD_5_DOORS ROBOT 1.4', 'ALLROAD_5_DOORS ROBOT 2.0',\n",
       "       'ALLROAD_5_DOORS MECHANICAL 1.2', 'LIFTBACK MECHANICAL 1.4',\n",
       "       'HATCHBACK_5_DOORS AUTOMATIC 1.6',\n",
       "       'HATCHBACK_5_DOORS MECHANICAL 1.2', 'ALLROAD_5_DOORS ROBOT 1.2',\n",
       "       'SEDAN AUTOMATIC 1.8', 'COMPACTVAN AUTOMATIC 1.6',\n",
       "       'WAGON_5_DOORS ROBOT 2.0', 'LIFTBACK MECHANICAL 1.8',\n",
       "       'ALLROAD_5_DOORS AUTOMATIC 1.6', 'HATCHBACK_5_DOORS ROBOT 1.2',\n",
       "       'WAGON_5_DOORS ROBOT 1.8', 'WAGON_5_DOORS AUTOMATIC 1.6',\n",
       "       'HATCHBACK_5_DOORS MECHANICAL 1.3',\n",
       "       'HATCHBACK_5_DOORS MECHANICAL 1.4', 'LIFTBACK MECHANICAL 1.2',\n",
       "       'COMPACTVAN MECHANICAL 1.2', 'WAGON_5_DOORS MECHANICAL 1.2',\n",
       "       'HATCHBACK_5_DOORS MECHANICAL 1.6', 'WAGON_5_DOORS MECHANICAL 1.4',\n",
       "       'WAGON_5_DOORS ROBOT 1.0', 'LIFTBACK ROBOT 3.6',\n",
       "       'COMPACTVAN MECHANICAL 1.4', 'WAGON_5_DOORS ROBOT 1.4',\n",
       "       'WAGON_5_DOORS MECHANICAL 1.6', 'WAGON_5_DOORS MECHANICAL 1.8',\n",
       "       'ALLROAD_5_DOORS ROBOT 1.5', 'WAGON_5_DOORS AUTOMATIC 1.8',\n",
       "       'HATCHBACK_5_DOORS AUTOMATIC 1.4',\n",
       "       'ALLROAD_5_DOORS MECHANICAL 1.6', 'LIFTBACK MECHANICAL 2.0',\n",
       "       'WAGON_5_DOORS ROBOT 3.6', 'WAGON_5_DOORS MECHANICAL 2.0',\n",
       "       'LIFTBACK AUTOMATIC 2.0', 'HATCHBACK_5_DOORS ROBOT 1.4',\n",
       "       'SEDAN MECHANICAL 1.2', 'LIFTBACK ROBOT 1.9',\n",
       "       'COMPACTVAN MECHANICAL 1.6', 'SEDAN MECHANICAL 1.8',\n",
       "       'SEDAN MECHANICAL 1.0', 'PICKUP_ONE MECHANICAL 1.3',\n",
       "       'WAGON_5_DOORS MECHANICAL 1.3', 'WAGON_5_DOORS ROBOT 1.2',\n",
       "       'SEDAN AUTOMATIC 2.8', 'LIFTBACK MECHANICAL 1.9',\n",
       "       'WAGON_5_DOORS AUTOMATIC 1.4', 'SEDAN MECHANICAL 1.4',\n",
       "       'ALLROAD_5_DOORS AUTOMATIC 1.4', 'COMPACTVAN ROBOT 1.2',\n",
       "       'HATCHBACK_3_DOORS MECHANICAL 1.1', 'WAGON_5_DOORS MECHANICAL 1.9',\n",
       "       'HATCHBACK_5_DOORS MECHANICAL 1.0', 'SEDAN AUTOMATIC 2.5',\n",
       "       'ALLROAD_5_DOORS AUTOMATIC 2.0', 'COUPE ROBOT 4.2',\n",
       "       'ALLROAD_5_DOORS AUTOMATIC 3.0', 'SEDAN ROBOT 2.0',\n",
       "       'SEDAN ROBOT 1.4', 'COUPE VARIATOR 1.8', 'SEDAN AUTOMATIC 2.0',\n",
       "       'LIFTBACK AUTOMATIC 4.0', 'ALLROAD_5_DOORS AUTOMATIC 5.9',\n",
       "       'WAGON_5_DOORS AUTOMATIC 2.7', 'SEDAN ROBOT 4.0',\n",
       "       'WAGON_5_DOORS AUTOMATIC 4.0', 'COUPE ROBOT 2.0',\n",
       "       'HATCHBACK_5_DOORS AUTOMATIC 1.8', 'COUPE VARIATOR 2.0',\n",
       "       'SEDAN VARIATOR 2.0', 'COUPE AUTOMATIC 4.2', 'SEDAN VARIATOR 1.8',\n",
       "       'SEDAN AUTOMATIC 4.0', 'SEDAN AUTOMATIC 3.0',\n",
       "       'ALLROAD_5_DOORS AUTOMATIC 3.6', 'ALLROAD_5_DOORS ROBOT 3.0',\n",
       "       'COUPE MECHANICAL 4.2', 'ALLROAD_5_DOORS AUTOMATIC 4.2',\n",
       "       'HATCHBACK_5_DOORS ROBOT 1.8', 'SEDAN ROBOT 2.8',\n",
       "       'WAGON_5_DOORS AUTOMATIC 3.1', 'SEDAN VARIATOR 2.4',\n",
       "       'SEDAN VARIATOR 3.1', 'LIFTBACK ROBOT 3.0', 'SEDAN AUTOMATIC 4.2',\n",
       "       'SEDAN VARIATOR 2.8', 'SEDAN ROBOT 3.0',\n",
       "       'WAGON_5_DOORS VARIATOR 2.0', 'ALLROAD_5_DOORS ROBOT 2.5',\n",
       "       'HATCHBACK_3_DOORS AUTOMATIC 1.6', 'SEDAN AUTOMATIC 5.2',\n",
       "       'SEDAN AUTOMATIC 3.1', 'SEDAN ROBOT 1.8', 'SEDAN AUTOMATIC 2.4',\n",
       "       'ALLROAD_5_DOORS AUTOMATIC 3.2', 'HATCHBACK_5_DOORS ROBOT 2.5',\n",
       "       'ALLROAD_5_DOORS AUTOMATIC 4.1', 'WAGON_5_DOORS AUTOMATIC 2.0',\n",
       "       'HATCHBACK_3_DOORS ROBOT 1.8', 'COUPE MECHANICAL 1.8',\n",
       "       'SEDAN MECHANICAL 2.0', 'SEDAN MECHANICAL 2.8',\n",
       "       'WAGON_5_DOORS ROBOT 3.0', 'LIFTBACK ROBOT 2.8',\n",
       "       'HATCHBACK_3_DOORS ROBOT 1.4', 'WAGON_5_DOORS AUTOMATIC 3.0',\n",
       "       'HATCHBACK_5_DOORS ROBOT 1.6', 'WAGON_5_DOORS MECHANICAL 2.5',\n",
       "       'HATCHBACK_5_DOORS AUTOMATIC 2.0', 'HATCHBACK_3_DOORS ROBOT 1.2',\n",
       "       'LIFTBACK AUTOMATIC 3.0', 'SEDAN AUTOMATIC 6.3', 'COUPE ROBOT 3.0',\n",
       "       'SEDAN MECHANICAL 2.3', 'HATCHBACK_3_DOORS MECHANICAL 1.8',\n",
       "       'SEDAN AUTOMATIC 6.0', 'WAGON_5_DOORS VARIATOR 1.8',\n",
       "       'LIFTBACK VARIATOR 1.8', 'SEDAN MECHANICAL 2.2',\n",
       "       'SEDAN MECHANICAL 2.4', 'SEDAN AUTOMATIC 3.7', 'COUPE ROBOT 2.5',\n",
       "       'WAGON_5_DOORS ROBOT 4.2', 'COUPE ROBOT 5.2', 'LIFTBACK ROBOT 4.0',\n",
       "       'COUPE AUTOMATIC 3.2', 'COUPE AUTOMATIC 2.9',\n",
       "       'SEDAN AUTOMATIC 5.0', 'WAGON_5_DOORS AUTOMATIC 4.2',\n",
       "       'LIFTBACK VARIATOR 2.0', 'SEDAN AUTOMATIC 2.3',\n",
       "       'COUPE MECHANICAL 2.2', 'WAGON_5_DOORS AUTOMATIC 2.4',\n",
       "       'COUPE ROBOT 3.2', 'ALLROAD_5_DOORS MECHANICAL 2.0',\n",
       "       'SEDAN AUTOMATIC 4.1', 'CABRIO MECHANICAL 4.2',\n",
       "       'COUPE AUTOMATIC 3.0', 'WAGON_5_DOORS VARIATOR 2.7',\n",
       "       'SEDAN MECHANICAL 1.6', 'SEDAN MECHANICAL 3.0',\n",
       "       'COUPE MECHANICAL 3.0', 'COUPE VARIATOR 3.2',\n",
       "       'SEDAN MECHANICAL 3.3', 'WAGON_5_DOORS ROBOT 4.0',\n",
       "       'COUPE MECHANICAL 2.3', 'SEDAN MECHANICAL 2.7',\n",
       "       'HATCHBACK_3_DOORS ROBOT 2.0', 'SEDAN AUTOMATIC 2.7',\n",
       "       'WAGON_5_DOORS MECHANICAL 2.4', 'HATCHBACK_5_DOORS ROBOT 2.0',\n",
       "       'HATCHBACK_5_DOORS MECHANICAL 2.0', 'SEDAN AUTOMATIC 1.9',\n",
       "       'SEDAN VARIATOR 3.0', 'WAGON_5_DOORS AUTOMATIC 2.5',\n",
       "       'HATCHBACK_3_DOORS AUTOMATIC 2.0',\n",
       "       'HATCHBACK_3_DOORS MECHANICAL 1.6', 'SEDAN AUTOMATIC 2.1',\n",
       "       'WAGON_5_DOORS AUTOMATIC 2.6', 'CABRIO VARIATOR 1.8',\n",
       "       'WAGON_5_DOORS VARIATOR 2.4', 'SEDAN MECHANICAL 2.6',\n",
       "       'SEDAN ROBOT 1.5', 'CABRIO ROBOT 2.0',\n",
       "       'WAGON_5_DOORS MECHANICAL 2.7', 'SEDAN MECHANICAL 2.1',\n",
       "       'CABRIO MECHANICAL 1.8', 'SEDAN MECHANICAL 2.5',\n",
       "       'SEDAN MECHANICAL 1.9', 'WAGON_5_DOORS MECHANICAL 2.1',\n",
       "       'SEDAN MECHANICAL 3.2', 'WAGON_5_DOORS AUTOMATIC 2.3',\n",
       "       'ALLROAD_5_DOORS ROBOT 3.2', 'HATCHBACK_3_DOORS AUTOMATIC 1.8',\n",
       "       'SEDAN AUTOMATIC 2.6', 'CABRIO AUTOMATIC 2.0',\n",
       "       'SEDAN VARIATOR 2.5', 'HATCHBACK_5_DOORS MECHANICAL 1.8',\n",
       "       'COUPE AUTOMATIC 1.8', 'SEDAN AUTOMATIC 3.6',\n",
       "       'HATCHBACK_3_DOORS ROBOT 1.6', 'HATCHBACK_5_DOORS ROBOT 1.9',\n",
       "       'WAGON_5_DOORS MECHANICAL 2.3', 'WAGON_5_DOORS MECHANICAL 2.6',\n",
       "       'SEDAN VARIATOR 1.9', 'ALLROAD_5_DOORS AUTOMATIC',\n",
       "       'ALLROAD_5_DOORS AUTOMATIC 2.4', 'ALLROAD_5_DOORS AUTOMATIC 3.5',\n",
       "       'COMPACTVAN AUTOMATIC 2.3', 'COMPACTVAN AUTOMATIC 1.7',\n",
       "       'MINIVAN AUTOMATIC 2.4', 'HATCHBACK_3_DOORS AUTOMATIC 1.4',\n",
       "       'PICKUP_TWO AUTOMATIC 3.5', 'COMPACTVAN MECHANICAL 1.7',\n",
       "       'HATCHBACK_5_DOORS AUTOMATIC 1.5', 'ALLROAD_3_DOORS VARIATOR 1.6',\n",
       "       'SEDAN MECHANICAL 1.7', 'COMPACTVAN AUTOMATIC 2.2',\n",
       "       'SEDAN AUTOMATIC 1.6', 'COMPACTVAN VARIATOR 1.5',\n",
       "       'MINIVAN AUTOMATIC 3.5', 'HATCHBACK_3_DOORS MECHANICAL 1.4',\n",
       "       'HATCHBACK_3_DOORS AUTOMATIC 1.3', 'SEDAN AUTOMATIC 3.5',\n",
       "       'HATCHBACK_5_DOORS VARIATOR 1.3', 'SEDAN VARIATOR 1.5',\n",
       "       'HATCHBACK_3_DOORS AUTOMATIC 0.7', 'SEDAN AUTOMATIC 1.5',\n",
       "       'CABRIO MECHANICAL 2.0', 'ALLROAD_3_DOORS MECHANICAL 1.6',\n",
       "       'HATCHBACK_5_DOORS ROBOT 1.3', 'HATCHBACK_3_DOORS MECHANICAL 1.5',\n",
       "       'ALLROAD_5_DOORS MECHANICAL 2.4', 'MINIVAN VARIATOR 2.0',\n",
       "       'COUPE VARIATOR 1.5', 'HATCHBACK_3_DOORS MECHANICAL 1.3',\n",
       "       'SEDAN MECHANICAL 1.5', 'MINIVAN AUTOMATIC 2.0',\n",
       "       'HATCHBACK_3_DOORS MECHANICAL 2.0', 'ALLROAD_5_DOORS VARIATOR 2.4',\n",
       "       'COMPACTVAN MECHANICAL 2.0', 'COUPE AUTOMATIC 2.4',\n",
       "       'ROADSTER MECHANICAL 1.6', 'SEDAN AUTOMATIC 3.2',\n",
       "       'HATCHBACK_5_DOORS VARIATOR 1.5', 'WAGON_5_DOORS ROBOT 1.5',\n",
       "       'SEDAN VARIATOR 1.3', 'COUPE AUTOMATIC 2.3',\n",
       "       'COMPACTVAN VARIATOR 2.0', 'ALLROAD_5_DOORS VARIATOR 1.6',\n",
       "       'HATCHBACK_5_DOORS VARIATOR 0.7', 'ROADSTER AUTOMATIC 1.6',\n",
       "       'COUPE MECHANICAL 1.6', 'HATCHBACK_5_DOORS AUTOMATIC 0.7',\n",
       "       'WAGON_5_DOORS MECHANICAL 2.2', 'COUPE MECHANICAL 2.0',\n",
       "       'HATCHBACK_5_DOORS MECHANICAL 1.5', 'COUPE AUTOMATIC 1.7',\n",
       "       'COUPE AUTOMATIC 2.2', 'SEDAN AUTOMATIC 1.3',\n",
       "       'COMPACTVAN AUTOMATIC 3.0', 'HATCHBACK_3_DOORS AUTOMATIC 1.5',\n",
       "       'HATCHBACK_5_DOORS AUTOMATIC 1.3', 'COUPE MECHANICAL 2.4',\n",
       "       'SEDAN AUTOMATIC 1.7', 'MICROVAN AUTOMATIC 0.7',\n",
       "       'COMPACTVAN AUTOMATIC 2.0', 'COUPE AUTOMATIC 2.0',\n",
       "       'COUPE AUTOMATIC 1.5', 'WAGON_5_DOORS AUTOMATIC 2.2',\n",
       "       'MINIVAN AUTOMATIC 3.0', 'HATCHBACK_3_DOORS VARIATOR 1.5',\n",
       "       'ALLROAD_5_DOORS VARIATOR 2.0', 'ALLROAD_5_DOORS AUTOMATIC 1.8',\n",
       "       'COUPE MECHANICAL 1.5', 'HATCHBACK_5_DOORS ROBOT 1.5',\n",
       "       'ALLROAD_5_DOORS MECHANICAL 2.2', 'COUPE AUTOMATIC 1.6',\n",
       "       'WAGON_5_DOORS VARIATOR 1.5', 'COMPACTVAN AUTOMATIC 1.5',\n",
       "       'COMPACTVAN AUTOMATIC 1.8', 'COUPE MECHANICAL 1.7',\n",
       "       'HATCHBACK_5_DOORS MECHANICAL 1.9', 'WAGON_5_DOORS AUTOMATIC 1.5',\n",
       "       'SEDAN AUTOMATIC 2.2', 'HATCHBACK_3_DOORS VARIATOR 1.3',\n",
       "       'HATCHBACK_3_DOORS AUTOMATIC 2.4', 'ALLROAD_5_DOORS AUTOMATIC 2.5',\n",
       "       'SEDAN ROBOT 1.6', 'ALLROAD_5_DOORS AUTOMATIC 4.4',\n",
       "       'WAGON_5_DOORS AUTOMATIC 3.2', 'SEDAN AUTOMATIC 2.9',\n",
       "       'ALLROAD_5_DOORS AUTOMATIC 2.9', 'CABRIO AUTOMATIC 2.5',\n",
       "       'CABRIO AUTOMATIC 2.4', 'SEDAN AUTOMATIC 4.4',\n",
       "       'WAGON_5_DOORS AUTOMATIC 2.9', 'HATCHBACK_3_DOORS MECHANICAL 2.5',\n",
       "       'SEDAN MECHANICAL 2.9', 'HATCHBACK_3_DOORS AUTOMATIC 2.5',\n",
       "       'SEDAN_2_DOORS MECHANICAL 2.0', 'WAGON_5_DOORS AUTOMATIC 1.7',\n",
       "       'WAGON_5_DOORS MECHANICAL 1.7', 'ROADSTER AUTOMATIC 2.5',\n",
       "       'ALLROAD_5_DOORS AUTOMATIC 4.8', 'SEDAN ROBOT 4.4',\n",
       "       'COUPE AUTOMATIC 2.5', 'COUPE ROBOT 4.4', 'SEDAN MECHANICAL 3.5',\n",
       "       'ROADSTER AUTOMATIC 1.5', 'CABRIO AUTOMATIC 4.8',\n",
       "       'SEDAN AUTOMATIC 4.8', 'SEDAN AUTOMATIC 5.4', 'COUPE ROBOT 5.0',\n",
       "       'ALLROAD_5_DOORS AUTOMATIC 1.5', 'COUPE ROBOT 4.0',\n",
       "       'SEDAN AUTOMATIC 6.6', 'HATCHBACK_5_DOORS AUTOMATIC',\n",
       "       'HATCHBACK_5_DOORS AUTOMATIC 3.0', 'COUPE AUTOMATIC 4.4',\n",
       "       'SEDAN ROBOT 5.0', 'COUPE MECHANICAL 4.0',\n",
       "       'HATCHBACK_3_DOORS AUTOMATIC 3.0', 'ROADSTER AUTOMATIC 3.0',\n",
       "       'SEDAN MECHANICAL 4.9', 'CABRIO AUTOMATIC 4.4',\n",
       "       'SEDAN MECHANICAL 3.8', 'COUPE_HARDTOP AUTOMATIC 5.0',\n",
       "       'ROADSTER MECHANICAL 2.5', 'COMPACTVAN ROBOT 1.5',\n",
       "       'CABRIO ROBOT 4.0', 'COUPE MECHANICAL 3.5', 'CABRIO AUTOMATIC 3.0',\n",
       "       'COUPE MECHANICAL 3.4', 'COUPE AUTOMATIC 4.8',\n",
       "       'ROADSTER AUTOMATIC 2.0', 'COUPE MECHANICAL 2.5',\n",
       "       'SEDAN AUTOMATIC 3.9', 'ROADSTER ROBOT 3.0',\n",
       "       'LIFTBACK AUTOMATIC 4.4', 'ROADSTER AUTOMATIC 2.8',\n",
       "       'ALLROAD_5_DOORS MECHANICAL 3.0', 'CABRIO ROBOT 3.3',\n",
       "       'COUPE MECHANICAL 2.8', 'WAGON_5_DOORS MECHANICAL 3.0',\n",
       "       'SEDAN_2_DOORS MECHANICAL 1.6', 'SEDAN MECHANICAL 3.4',\n",
       "       'ROADSTER MECHANICAL 1.9', 'SEDAN AUTOMATIC 3.4',\n",
       "       'ROADSTER MECHANICAL 3.0', 'ROADSTER MECHANICAL 1.8',\n",
       "       'ALLROAD_5_DOORS AUTOMATIC 4.6', 'ROADSTER MECHANICAL 3.2',\n",
       "       'CABRIO AUTOMATIC 2.8', 'COUPE MECHANICAL 4.4',\n",
       "       'HATCHBACK_3_DOORS MECHANICAL 1.9', 'COUPE ROBOT 3.3',\n",
       "       'COUPE AUTOMATIC 2.8', 'SEDAN MECHANICAL 4.4',\n",
       "       'ALLROAD_5_DOORS VARIATOR 2.5', 'ALLROAD_5_DOORS AUTOMATIC 5.6',\n",
       "       'ALLROAD_5_DOORS VARIATOR 3.5', 'PICKUP_TWO AUTOMATIC 2.5',\n",
       "       'ALLROAD_5_DOORS VARIATOR 1.2', 'ALLROAD_5_DOORS MECHANICAL 4.2',\n",
       "       'SEDAN VARIATOR 3.5', 'HATCHBACK_3_DOORS MECHANICAL 1.2',\n",
       "       'COUPE ROBOT 3.8', 'ALLROAD_5_DOORS MECHANICAL 1.5',\n",
       "       'HATCHBACK_5_DOORS AUTOMATIC 1.2', 'PICKUP_TWO MECHANICAL 2.5',\n",
       "       'SEDAN VARIATOR 1.6', 'ALLROAD_5_DOORS MECHANICAL 2.7',\n",
       "       'ALLROAD_5_DOORS VARIATOR 1.5', 'ALLROAD_5_DOORS MECHANICAL 2.5',\n",
       "       'COUPE VARIATOR 2.5', 'COMPACTVAN MECHANICAL 1.8',\n",
       "       'COUPE AUTOMATIC 3.5', 'ALLROAD_5_DOORS MECHANICAL 2.8',\n",
       "       'MINIVAN MECHANICAL 1.5', 'MINIVAN AUTOMATIC 1.6',\n",
       "       'ALLROAD_5_DOORS AUTOMATIC 4.0', 'FASTBACK MECHANICAL 2.8',\n",
       "       'MINIVAN VARIATOR 3.5', 'HATCHBACK_5_DOORS VARIATOR 1.6',\n",
       "       'COMPACTVAN AUTOMATIC 1.4', 'HATCHBACK_3_DOORS MECHANICAL 1.0',\n",
       "       'COMPACTVAN VARIATOR 1.6', 'HATCHBACK_5_DOORS VARIATOR 2.0',\n",
       "       'PICKUP_ONE MECHANICAL 2.3', 'ALLROAD_3_DOORS MECHANICAL 2.8',\n",
       "       'TARGA MECHANICAL 1.6', 'ALLROAD_3_DOORS MECHANICAL 2.4',\n",
       "       'ALLROAD_5_DOORS AUTOMATIC 3.3', 'HATCHBACK_5_DOORS VARIATOR 1.2',\n",
       "       'HATCHBACK_5_DOORS VARIATOR 1.0', 'MINIVAN AUTOMATIC 2.2',\n",
       "       'MINIVAN MECHANICAL 2.3', 'MINIVAN MECHANICAL 2.2',\n",
       "       'MINIVAN AUTOMATIC 2.5', 'COMPACTVAN AUTOMATIC 1.3',\n",
       "       'ALLROAD_3_DOORS MECHANICAL 3.0', 'PICKUP_TWO MECHANICAL 2.7',\n",
       "       'MINIVAN MECHANICAL 2.0', 'WAGON_5_DOORS MECHANICAL 1.5',\n",
       "       'SEDAN MECHANICAL 1.3', 'MINIVAN AUTOMATIC 3.2',\n",
       "       'ALLROAD_3_DOORS AUTOMATIC 0.7', 'ALLROAD_5_DOORS AUTOMATIC 4.5',\n",
       "       'MINIVAN MECHANICAL 1.8', 'MINIVAN MECHANICAL 3.0',\n",
       "       'HATCHBACK_3_DOORS AUTOMATIC 1.2',\n",
       "       'HATCHBACK_3_DOORS VARIATOR 1.0', 'PICKUP_TWO AUTOMATIC 2.7',\n",
       "       'COMPACTVAN MECHANICAL 2.2', 'ALLROAD_5_DOORS AUTOMATIC 2.7',\n",
       "       'PICKUP_TWO MECHANICAL 2.3', 'PICKUP_TWO AUTOMATIC 3.2',\n",
       "       'WAGON_5_DOORS AUTOMATIC 1.3', 'MINIVAN MECHANICAL 2.7',\n",
       "       'ALLROAD_5_DOORS AUTOMATIC 3.7', 'ALLROAD_5_DOORS AUTOMATIC 5.0',\n",
       "       'SEDAN AUTOMATIC 4.5', 'COUPE AUTOMATIC 3.7',\n",
       "       'SEDAN AUTOMATIC 5.6', 'CABRIO AUTOMATIC 3.7',\n",
       "       'MINIVAN AUTOMATIC 2.1', 'SEDAN AUTOMATIC 5.5',\n",
       "       'ALLROAD_5_DOORS ROBOT 1.6', 'ROADSTER AUTOMATIC 1.8',\n",
       "       'COUPE ROBOT 6.2', 'COUPE_HARDTOP AUTOMATIC 1.8',\n",
       "       'ALLROAD_5_DOORS AUTOMATIC 5.5', 'SEDAN AUTOMATIC 4.7',\n",
       "       'ALLROAD_5_DOORS AUTOMATIC 2.1', 'ALLROAD_3_DOORS AUTOMATIC 3.0',\n",
       "       'ALLROAD_5_DOORS AUTOMATIC 4.7', 'COUPE_HARDTOP AUTOMATIC 2.0',\n",
       "       'HATCHBACK_5_DOORS VARIATOR 1.7', 'COUPE AUTOMATIC 4.0',\n",
       "       'CABRIO AUTOMATIC 1.8', 'COUPE AUTOMATIC 6.2',\n",
       "       'SEDAN AUTOMATIC 4.3', 'SEDAN ROBOT 1.3',\n",
       "       'WAGON_5_DOORS AUTOMATIC 2.1', 'ROADSTER AUTOMATIC 5.0',\n",
       "       'COUPE_HARDTOP AUTOMATIC 5.5', 'COUPE AUTOMATIC 5.5',\n",
       "       'ROADSTER AUTOMATIC 5.4', 'ALLROAD_OPEN AUTOMATIC 5.5',\n",
       "       'CABRIO MECHANICAL 2.2', 'COUPE AUTOMATIC 4.7',\n",
       "       'ROADSTER AUTOMATIC 3.5', 'LIMOUSINE AUTOMATIC 6.2',\n",
       "       'HATCHBACK_3_DOORS VARIATOR 1.7', 'ALLROAD_5_DOORS AUTOMATIC 6.0',\n",
       "       'ROADSTER AUTOMATIC 2.3', 'SEDAN AUTOMATIC 6.2',\n",
       "       'ALLROAD_5_DOORS AUTOMATIC 5.4', 'MINIVAN AUTOMATIC 3.7',\n",
       "       'ALLROAD_5_DOORS AUTOMATIC 6.2', 'COUPE_HARDTOP AUTOMATIC 4.7',\n",
       "       'PICKUP_TWO AUTOMATIC 2.3', 'COUPE AUTOMATIC 5.0',\n",
       "       'COUPE_HARDTOP AUTOMATIC 6.0', 'COUPE_HARDTOP AUTOMATIC 3.5',\n",
       "       'WAGON_5_DOORS AUTOMATIC 4.7', 'COUPE AUTOMATIC 5.4',\n",
       "       'WAGON_5_DOORS AUTOMATIC 5.5', 'MINIVAN AUTOMATIC 2.8',\n",
       "       'ALLROAD_3_DOORS AUTOMATIC 3.2', 'COUPE_HARDTOP AUTOMATIC 3.2',\n",
       "       'COUPE AUTOMATIC 5.6', 'WAGON_5_DOORS AUTOMATIC 5.4',\n",
       "       'WAGON_5_DOORS AUTOMATIC 3.5', 'COUPE_HARDTOP MECHANICAL 2.3',\n",
       "       'ROADSTER AUTOMATIC 5.5', 'COUPE_HARDTOP AUTOMATIC 2.3',\n",
       "       'COUPE AUTOMATIC 4.3', 'COUPE_HARDTOP AUTOMATIC 5.8',\n",
       "       'ROADSTER AUTOMATIC 4.7', 'COMPACTVAN MECHANICAL 1.5',\n",
       "       'LIMOUSINE AUTOMATIC 5.5', 'MINIVAN AUTOMATIC 5.0',\n",
       "       'COUPE_HARDTOP AUTOMATIC 2.6', 'CABRIO MECHANICAL 5.3',\n",
       "       'HATCHBACK_3_DOORS AUTOMATIC 2.3', 'ROADSTER ROBOT 6.2',\n",
       "       'CABRIO AUTOMATIC 5.5', 'MINIVAN MECHANICAL 2.1',\n",
       "       'COUPE AUTOMATIC 6.0', 'ROADSTER AUTOMATIC 3.8',\n",
       "       'SEDAN AUTOMATIC 3.8', 'ALLROAD_5_DOORS ROBOT 2.1',\n",
       "       'HATCHBACK_5_DOORS ROBOT 2.1', 'ALLROAD_5_DOORS MECHANICAL 2.3',\n",
       "       'LIMOUSINE AUTOMATIC 5.8', 'ALLROAD_OPEN AUTOMATIC 5.0',\n",
       "       'SEDAN AUTOMATIC 5.8', 'ROADSTER AUTOMATIC 3.7',\n",
       "       'HATCHBACK_5_DOORS AUTOMATIC 1.7', 'ROADSTER AUTOMATIC 6.0',\n",
       "       'ALLROAD_5_DOORS AUTOMATIC 4.3', 'COUPE_HARDTOP MECHANICAL 1.8',\n",
       "       'ROADSTER AUTOMATIC 3.2', 'MINIVAN MECHANICAL 1.6',\n",
       "       'CABRIO AUTOMATIC 3.5', 'CABRIO AUTOMATIC 2.3',\n",
       "       'WAGON_5_DOORS AUTOMATIC 2.8', 'ALLROAD_5_DOORS AUTOMATIC 2.8',\n",
       "       'ALLROAD_5_DOORS AUTOMATIC 5.7', 'ALLROAD_3_DOORS AUTOMATIC 4.0',\n",
       "       'COMPACTVAN VARIATOR 1.8', 'ALLROAD_3_DOORS AUTOMATIC 2.0',\n",
       "       'MINIVAN VARIATOR 1.8', 'PICKUP_TWO MECHANICAL 2.4',\n",
       "       'PICKUP_TWO AUTOMATIC 2.8', 'ALLROAD_5_DOORS AUTOMATIC 2.2',\n",
       "       'ALLROAD_5_DOORS AUTOMATIC 3.4', 'PICKUP_TWO AUTOMATIC 5.7',\n",
       "       'COUPE AUTOMATIC 3.3', 'MINIVAN AUTOMATIC 3.3',\n",
       "       'ALLROAD_5_DOORS MECHANICAL 4.0', 'PICKUP_TWO AUTOMATIC 3.0',\n",
       "       'ALLROAD_5_DOORS VARIATOR 3.3', 'PICKUP_TWO AUTOMATIC 4.7',\n",
       "       'ALLROAD_3_DOORS MECHANICAL 2.5', 'MINIVAN VARIATOR 2.4',\n",
       "       'ALLROAD_5_DOORS MECHANICAL 3.4', 'ALLROAD_3_DOORS MECHANICAL 4.5',\n",
       "       'ALLROAD_5_DOORS MECHANICAL 4.5',\n",
       "       'HATCHBACK_5_DOORS AUTOMATIC 2.4', 'MINIVAN VARIATOR 2.5',\n",
       "       'COMPACTVAN ROBOT 1.8', 'COMPACTVAN AUTOMATIC 2.4',\n",
       "       'COMPACTVAN MECHANICAL 1.3', 'PICKUP_ONE_HALF AUTOMATIC 2.5',\n",
       "       'HATCHBACK_5_DOORS VARIATOR 2.4', 'ALLROAD_3_DOORS MECHANICAL 4.2',\n",
       "       'PICKUP_ONE_HALF AUTOMATIC 5.7', 'SEDAN_HARDTOP MECHANICAL 2.0',\n",
       "       'MINIVAN AUTOMATIC 3.4', 'MINIVAN MECHANICAL 2.4',\n",
       "       'HATCHBACK_3_DOORS AUTOMATIC 1.0',\n",
       "       'ALLROAD_3_DOORS MECHANICAL 3.4', 'PICKUP_ONE MECHANICAL 2.7',\n",
       "       'HATCHBACK_3_DOORS ROBOT 1.3', 'MINIVAN MECHANICAL 2.5',\n",
       "       'MINIVAN AUTOMATIC 2.7', 'ALLROAD_5_DOORS MECHANICAL 3.5',\n",
       "       'LIFTBACK MECHANICAL 1.3', 'MICROVAN AUTOMATIC 1.3',\n",
       "       'PICKUP_ONE MECHANICAL 4.0', 'COUPE MECHANICAL 1.3',\n",
       "       'ALLROAD_5_DOORS AUTOMATIC 1.3', 'SEDAN_HARDTOP AUTOMATIC 1.6',\n",
       "       'SEDAN_HARDTOP AUTOMATIC 1.8', 'COMPACTVAN VARIATOR 2.4',\n",
       "       'ALLROAD_3_DOORS MECHANICAL 2.0', 'CABRIO AUTOMATIC 4.3',\n",
       "       'PICKUP_TWO MECHANICAL 2.8', 'TARGA MECHANICAL 2.0',\n",
       "       'PICKUP_TWO AUTOMATIC 4.6', 'ALLROAD_3_DOORS AUTOMATIC 2.7',\n",
       "       'HATCHBACK_5_DOORS AUTOMATIC 1.0', 'SEDAN_HARDTOP AUTOMATIC 2.0',\n",
       "       'MINIVAN AUTOMATIC 1.5', 'HATCHBACK_5_DOORS VARIATOR 1.8',\n",
       "       'SEDAN AUTOMATIC 4.6', 'SEDAN VARIATOR 5.0', 'SEDAN AUTOMATIC 3.3',\n",
       "       'PICKUP_TWO AUTOMATIC 2.0', 'SEDAN ROBOT 3.6',\n",
       "       'MINIVAN MECHANICAL 1.9', 'COMPACTVAN ROBOT 1.4',\n",
       "       'MINIVAN ROBOT 2.0', 'VAN MECHANICAL 1.9',\n",
       "       'PICKUP_TWO MECHANICAL 2.0', 'VAN MECHANICAL 2.1',\n",
       "       'COMPACTVAN ROBOT 2.0', 'PICKUP_ONE MECHANICAL 2.0',\n",
       "       'COMPACTVAN ROBOT 1.6', 'MINIVAN AUTOMATIC 1.8',\n",
       "       'COMPACTVAN ROBOT 1.9', 'VAN MECHANICAL 2.0', 'VAN MECHANICAL 2.4',\n",
       "       'HATCHBACK_3_DOORS MECHANICAL 3.2', 'MINIVAN MECHANICAL 1.7',\n",
       "       'HATCHBACK_5_DOORS AUTOMATIC 2.3',\n",
       "       'HATCHBACK_5_DOORS MECHANICAL 2.3', 'WAGON_5_DOORS MECHANICAL 4.0',\n",
       "       'VAN MECHANICAL 2.5', 'VAN MECHANICAL 1.6', 'CABRIO ROBOT 3.2',\n",
       "       'MINIVAN AUTOMATIC 1.9', 'VAN MECHANICAL 1.7',\n",
       "       'WAGON_5_DOORS ROBOT 1.6', 'HATCHBACK_3_DOORS MECHANICAL 2.8',\n",
       "       'COMPACTVAN MECHANICAL 1.9', 'WAGON_5_DOORS AUTOMATIC 1.9',\n",
       "       'MINIVAN MECHANICAL 2.8', 'MINIVAN MECHANICAL 3.2',\n",
       "       'VAN ROBOT 2.0', 'CABRIO MECHANICAL 1.3', 'VAN AUTOMATIC 2.5',\n",
       "       'ALLROAD_5_DOORS AUTOMATIC 4.9', 'SEDAN ROBOT 1.9',\n",
       "       'WAGON_5_DOORS ROBOT 1.9', 'HATCHBACK_3_DOORS MECHANICAL 2.9',\n",
       "       'HATCHBACK_3_DOORS AUTOMATIC 1.9',\n",
       "       'HATCHBACK_3_DOORS MECHANICAL 1.7',\n",
       "       'PICKUP_ONE_HALF MECHANICAL 2.4', 'ALLROAD_3_DOORS AUTOMATIC 1.8',\n",
       "       'ALLROAD_5_DOORS VARIATOR 1.8', 'ALLROAD_5_DOORS AUTOMATIC 3.8',\n",
       "       'MICROVAN MECHANICAL 0.7', 'PICKUP_TWO AUTOMATIC 2.4',\n",
       "       'MINIVAN AUTOMATIC 2.3', 'ALLROAD_3_DOORS AUTOMATIC 3.8',\n",
       "       'ALLROAD_3_DOORS MECHANICAL 3.5', 'ALLROAD_3_DOORS MECHANICAL 3.2',\n",
       "       'ALLROAD_3_DOORS AUTOMATIC 2.5', 'COMPACTVAN MECHANICAL 2.4',\n",
       "       'ALLROAD_5_DOORS MECHANICAL 3.2', 'ALLROAD_3_DOORS AUTOMATIC 3.5',\n",
       "       'MICROVAN VARIATOR 1.2', 'ALLROAD_3_DOORS MECHANICAL 1.8',\n",
       "       'ALLROAD_3_DOORS AUTOMATIC 2.8', 'COMPACTVAN VARIATOR 1.2',\n",
       "       'HATCHBACK_5_DOORS MECHANICAL 0.7', 'COUPE MECHANICAL 5.0',\n",
       "       'WAGON_5_DOORS AUTOMATIC 4.4', 'WAGON_5_DOORS VARIATOR 2.5',\n",
       "       'COUPE MECHANICAL 3.2', 'SEDAN ROBOT 3.2',\n",
       "       'WAGON_5_DOORS MECHANICAL 2.8', 'COUPE_HARDTOP AUTOMATIC 6.2',\n",
       "       'LIMOUSINE AUTOMATIC 6.0', 'MINIVAN VARIATOR 1.5',\n",
       "       'ALLROAD_3_DOORS AUTOMATIC 1.6', 'COMPACTVAN VARIATOR 1.3',\n",
       "       'SEDAN_HARDTOP MECHANICAL 1.8', 'ALLROAD_OPEN AUTOMATIC 2.0',\n",
       "       'ALLROAD_5_DOORS', 'SEDAN', 'COUPE', 'HATCHBACK_3_DOORS',\n",
       "       'LIFTBACK', 'HATCHBACK_5_DOORS', 'WAGON_5_DOORS', 'ROADSTER',\n",
       "       'CABRIO', 'COUPE_HARDTOP', 'COMPACTVAN', 'SEDAN_2_DOORS',\n",
       "       'MINIVAN', 'ALLROAD_3_DOORS', 'MICROVAN', 'PICKUP_TWO', 'VAN',\n",
       "       'ALLROAD_OPEN', 'LIMOUSINE', 'PICKUP_ONE_HALF', 'PICKUP_ONE',\n",
       "       'SEDAN_HARDTOP'], dtype=object)"
      ]
     },
     "execution_count": 87,
     "metadata": {},
     "output_type": "execute_result"
    }
   ],
   "source": [
    "data.vehicleConfiguration.unique()"
   ]
  },
  {
   "cell_type": "code",
   "execution_count": 88,
   "metadata": {},
   "outputs": [],
   "source": [
    "data.drop(labels='vehicleConfiguration', axis=1, inplace=True)"
   ]
  },
  {
   "cell_type": "markdown",
   "metadata": {},
   "source": [
    "### vehicleTransmission"
   ]
  },
  {
   "cell_type": "code",
   "execution_count": 89,
   "metadata": {},
   "outputs": [
    {
     "data": {
      "text/plain": [
       "array(['роботизированная', 'механическая', 'автоматическая', 'вариатор',\n",
       "       'AUTOMATIC', 'ROBOT', 'VARIATOR', 'MECHANICAL'], dtype=object)"
      ]
     },
     "execution_count": 89,
     "metadata": {},
     "output_type": "execute_result"
    }
   ],
   "source": [
    "data.vehicleTransmission.unique()"
   ]
  },
  {
   "cell_type": "code",
   "execution_count": 90,
   "metadata": {},
   "outputs": [
    {
     "data": {
      "text/plain": [
       "AUTOMATIC           0.428775\n",
       "MECHANICAL          0.134513\n",
       "VARIATOR            0.124386\n",
       "автоматическая      0.123260\n",
       "ROBOT               0.094150\n",
       "механическая        0.045345\n",
       "вариатор            0.025154\n",
       "роботизированная    0.024418\n",
       "Name: vehicleTransmission, dtype: float64"
      ]
     },
     "execution_count": 90,
     "metadata": {},
     "output_type": "execute_result"
    }
   ],
   "source": [
    "data.vehicleTransmission.value_counts(normalize=True)"
   ]
  },
  {
   "cell_type": "code",
   "execution_count": 91,
   "metadata": {},
   "outputs": [
    {
     "data": {
      "text/plain": [
       "array([2, 1], dtype=int64)"
      ]
     },
     "execution_count": 91,
     "metadata": {},
     "output_type": "execute_result"
    }
   ],
   "source": [
    "data.vehicleTransmission = data.vehicleTransmission.apply(lambda x: 1 if x=='MECHANICAL' or x=='механическая'\n",
    "                                    else 2)\n",
    "data.vehicleTransmission.unique()"
   ]
  },
  {
   "cell_type": "code",
   "execution_count": 92,
   "metadata": {},
   "outputs": [
    {
     "data": {
      "text/plain": [
       "2    0.820142\n",
       "1    0.179858\n",
       "Name: vehicleTransmission, dtype: float64"
      ]
     },
     "execution_count": 92,
     "metadata": {},
     "output_type": "execute_result"
    }
   ],
   "source": [
    "data.vehicleTransmission.value_counts(normalize=True)"
   ]
  },
  {
   "cell_type": "markdown",
   "metadata": {},
   "source": [
    "### vendor "
   ]
  },
  {
   "cell_type": "code",
   "execution_count": 93,
   "metadata": {},
   "outputs": [
    {
     "data": {
      "text/plain": [
       "array(['EUROPEAN', 'JAPANESE'], dtype=object)"
      ]
     },
     "execution_count": 93,
     "metadata": {},
     "output_type": "execute_result"
    }
   ],
   "source": [
    "data.vendor.unique()"
   ]
  },
  {
   "cell_type": "code",
   "execution_count": 94,
   "metadata": {},
   "outputs": [
    {
     "name": "stdout",
     "output_type": "stream",
     "text": [
      "[1 2]\n"
     ]
    },
    {
     "data": {
      "text/plain": [
       "1    0.531743\n",
       "2    0.468257\n",
       "Name: vendor, dtype: float64"
      ]
     },
     "execution_count": 94,
     "metadata": {},
     "output_type": "execute_result"
    }
   ],
   "source": [
    "data.vendor = data.vendor.apply(lambda x: 1 if x=='EUROPEAN'\n",
    "                                    else 2)\n",
    "print(data.vendor.unique())\n",
    "data.vendor.value_counts(normalize=True)"
   ]
  },
  {
   "cell_type": "markdown",
   "metadata": {},
   "source": [
    "### owners"
   ]
  },
  {
   "cell_type": "code",
   "execution_count": 95,
   "metadata": {},
   "outputs": [
    {
     "data": {
      "text/plain": [
       "16.91837389373573"
      ]
     },
     "execution_count": 95,
     "metadata": {},
     "output_type": "execute_result"
    }
   ],
   "source": [
    "data['owners'].isna().sum(axis=0) * 100 / data.shape[0] #пропуски заменю \"0\", возможно продажа из автосалона"
   ]
  },
  {
   "cell_type": "code",
   "execution_count": 96,
   "metadata": {},
   "outputs": [
    {
     "data": {
      "text/plain": [
       "array(['3 или более', '1\\xa0владелец', '2\\xa0владельца', 2.0, 3.0, 1.0,\n",
       "       4.0, nan], dtype=object)"
      ]
     },
     "execution_count": 96,
     "metadata": {},
     "output_type": "execute_result"
    }
   ],
   "source": [
    "data.owners.unique()"
   ]
  },
  {
   "cell_type": "code",
   "execution_count": 97,
   "metadata": {},
   "outputs": [
    {
     "data": {
      "text/plain": [
       "array([3., 1., 2., 4., 0.])"
      ]
     },
     "execution_count": 97,
     "metadata": {},
     "output_type": "execute_result"
    }
   ],
   "source": [
    "data.owners = data.owners.apply(lambda x: 1.0 if x=='1\\xa0владелец' \n",
    "                                else 2.0 if x=='2\\xa0владельца'\n",
    "                                else 3.0 if x=='3 или более'\n",
    "                                else x)\n",
    "data.owners = data.owners.fillna(0)\n",
    "data.owners.unique()"
   ]
  },
  {
   "cell_type": "code",
   "execution_count": 98,
   "metadata": {},
   "outputs": [
    {
     "data": {
      "text/plain": [
       "1.0    0.285518\n",
       "3.0    0.205622\n",
       "2.0    0.202276\n",
       "0.0    0.169184\n",
       "4.0    0.137400\n",
       "Name: owners, dtype: float64"
      ]
     },
     "execution_count": 98,
     "metadata": {},
     "output_type": "execute_result"
    }
   ],
   "source": [
    "data.owners.value_counts(normalize=True)"
   ]
  },
  {
   "cell_type": "markdown",
   "metadata": {},
   "source": [
    "### ownership"
   ]
  },
  {
   "cell_type": "code",
   "execution_count": 99,
   "metadata": {},
   "outputs": [
    {
     "data": {
      "text/plain": [
       "14.27277473408772"
      ]
     },
     "execution_count": 99,
     "metadata": {},
     "output_type": "execute_result"
    }
   ],
   "source": [
    "data['ownership'].isna().sum(axis=0) * 100 / data.shape[0] #слишком много невосполнимых  пропусков"
   ]
  },
  {
   "cell_type": "code",
   "execution_count": 100,
   "metadata": {},
   "outputs": [],
   "source": [
    "data.drop(labels='ownership', axis=1, inplace=True)"
   ]
  },
  {
   "cell_type": "markdown",
   "metadata": {},
   "source": [
    "### vehicle_licence"
   ]
  },
  {
   "cell_type": "code",
   "execution_count": 101,
   "metadata": {},
   "outputs": [
    {
     "data": {
      "text/plain": [
       "0.7931765431089249"
      ]
     },
     "execution_count": 101,
     "metadata": {},
     "output_type": "execute_result"
    }
   ],
   "source": [
    "data['vehicle_licence'].isna().sum(axis=0) * 100 / data.shape[0]"
   ]
  },
  {
   "cell_type": "code",
   "execution_count": 102,
   "metadata": {},
   "outputs": [
    {
     "data": {
      "text/plain": [
       "array(['Оригинал', 'Дубликат', nan, 'ORIGINAL', 'DUPLICATE'], dtype=object)"
      ]
     },
     "execution_count": 102,
     "metadata": {},
     "output_type": "execute_result"
    }
   ],
   "source": [
    "data.vehicle_licence.unique() #nan значения также будут считаться дубликатами"
   ]
  },
  {
   "cell_type": "code",
   "execution_count": 103,
   "metadata": {},
   "outputs": [
    {
     "name": "stdout",
     "output_type": "stream",
     "text": [
      "[1 2]\n",
      "0\n"
     ]
    },
    {
     "data": {
      "text/plain": [
       "1    0.882936\n",
       "2    0.117064\n",
       "Name: vehicle_licence, dtype: float64"
      ]
     },
     "execution_count": 103,
     "metadata": {},
     "output_type": "execute_result"
    }
   ],
   "source": [
    "data.vehicle_licence = data.vehicle_licence.apply(\n",
    "    lambda x: 1 if x == 'Оригинал' or x == 'ORIGINAL' else 2)\n",
    "print(data.vehicle_licence.unique())\n",
    "print(data.vehicle_licence.isna().sum())\n",
    "data.vehicle_licence.value_counts(normalize=True)"
   ]
  },
  {
   "cell_type": "markdown",
   "metadata": {},
   "source": [
    "### driving_gear"
   ]
  },
  {
   "cell_type": "code",
   "execution_count": 104,
   "metadata": {},
   "outputs": [
    {
     "data": {
      "text/plain": [
       "array(['передний', 'полный', 'задний', 'ALL_WHEEL_DRIVE',\n",
       "       'FORWARD_CONTROL', 'REAR_DRIVE'], dtype=object)"
      ]
     },
     "execution_count": 104,
     "metadata": {},
     "output_type": "execute_result"
    }
   ],
   "source": [
    "data.driving_gear.unique()"
   ]
  },
  {
   "cell_type": "code",
   "execution_count": 105,
   "metadata": {},
   "outputs": [
    {
     "name": "stdout",
     "output_type": "stream",
     "text": [
      "[1 2 3]\n",
      "0\n"
     ]
    },
    {
     "data": {
      "text/plain": [
       "2    0.507098\n",
       "1    0.411332\n",
       "3    0.081569\n",
       "Name: driving_gear, dtype: float64"
      ]
     },
     "execution_count": 105,
     "metadata": {},
     "output_type": "execute_result"
    }
   ],
   "source": [
    "data.driving_gear = data.driving_gear.apply(\n",
    "    lambda x: 1 if x == 'передний' or x == 'FORWARD_CONTROL' \n",
    "    else 2 if x == 'полный' or x == 'ALL_WHEEL_DRIVE'\n",
    "    else 3)\n",
    "print(data.driving_gear.unique())\n",
    "print(data.driving_gear.isna().sum())\n",
    "data.driving_gear.value_counts(normalize=True)"
   ]
  },
  {
   "cell_type": "code",
   "execution_count": 106,
   "metadata": {},
   "outputs": [
    {
     "name": "stdout",
     "output_type": "stream",
     "text": [
      "[1 2]\n",
      "0\n"
     ]
    },
    {
     "data": {
      "text/plain": [
       "2    0.507098\n",
       "1    0.492902\n",
       "Name: driving_gear, dtype: float64"
      ]
     },
     "execution_count": 106,
     "metadata": {},
     "output_type": "execute_result"
    }
   ],
   "source": [
    "data.driving_gear = data.driving_gear.apply(lambda x: 1 if x == 3 else x) #требуется укрупнить признаки\n",
    "print(data.driving_gear.unique())\n",
    "print(data.driving_gear.isna().sum())\n",
    "data.driving_gear.value_counts(normalize=True)"
   ]
  },
  {
   "cell_type": "markdown",
   "metadata": {},
   "source": [
    "### steering_wheel "
   ]
  },
  {
   "cell_type": "code",
   "execution_count": 107,
   "metadata": {},
   "outputs": [
    {
     "data": {
      "text/plain": [
       "array(['Левый', 'Правый', 'LEFT', 'RIGHT'], dtype=object)"
      ]
     },
     "execution_count": 107,
     "metadata": {},
     "output_type": "execute_result"
    }
   ],
   "source": [
    "data.steering_wheel.unique()"
   ]
  },
  {
   "cell_type": "code",
   "execution_count": 108,
   "metadata": {},
   "outputs": [
    {
     "name": "stdout",
     "output_type": "stream",
     "text": [
      "[1 2]\n",
      "0\n"
     ]
    },
    {
     "data": {
      "text/plain": [
       "2    0.790623\n",
       "1    0.209377\n",
       "Name: steering_wheel, dtype: float64"
      ]
     },
     "execution_count": 108,
     "metadata": {},
     "output_type": "execute_result"
    }
   ],
   "source": [
    "data.steering_wheel = data.steering_wheel.apply(lambda x: 1 if x == 'Левый' or x =='left' else 2)\n",
    "\n",
    "print(data.steering_wheel.unique())\n",
    "print(data.steering_wheel.isna().sum())\n",
    "data.steering_wheel.value_counts(normalize=True)"
   ]
  },
  {
   "cell_type": "markdown",
   "metadata": {},
   "source": [
    "### condition"
   ]
  },
  {
   "cell_type": "code",
   "execution_count": 109,
   "metadata": {},
   "outputs": [
    {
     "data": {
      "text/plain": [
       "array(['Не требует ремонта', nan], dtype=object)"
      ]
     },
     "execution_count": 109,
     "metadata": {},
     "output_type": "execute_result"
    }
   ],
   "source": [
    "data.condition.unique()"
   ]
  },
  {
   "cell_type": "code",
   "execution_count": 110,
   "metadata": {},
   "outputs": [
    {
     "data": {
      "text/plain": [
       "78.18229851365886"
      ]
     },
     "execution_count": 110,
     "metadata": {},
     "output_type": "execute_result"
    }
   ],
   "source": [
    "data['condition'].isna().sum(axis=0) * 100 / data.shape[0] #nan заменю на 0 (требует ремонта)"
   ]
  },
  {
   "cell_type": "code",
   "execution_count": 111,
   "metadata": {},
   "outputs": [
    {
     "data": {
      "text/plain": [
       "array([1, 0], dtype=int64)"
      ]
     },
     "execution_count": 111,
     "metadata": {},
     "output_type": "execute_result"
    }
   ],
   "source": [
    "data.condition = data.condition.apply(\n",
    "    lambda x: 1 if x == 'Не требует ремонта'  \n",
    "    else 0)\n",
    "data.condition.unique()"
   ]
  },
  {
   "cell_type": "markdown",
   "metadata": {},
   "source": [
    "### customs"
   ]
  },
  {
   "cell_type": "code",
   "execution_count": 112,
   "metadata": {},
   "outputs": [
    {
     "data": {
      "text/plain": [
       "array(['Растаможен', True], dtype=object)"
      ]
     },
     "execution_count": 112,
     "metadata": {},
     "output_type": "execute_result"
    }
   ],
   "source": [
    "data.customs.unique()"
   ]
  },
  {
   "cell_type": "code",
   "execution_count": 113,
   "metadata": {},
   "outputs": [
    {
     "data": {
      "text/plain": [
       "array([1], dtype=int64)"
      ]
     },
     "execution_count": 113,
     "metadata": {},
     "output_type": "execute_result"
    }
   ],
   "source": [
    "data.customs = data.customs.apply(\n",
    "    lambda x: 1 if x == 'Растаможен' or x == True else 0)\n",
    "data.customs.unique()"
   ]
  },
  {
   "cell_type": "markdown",
   "metadata": {},
   "source": [
    "## Проверка"
   ]
  },
  {
   "cell_type": "code",
   "execution_count": 114,
   "metadata": {},
   "outputs": [
    {
     "name": "stdout",
     "output_type": "stream",
     "text": [
      "<class 'pandas.core.frame.DataFrame'>\n",
      "RangeIndex: 158981 entries, 0 to 158980\n",
      "Data columns (total 23 columns):\n",
      " #   Column               Non-Null Count   Dtype  \n",
      "---  ------               --------------   -----  \n",
      " 0   bodyType             158981 non-null  int64  \n",
      " 1   brand                158981 non-null  object \n",
      " 2   color                158981 non-null  int64  \n",
      " 3   engineDisplacement   158981 non-null  float64\n",
      " 4   enginePower          158981 non-null  float64\n",
      " 5   fuelType             158981 non-null  int64  \n",
      " 6   mileage              158981 non-null  int64  \n",
      " 7   modelDate            158981 non-null  float64\n",
      " 8   model_name           158981 non-null  int64  \n",
      " 9   numberOfDoors        158981 non-null  float64\n",
      " 10  productionDate       158981 non-null  int64  \n",
      " 11  vehicleTransmission  158981 non-null  int64  \n",
      " 12  vendor               158981 non-null  int64  \n",
      " 13  owners               158981 non-null  float64\n",
      " 14  vehicle_licence      158981 non-null  int64  \n",
      " 15  driving_gear         158981 non-null  int64  \n",
      " 16  steering_wheel       158981 non-null  int64  \n",
      " 17  condition            158981 non-null  int64  \n",
      " 18  customs              158981 non-null  int64  \n",
      " 19  price                158981 non-null  float64\n",
      " 20  train                158981 non-null  int64  \n",
      " 21  descr_words_count    158981 non-null  int64  \n",
      " 22  equipment_dict_len   158981 non-null  int64  \n",
      "dtypes: float64(6), int64(16), object(1)\n",
      "memory usage: 27.9+ MB\n"
     ]
    }
   ],
   "source": [
    "data.info()"
   ]
  },
  {
   "cell_type": "code",
   "execution_count": 115,
   "metadata": {},
   "outputs": [
    {
     "data": {
      "text/plain": [
       "bodyType               0.0\n",
       "brand                  0.0\n",
       "color                  0.0\n",
       "engineDisplacement     0.0\n",
       "enginePower            0.0\n",
       "fuelType               0.0\n",
       "mileage                0.0\n",
       "modelDate              0.0\n",
       "model_name             0.0\n",
       "numberOfDoors          0.0\n",
       "productionDate         0.0\n",
       "vehicleTransmission    0.0\n",
       "vendor                 0.0\n",
       "owners                 0.0\n",
       "vehicle_licence        0.0\n",
       "driving_gear           0.0\n",
       "steering_wheel         0.0\n",
       "condition              0.0\n",
       "customs                0.0\n",
       "price                  0.0\n",
       "train                  0.0\n",
       "descr_words_count      0.0\n",
       "equipment_dict_len     0.0\n",
       "dtype: float64"
      ]
     },
     "execution_count": 115,
     "metadata": {},
     "output_type": "execute_result"
    }
   ],
   "source": [
    "data.isna().sum(axis=0) * 100 / data.shape[0]"
   ]
  },
  {
   "cell_type": "code",
   "execution_count": 116,
   "metadata": {},
   "outputs": [
    {
     "data": {
      "text/plain": [
       "(158981, 23)"
      ]
     },
     "execution_count": 116,
     "metadata": {},
     "output_type": "execute_result"
    }
   ],
   "source": [
    "data.shape"
   ]
  },
  {
   "cell_type": "markdown",
   "metadata": {},
   "source": [
    "## EDA"
   ]
  },
  {
   "cell_type": "code",
   "execution_count": 117,
   "metadata": {},
   "outputs": [
    {
     "data": {
      "text/plain": [
       "bodyType                   3\n",
       "brand                     12\n",
       "color                      6\n",
       "engineDisplacement        56\n",
       "enginePower              362\n",
       "fuelType                   3\n",
       "mileage                26307\n",
       "modelDate                 69\n",
       "model_name                 4\n",
       "numberOfDoors              5\n",
       "productionDate            70\n",
       "vehicleTransmission        2\n",
       "vendor                     2\n",
       "owners                     5\n",
       "vehicle_licence            2\n",
       "driving_gear               2\n",
       "steering_wheel             2\n",
       "condition                  2\n",
       "customs                    1\n",
       "price                  11248\n",
       "train                      2\n",
       "descr_words_count       1396\n",
       "equipment_dict_len       114\n",
       "dtype: int64"
      ]
     },
     "execution_count": 117,
     "metadata": {},
     "output_type": "execute_result"
    }
   ],
   "source": [
    "data.nunique(dropna=False) #для разделения по типам"
   ]
  },
  {
   "cell_type": "code",
   "execution_count": 118,
   "metadata": {},
   "outputs": [
    {
     "data": {
      "text/plain": [
       "23"
      ]
     },
     "execution_count": 118,
     "metadata": {},
     "output_type": "execute_result"
    }
   ],
   "source": [
    "cat_cols = ['bodyType', 'brand', 'color', 'fuelType', 'model_name', \n",
    "             'driving_gear', 'owners', 'numberOfDoors']\n",
    "num_cols = ['engineDisplacement', 'enginePower',\n",
    "            'mileage', 'modelDate', 'productionDate', 'descr_words_count', 'equipment_dict_len']\n",
    "bin_cols = ['condition', 'customs', 'steering_wheel', \n",
    "            'vehicleTransmission', 'vendor', 'vehicle_licence']\n",
    "help_cols = ['train']\n",
    "target_cols = ['price']\n",
    "\n",
    "all_cols = cat_cols + num_cols + bin_cols + help_cols + target_cols\n",
    "len(all_cols)"
   ]
  },
  {
   "cell_type": "markdown",
   "metadata": {},
   "source": [
    "### Анализ числовых столбцов: распределение, корреляция"
   ]
  },
  {
   "cell_type": "code",
   "execution_count": 119,
   "metadata": {},
   "outputs": [],
   "source": [
    "#sns.pairplot(data[num_cols])"
   ]
  },
  {
   "cell_type": "code",
   "execution_count": 120,
   "metadata": {},
   "outputs": [],
   "source": [
    "#plt.figure(figsize=(15, 8))\n",
    "#sns.heatmap(data[data.train == 1][num_cols + ['price']\n",
    "#                                      ].corr(), vmin=-1, vmax=1, annot=True, cmap='vlag')"
   ]
  },
  {
   "cell_type": "code",
   "execution_count": 121,
   "metadata": {},
   "outputs": [],
   "source": [
    "#modelDate и productionDate сильно коррелированы\n",
    "#enginePower и engineDisplacement также демонстрируют высокую корреляцию\n",
    "cols_to_remove.extend(['productionDate', 'enginePower'])"
   ]
  },
  {
   "cell_type": "code",
   "execution_count": 122,
   "metadata": {},
   "outputs": [
    {
     "data": {
      "text/html": [
       "<div>\n",
       "<style scoped>\n",
       "    .dataframe tbody tr th:only-of-type {\n",
       "        vertical-align: middle;\n",
       "    }\n",
       "\n",
       "    .dataframe tbody tr th {\n",
       "        vertical-align: top;\n",
       "    }\n",
       "\n",
       "    .dataframe thead th {\n",
       "        text-align: right;\n",
       "    }\n",
       "</style>\n",
       "<table border=\"1\" class=\"dataframe\">\n",
       "  <thead>\n",
       "    <tr style=\"text-align: right;\">\n",
       "      <th></th>\n",
       "      <th>engineDisplacement</th>\n",
       "      <th>enginePower</th>\n",
       "      <th>mileage</th>\n",
       "      <th>modelDate</th>\n",
       "      <th>productionDate</th>\n",
       "      <th>descr_words_count</th>\n",
       "      <th>equipment_dict_len</th>\n",
       "    </tr>\n",
       "  </thead>\n",
       "  <tbody>\n",
       "    <tr>\n",
       "      <th>0</th>\n",
       "      <td>1.2</td>\n",
       "      <td>105.0</td>\n",
       "      <td>74000</td>\n",
       "      <td>2013.0</td>\n",
       "      <td>2014</td>\n",
       "      <td>145</td>\n",
       "      <td>36</td>\n",
       "    </tr>\n",
       "    <tr>\n",
       "      <th>1</th>\n",
       "      <td>1.6</td>\n",
       "      <td>110.0</td>\n",
       "      <td>60563</td>\n",
       "      <td>2017.0</td>\n",
       "      <td>2017</td>\n",
       "      <td>357</td>\n",
       "      <td>34</td>\n",
       "    </tr>\n",
       "    <tr>\n",
       "      <th>2</th>\n",
       "      <td>1.8</td>\n",
       "      <td>152.0</td>\n",
       "      <td>88000</td>\n",
       "      <td>2013.0</td>\n",
       "      <td>2014</td>\n",
       "      <td>145</td>\n",
       "      <td>55</td>\n",
       "    </tr>\n",
       "    <tr>\n",
       "      <th>3</th>\n",
       "      <td>1.6</td>\n",
       "      <td>110.0</td>\n",
       "      <td>95000</td>\n",
       "      <td>2013.0</td>\n",
       "      <td>2014</td>\n",
       "      <td>238</td>\n",
       "      <td>52</td>\n",
       "    </tr>\n",
       "    <tr>\n",
       "      <th>4</th>\n",
       "      <td>1.8</td>\n",
       "      <td>152.0</td>\n",
       "      <td>58536</td>\n",
       "      <td>2008.0</td>\n",
       "      <td>2012</td>\n",
       "      <td>322</td>\n",
       "      <td>29</td>\n",
       "    </tr>\n",
       "  </tbody>\n",
       "</table>\n",
       "</div>"
      ],
      "text/plain": [
       "   engineDisplacement  enginePower  mileage  modelDate  productionDate  \\\n",
       "0                 1.2        105.0    74000     2013.0            2014   \n",
       "1                 1.6        110.0    60563     2017.0            2017   \n",
       "2                 1.8        152.0    88000     2013.0            2014   \n",
       "3                 1.6        110.0    95000     2013.0            2014   \n",
       "4                 1.8        152.0    58536     2008.0            2012   \n",
       "\n",
       "   descr_words_count  equipment_dict_len  \n",
       "0                145                  36  \n",
       "1                357                  34  \n",
       "2                145                  55  \n",
       "3                238                  52  \n",
       "4                322                  29  "
      ]
     },
     "execution_count": 122,
     "metadata": {},
     "output_type": "execute_result"
    }
   ],
   "source": [
    "data[num_cols].head()"
   ]
  },
  {
   "cell_type": "code",
   "execution_count": 123,
   "metadata": {},
   "outputs": [],
   "source": [
    "for x in num_cols:\n",
    "    for i in data[x]:\n",
    "        float(i)"
   ]
  },
  {
   "cell_type": "code",
   "execution_count": 124,
   "metadata": {},
   "outputs": [],
   "source": [
    "for x in num_cols:\n",
    "    transformer = RobustScaler().fit(data[x].values.reshape(-1,1))\n",
    "    data[x] = transformer.transform(data[x].values.reshape(-1,1))"
   ]
  },
  {
   "cell_type": "code",
   "execution_count": 125,
   "metadata": {},
   "outputs": [
    {
     "data": {
      "text/html": [
       "<div>\n",
       "<style scoped>\n",
       "    .dataframe tbody tr th:only-of-type {\n",
       "        vertical-align: middle;\n",
       "    }\n",
       "\n",
       "    .dataframe tbody tr th {\n",
       "        vertical-align: top;\n",
       "    }\n",
       "\n",
       "    .dataframe thead th {\n",
       "        text-align: right;\n",
       "    }\n",
       "</style>\n",
       "<table border=\"1\" class=\"dataframe\">\n",
       "  <thead>\n",
       "    <tr style=\"text-align: right;\">\n",
       "      <th></th>\n",
       "      <th>engineDisplacement</th>\n",
       "      <th>enginePower</th>\n",
       "      <th>mileage</th>\n",
       "      <th>modelDate</th>\n",
       "      <th>productionDate</th>\n",
       "      <th>descr_words_count</th>\n",
       "      <th>equipment_dict_len</th>\n",
       "    </tr>\n",
       "  </thead>\n",
       "  <tbody>\n",
       "    <tr>\n",
       "      <th>0</th>\n",
       "      <td>-0.666667</td>\n",
       "      <td>-0.660550</td>\n",
       "      <td>-0.220388</td>\n",
       "      <td>0.1</td>\n",
       "      <td>0.0</td>\n",
       "      <td>0.076923</td>\n",
       "      <td>36.0</td>\n",
       "    </tr>\n",
       "    <tr>\n",
       "      <th>1</th>\n",
       "      <td>-0.333333</td>\n",
       "      <td>-0.614679</td>\n",
       "      <td>-0.310034</td>\n",
       "      <td>0.5</td>\n",
       "      <td>0.3</td>\n",
       "      <td>1.164103</td>\n",
       "      <td>34.0</td>\n",
       "    </tr>\n",
       "    <tr>\n",
       "      <th>2</th>\n",
       "      <td>-0.166667</td>\n",
       "      <td>-0.229358</td>\n",
       "      <td>-0.126986</td>\n",
       "      <td>0.1</td>\n",
       "      <td>0.0</td>\n",
       "      <td>0.076923</td>\n",
       "      <td>55.0</td>\n",
       "    </tr>\n",
       "    <tr>\n",
       "      <th>3</th>\n",
       "      <td>-0.333333</td>\n",
       "      <td>-0.614679</td>\n",
       "      <td>-0.080286</td>\n",
       "      <td>0.1</td>\n",
       "      <td>0.0</td>\n",
       "      <td>0.553846</td>\n",
       "      <td>52.0</td>\n",
       "    </tr>\n",
       "    <tr>\n",
       "      <th>4</th>\n",
       "      <td>-0.166667</td>\n",
       "      <td>-0.229358</td>\n",
       "      <td>-0.323557</td>\n",
       "      <td>-0.4</td>\n",
       "      <td>-0.2</td>\n",
       "      <td>0.984615</td>\n",
       "      <td>29.0</td>\n",
       "    </tr>\n",
       "  </tbody>\n",
       "</table>\n",
       "</div>"
      ],
      "text/plain": [
       "   engineDisplacement  enginePower   mileage  modelDate  productionDate  \\\n",
       "0           -0.666667    -0.660550 -0.220388        0.1             0.0   \n",
       "1           -0.333333    -0.614679 -0.310034        0.5             0.3   \n",
       "2           -0.166667    -0.229358 -0.126986        0.1             0.0   \n",
       "3           -0.333333    -0.614679 -0.080286        0.1             0.0   \n",
       "4           -0.166667    -0.229358 -0.323557       -0.4            -0.2   \n",
       "\n",
       "   descr_words_count  equipment_dict_len  \n",
       "0           0.076923                36.0  \n",
       "1           1.164103                34.0  \n",
       "2           0.076923                55.0  \n",
       "3           0.553846                52.0  \n",
       "4           0.984615                29.0  "
      ]
     },
     "execution_count": 125,
     "metadata": {},
     "output_type": "execute_result"
    }
   ],
   "source": [
    "data[num_cols].head()"
   ]
  },
  {
   "cell_type": "markdown",
   "metadata": {},
   "source": [
    "### Работа с выбросами"
   ]
  },
  {
   "cell_type": "code",
   "execution_count": 126,
   "metadata": {},
   "outputs": [
    {
     "data": {
      "text/html": [
       "<div>\n",
       "<style scoped>\n",
       "    .dataframe tbody tr th:only-of-type {\n",
       "        vertical-align: middle;\n",
       "    }\n",
       "\n",
       "    .dataframe tbody tr th {\n",
       "        vertical-align: top;\n",
       "    }\n",
       "\n",
       "    .dataframe thead th {\n",
       "        text-align: right;\n",
       "    }\n",
       "</style>\n",
       "<table border=\"1\" class=\"dataframe\">\n",
       "  <thead>\n",
       "    <tr style=\"text-align: right;\">\n",
       "      <th></th>\n",
       "      <th>bodyType</th>\n",
       "      <th>brand</th>\n",
       "      <th>color</th>\n",
       "      <th>engineDisplacement</th>\n",
       "      <th>enginePower</th>\n",
       "      <th>fuelType</th>\n",
       "      <th>mileage</th>\n",
       "      <th>modelDate</th>\n",
       "      <th>model_name</th>\n",
       "      <th>numberOfDoors</th>\n",
       "      <th>...</th>\n",
       "      <th>owners</th>\n",
       "      <th>vehicle_licence</th>\n",
       "      <th>driving_gear</th>\n",
       "      <th>steering_wheel</th>\n",
       "      <th>condition</th>\n",
       "      <th>customs</th>\n",
       "      <th>price</th>\n",
       "      <th>train</th>\n",
       "      <th>descr_words_count</th>\n",
       "      <th>equipment_dict_len</th>\n",
       "    </tr>\n",
       "  </thead>\n",
       "  <tbody>\n",
       "    <tr>\n",
       "      <th>34730</th>\n",
       "      <td>2</td>\n",
       "      <td>AUDI</td>\n",
       "      <td>3</td>\n",
       "      <td>-1.666667</td>\n",
       "      <td>4.302752</td>\n",
       "      <td>3</td>\n",
       "      <td>-0.707412</td>\n",
       "      <td>0.8</td>\n",
       "      <td>3</td>\n",
       "      <td>4.0</td>\n",
       "      <td>...</td>\n",
       "      <td>1.0</td>\n",
       "      <td>1</td>\n",
       "      <td>2</td>\n",
       "      <td>2</td>\n",
       "      <td>0</td>\n",
       "      <td>1</td>\n",
       "      <td>12100000.0</td>\n",
       "      <td>1</td>\n",
       "      <td>0.210256</td>\n",
       "      <td>0.0</td>\n",
       "    </tr>\n",
       "    <tr>\n",
       "      <th>49177</th>\n",
       "      <td>1</td>\n",
       "      <td>MERCEDES</td>\n",
       "      <td>1</td>\n",
       "      <td>1.666667</td>\n",
       "      <td>5.715596</td>\n",
       "      <td>1</td>\n",
       "      <td>-0.654040</td>\n",
       "      <td>0.6</td>\n",
       "      <td>3</td>\n",
       "      <td>5.0</td>\n",
       "      <td>...</td>\n",
       "      <td>1.0</td>\n",
       "      <td>1</td>\n",
       "      <td>2</td>\n",
       "      <td>2</td>\n",
       "      <td>0</td>\n",
       "      <td>1</td>\n",
       "      <td>17938461.0</td>\n",
       "      <td>1</td>\n",
       "      <td>0.046154</td>\n",
       "      <td>0.0</td>\n",
       "    </tr>\n",
       "    <tr>\n",
       "      <th>49234</th>\n",
       "      <td>1</td>\n",
       "      <td>MERCEDES</td>\n",
       "      <td>1</td>\n",
       "      <td>2.916667</td>\n",
       "      <td>4.798165</td>\n",
       "      <td>1</td>\n",
       "      <td>-0.140330</td>\n",
       "      <td>0.0</td>\n",
       "      <td>3</td>\n",
       "      <td>5.0</td>\n",
       "      <td>...</td>\n",
       "      <td>1.0</td>\n",
       "      <td>1</td>\n",
       "      <td>2</td>\n",
       "      <td>2</td>\n",
       "      <td>0</td>\n",
       "      <td>1</td>\n",
       "      <td>4007692.0</td>\n",
       "      <td>1</td>\n",
       "      <td>1.123077</td>\n",
       "      <td>0.0</td>\n",
       "    </tr>\n",
       "    <tr>\n",
       "      <th>49278</th>\n",
       "      <td>1</td>\n",
       "      <td>MERCEDES</td>\n",
       "      <td>1</td>\n",
       "      <td>1.666667</td>\n",
       "      <td>5.715596</td>\n",
       "      <td>1</td>\n",
       "      <td>-0.654040</td>\n",
       "      <td>0.6</td>\n",
       "      <td>3</td>\n",
       "      <td>5.0</td>\n",
       "      <td>...</td>\n",
       "      <td>1.0</td>\n",
       "      <td>1</td>\n",
       "      <td>2</td>\n",
       "      <td>2</td>\n",
       "      <td>0</td>\n",
       "      <td>1</td>\n",
       "      <td>16123076.0</td>\n",
       "      <td>1</td>\n",
       "      <td>2.456410</td>\n",
       "      <td>0.0</td>\n",
       "    </tr>\n",
       "    <tr>\n",
       "      <th>49307</th>\n",
       "      <td>1</td>\n",
       "      <td>MERCEDES</td>\n",
       "      <td>1</td>\n",
       "      <td>1.666667</td>\n",
       "      <td>4.798165</td>\n",
       "      <td>1</td>\n",
       "      <td>-0.413863</td>\n",
       "      <td>0.6</td>\n",
       "      <td>3</td>\n",
       "      <td>5.0</td>\n",
       "      <td>...</td>\n",
       "      <td>2.0</td>\n",
       "      <td>1</td>\n",
       "      <td>2</td>\n",
       "      <td>2</td>\n",
       "      <td>0</td>\n",
       "      <td>1</td>\n",
       "      <td>12361538.0</td>\n",
       "      <td>1</td>\n",
       "      <td>-0.564103</td>\n",
       "      <td>0.0</td>\n",
       "    </tr>\n",
       "    <tr>\n",
       "      <th>...</th>\n",
       "      <td>...</td>\n",
       "      <td>...</td>\n",
       "      <td>...</td>\n",
       "      <td>...</td>\n",
       "      <td>...</td>\n",
       "      <td>...</td>\n",
       "      <td>...</td>\n",
       "      <td>...</td>\n",
       "      <td>...</td>\n",
       "      <td>...</td>\n",
       "      <td>...</td>\n",
       "      <td>...</td>\n",
       "      <td>...</td>\n",
       "      <td>...</td>\n",
       "      <td>...</td>\n",
       "      <td>...</td>\n",
       "      <td>...</td>\n",
       "      <td>...</td>\n",
       "      <td>...</td>\n",
       "      <td>...</td>\n",
       "      <td>...</td>\n",
       "    </tr>\n",
       "    <tr>\n",
       "      <th>98057</th>\n",
       "      <td>3</td>\n",
       "      <td>MERCEDES</td>\n",
       "      <td>1</td>\n",
       "      <td>3.333333</td>\n",
       "      <td>4.522936</td>\n",
       "      <td>1</td>\n",
       "      <td>-0.540623</td>\n",
       "      <td>-0.4</td>\n",
       "      <td>3</td>\n",
       "      <td>2.0</td>\n",
       "      <td>...</td>\n",
       "      <td>4.0</td>\n",
       "      <td>1</td>\n",
       "      <td>1</td>\n",
       "      <td>2</td>\n",
       "      <td>0</td>\n",
       "      <td>1</td>\n",
       "      <td>19923076.0</td>\n",
       "      <td>1</td>\n",
       "      <td>2.748718</td>\n",
       "      <td>0.0</td>\n",
       "    </tr>\n",
       "    <tr>\n",
       "      <th>100028</th>\n",
       "      <td>1</td>\n",
       "      <td>MERCEDES</td>\n",
       "      <td>1</td>\n",
       "      <td>2.916667</td>\n",
       "      <td>4.798165</td>\n",
       "      <td>1</td>\n",
       "      <td>-0.614010</td>\n",
       "      <td>0.3</td>\n",
       "      <td>3</td>\n",
       "      <td>5.0</td>\n",
       "      <td>...</td>\n",
       "      <td>1.0</td>\n",
       "      <td>1</td>\n",
       "      <td>2</td>\n",
       "      <td>2</td>\n",
       "      <td>0</td>\n",
       "      <td>1</td>\n",
       "      <td>9230769.0</td>\n",
       "      <td>1</td>\n",
       "      <td>-0.517949</td>\n",
       "      <td>0.0</td>\n",
       "    </tr>\n",
       "    <tr>\n",
       "      <th>122716</th>\n",
       "      <td>2</td>\n",
       "      <td>AUDI</td>\n",
       "      <td>3</td>\n",
       "      <td>-1.666667</td>\n",
       "      <td>4.302752</td>\n",
       "      <td>3</td>\n",
       "      <td>-0.709414</td>\n",
       "      <td>0.8</td>\n",
       "      <td>3</td>\n",
       "      <td>4.0</td>\n",
       "      <td>...</td>\n",
       "      <td>1.0</td>\n",
       "      <td>1</td>\n",
       "      <td>2</td>\n",
       "      <td>2</td>\n",
       "      <td>0</td>\n",
       "      <td>1</td>\n",
       "      <td>11000000.0</td>\n",
       "      <td>1</td>\n",
       "      <td>0.210256</td>\n",
       "      <td>0.0</td>\n",
       "    </tr>\n",
       "    <tr>\n",
       "      <th>137148</th>\n",
       "      <td>3</td>\n",
       "      <td>MERCEDES</td>\n",
       "      <td>1</td>\n",
       "      <td>3.333333</td>\n",
       "      <td>4.522936</td>\n",
       "      <td>1</td>\n",
       "      <td>-0.540623</td>\n",
       "      <td>-0.4</td>\n",
       "      <td>3</td>\n",
       "      <td>2.0</td>\n",
       "      <td>...</td>\n",
       "      <td>4.0</td>\n",
       "      <td>1</td>\n",
       "      <td>1</td>\n",
       "      <td>2</td>\n",
       "      <td>0</td>\n",
       "      <td>1</td>\n",
       "      <td>19923076.0</td>\n",
       "      <td>1</td>\n",
       "      <td>2.748718</td>\n",
       "      <td>0.0</td>\n",
       "    </tr>\n",
       "    <tr>\n",
       "      <th>139574</th>\n",
       "      <td>1</td>\n",
       "      <td>MERCEDES</td>\n",
       "      <td>1</td>\n",
       "      <td>2.916667</td>\n",
       "      <td>4.798165</td>\n",
       "      <td>1</td>\n",
       "      <td>-0.614010</td>\n",
       "      <td>0.3</td>\n",
       "      <td>3</td>\n",
       "      <td>5.0</td>\n",
       "      <td>...</td>\n",
       "      <td>1.0</td>\n",
       "      <td>1</td>\n",
       "      <td>2</td>\n",
       "      <td>2</td>\n",
       "      <td>0</td>\n",
       "      <td>1</td>\n",
       "      <td>9230769.0</td>\n",
       "      <td>1</td>\n",
       "      <td>-0.517949</td>\n",
       "      <td>0.0</td>\n",
       "    </tr>\n",
       "  </tbody>\n",
       "</table>\n",
       "<p>94 rows × 23 columns</p>\n",
       "</div>"
      ],
      "text/plain": [
       "        bodyType     brand  color  engineDisplacement  enginePower  fuelType  \\\n",
       "34730          2      AUDI      3           -1.666667     4.302752         3   \n",
       "49177          1  MERCEDES      1            1.666667     5.715596         1   \n",
       "49234          1  MERCEDES      1            2.916667     4.798165         1   \n",
       "49278          1  MERCEDES      1            1.666667     5.715596         1   \n",
       "49307          1  MERCEDES      1            1.666667     4.798165         1   \n",
       "...          ...       ...    ...                 ...          ...       ...   \n",
       "98057          3  MERCEDES      1            3.333333     4.522936         1   \n",
       "100028         1  MERCEDES      1            2.916667     4.798165         1   \n",
       "122716         2      AUDI      3           -1.666667     4.302752         3   \n",
       "137148         3  MERCEDES      1            3.333333     4.522936         1   \n",
       "139574         1  MERCEDES      1            2.916667     4.798165         1   \n",
       "\n",
       "         mileage  modelDate  model_name  numberOfDoors  ...  owners  \\\n",
       "34730  -0.707412        0.8           3            4.0  ...     1.0   \n",
       "49177  -0.654040        0.6           3            5.0  ...     1.0   \n",
       "49234  -0.140330        0.0           3            5.0  ...     1.0   \n",
       "49278  -0.654040        0.6           3            5.0  ...     1.0   \n",
       "49307  -0.413863        0.6           3            5.0  ...     2.0   \n",
       "...          ...        ...         ...            ...  ...     ...   \n",
       "98057  -0.540623       -0.4           3            2.0  ...     4.0   \n",
       "100028 -0.614010        0.3           3            5.0  ...     1.0   \n",
       "122716 -0.709414        0.8           3            4.0  ...     1.0   \n",
       "137148 -0.540623       -0.4           3            2.0  ...     4.0   \n",
       "139574 -0.614010        0.3           3            5.0  ...     1.0   \n",
       "\n",
       "        vehicle_licence  driving_gear  steering_wheel  condition  customs  \\\n",
       "34730                 1             2               2          0        1   \n",
       "49177                 1             2               2          0        1   \n",
       "49234                 1             2               2          0        1   \n",
       "49278                 1             2               2          0        1   \n",
       "49307                 1             2               2          0        1   \n",
       "...                 ...           ...             ...        ...      ...   \n",
       "98057                 1             1               2          0        1   \n",
       "100028                1             2               2          0        1   \n",
       "122716                1             2               2          0        1   \n",
       "137148                1             1               2          0        1   \n",
       "139574                1             2               2          0        1   \n",
       "\n",
       "             price  train  descr_words_count  equipment_dict_len  \n",
       "34730   12100000.0      1           0.210256                 0.0  \n",
       "49177   17938461.0      1           0.046154                 0.0  \n",
       "49234    4007692.0      1           1.123077                 0.0  \n",
       "49278   16123076.0      1           2.456410                 0.0  \n",
       "49307   12361538.0      1          -0.564103                 0.0  \n",
       "...            ...    ...                ...                 ...  \n",
       "98057   19923076.0      1           2.748718                 0.0  \n",
       "100028   9230769.0      1          -0.517949                 0.0  \n",
       "122716  11000000.0      1           0.210256                 0.0  \n",
       "137148  19923076.0      1           2.748718                 0.0  \n",
       "139574   9230769.0      1          -0.517949                 0.0  \n",
       "\n",
       "[94 rows x 23 columns]"
      ]
     },
     "execution_count": 126,
     "metadata": {},
     "output_type": "execute_result"
    }
   ],
   "source": [
    "data[(data.train == 1) & (data.enginePower >\n",
    "                              data.query('train == 0').enginePower.max())]"
   ]
  },
  {
   "cell_type": "code",
   "execution_count": 127,
   "metadata": {},
   "outputs": [],
   "source": [
    "data.drop(\n",
    "    data[(data.train == 1) & (data.enginePower > data.query(\n",
    "        'train == 0').enginePower.max())].index, inplace=True\n",
    ")"
   ]
  },
  {
   "cell_type": "code",
   "execution_count": 128,
   "metadata": {},
   "outputs": [],
   "source": [
    "cols_to_remove.extend(['condition', 'customs'])"
   ]
  },
  {
   "cell_type": "code",
   "execution_count": 129,
   "metadata": {},
   "outputs": [
    {
     "data": {
      "text/plain": [
       "['productionDate', 'enginePower', 'condition', 'customs']"
      ]
     },
     "execution_count": 129,
     "metadata": {},
     "output_type": "execute_result"
    }
   ],
   "source": [
    "cols_to_remove"
   ]
  },
  {
   "cell_type": "markdown",
   "metadata": {},
   "source": [
    "### Анализ целевой характеристики («цены»)"
   ]
  },
  {
   "cell_type": "code",
   "execution_count": 130,
   "metadata": {},
   "outputs": [],
   "source": [
    "#data.query('train == 1').price.hist();\n",
    "#plt.title('The target variable distribution', fontdict={'fontsize': 14});\n",
    "#plt.xlabel('price, RUB * 10^7')"
   ]
  },
  {
   "cell_type": "code",
   "execution_count": 131,
   "metadata": {},
   "outputs": [],
   "source": [
    "#np.log2(data.query('train == 1').price).hist();\n",
    "#plt.title('The log2 target variable distribution', fontdict={'fontsize': 14})"
   ]
  },
  {
   "cell_type": "code",
   "execution_count": 132,
   "metadata": {},
   "outputs": [],
   "source": [
    "data['price_log2'] = np.log2(data.price + 1)"
   ]
  },
  {
   "cell_type": "markdown",
   "metadata": {},
   "source": [
    "## Feature engineering"
   ]
  },
  {
   "cell_type": "markdown",
   "metadata": {},
   "source": [
    "Число километров за один год"
   ]
  },
  {
   "cell_type": "code",
   "execution_count": 133,
   "metadata": {},
   "outputs": [],
   "source": [
    "data['mileage_per_year'] = data.productionDate / data.mileage\n",
    "data['mileage_per_year'].replace([np.inf, -np.inf], 0, inplace=True)"
   ]
  },
  {
   "cell_type": "code",
   "execution_count": 134,
   "metadata": {},
   "outputs": [],
   "source": [
    "num_cols.append(['mileage_per_year'])"
   ]
  },
  {
   "cell_type": "markdown",
   "metadata": {},
   "source": [
    "Возраст автомобиля"
   ]
  },
  {
   "cell_type": "code",
   "execution_count": 135,
   "metadata": {},
   "outputs": [],
   "source": [
    "data['age_year'] = 2021 - data.productionDate\n",
    "data['age_year'].replace([np.inf, -np.inf], 0, inplace=True)"
   ]
  },
  {
   "cell_type": "code",
   "execution_count": 136,
   "metadata": {},
   "outputs": [],
   "source": [
    "data['time_bw_model_product'] = data.productionDate - data.modelDate\n",
    "data.loc[data.time_bw_model_product < 0, 'time_bw_model_product'] = 0"
   ]
  },
  {
   "cell_type": "code",
   "execution_count": 137,
   "metadata": {},
   "outputs": [],
   "source": [
    "num_cols.append(['age_year'])\n",
    "num_cols.append(['time_bw_model_product'])"
   ]
  },
  {
   "cell_type": "markdown",
   "metadata": {},
   "source": [
    "Раритетность и возраст"
   ]
  },
  {
   "cell_type": "code",
   "execution_count": 138,
   "metadata": {},
   "outputs": [],
   "source": [
    "data['rarity'] = data.productionDate.apply(lambda x: 1 if x < 1960 else 0)\n",
    "data['older_3y'] = data.productionDate.apply(lambda x: 1 if x < 2021 - 3 else 0)\n",
    "data['older_5y'] = data.productionDate.apply(lambda x: 1 if x < 2021 - 5 else 0)"
   ]
  },
  {
   "cell_type": "code",
   "execution_count": 139,
   "metadata": {},
   "outputs": [],
   "source": [
    "bin_cols.append(['older_3y', 'older_5y', 'rarity']) "
   ]
  },
  {
   "cell_type": "markdown",
   "metadata": {},
   "source": [
    "### Окончательные столбцы"
   ]
  },
  {
   "cell_type": "code",
   "execution_count": 140,
   "metadata": {},
   "outputs": [],
   "source": [
    "data.drop(labels=cols_to_remove, axis=1, inplace=True)"
   ]
  },
  {
   "cell_type": "code",
   "execution_count": 141,
   "metadata": {},
   "outputs": [
    {
     "name": "stdout",
     "output_type": "stream",
     "text": [
      "<class 'pandas.core.frame.DataFrame'>\n",
      "Int64Index: 158887 entries, 0 to 158980\n",
      "Data columns (total 26 columns):\n",
      " #   Column                 Non-Null Count   Dtype  \n",
      "---  ------                 --------------   -----  \n",
      " 0   bodyType               158887 non-null  int64  \n",
      " 1   brand                  158887 non-null  object \n",
      " 2   color                  158887 non-null  int64  \n",
      " 3   engineDisplacement     158887 non-null  float64\n",
      " 4   fuelType               158887 non-null  int64  \n",
      " 5   mileage                158887 non-null  float64\n",
      " 6   modelDate              158887 non-null  float64\n",
      " 7   model_name             158887 non-null  int64  \n",
      " 8   numberOfDoors          158887 non-null  float64\n",
      " 9   vehicleTransmission    158887 non-null  int64  \n",
      " 10  vendor                 158887 non-null  int64  \n",
      " 11  owners                 158887 non-null  float64\n",
      " 12  vehicle_licence        158887 non-null  int64  \n",
      " 13  driving_gear           158887 non-null  int64  \n",
      " 14  steering_wheel         158887 non-null  int64  \n",
      " 15  price                  158887 non-null  float64\n",
      " 16  train                  158887 non-null  int64  \n",
      " 17  descr_words_count      158887 non-null  float64\n",
      " 18  equipment_dict_len     158887 non-null  float64\n",
      " 19  price_log2             158887 non-null  float64\n",
      " 20  mileage_per_year       158887 non-null  float64\n",
      " 21  age_year               158887 non-null  float64\n",
      " 22  time_bw_model_product  158887 non-null  float64\n",
      " 23  rarity                 158887 non-null  int64  \n",
      " 24  older_3y               158887 non-null  int64  \n",
      " 25  older_5y               158887 non-null  int64  \n",
      "dtypes: float64(12), int64(13), object(1)\n",
      "memory usage: 32.7+ MB\n"
     ]
    }
   ],
   "source": [
    "data.info()"
   ]
  },
  {
   "cell_type": "code",
   "execution_count": 142,
   "metadata": {},
   "outputs": [
    {
     "data": {
      "text/plain": [
       "['productionDate', 'enginePower', 'condition', 'customs']"
      ]
     },
     "execution_count": 142,
     "metadata": {},
     "output_type": "execute_result"
    }
   ],
   "source": [
    "cols_to_remove"
   ]
  },
  {
   "cell_type": "code",
   "execution_count": 143,
   "metadata": {},
   "outputs": [
    {
     "data": {
      "text/plain": [
       "(['engineDisplacement',\n",
       "  'enginePower',\n",
       "  'mileage',\n",
       "  'modelDate',\n",
       "  'productionDate',\n",
       "  'descr_words_count',\n",
       "  'equipment_dict_len',\n",
       "  ['mileage_per_year'],\n",
       "  ['age_year'],\n",
       "  ['time_bw_model_product']],\n",
       " ['condition',\n",
       "  'customs',\n",
       "  'steering_wheel',\n",
       "  'vehicleTransmission',\n",
       "  'vendor',\n",
       "  'vehicle_licence',\n",
       "  ['older_3y', 'older_5y', 'rarity']],\n",
       " ['bodyType',\n",
       "  'brand',\n",
       "  'color',\n",
       "  'fuelType',\n",
       "  'model_name',\n",
       "  'driving_gear',\n",
       "  'owners',\n",
       "  'numberOfDoors'])"
      ]
     },
     "execution_count": 143,
     "metadata": {},
     "output_type": "execute_result"
    }
   ],
   "source": [
    "num_cols, bin_cols, cat_cols"
   ]
  },
  {
   "cell_type": "code",
   "execution_count": 144,
   "metadata": {},
   "outputs": [],
   "source": [
    "bin_cols = bin_cols[2:]"
   ]
  },
  {
   "cell_type": "code",
   "execution_count": 145,
   "metadata": {},
   "outputs": [],
   "source": [
    "num_cols.remove('enginePower')\n",
    "num_cols.remove('productionDate')"
   ]
  },
  {
   "cell_type": "code",
   "execution_count": 146,
   "metadata": {},
   "outputs": [
    {
     "data": {
      "text/plain": [
       "(['engineDisplacement',\n",
       "  'mileage',\n",
       "  'modelDate',\n",
       "  'descr_words_count',\n",
       "  'equipment_dict_len',\n",
       "  ['mileage_per_year'],\n",
       "  ['age_year'],\n",
       "  ['time_bw_model_product']],\n",
       " ['steering_wheel',\n",
       "  'vehicleTransmission',\n",
       "  'vendor',\n",
       "  'vehicle_licence',\n",
       "  ['older_3y', 'older_5y', 'rarity']],\n",
       " ['bodyType',\n",
       "  'brand',\n",
       "  'color',\n",
       "  'fuelType',\n",
       "  'model_name',\n",
       "  'driving_gear',\n",
       "  'owners',\n",
       "  'numberOfDoors'])"
      ]
     },
     "execution_count": 146,
     "metadata": {},
     "output_type": "execute_result"
    }
   ],
   "source": [
    "num_cols, bin_cols, cat_cols"
   ]
  },
  {
   "cell_type": "markdown",
   "metadata": {},
   "source": [
    "## Кодирование категориальных признаков"
   ]
  },
  {
   "cell_type": "code",
   "execution_count": 147,
   "metadata": {},
   "outputs": [],
   "source": [
    "data = pd.get_dummies(data, columns=cat_cols)"
   ]
  },
  {
   "cell_type": "code",
   "execution_count": 148,
   "metadata": {},
   "outputs": [
    {
     "name": "stdout",
     "output_type": "stream",
     "text": [
      "<class 'pandas.core.frame.DataFrame'>\n",
      "Int64Index: 158887 entries, 0 to 158980\n",
      "Data columns (total 58 columns):\n",
      " #   Column                 Non-Null Count   Dtype  \n",
      "---  ------                 --------------   -----  \n",
      " 0   engineDisplacement     158887 non-null  float64\n",
      " 1   mileage                158887 non-null  float64\n",
      " 2   modelDate              158887 non-null  float64\n",
      " 3   vehicleTransmission    158887 non-null  int64  \n",
      " 4   vendor                 158887 non-null  int64  \n",
      " 5   vehicle_licence        158887 non-null  int64  \n",
      " 6   steering_wheel         158887 non-null  int64  \n",
      " 7   price                  158887 non-null  float64\n",
      " 8   train                  158887 non-null  int64  \n",
      " 9   descr_words_count      158887 non-null  float64\n",
      " 10  equipment_dict_len     158887 non-null  float64\n",
      " 11  price_log2             158887 non-null  float64\n",
      " 12  mileage_per_year       158887 non-null  float64\n",
      " 13  age_year               158887 non-null  float64\n",
      " 14  time_bw_model_product  158887 non-null  float64\n",
      " 15  rarity                 158887 non-null  int64  \n",
      " 16  older_3y               158887 non-null  int64  \n",
      " 17  older_5y               158887 non-null  int64  \n",
      " 18  bodyType_1             158887 non-null  uint8  \n",
      " 19  bodyType_2             158887 non-null  uint8  \n",
      " 20  bodyType_3             158887 non-null  uint8  \n",
      " 21  brand_AUDI             158887 non-null  uint8  \n",
      " 22  brand_BMW              158887 non-null  uint8  \n",
      " 23  brand_HONDA            158887 non-null  uint8  \n",
      " 24  brand_INFINITI         158887 non-null  uint8  \n",
      " 25  brand_LEXUS            158887 non-null  uint8  \n",
      " 26  brand_MERCEDES         158887 non-null  uint8  \n",
      " 27  brand_MITSUBISHI       158887 non-null  uint8  \n",
      " 28  brand_NISSAN           158887 non-null  uint8  \n",
      " 29  brand_SKODA            158887 non-null  uint8  \n",
      " 30  brand_TOYOTA           158887 non-null  uint8  \n",
      " 31  brand_VOLKSWAGEN       158887 non-null  uint8  \n",
      " 32  brand_VOLVO            158887 non-null  uint8  \n",
      " 33  color_1                158887 non-null  uint8  \n",
      " 34  color_2                158887 non-null  uint8  \n",
      " 35  color_3                158887 non-null  uint8  \n",
      " 36  color_4                158887 non-null  uint8  \n",
      " 37  color_5                158887 non-null  uint8  \n",
      " 38  color_6                158887 non-null  uint8  \n",
      " 39  fuelType_1             158887 non-null  uint8  \n",
      " 40  fuelType_2             158887 non-null  uint8  \n",
      " 41  fuelType_3             158887 non-null  uint8  \n",
      " 42  model_name_1           158887 non-null  uint8  \n",
      " 43  model_name_2           158887 non-null  uint8  \n",
      " 44  model_name_3           158887 non-null  uint8  \n",
      " 45  model_name_4           158887 non-null  uint8  \n",
      " 46  driving_gear_1         158887 non-null  uint8  \n",
      " 47  driving_gear_2         158887 non-null  uint8  \n",
      " 48  owners_0.0             158887 non-null  uint8  \n",
      " 49  owners_1.0             158887 non-null  uint8  \n",
      " 50  owners_2.0             158887 non-null  uint8  \n",
      " 51  owners_3.0             158887 non-null  uint8  \n",
      " 52  owners_4.0             158887 non-null  uint8  \n",
      " 53  numberOfDoors_0.0      158887 non-null  uint8  \n",
      " 54  numberOfDoors_2.0      158887 non-null  uint8  \n",
      " 55  numberOfDoors_3.0      158887 non-null  uint8  \n",
      " 56  numberOfDoors_4.0      158887 non-null  uint8  \n",
      " 57  numberOfDoors_5.0      158887 non-null  uint8  \n",
      "dtypes: float64(10), int64(8), uint8(40)\n",
      "memory usage: 29.1 MB\n"
     ]
    }
   ],
   "source": [
    "data.info()"
   ]
  },
  {
   "cell_type": "code",
   "execution_count": 149,
   "metadata": {},
   "outputs": [],
   "source": [
    "data = pd.get_dummies(data, columns=bin_cols[:4])"
   ]
  },
  {
   "cell_type": "code",
   "execution_count": 150,
   "metadata": {},
   "outputs": [
    {
     "data": {
      "text/plain": [
       "62"
      ]
     },
     "execution_count": 150,
     "metadata": {},
     "output_type": "execute_result"
    }
   ],
   "source": [
    "len(data.columns)"
   ]
  },
  {
   "cell_type": "markdown",
   "metadata": {},
   "source": [
    "## Dimensionality reduction"
   ]
  },
  {
   "cell_type": "markdown",
   "metadata": {},
   "source": [
    "Не дало прироста метрики, при снижении размеренности метрика понижается. \n",
    "Принято решение от понижения размеренности отказаться."
   ]
  },
  {
   "cell_type": "code",
   "execution_count": 151,
   "metadata": {},
   "outputs": [],
   "source": [
    "#from sklearn.discriminant_analysis import LinearDiscriminantAnalysis"
   ]
  },
  {
   "cell_type": "code",
   "execution_count": 152,
   "metadata": {},
   "outputs": [],
   "source": [
    "#X_ = data.query('train == 1').drop(['price', 'train', 'price_log2',], axis=1)\n",
    "#X_t_ = data.query('train == 0').drop(['price', 'train', 'price_log2',], axis=1)\n",
    "#y = data.query('train == 1').price"
   ]
  },
  {
   "cell_type": "code",
   "execution_count": 153,
   "metadata": {},
   "outputs": [],
   "source": [
    "#clf = LinearDiscriminantAnalysis()\n",
    "\n",
    "#X = clf.fit(X_, y).transform(X_)\n",
    "#X_t = clf.transform(X_t_)"
   ]
  },
  {
   "cell_type": "markdown",
   "metadata": {},
   "source": [
    "## Machine learning"
   ]
  },
  {
   "cell_type": "code",
   "execution_count": 154,
   "metadata": {},
   "outputs": [],
   "source": [
    "# Импровизированная метрика (т.к. новая версия с метрикой не была доступна)\n",
    "def mape(y_true, y_pred): \n",
    "    y_true, y_pred = np.array(y_true), np.array(y_pred)\n",
    "    return np.mean(np.abs((y_true - y_pred) / np.maximum(np.ones(len(y_true)), np.abs(y_true))))*100"
   ]
  },
  {
   "cell_type": "code",
   "execution_count": 155,
   "metadata": {},
   "outputs": [
    {
     "name": "stdout",
     "output_type": "stream",
     "text": [
      "(124201, 62)\n"
     ]
    },
    {
     "data": {
      "text/plain": [
       "(93065, 62)"
      ]
     },
     "execution_count": 155,
     "metadata": {},
     "output_type": "execute_result"
    }
   ],
   "source": [
    "print(data.query('train == 1').shape)\n",
    "new_data = data.query('train == 1').copy()\n",
    "new_data.drop_duplicates(inplace=True) #После заполнения проопусков появились еще дубликаты. Удаляю\n",
    "new_data.shape"
   ]
  },
  {
   "cell_type": "code",
   "execution_count": 156,
   "metadata": {},
   "outputs": [],
   "source": [
    "X = new_data.drop(['price', 'train', 'price_log2',], axis=1)\n",
    "X_t = data.query('train == 0').drop(['price', 'train', 'price_log2',], axis=1)\n",
    "y = new_data.price"
   ]
  },
  {
   "cell_type": "code",
   "execution_count": 157,
   "metadata": {},
   "outputs": [],
   "source": [
    "X_train, X_test, y_train, y_test = train_test_split(X, y, test_size=0.2, shuffle=True, random_state=42)"
   ]
  },
  {
   "cell_type": "markdown",
   "metadata": {},
   "source": [
    "## LinearRegression"
   ]
  },
  {
   "cell_type": "code",
   "execution_count": 423,
   "metadata": {},
   "outputs": [
    {
     "data": {
      "text/plain": [
       "LinearRegression()"
      ]
     },
     "execution_count": 423,
     "metadata": {},
     "output_type": "execute_result"
    }
   ],
   "source": [
    "reg = LinearRegression()\n",
    "reg.fit(X_train, np.log(y_train))"
   ]
  },
  {
   "cell_type": "code",
   "execution_count": 424,
   "metadata": {},
   "outputs": [],
   "source": [
    "y_pred = np.exp(reg.predict(X_test))\n",
    "reg_mape_value = round(mape(y_test, y_pred)/100,2)"
   ]
  },
  {
   "cell_type": "code",
   "execution_count": 425,
   "metadata": {},
   "outputs": [
    {
     "name": "stdout",
     "output_type": "stream",
     "text": [
      "Точность прогноза: 0.76\n"
     ]
    }
   ],
   "source": [
    "print (f\"Точность прогноза: {1 - reg_mape_value}\")"
   ]
  },
  {
   "cell_type": "markdown",
   "metadata": {},
   "source": [
    "## LazyRegressor"
   ]
  },
  {
   "cell_type": "code",
   "execution_count": 164,
   "metadata": {},
   "outputs": [
    {
     "name": "stderr",
     "output_type": "stream",
     "text": [
      "100%|███████████████████████████████████████| 42/42 [1:45:59<00:00, 151.42s/it]\n"
     ]
    }
   ],
   "source": [
    "#mae = mean_absolute_error\n",
    "#regr=LazyRegressor(verbose=0,predictions=True, custom_metric=mae)\n",
    "## fit and train the model\n",
    "#start_time_2=time.time()\n",
    "#models, predictions=regr.fit(X_train, X_test, np.log(y_train), np.log(y_test))\n",
    "#end_time_2=time.time()"
   ]
  },
  {
   "cell_type": "code",
   "execution_count": 165,
   "metadata": {},
   "outputs": [
    {
     "data": {
      "text/html": [
       "<div>\n",
       "<style scoped>\n",
       "    .dataframe tbody tr th:only-of-type {\n",
       "        vertical-align: middle;\n",
       "    }\n",
       "\n",
       "    .dataframe tbody tr th {\n",
       "        vertical-align: top;\n",
       "    }\n",
       "\n",
       "    .dataframe thead th {\n",
       "        text-align: right;\n",
       "    }\n",
       "</style>\n",
       "<table border=\"1\" class=\"dataframe\">\n",
       "  <thead>\n",
       "    <tr style=\"text-align: right;\">\n",
       "      <th></th>\n",
       "      <th>Adjusted R-Squared</th>\n",
       "      <th>R-Squared</th>\n",
       "      <th>RMSE</th>\n",
       "      <th>Time Taken</th>\n",
       "      <th>mean_absolute_error</th>\n",
       "    </tr>\n",
       "    <tr>\n",
       "      <th>Model</th>\n",
       "      <th></th>\n",
       "      <th></th>\n",
       "      <th></th>\n",
       "      <th></th>\n",
       "      <th></th>\n",
       "    </tr>\n",
       "  </thead>\n",
       "  <tbody>\n",
       "    <tr>\n",
       "      <th>RandomForestRegressor</th>\n",
       "      <td>0.95</td>\n",
       "      <td>0.95</td>\n",
       "      <td>0.23</td>\n",
       "      <td>70.27</td>\n",
       "      <td>0.13</td>\n",
       "    </tr>\n",
       "    <tr>\n",
       "      <th>ExtraTreesRegressor</th>\n",
       "      <td>0.95</td>\n",
       "      <td>0.95</td>\n",
       "      <td>0.23</td>\n",
       "      <td>81.72</td>\n",
       "      <td>0.13</td>\n",
       "    </tr>\n",
       "    <tr>\n",
       "      <th>BaggingRegressor</th>\n",
       "      <td>0.94</td>\n",
       "      <td>0.94</td>\n",
       "      <td>0.24</td>\n",
       "      <td>7.75</td>\n",
       "      <td>0.14</td>\n",
       "    </tr>\n",
       "    <tr>\n",
       "      <th>XGBRegressor</th>\n",
       "      <td>0.94</td>\n",
       "      <td>0.94</td>\n",
       "      <td>0.24</td>\n",
       "      <td>23.13</td>\n",
       "      <td>0.15</td>\n",
       "    </tr>\n",
       "    <tr>\n",
       "      <th>LGBMRegressor</th>\n",
       "      <td>0.93</td>\n",
       "      <td>0.93</td>\n",
       "      <td>0.25</td>\n",
       "      <td>6.20</td>\n",
       "      <td>0.16</td>\n",
       "    </tr>\n",
       "    <tr>\n",
       "      <th>HistGradientBoostingRegressor</th>\n",
       "      <td>0.93</td>\n",
       "      <td>0.93</td>\n",
       "      <td>0.25</td>\n",
       "      <td>36.73</td>\n",
       "      <td>0.17</td>\n",
       "    </tr>\n",
       "    <tr>\n",
       "      <th>NuSVR</th>\n",
       "      <td>0.93</td>\n",
       "      <td>0.93</td>\n",
       "      <td>0.25</td>\n",
       "      <td>3543.64</td>\n",
       "      <td>0.16</td>\n",
       "    </tr>\n",
       "    <tr>\n",
       "      <th>SVR</th>\n",
       "      <td>0.93</td>\n",
       "      <td>0.93</td>\n",
       "      <td>0.25</td>\n",
       "      <td>2260.76</td>\n",
       "      <td>0.16</td>\n",
       "    </tr>\n",
       "    <tr>\n",
       "      <th>MLPRegressor</th>\n",
       "      <td>0.93</td>\n",
       "      <td>0.93</td>\n",
       "      <td>0.27</td>\n",
       "      <td>63.20</td>\n",
       "      <td>0.18</td>\n",
       "    </tr>\n",
       "    <tr>\n",
       "      <th>GradientBoostingRegressor</th>\n",
       "      <td>0.92</td>\n",
       "      <td>0.92</td>\n",
       "      <td>0.29</td>\n",
       "      <td>17.03</td>\n",
       "      <td>0.20</td>\n",
       "    </tr>\n",
       "    <tr>\n",
       "      <th>ExtraTreeRegressor</th>\n",
       "      <td>0.91</td>\n",
       "      <td>0.91</td>\n",
       "      <td>0.30</td>\n",
       "      <td>1.18</td>\n",
       "      <td>0.17</td>\n",
       "    </tr>\n",
       "    <tr>\n",
       "      <th>DecisionTreeRegressor</th>\n",
       "      <td>0.90</td>\n",
       "      <td>0.90</td>\n",
       "      <td>0.31</td>\n",
       "      <td>1.48</td>\n",
       "      <td>0.17</td>\n",
       "    </tr>\n",
       "    <tr>\n",
       "      <th>PoissonRegressor</th>\n",
       "      <td>0.88</td>\n",
       "      <td>0.88</td>\n",
       "      <td>0.34</td>\n",
       "      <td>0.94</td>\n",
       "      <td>0.24</td>\n",
       "    </tr>\n",
       "    <tr>\n",
       "      <th>Ridge</th>\n",
       "      <td>0.88</td>\n",
       "      <td>0.88</td>\n",
       "      <td>0.34</td>\n",
       "      <td>0.73</td>\n",
       "      <td>0.24</td>\n",
       "    </tr>\n",
       "    <tr>\n",
       "      <th>RidgeCV</th>\n",
       "      <td>0.88</td>\n",
       "      <td>0.88</td>\n",
       "      <td>0.34</td>\n",
       "      <td>1.72</td>\n",
       "      <td>0.24</td>\n",
       "    </tr>\n",
       "    <tr>\n",
       "      <th>BayesianRidge</th>\n",
       "      <td>0.88</td>\n",
       "      <td>0.88</td>\n",
       "      <td>0.34</td>\n",
       "      <td>1.43</td>\n",
       "      <td>0.24</td>\n",
       "    </tr>\n",
       "    <tr>\n",
       "      <th>LassoCV</th>\n",
       "      <td>0.88</td>\n",
       "      <td>0.88</td>\n",
       "      <td>0.34</td>\n",
       "      <td>6.04</td>\n",
       "      <td>0.24</td>\n",
       "    </tr>\n",
       "    <tr>\n",
       "      <th>ElasticNetCV</th>\n",
       "      <td>0.88</td>\n",
       "      <td>0.88</td>\n",
       "      <td>0.34</td>\n",
       "      <td>8.64</td>\n",
       "      <td>0.24</td>\n",
       "    </tr>\n",
       "    <tr>\n",
       "      <th>LinearRegression</th>\n",
       "      <td>0.88</td>\n",
       "      <td>0.88</td>\n",
       "      <td>0.34</td>\n",
       "      <td>0.56</td>\n",
       "      <td>0.24</td>\n",
       "    </tr>\n",
       "    <tr>\n",
       "      <th>TransformedTargetRegressor</th>\n",
       "      <td>0.88</td>\n",
       "      <td>0.88</td>\n",
       "      <td>0.34</td>\n",
       "      <td>3.20</td>\n",
       "      <td>0.24</td>\n",
       "    </tr>\n",
       "    <tr>\n",
       "      <th>KNeighborsRegressor</th>\n",
       "      <td>0.88</td>\n",
       "      <td>0.88</td>\n",
       "      <td>0.34</td>\n",
       "      <td>137.75</td>\n",
       "      <td>0.23</td>\n",
       "    </tr>\n",
       "    <tr>\n",
       "      <th>SGDRegressor</th>\n",
       "      <td>0.88</td>\n",
       "      <td>0.88</td>\n",
       "      <td>0.34</td>\n",
       "      <td>0.84</td>\n",
       "      <td>0.24</td>\n",
       "    </tr>\n",
       "    <tr>\n",
       "      <th>HuberRegressor</th>\n",
       "      <td>0.88</td>\n",
       "      <td>0.88</td>\n",
       "      <td>0.34</td>\n",
       "      <td>4.15</td>\n",
       "      <td>0.24</td>\n",
       "    </tr>\n",
       "    <tr>\n",
       "      <th>LinearSVR</th>\n",
       "      <td>0.88</td>\n",
       "      <td>0.88</td>\n",
       "      <td>0.34</td>\n",
       "      <td>33.02</td>\n",
       "      <td>0.24</td>\n",
       "    </tr>\n",
       "    <tr>\n",
       "      <th>Lars</th>\n",
       "      <td>0.88</td>\n",
       "      <td>0.88</td>\n",
       "      <td>0.35</td>\n",
       "      <td>6.94</td>\n",
       "      <td>0.25</td>\n",
       "    </tr>\n",
       "    <tr>\n",
       "      <th>LassoLarsIC</th>\n",
       "      <td>0.87</td>\n",
       "      <td>0.88</td>\n",
       "      <td>0.35</td>\n",
       "      <td>0.42</td>\n",
       "      <td>0.25</td>\n",
       "    </tr>\n",
       "    <tr>\n",
       "      <th>LarsCV</th>\n",
       "      <td>0.87</td>\n",
       "      <td>0.88</td>\n",
       "      <td>0.35</td>\n",
       "      <td>6.21</td>\n",
       "      <td>0.25</td>\n",
       "    </tr>\n",
       "    <tr>\n",
       "      <th>LassoLarsCV</th>\n",
       "      <td>0.87</td>\n",
       "      <td>0.87</td>\n",
       "      <td>0.35</td>\n",
       "      <td>2.44</td>\n",
       "      <td>0.25</td>\n",
       "    </tr>\n",
       "    <tr>\n",
       "      <th>RANSACRegressor</th>\n",
       "      <td>0.84</td>\n",
       "      <td>0.84</td>\n",
       "      <td>0.39</td>\n",
       "      <td>2.80</td>\n",
       "      <td>0.25</td>\n",
       "    </tr>\n",
       "    <tr>\n",
       "      <th>OrthogonalMatchingPursuitCV</th>\n",
       "      <td>0.83</td>\n",
       "      <td>0.83</td>\n",
       "      <td>0.41</td>\n",
       "      <td>1.81</td>\n",
       "      <td>0.30</td>\n",
       "    </tr>\n",
       "    <tr>\n",
       "      <th>OrthogonalMatchingPursuit</th>\n",
       "      <td>0.83</td>\n",
       "      <td>0.83</td>\n",
       "      <td>0.41</td>\n",
       "      <td>3.89</td>\n",
       "      <td>0.30</td>\n",
       "    </tr>\n",
       "    <tr>\n",
       "      <th>GammaRegressor</th>\n",
       "      <td>0.83</td>\n",
       "      <td>0.83</td>\n",
       "      <td>0.41</td>\n",
       "      <td>0.81</td>\n",
       "      <td>0.30</td>\n",
       "    </tr>\n",
       "    <tr>\n",
       "      <th>GeneralizedLinearRegressor</th>\n",
       "      <td>0.83</td>\n",
       "      <td>0.83</td>\n",
       "      <td>0.41</td>\n",
       "      <td>0.59</td>\n",
       "      <td>0.30</td>\n",
       "    </tr>\n",
       "    <tr>\n",
       "      <th>TweedieRegressor</th>\n",
       "      <td>0.83</td>\n",
       "      <td>0.83</td>\n",
       "      <td>0.41</td>\n",
       "      <td>0.87</td>\n",
       "      <td>0.30</td>\n",
       "    </tr>\n",
       "    <tr>\n",
       "      <th>AdaBoostRegressor</th>\n",
       "      <td>0.82</td>\n",
       "      <td>0.82</td>\n",
       "      <td>0.42</td>\n",
       "      <td>11.85</td>\n",
       "      <td>0.33</td>\n",
       "    </tr>\n",
       "    <tr>\n",
       "      <th>PassiveAggressiveRegressor</th>\n",
       "      <td>0.79</td>\n",
       "      <td>0.79</td>\n",
       "      <td>0.45</td>\n",
       "      <td>0.94</td>\n",
       "      <td>0.34</td>\n",
       "    </tr>\n",
       "    <tr>\n",
       "      <th>ElasticNet</th>\n",
       "      <td>0.33</td>\n",
       "      <td>0.33</td>\n",
       "      <td>0.81</td>\n",
       "      <td>1.00</td>\n",
       "      <td>0.63</td>\n",
       "    </tr>\n",
       "    <tr>\n",
       "      <th>LassoLars</th>\n",
       "      <td>-0.00</td>\n",
       "      <td>-0.00</td>\n",
       "      <td>0.99</td>\n",
       "      <td>0.74</td>\n",
       "      <td>0.77</td>\n",
       "    </tr>\n",
       "    <tr>\n",
       "      <th>Lasso</th>\n",
       "      <td>-0.00</td>\n",
       "      <td>-0.00</td>\n",
       "      <td>0.99</td>\n",
       "      <td>0.48</td>\n",
       "      <td>0.77</td>\n",
       "    </tr>\n",
       "    <tr>\n",
       "      <th>DummyRegressor</th>\n",
       "      <td>-0.00</td>\n",
       "      <td>-0.00</td>\n",
       "      <td>0.99</td>\n",
       "      <td>0.35</td>\n",
       "      <td>0.77</td>\n",
       "    </tr>\n",
       "  </tbody>\n",
       "</table>\n",
       "</div>"
      ],
      "text/plain": [
       "                               Adjusted R-Squared  R-Squared  RMSE  \\\n",
       "Model                                                                \n",
       "RandomForestRegressor                        0.95       0.95  0.23   \n",
       "ExtraTreesRegressor                          0.95       0.95  0.23   \n",
       "BaggingRegressor                             0.94       0.94  0.24   \n",
       "XGBRegressor                                 0.94       0.94  0.24   \n",
       "LGBMRegressor                                0.93       0.93  0.25   \n",
       "HistGradientBoostingRegressor                0.93       0.93  0.25   \n",
       "NuSVR                                        0.93       0.93  0.25   \n",
       "SVR                                          0.93       0.93  0.25   \n",
       "MLPRegressor                                 0.93       0.93  0.27   \n",
       "GradientBoostingRegressor                    0.92       0.92  0.29   \n",
       "ExtraTreeRegressor                           0.91       0.91  0.30   \n",
       "DecisionTreeRegressor                        0.90       0.90  0.31   \n",
       "PoissonRegressor                             0.88       0.88  0.34   \n",
       "Ridge                                        0.88       0.88  0.34   \n",
       "RidgeCV                                      0.88       0.88  0.34   \n",
       "BayesianRidge                                0.88       0.88  0.34   \n",
       "LassoCV                                      0.88       0.88  0.34   \n",
       "ElasticNetCV                                 0.88       0.88  0.34   \n",
       "LinearRegression                             0.88       0.88  0.34   \n",
       "TransformedTargetRegressor                   0.88       0.88  0.34   \n",
       "KNeighborsRegressor                          0.88       0.88  0.34   \n",
       "SGDRegressor                                 0.88       0.88  0.34   \n",
       "HuberRegressor                               0.88       0.88  0.34   \n",
       "LinearSVR                                    0.88       0.88  0.34   \n",
       "Lars                                         0.88       0.88  0.35   \n",
       "LassoLarsIC                                  0.87       0.88  0.35   \n",
       "LarsCV                                       0.87       0.88  0.35   \n",
       "LassoLarsCV                                  0.87       0.87  0.35   \n",
       "RANSACRegressor                              0.84       0.84  0.39   \n",
       "OrthogonalMatchingPursuitCV                  0.83       0.83  0.41   \n",
       "OrthogonalMatchingPursuit                    0.83       0.83  0.41   \n",
       "GammaRegressor                               0.83       0.83  0.41   \n",
       "GeneralizedLinearRegressor                   0.83       0.83  0.41   \n",
       "TweedieRegressor                             0.83       0.83  0.41   \n",
       "AdaBoostRegressor                            0.82       0.82  0.42   \n",
       "PassiveAggressiveRegressor                   0.79       0.79  0.45   \n",
       "ElasticNet                                   0.33       0.33  0.81   \n",
       "LassoLars                                   -0.00      -0.00  0.99   \n",
       "Lasso                                       -0.00      -0.00  0.99   \n",
       "DummyRegressor                              -0.00      -0.00  0.99   \n",
       "\n",
       "                               Time Taken  mean_absolute_error  \n",
       "Model                                                           \n",
       "RandomForestRegressor               70.27                 0.13  \n",
       "ExtraTreesRegressor                 81.72                 0.13  \n",
       "BaggingRegressor                     7.75                 0.14  \n",
       "XGBRegressor                        23.13                 0.15  \n",
       "LGBMRegressor                        6.20                 0.16  \n",
       "HistGradientBoostingRegressor       36.73                 0.17  \n",
       "NuSVR                             3543.64                 0.16  \n",
       "SVR                               2260.76                 0.16  \n",
       "MLPRegressor                        63.20                 0.18  \n",
       "GradientBoostingRegressor           17.03                 0.20  \n",
       "ExtraTreeRegressor                   1.18                 0.17  \n",
       "DecisionTreeRegressor                1.48                 0.17  \n",
       "PoissonRegressor                     0.94                 0.24  \n",
       "Ridge                                0.73                 0.24  \n",
       "RidgeCV                              1.72                 0.24  \n",
       "BayesianRidge                        1.43                 0.24  \n",
       "LassoCV                              6.04                 0.24  \n",
       "ElasticNetCV                         8.64                 0.24  \n",
       "LinearRegression                     0.56                 0.24  \n",
       "TransformedTargetRegressor           3.20                 0.24  \n",
       "KNeighborsRegressor                137.75                 0.23  \n",
       "SGDRegressor                         0.84                 0.24  \n",
       "HuberRegressor                       4.15                 0.24  \n",
       "LinearSVR                           33.02                 0.24  \n",
       "Lars                                 6.94                 0.25  \n",
       "LassoLarsIC                          0.42                 0.25  \n",
       "LarsCV                               6.21                 0.25  \n",
       "LassoLarsCV                          2.44                 0.25  \n",
       "RANSACRegressor                      2.80                 0.25  \n",
       "OrthogonalMatchingPursuitCV          1.81                 0.30  \n",
       "OrthogonalMatchingPursuit            3.89                 0.30  \n",
       "GammaRegressor                       0.81                 0.30  \n",
       "GeneralizedLinearRegressor           0.59                 0.30  \n",
       "TweedieRegressor                     0.87                 0.30  \n",
       "AdaBoostRegressor                   11.85                 0.33  \n",
       "PassiveAggressiveRegressor           0.94                 0.34  \n",
       "ElasticNet                           1.00                 0.63  \n",
       "LassoLars                            0.74                 0.77  \n",
       "Lasso                                0.48                 0.77  \n",
       "DummyRegressor                       0.35                 0.77  "
      ]
     },
     "execution_count": 165,
     "metadata": {},
     "output_type": "execute_result"
    }
   ],
   "source": [
    "#models"
   ]
  },
  {
   "cell_type": "code",
   "execution_count": null,
   "metadata": {},
   "outputs": [],
   "source": [
    "#RandomForestRegressor\t0.13\n",
    "#ExtraTreesRegressor\t0.13\n",
    "#BaggingRegressor\t0.14\n",
    "#XGBRegressor\t0.15"
   ]
  },
  {
   "cell_type": "markdown",
   "metadata": {},
   "source": [
    "## Random Forest"
   ]
  },
  {
   "cell_type": "code",
   "execution_count": 162,
   "metadata": {},
   "outputs": [],
   "source": [
    "# y_train\n",
    "\n",
    "#rf = RandomForestRegressor(random_state = 42)\n",
    "#rf.fit(X_train, y_train)\n",
    "#y_pred = (rf.predict(X_test))\n",
    "#rf_mape_value = round(mape(y_test, y_pred)/100,2)\n",
    "#print (f\"Точность прогноза: {1 - rf_mape_value}\")"
   ]
  },
  {
   "cell_type": "markdown",
   "metadata": {},
   "source": [
    "Точность прогноза: 0.84"
   ]
  },
  {
   "cell_type": "code",
   "execution_count": 175,
   "metadata": {},
   "outputs": [],
   "source": [
    "# np.log(y_train)\n",
    "\n",
    "#rf = RandomForestRegressor(random_state = 42)\n",
    "#rf.fit(X_train, np.log(y_train))\n",
    "#y_pred = np.exp(rf.predict(X_test))\n",
    "#rf_mape_value = round(mape(y_test, y_pred)/100,2)\n",
    "#print (f\"Точность прогноза: {1 - rf_mape_value}\")"
   ]
  },
  {
   "cell_type": "markdown",
   "metadata": {},
   "source": [
    "Точность прогноза: 0.87"
   ]
  },
  {
   "cell_type": "code",
   "execution_count": 164,
   "metadata": {},
   "outputs": [],
   "source": [
    "#random_grid = {'n_estimators': [int(x) for x in np.linspace(start=100, stop=400, num=4)],\n",
    "#               'max_features': ['auto', 'sqrt', 'log2'],\n",
    "#               'max_depth': [int(x) for x in np.linspace(5, 15, num=6)] + [None],\n",
    "#               'min_samples_split': [2, 5, 10],\n",
    "#               'min_samples_leaf': [1, 2, 4],\n",
    "#               'bootstrap': [True, False]}\n",
    "\n",
    "#rf = RandomForestRegressor(random_state=42)\n",
    "#rf_random = RandomizedSearchCV(estimator=rf, param_distributions=random_grid,\n",
    "                             #n_iter=100, cv=3, verbose=10, random_state=42, n_jobs=-1)\n",
    "\n",
    "#rf_random.fit(X_train, np.log(y_train))\n",
    "#rf_random.best_params_"
   ]
  },
  {
   "cell_type": "markdown",
   "metadata": {},
   "source": [
    "{'n_estimators': 300,\n",
    " 'min_samples_split': 2,\n",
    " 'min_samples_leaf': 1,\n",
    " 'max_features': 'auto',\n",
    " 'max_depth': None,\n",
    " 'bootstrap': True}"
   ]
  },
  {
   "cell_type": "code",
   "execution_count": 158,
   "metadata": {
    "scrolled": true
   },
   "outputs": [
    {
     "name": "stdout",
     "output_type": "stream",
     "text": [
      "Точность прогноза: 0.87\n"
     ]
    }
   ],
   "source": [
    "#best_rf = rf_random.best_estimator_\n",
    "best_rf = RandomForestRegressor(random_state=42, n_estimators=300, min_samples_split=2, min_samples_leaf=1, max_features='auto', max_depth=None, bootstrap=True)\n",
    "best_rf.fit(X_train, np.log(y_train))\n",
    "y_pred = np.exp(best_rf.predict(X_test))\n",
    "best_mape_value = round(mape(y_test, y_pred)/100,2)\n",
    "print (f\"Точность прогноза: {1 - best_mape_value}\")"
   ]
  },
  {
   "cell_type": "code",
   "execution_count": 160,
   "metadata": {},
   "outputs": [],
   "source": [
    "#y_sub = (best.predict(X_t))\n",
    "#sample_submission = pd.read_csv(\"sample_submission.csv\", low_memory=False, encoding='utf-8')\n",
    "#sample_submission['price'] = y_sub\n",
    "#sample_submission.to_csv(f'submission_rfr.csv', index=False)"
   ]
  },
  {
   "cell_type": "code",
   "execution_count": 161,
   "metadata": {},
   "outputs": [],
   "source": [
    "#Точность модели MAPE 13\n",
    "#Точность модели на kaggle MAPE 99.99736"
   ]
  },
  {
   "cell_type": "markdown",
   "metadata": {},
   "source": [
    "## XGBRegressor"
   ]
  },
  {
   "cell_type": "code",
   "execution_count": 158,
   "metadata": {},
   "outputs": [],
   "source": [
    "xgb_log = xgb.XGBRegressor(objective='reg:squarederror', colsample_bytree=0.5, learning_rate=0.05, max_depth=14, alpha=1,\n",
    "                           n_estimators=2000, random_state=42, n_jobs=-1)"
   ]
  },
  {
   "cell_type": "code",
   "execution_count": 159,
   "metadata": {
    "scrolled": true
   },
   "outputs": [
    {
     "name": "stdout",
     "output_type": "stream",
     "text": [
      "Точность прогноза: 0.87\n"
     ]
    }
   ],
   "source": [
    "xgb_log.fit(X_train, np.log(y_train))\n",
    "y_pred = np.exp(xgb_log.predict(X_test))\n",
    "xgb_log_mape_value = round(mape(y_test, y_pred)/100,2)\n",
    "print (f\"Точность прогноза: {1 - xgb_log_mape_value}\")"
   ]
  },
  {
   "cell_type": "code",
   "execution_count": 434,
   "metadata": {},
   "outputs": [
    {
     "data": {
      "text/html": [
       "<div>\n",
       "<style scoped>\n",
       "    .dataframe tbody tr th:only-of-type {\n",
       "        vertical-align: middle;\n",
       "    }\n",
       "\n",
       "    .dataframe tbody tr th {\n",
       "        vertical-align: top;\n",
       "    }\n",
       "\n",
       "    .dataframe thead th {\n",
       "        text-align: right;\n",
       "    }\n",
       "</style>\n",
       "<table border=\"1\" class=\"dataframe\">\n",
       "  <thead>\n",
       "    <tr style=\"text-align: right;\">\n",
       "      <th></th>\n",
       "      <th>sell_id</th>\n",
       "      <th>price</th>\n",
       "    </tr>\n",
       "  </thead>\n",
       "  <tbody>\n",
       "    <tr>\n",
       "      <th>0</th>\n",
       "      <td>1100575026</td>\n",
       "      <td>13.569694</td>\n",
       "    </tr>\n",
       "    <tr>\n",
       "      <th>1</th>\n",
       "      <td>1100549428</td>\n",
       "      <td>13.734769</td>\n",
       "    </tr>\n",
       "    <tr>\n",
       "      <th>2</th>\n",
       "      <td>1100658222</td>\n",
       "      <td>13.795814</td>\n",
       "    </tr>\n",
       "    <tr>\n",
       "      <th>3</th>\n",
       "      <td>1100937408</td>\n",
       "      <td>13.537584</td>\n",
       "    </tr>\n",
       "    <tr>\n",
       "      <th>4</th>\n",
       "      <td>1101037972</td>\n",
       "      <td>13.469167</td>\n",
       "    </tr>\n",
       "    <tr>\n",
       "      <th>5</th>\n",
       "      <td>1100912634</td>\n",
       "      <td>13.583899</td>\n",
       "    </tr>\n",
       "    <tr>\n",
       "      <th>6</th>\n",
       "      <td>1101228730</td>\n",
       "      <td>13.417316</td>\n",
       "    </tr>\n",
       "    <tr>\n",
       "      <th>7</th>\n",
       "      <td>1100165896</td>\n",
       "      <td>13.161449</td>\n",
       "    </tr>\n",
       "    <tr>\n",
       "      <th>8</th>\n",
       "      <td>1100768262</td>\n",
       "      <td>14.613574</td>\n",
       "    </tr>\n",
       "    <tr>\n",
       "      <th>9</th>\n",
       "      <td>1101218501</td>\n",
       "      <td>13.597955</td>\n",
       "    </tr>\n",
       "  </tbody>\n",
       "</table>\n",
       "</div>"
      ],
      "text/plain": [
       "      sell_id      price\n",
       "0  1100575026  13.569694\n",
       "1  1100549428  13.734769\n",
       "2  1100658222  13.795814\n",
       "3  1100937408  13.537584\n",
       "4  1101037972  13.469167\n",
       "5  1100912634  13.583899\n",
       "6  1101228730  13.417316\n",
       "7  1100165896  13.161449\n",
       "8  1100768262  14.613574\n",
       "9  1101218501  13.597955"
      ]
     },
     "execution_count": 434,
     "metadata": {},
     "output_type": "execute_result"
    }
   ],
   "source": [
    "#y_sub = (xgb_log.predict(X_t))\n",
    "#sample_submission = pd.read_csv(\"sample_submission.csv\", low_memory=False, encoding='utf-8')\n",
    "#sample_submission['price'] = y_sub\n",
    "#sample_submission.to_csv(f'submission_xgbr.csv', index=False)\n",
    "#sample_submission.head(10)"
   ]
  },
  {
   "cell_type": "code",
   "execution_count": 165,
   "metadata": {},
   "outputs": [],
   "source": [
    "#Точность модели MAPE 10\n",
    "#Точность модели на kaggle MAPE 18.82620"
   ]
  },
  {
   "cell_type": "markdown",
   "metadata": {},
   "source": [
    "## Cat boost"
   ]
  },
  {
   "cell_type": "code",
   "execution_count": 160,
   "metadata": {},
   "outputs": [],
   "source": [
    "model = CatBoostRegressor(iterations = 10000,\n",
    "                          random_seed = 42,\n",
    "                          eval_metric='MAPE',\n",
    "                          silent=True,\n",
    "                         )"
   ]
  },
  {
   "cell_type": "code",
   "execution_count": 161,
   "metadata": {},
   "outputs": [
    {
     "data": {
      "text/plain": [
       "<catboost.core.CatBoostRegressor at 0x27dcad6cc40>"
      ]
     },
     "execution_count": 161,
     "metadata": {},
     "output_type": "execute_result"
    }
   ],
   "source": [
    "model.fit(X_train, y_train,\n",
    "         eval_set=(X_test, y_test),\n",
    "         verbose_eval=0,\n",
    "         use_best_model=True,\n",
    "         )"
   ]
  },
  {
   "cell_type": "code",
   "execution_count": 163,
   "metadata": {},
   "outputs": [
    {
     "name": "stdout",
     "output_type": "stream",
     "text": [
      "Точность прогноза: 0.84\n"
     ]
    }
   ],
   "source": [
    "y_pred = model.predict(X_test)\n",
    "cat_log_mape_value = round(mape(y_test, y_pred)/100,2)\n",
    "print (f\"Точность прогноза: {1 - cat_log_mape_value}\")"
   ]
  },
  {
   "cell_type": "code",
   "execution_count": 438,
   "metadata": {},
   "outputs": [],
   "source": [
    "#y_sub = (model.predict(X_t))\n",
    "#sample_submission = pd.read_csv(\"sample_submission.csv\", low_memory=False, encoding='utf-8')\n",
    "#sample_submission['price'] = y_sub\n",
    "#sample_submission.to_csv(f'submission_cat.csv', index=False)"
   ]
  },
  {
   "cell_type": "code",
   "execution_count": null,
   "metadata": {},
   "outputs": [],
   "source": [
    "#Точность модели MAPE 17\n",
    "#Точность модели на kaggle MAPE 27.57761"
   ]
  },
  {
   "cell_type": "markdown",
   "metadata": {},
   "source": [
    "## ExtraTreesRegressor"
   ]
  },
  {
   "cell_type": "code",
   "execution_count": 170,
   "metadata": {},
   "outputs": [],
   "source": [
    "# y_train\n",
    "\n",
    "#etr = ExtraTreesRegressor(random_state = 42)\n",
    "#etr.fit(X_train, y_train)\n",
    "#y_pred = etr.predict(X_test)\n",
    "#etr_mape_value = round(mape(y_test, y_pred)/100,2)\n",
    "#print (f\"Точность прогноза: {1 - etr_mape_value}\")"
   ]
  },
  {
   "cell_type": "markdown",
   "metadata": {},
   "source": [
    "Точность прогноза: 0.84"
   ]
  },
  {
   "cell_type": "code",
   "execution_count": 173,
   "metadata": {},
   "outputs": [],
   "source": [
    "# np.log(y_train)\n",
    "\n",
    "#etr = ExtraTreesRegressor(random_state = 42)\n",
    "#etr.fit(X_train,np.log(y_train))\n",
    "#y_pred = np.exp(etr.predict(X_test))\n",
    "#etr_mape_value = round(mape(y_test, y_pred)/100,2)\n",
    "#print (f\"Точность прогноза: {1 - etr_mape_value}\")"
   ]
  },
  {
   "cell_type": "markdown",
   "metadata": {},
   "source": [
    "Точность прогноза: 0.87"
   ]
  },
  {
   "cell_type": "code",
   "execution_count": 175,
   "metadata": {},
   "outputs": [],
   "source": [
    "#random_grid = {'n_estimators': [int(x) for x in np.linspace(start = 100, stop = 400, num = 4)],\n",
    "#            'max_features': ['auto', 'sqrt','log2'],\n",
    "#            'max_depth': [int(x) for x in np.linspace(5, 15, num = 6)] + [None],\n",
    "#            'min_samples_split': [2, 5, 10],\n",
    "#            'min_samples_leaf': [1, 2, 4],               \n",
    "#            'bootstrap': [True, False]}\n",
    "\n",
    "#etr = ExtraTreesRegressor(random_state = 42)\n",
    "#etr_r = RandomizedSearchCV(estimator = etr, param_distributions = random_grid, n_iter = 100, cv = 3, verbose=10, random_state=42, n_jobs = -1)\n",
    "#etr_r.fit(X_train, np.log(y_train))\n",
    "#etr_r.best_params_"
   ]
  },
  {
   "cell_type": "markdown",
   "metadata": {},
   "source": [
    "{'n_estimators': 300,\n",
    " 'min_samples_split': 2,\n",
    " 'min_samples_leaf': 1,\n",
    " 'max_features': 'auto',\n",
    " 'max_depth': None,\n",
    " 'bootstrap': True}"
   ]
  },
  {
   "cell_type": "code",
   "execution_count": 162,
   "metadata": {},
   "outputs": [
    {
     "name": "stdout",
     "output_type": "stream",
     "text": [
      "Точность прогноза: 0.87\n"
     ]
    }
   ],
   "source": [
    "#best_etr = etr_r.best_estimator_\n",
    "best_etr = ExtraTreesRegressor(random_state = 42, n_estimators=300, \n",
    "                                min_samples_split=2, min_samples_leaf=1, max_features='auto', max_depth=None, bootstrap=True)\n",
    "best_etr.fit(X_train, np.log(y_train))\n",
    "y_pred = np.exp(best_etr.predict(X_test))\n",
    "best_mape_value = round(mape(y_test, y_pred)/100,2)\n",
    "print (f\"Точность прогноза: {1 - best_mape_value}\")"
   ]
  },
  {
   "cell_type": "code",
   "execution_count": null,
   "metadata": {},
   "outputs": [],
   "source": [
    "#Точность прогноза: 0.87"
   ]
  },
  {
   "cell_type": "code",
   "execution_count": 440,
   "metadata": {},
   "outputs": [],
   "source": [
    "#y_sub = (best_etr.predict(X_t))\n",
    "#sample_submission = pd.read_csv(\"sample_submission.csv\", low_memory=False, encoding='utf-8')\n",
    "#sample_submission['price'] = y_sub\n",
    "#sample_submission.to_csv(f'submission_etr.csv', index=False)"
   ]
  },
  {
   "cell_type": "code",
   "execution_count": null,
   "metadata": {},
   "outputs": [],
   "source": [
    "#Точность модели MAPE 13\n",
    "#Точность модели на kaggle MAPE 99.99736"
   ]
  },
  {
   "cell_type": "markdown",
   "metadata": {},
   "source": [
    "## BaggingRegressor"
   ]
  },
  {
   "cell_type": "code",
   "execution_count": 165,
   "metadata": {},
   "outputs": [],
   "source": [
    "best_rf = RandomForestRegressor(random_state=42, n_estimators=300, \n",
    "                                min_samples_split=2, min_samples_leaf=1, max_features='auto', max_depth=None, bootstrap=True)"
   ]
  },
  {
   "cell_type": "code",
   "execution_count": null,
   "metadata": {},
   "outputs": [],
   "source": [
    "bagg_rf = BaggingRegressor(best_rf, n_jobs=1, random_state=42)\n",
    "bagg_rf.fit(X_train, np.log(y_train))\n",
    "y_pred = np.exp(bagg_rf.predict(X_test))\n",
    "best_mape_value = round(mape(y_test, y_pred)/100,2)\n",
    "print (f\"Точность прогноза: {1 - best_mape_value}\")"
   ]
  },
  {
   "cell_type": "code",
   "execution_count": null,
   "metadata": {},
   "outputs": [],
   "source": [
    "#y_sub = (bagg_rf.predict(X_t))\n",
    "#sample_submission = pd.read_csv(\"sample_submission.csv\", low_memory=False, encoding='utf-8')\n",
    "#sample_submission['price'] = y_sub\n",
    "#sample_submission.to_csv(f'submission_bagg_rf.csv', index=False)"
   ]
  },
  {
   "cell_type": "code",
   "execution_count": null,
   "metadata": {},
   "outputs": [],
   "source": [
    "#Точность модели MAPE \n",
    "#Точность модели на kaggle MAPE "
   ]
  },
  {
   "cell_type": "code",
   "execution_count": null,
   "metadata": {},
   "outputs": [],
   "source": [
    "best_etr = ExtraTreesRegressor(random_state = 42, n_estimators=300, \n",
    "                                min_samples_split=2, min_samples_leaf=1, max_features='auto', max_depth=None, bootstrap=True)"
   ]
  },
  {
   "cell_type": "code",
   "execution_count": null,
   "metadata": {},
   "outputs": [],
   "source": [
    "bagg_etr = BaggingRegressor(best_etr, n_jobs=1, random_state=42)\n",
    "bagg_etr.fit(X_train, np.log(y_train))\n",
    "y_pred = np.exp(bagg_etr.predict(X_test))\n",
    "best_mape_value = round(mape(y_test, y_pred)/100,2)\n",
    "print (f\"Точность прогноза: {1 - best_mape_value}\")"
   ]
  },
  {
   "cell_type": "code",
   "execution_count": null,
   "metadata": {},
   "outputs": [],
   "source": [
    "#y_sub = (bagg_etr.predict(X_t))\n",
    "#sample_submission = pd.read_csv(\"sample_submission.csv\", low_memory=False, encoding='utf-8')\n",
    "#sample_submission['price'] = y_sub\n",
    "#sample_submission.to_csv(f'submission_bagg_etr.csv', index=False)"
   ]
  },
  {
   "cell_type": "code",
   "execution_count": null,
   "metadata": {},
   "outputs": [],
   "source": [
    "#Точность модели MAPE \n",
    "#Точность модели на kaggle MAPE"
   ]
  },
  {
   "cell_type": "code",
   "execution_count": null,
   "metadata": {},
   "outputs": [],
   "source": [
    "xgb_log = xgb.XGBRegressor(objective='reg:squarederror', colsample_bytree=0.5, learning_rate=0.05, max_depth=14, alpha=1,\n",
    "                           n_estimators=2000, random_state=42, n_jobs=-1)"
   ]
  },
  {
   "cell_type": "code",
   "execution_count": null,
   "metadata": {},
   "outputs": [],
   "source": [
    "bagg_xgb = BaggingRegressor(xgb_log, n_jobs=1, random_state=42)\n",
    "bagg_xgb.fit(X_train, np.log(y_train))\n",
    "y_pred = np.exp(bagg_xgb.predict(X_test))\n",
    "best_mape_value = round(mape(y_test, y_pred)/100,2)\n",
    "print (f\"Точность прогноза: {1 - best_mape_value}\")"
   ]
  },
  {
   "cell_type": "code",
   "execution_count": null,
   "metadata": {},
   "outputs": [],
   "source": [
    "#y_sub = (bagg_xgb.predict(X_t))\n",
    "#sample_submission = pd.read_csv(\"sample_submission.csv\", low_memory=False, encoding='utf-8')\n",
    "#sample_submission['price'] = y_sub\n",
    "#sample_submission.to_csv(f'submission_bagg_xgb.csv', index=False)"
   ]
  },
  {
   "cell_type": "code",
   "execution_count": null,
   "metadata": {},
   "outputs": [],
   "source": [
    "#Точность модели MAPE \n",
    "#Точность модели на kaggle MAPE"
   ]
  },
  {
   "cell_type": "markdown",
   "metadata": {},
   "source": [
    "## StackingRegressor"
   ]
  },
  {
   "cell_type": "code",
   "execution_count": null,
   "metadata": {},
   "outputs": [],
   "source": [
    "#best_etr = ExtraTreesRegressor(random_state = 42, n_estimators=300, \n",
    "#                                min_samples_split=2, min_samples_leaf=1, max_features='auto', max_depth=None, bootstrap=True)\n",
    "#xgb_log = xgb.XGBRegressor(objective='reg:squarederror', colsample_bytree=0.5, learning_rate=0.05, max_depth=14, alpha=1,\n",
    "#                           n_estimators=2000, random_state=42, n_jobs=-1)"
   ]
  },
  {
   "cell_type": "code",
   "execution_count": 164,
   "metadata": {},
   "outputs": [
    {
     "name": "stdout",
     "output_type": "stream",
     "text": [
      "Точность прогноза: 0.88\n"
     ]
    }
   ],
   "source": [
    "estimators = [('etr',best_etr),\n",
    "              ('xgb_reg',xgb_log)]\n",
    "\n",
    "st_r = StackingRegressor(estimators=estimators,final_estimator=LinearRegression())\n",
    "\n",
    "st_r.fit(X_train, np.log(y_train))\n",
    "y_pred = np.exp(st_r.predict(X_test))\n",
    "best_mape_value = round(mape(y_test, y_pred)/100,2)\n",
    "print (f\"Точность прогноза: {1 - best_mape_value}\")"
   ]
  },
  {
   "cell_type": "code",
   "execution_count": 165,
   "metadata": {},
   "outputs": [],
   "source": [
    "y_sub = (st_r.predict(X_t))\n",
    "sample_submission = pd.read_csv(\"sample_submission.csv\", low_memory=False, encoding='utf-8')\n",
    "sample_submission['price'] = y_sub\n",
    "sample_submission.to_csv(f'submission_st_r.csv', index=False)"
   ]
  },
  {
   "cell_type": "code",
   "execution_count": null,
   "metadata": {},
   "outputs": [],
   "source": [
    "#Точность модели MAPE 12\n",
    "#Точность модели на kaggle MAPE 99.99736"
   ]
  },
  {
   "cell_type": "code",
   "execution_count": 166,
   "metadata": {},
   "outputs": [
    {
     "name": "stdout",
     "output_type": "stream",
     "text": [
      "Learning rate set to 0.080898\n",
      "0:\tlearn: 0.9148231\ttotal: 9.06ms\tremaining: 9.05s\n",
      "1:\tlearn: 0.8496937\ttotal: 16ms\tremaining: 8.01s\n",
      "2:\tlearn: 0.7893119\ttotal: 23.3ms\tremaining: 7.74s\n",
      "3:\tlearn: 0.7337400\ttotal: 30.7ms\tremaining: 7.64s\n",
      "4:\tlearn: 0.6836660\ttotal: 38.4ms\tremaining: 7.63s\n",
      "5:\tlearn: 0.6370725\ttotal: 46.9ms\tremaining: 7.76s\n",
      "6:\tlearn: 0.5948781\ttotal: 54.3ms\tremaining: 7.7s\n",
      "7:\tlearn: 0.5561664\ttotal: 62ms\tremaining: 7.68s\n",
      "8:\tlearn: 0.5206345\ttotal: 69.5ms\tremaining: 7.65s\n",
      "9:\tlearn: 0.4885440\ttotal: 76.9ms\tremaining: 7.61s\n",
      "10:\tlearn: 0.4594455\ttotal: 84.3ms\tremaining: 7.58s\n",
      "11:\tlearn: 0.4330431\ttotal: 92.2ms\tremaining: 7.59s\n",
      "12:\tlearn: 0.4092719\ttotal: 99.7ms\tremaining: 7.57s\n",
      "13:\tlearn: 0.3874841\ttotal: 107ms\tremaining: 7.55s\n",
      "14:\tlearn: 0.3680426\ttotal: 115ms\tremaining: 7.58s\n",
      "15:\tlearn: 0.3505526\ttotal: 123ms\tremaining: 7.56s\n",
      "16:\tlearn: 0.3350240\ttotal: 131ms\tremaining: 7.56s\n",
      "17:\tlearn: 0.3207187\ttotal: 138ms\tremaining: 7.55s\n",
      "18:\tlearn: 0.3082049\ttotal: 146ms\tremaining: 7.54s\n",
      "19:\tlearn: 0.2969250\ttotal: 153ms\tremaining: 7.52s\n",
      "20:\tlearn: 0.2871335\ttotal: 161ms\tremaining: 7.5s\n",
      "21:\tlearn: 0.2783856\ttotal: 168ms\tremaining: 7.47s\n",
      "22:\tlearn: 0.2705950\ttotal: 176ms\tremaining: 7.48s\n",
      "23:\tlearn: 0.2637005\ttotal: 184ms\tremaining: 7.49s\n",
      "24:\tlearn: 0.2578218\ttotal: 192ms\tremaining: 7.48s\n",
      "25:\tlearn: 0.2526119\ttotal: 199ms\tremaining: 7.47s\n",
      "26:\tlearn: 0.2480667\ttotal: 207ms\tremaining: 7.46s\n",
      "27:\tlearn: 0.2441038\ttotal: 215ms\tremaining: 7.45s\n",
      "28:\tlearn: 0.2406320\ttotal: 222ms\tremaining: 7.43s\n",
      "29:\tlearn: 0.2376805\ttotal: 229ms\tremaining: 7.41s\n",
      "30:\tlearn: 0.2350779\ttotal: 237ms\tremaining: 7.4s\n",
      "31:\tlearn: 0.2328859\ttotal: 244ms\tremaining: 7.37s\n",
      "32:\tlearn: 0.2308703\ttotal: 251ms\tremaining: 7.35s\n",
      "33:\tlearn: 0.2292002\ttotal: 258ms\tremaining: 7.33s\n",
      "34:\tlearn: 0.2276956\ttotal: 265ms\tremaining: 7.3s\n",
      "35:\tlearn: 0.2264765\ttotal: 272ms\tremaining: 7.29s\n",
      "36:\tlearn: 0.2254154\ttotal: 280ms\tremaining: 7.28s\n",
      "37:\tlearn: 0.2244076\ttotal: 287ms\tremaining: 7.26s\n",
      "38:\tlearn: 0.2235910\ttotal: 294ms\tremaining: 7.24s\n",
      "39:\tlearn: 0.2229030\ttotal: 301ms\tremaining: 7.22s\n",
      "40:\tlearn: 0.2223085\ttotal: 308ms\tremaining: 7.2s\n",
      "41:\tlearn: 0.2217732\ttotal: 315ms\tremaining: 7.19s\n",
      "42:\tlearn: 0.2212851\ttotal: 322ms\tremaining: 7.16s\n",
      "43:\tlearn: 0.2208870\ttotal: 329ms\tremaining: 7.14s\n",
      "44:\tlearn: 0.2205108\ttotal: 336ms\tremaining: 7.12s\n",
      "45:\tlearn: 0.2202179\ttotal: 343ms\tremaining: 7.11s\n",
      "46:\tlearn: 0.2199456\ttotal: 350ms\tremaining: 7.09s\n",
      "47:\tlearn: 0.2197179\ttotal: 357ms\tremaining: 7.08s\n",
      "48:\tlearn: 0.2195175\ttotal: 365ms\tremaining: 7.08s\n",
      "49:\tlearn: 0.2193195\ttotal: 373ms\tremaining: 7.08s\n",
      "50:\tlearn: 0.2191615\ttotal: 380ms\tremaining: 7.08s\n",
      "51:\tlearn: 0.2190354\ttotal: 388ms\tremaining: 7.07s\n",
      "52:\tlearn: 0.2189260\ttotal: 395ms\tremaining: 7.06s\n",
      "53:\tlearn: 0.2188078\ttotal: 402ms\tremaining: 7.05s\n",
      "54:\tlearn: 0.2187096\ttotal: 409ms\tremaining: 7.03s\n",
      "55:\tlearn: 0.2186236\ttotal: 417ms\tremaining: 7.02s\n",
      "56:\tlearn: 0.2185340\ttotal: 424ms\tremaining: 7.02s\n",
      "57:\tlearn: 0.2184504\ttotal: 432ms\tremaining: 7.01s\n",
      "58:\tlearn: 0.2183822\ttotal: 439ms\tremaining: 7s\n",
      "59:\tlearn: 0.2183215\ttotal: 446ms\tremaining: 6.98s\n",
      "60:\tlearn: 0.2182709\ttotal: 453ms\tremaining: 6.97s\n",
      "61:\tlearn: 0.2182090\ttotal: 460ms\tremaining: 6.96s\n",
      "62:\tlearn: 0.2181257\ttotal: 467ms\tremaining: 6.95s\n",
      "63:\tlearn: 0.2180596\ttotal: 474ms\tremaining: 6.93s\n",
      "64:\tlearn: 0.2180236\ttotal: 481ms\tremaining: 6.92s\n",
      "65:\tlearn: 0.2179612\ttotal: 489ms\tremaining: 6.92s\n",
      "66:\tlearn: 0.2179189\ttotal: 496ms\tremaining: 6.91s\n",
      "67:\tlearn: 0.2178837\ttotal: 503ms\tremaining: 6.89s\n",
      "68:\tlearn: 0.2178269\ttotal: 510ms\tremaining: 6.88s\n",
      "69:\tlearn: 0.2177868\ttotal: 517ms\tremaining: 6.87s\n",
      "70:\tlearn: 0.2177333\ttotal: 525ms\tremaining: 6.87s\n",
      "71:\tlearn: 0.2177045\ttotal: 532ms\tremaining: 6.85s\n",
      "72:\tlearn: 0.2176636\ttotal: 539ms\tremaining: 6.84s\n",
      "73:\tlearn: 0.2176221\ttotal: 547ms\tremaining: 6.84s\n",
      "74:\tlearn: 0.2175790\ttotal: 555ms\tremaining: 6.85s\n",
      "75:\tlearn: 0.2175528\ttotal: 563ms\tremaining: 6.84s\n",
      "76:\tlearn: 0.2175220\ttotal: 570ms\tremaining: 6.83s\n",
      "77:\tlearn: 0.2174975\ttotal: 578ms\tremaining: 6.83s\n",
      "78:\tlearn: 0.2174690\ttotal: 585ms\tremaining: 6.82s\n",
      "79:\tlearn: 0.2174292\ttotal: 593ms\tremaining: 6.82s\n",
      "80:\tlearn: 0.2174070\ttotal: 600ms\tremaining: 6.81s\n",
      "81:\tlearn: 0.2173707\ttotal: 607ms\tremaining: 6.8s\n",
      "82:\tlearn: 0.2173458\ttotal: 615ms\tremaining: 6.79s\n",
      "83:\tlearn: 0.2173242\ttotal: 622ms\tremaining: 6.79s\n",
      "84:\tlearn: 0.2172764\ttotal: 629ms\tremaining: 6.78s\n",
      "85:\tlearn: 0.2172597\ttotal: 637ms\tremaining: 6.77s\n",
      "86:\tlearn: 0.2172198\ttotal: 644ms\tremaining: 6.76s\n",
      "87:\tlearn: 0.2171991\ttotal: 651ms\tremaining: 6.75s\n",
      "88:\tlearn: 0.2171672\ttotal: 659ms\tremaining: 6.74s\n",
      "89:\tlearn: 0.2171342\ttotal: 666ms\tremaining: 6.73s\n",
      "90:\tlearn: 0.2171030\ttotal: 673ms\tremaining: 6.72s\n",
      "91:\tlearn: 0.2170801\ttotal: 681ms\tremaining: 6.72s\n",
      "92:\tlearn: 0.2170400\ttotal: 688ms\tremaining: 6.71s\n",
      "93:\tlearn: 0.2170105\ttotal: 695ms\tremaining: 6.69s\n",
      "94:\tlearn: 0.2169917\ttotal: 702ms\tremaining: 6.69s\n",
      "95:\tlearn: 0.2169720\ttotal: 709ms\tremaining: 6.68s\n",
      "96:\tlearn: 0.2169619\ttotal: 717ms\tremaining: 6.67s\n",
      "97:\tlearn: 0.2169413\ttotal: 724ms\tremaining: 6.67s\n",
      "98:\tlearn: 0.2169230\ttotal: 732ms\tremaining: 6.66s\n",
      "99:\tlearn: 0.2169070\ttotal: 740ms\tremaining: 6.66s\n",
      "100:\tlearn: 0.2168852\ttotal: 748ms\tremaining: 6.66s\n",
      "101:\tlearn: 0.2168664\ttotal: 755ms\tremaining: 6.65s\n",
      "102:\tlearn: 0.2168461\ttotal: 763ms\tremaining: 6.64s\n",
      "103:\tlearn: 0.2168072\ttotal: 771ms\tremaining: 6.64s\n",
      "104:\tlearn: 0.2167773\ttotal: 778ms\tremaining: 6.63s\n",
      "105:\tlearn: 0.2167462\ttotal: 786ms\tremaining: 6.63s\n",
      "106:\tlearn: 0.2167244\ttotal: 794ms\tremaining: 6.62s\n",
      "107:\tlearn: 0.2166968\ttotal: 801ms\tremaining: 6.62s\n",
      "108:\tlearn: 0.2166759\ttotal: 808ms\tremaining: 6.61s\n",
      "109:\tlearn: 0.2166487\ttotal: 816ms\tremaining: 6.6s\n",
      "110:\tlearn: 0.2166376\ttotal: 823ms\tremaining: 6.59s\n",
      "111:\tlearn: 0.2166223\ttotal: 830ms\tremaining: 6.58s\n",
      "112:\tlearn: 0.2165908\ttotal: 837ms\tremaining: 6.57s\n",
      "113:\tlearn: 0.2165783\ttotal: 844ms\tremaining: 6.56s\n",
      "114:\tlearn: 0.2165656\ttotal: 851ms\tremaining: 6.55s\n",
      "115:\tlearn: 0.2165223\ttotal: 858ms\tremaining: 6.54s\n",
      "116:\tlearn: 0.2165029\ttotal: 866ms\tremaining: 6.53s\n",
      "117:\tlearn: 0.2164790\ttotal: 873ms\tremaining: 6.52s\n",
      "118:\tlearn: 0.2164662\ttotal: 880ms\tremaining: 6.51s\n",
      "119:\tlearn: 0.2164557\ttotal: 887ms\tremaining: 6.51s\n",
      "120:\tlearn: 0.2164258\ttotal: 895ms\tremaining: 6.5s\n",
      "121:\tlearn: 0.2164073\ttotal: 902ms\tremaining: 6.49s\n",
      "122:\tlearn: 0.2163772\ttotal: 909ms\tremaining: 6.48s\n",
      "123:\tlearn: 0.2163556\ttotal: 917ms\tremaining: 6.48s\n",
      "124:\tlearn: 0.2163251\ttotal: 925ms\tremaining: 6.47s\n",
      "125:\tlearn: 0.2163075\ttotal: 932ms\tremaining: 6.46s\n",
      "126:\tlearn: 0.2162755\ttotal: 940ms\tremaining: 6.46s\n",
      "127:\tlearn: 0.2162653\ttotal: 948ms\tremaining: 6.46s\n",
      "128:\tlearn: 0.2162506\ttotal: 956ms\tremaining: 6.45s\n",
      "129:\tlearn: 0.2162281\ttotal: 963ms\tremaining: 6.44s\n",
      "130:\tlearn: 0.2162001\ttotal: 970ms\tremaining: 6.43s\n",
      "131:\tlearn: 0.2161802\ttotal: 978ms\tremaining: 6.43s\n",
      "132:\tlearn: 0.2161552\ttotal: 985ms\tremaining: 6.42s\n",
      "133:\tlearn: 0.2161391\ttotal: 992ms\tremaining: 6.41s\n",
      "134:\tlearn: 0.2161265\ttotal: 1000ms\tremaining: 6.4s\n",
      "135:\tlearn: 0.2161156\ttotal: 1.01s\tremaining: 6.39s\n",
      "136:\tlearn: 0.2161048\ttotal: 1.01s\tremaining: 6.38s\n",
      "137:\tlearn: 0.2160649\ttotal: 1.02s\tremaining: 6.37s\n",
      "138:\tlearn: 0.2160356\ttotal: 1.03s\tremaining: 6.37s\n",
      "139:\tlearn: 0.2160162\ttotal: 1.03s\tremaining: 6.36s\n",
      "140:\tlearn: 0.2160020\ttotal: 1.04s\tremaining: 6.35s\n",
      "141:\tlearn: 0.2159873\ttotal: 1.05s\tremaining: 6.34s\n",
      "142:\tlearn: 0.2159629\ttotal: 1.06s\tremaining: 6.33s\n",
      "143:\tlearn: 0.2159512\ttotal: 1.06s\tremaining: 6.32s\n",
      "144:\tlearn: 0.2159233\ttotal: 1.07s\tremaining: 6.32s\n",
      "145:\tlearn: 0.2158918\ttotal: 1.08s\tremaining: 6.3s\n",
      "146:\tlearn: 0.2158773\ttotal: 1.08s\tremaining: 6.29s\n",
      "147:\tlearn: 0.2158529\ttotal: 1.09s\tremaining: 6.29s\n",
      "148:\tlearn: 0.2158361\ttotal: 1.1s\tremaining: 6.28s\n",
      "149:\tlearn: 0.2157972\ttotal: 1.11s\tremaining: 6.28s\n",
      "150:\tlearn: 0.2157738\ttotal: 1.11s\tremaining: 6.27s\n",
      "151:\tlearn: 0.2157503\ttotal: 1.12s\tremaining: 6.26s\n",
      "152:\tlearn: 0.2157333\ttotal: 1.13s\tremaining: 6.26s\n",
      "153:\tlearn: 0.2157169\ttotal: 1.14s\tremaining: 6.25s\n",
      "154:\tlearn: 0.2156808\ttotal: 1.15s\tremaining: 6.24s\n",
      "155:\tlearn: 0.2156518\ttotal: 1.15s\tremaining: 6.24s\n",
      "156:\tlearn: 0.2156268\ttotal: 1.16s\tremaining: 6.23s\n",
      "157:\tlearn: 0.2155885\ttotal: 1.17s\tremaining: 6.22s\n",
      "158:\tlearn: 0.2155757\ttotal: 1.17s\tremaining: 6.21s\n",
      "159:\tlearn: 0.2155458\ttotal: 1.18s\tremaining: 6.2s\n",
      "160:\tlearn: 0.2155195\ttotal: 1.19s\tremaining: 6.19s\n",
      "161:\tlearn: 0.2155077\ttotal: 1.19s\tremaining: 6.18s\n",
      "162:\tlearn: 0.2154944\ttotal: 1.2s\tremaining: 6.17s\n",
      "163:\tlearn: 0.2154783\ttotal: 1.21s\tremaining: 6.16s\n",
      "164:\tlearn: 0.2154328\ttotal: 1.22s\tremaining: 6.15s\n",
      "165:\tlearn: 0.2153884\ttotal: 1.22s\tremaining: 6.14s\n",
      "166:\tlearn: 0.2153799\ttotal: 1.23s\tremaining: 6.13s\n",
      "167:\tlearn: 0.2153597\ttotal: 1.24s\tremaining: 6.12s\n",
      "168:\tlearn: 0.2153501\ttotal: 1.24s\tremaining: 6.12s\n",
      "169:\tlearn: 0.2153269\ttotal: 1.25s\tremaining: 6.11s\n",
      "170:\tlearn: 0.2153190\ttotal: 1.26s\tremaining: 6.1s\n",
      "171:\tlearn: 0.2152988\ttotal: 1.26s\tremaining: 6.09s\n"
     ]
    },
    {
     "name": "stdout",
     "output_type": "stream",
     "text": [
      "172:\tlearn: 0.2152916\ttotal: 1.27s\tremaining: 6.08s\n",
      "173:\tlearn: 0.2152596\ttotal: 1.28s\tremaining: 6.07s\n",
      "174:\tlearn: 0.2152285\ttotal: 1.29s\tremaining: 6.06s\n",
      "175:\tlearn: 0.2152005\ttotal: 1.29s\tremaining: 6.06s\n",
      "176:\tlearn: 0.2151709\ttotal: 1.3s\tremaining: 6.05s\n",
      "177:\tlearn: 0.2151531\ttotal: 1.31s\tremaining: 6.04s\n",
      "178:\tlearn: 0.2151249\ttotal: 1.31s\tremaining: 6.03s\n",
      "179:\tlearn: 0.2150964\ttotal: 1.32s\tremaining: 6.03s\n",
      "180:\tlearn: 0.2150747\ttotal: 1.33s\tremaining: 6.02s\n",
      "181:\tlearn: 0.2150589\ttotal: 1.34s\tremaining: 6.01s\n",
      "182:\tlearn: 0.2150498\ttotal: 1.34s\tremaining: 6s\n",
      "183:\tlearn: 0.2150299\ttotal: 1.35s\tremaining: 5.99s\n",
      "184:\tlearn: 0.2150078\ttotal: 1.36s\tremaining: 5.99s\n",
      "185:\tlearn: 0.2149975\ttotal: 1.37s\tremaining: 5.98s\n",
      "186:\tlearn: 0.2149730\ttotal: 1.37s\tremaining: 5.97s\n",
      "187:\tlearn: 0.2149555\ttotal: 1.38s\tremaining: 5.96s\n",
      "188:\tlearn: 0.2149349\ttotal: 1.39s\tremaining: 5.95s\n",
      "189:\tlearn: 0.2149145\ttotal: 1.39s\tremaining: 5.95s\n",
      "190:\tlearn: 0.2148972\ttotal: 1.4s\tremaining: 5.94s\n",
      "191:\tlearn: 0.2148812\ttotal: 1.41s\tremaining: 5.93s\n",
      "192:\tlearn: 0.2148718\ttotal: 1.42s\tremaining: 5.92s\n",
      "193:\tlearn: 0.2148647\ttotal: 1.42s\tremaining: 5.91s\n",
      "194:\tlearn: 0.2148485\ttotal: 1.43s\tremaining: 5.9s\n",
      "195:\tlearn: 0.2148272\ttotal: 1.44s\tremaining: 5.89s\n",
      "196:\tlearn: 0.2148062\ttotal: 1.44s\tremaining: 5.88s\n",
      "197:\tlearn: 0.2147918\ttotal: 1.45s\tremaining: 5.88s\n",
      "198:\tlearn: 0.2147636\ttotal: 1.46s\tremaining: 5.87s\n",
      "199:\tlearn: 0.2147417\ttotal: 1.47s\tremaining: 5.87s\n",
      "200:\tlearn: 0.2147259\ttotal: 1.47s\tremaining: 5.86s\n",
      "201:\tlearn: 0.2147199\ttotal: 1.48s\tremaining: 5.84s\n",
      "202:\tlearn: 0.2147020\ttotal: 1.49s\tremaining: 5.83s\n",
      "203:\tlearn: 0.2146898\ttotal: 1.49s\tremaining: 5.83s\n",
      "204:\tlearn: 0.2146750\ttotal: 1.5s\tremaining: 5.82s\n",
      "205:\tlearn: 0.2146659\ttotal: 1.51s\tremaining: 5.81s\n",
      "206:\tlearn: 0.2146492\ttotal: 1.51s\tremaining: 5.8s\n",
      "207:\tlearn: 0.2146332\ttotal: 1.52s\tremaining: 5.79s\n",
      "208:\tlearn: 0.2146226\ttotal: 1.53s\tremaining: 5.79s\n",
      "209:\tlearn: 0.2146042\ttotal: 1.54s\tremaining: 5.78s\n",
      "210:\tlearn: 0.2145929\ttotal: 1.54s\tremaining: 5.77s\n",
      "211:\tlearn: 0.2145702\ttotal: 1.55s\tremaining: 5.76s\n",
      "212:\tlearn: 0.2145527\ttotal: 1.56s\tremaining: 5.75s\n",
      "213:\tlearn: 0.2145297\ttotal: 1.56s\tremaining: 5.74s\n",
      "214:\tlearn: 0.2145232\ttotal: 1.57s\tremaining: 5.74s\n",
      "215:\tlearn: 0.2145100\ttotal: 1.58s\tremaining: 5.73s\n",
      "216:\tlearn: 0.2144957\ttotal: 1.58s\tremaining: 5.72s\n",
      "217:\tlearn: 0.2144902\ttotal: 1.59s\tremaining: 5.71s\n",
      "218:\tlearn: 0.2144731\ttotal: 1.6s\tremaining: 5.7s\n",
      "219:\tlearn: 0.2144581\ttotal: 1.6s\tremaining: 5.69s\n",
      "220:\tlearn: 0.2144365\ttotal: 1.61s\tremaining: 5.68s\n",
      "221:\tlearn: 0.2144170\ttotal: 1.62s\tremaining: 5.68s\n",
      "222:\tlearn: 0.2144093\ttotal: 1.63s\tremaining: 5.67s\n",
      "223:\tlearn: 0.2144024\ttotal: 1.63s\tremaining: 5.66s\n",
      "224:\tlearn: 0.2143858\ttotal: 1.64s\tremaining: 5.66s\n",
      "225:\tlearn: 0.2143734\ttotal: 1.65s\tremaining: 5.65s\n",
      "226:\tlearn: 0.2143596\ttotal: 1.66s\tremaining: 5.64s\n",
      "227:\tlearn: 0.2143324\ttotal: 1.66s\tremaining: 5.63s\n",
      "228:\tlearn: 0.2142989\ttotal: 1.67s\tremaining: 5.62s\n",
      "229:\tlearn: 0.2142891\ttotal: 1.68s\tremaining: 5.62s\n",
      "230:\tlearn: 0.2142743\ttotal: 1.68s\tremaining: 5.61s\n",
      "231:\tlearn: 0.2142696\ttotal: 1.69s\tremaining: 5.6s\n",
      "232:\tlearn: 0.2142611\ttotal: 1.7s\tremaining: 5.59s\n",
      "233:\tlearn: 0.2142375\ttotal: 1.71s\tremaining: 5.58s\n",
      "234:\tlearn: 0.2142244\ttotal: 1.71s\tremaining: 5.58s\n",
      "235:\tlearn: 0.2142119\ttotal: 1.72s\tremaining: 5.57s\n",
      "236:\tlearn: 0.2141969\ttotal: 1.73s\tremaining: 5.56s\n",
      "237:\tlearn: 0.2141773\ttotal: 1.73s\tremaining: 5.55s\n",
      "238:\tlearn: 0.2141703\ttotal: 1.74s\tremaining: 5.54s\n",
      "239:\tlearn: 0.2141601\ttotal: 1.75s\tremaining: 5.54s\n",
      "240:\tlearn: 0.2141365\ttotal: 1.75s\tremaining: 5.53s\n",
      "241:\tlearn: 0.2141303\ttotal: 1.76s\tremaining: 5.52s\n",
      "242:\tlearn: 0.2141069\ttotal: 1.77s\tremaining: 5.51s\n",
      "243:\tlearn: 0.2140970\ttotal: 1.77s\tremaining: 5.5s\n",
      "244:\tlearn: 0.2140852\ttotal: 1.78s\tremaining: 5.49s\n",
      "245:\tlearn: 0.2140709\ttotal: 1.79s\tremaining: 5.48s\n",
      "246:\tlearn: 0.2140613\ttotal: 1.8s\tremaining: 5.48s\n",
      "247:\tlearn: 0.2140447\ttotal: 1.8s\tremaining: 5.47s\n",
      "248:\tlearn: 0.2140332\ttotal: 1.81s\tremaining: 5.46s\n",
      "249:\tlearn: 0.2140085\ttotal: 1.82s\tremaining: 5.45s\n",
      "250:\tlearn: 0.2140011\ttotal: 1.82s\tremaining: 5.45s\n",
      "251:\tlearn: 0.2139891\ttotal: 1.83s\tremaining: 5.44s\n",
      "252:\tlearn: 0.2139621\ttotal: 1.84s\tremaining: 5.43s\n",
      "253:\tlearn: 0.2139530\ttotal: 1.85s\tremaining: 5.42s\n",
      "254:\tlearn: 0.2139392\ttotal: 1.85s\tremaining: 5.42s\n",
      "255:\tlearn: 0.2139149\ttotal: 1.86s\tremaining: 5.41s\n",
      "256:\tlearn: 0.2139075\ttotal: 1.87s\tremaining: 5.4s\n",
      "257:\tlearn: 0.2138881\ttotal: 1.87s\tremaining: 5.39s\n",
      "258:\tlearn: 0.2138764\ttotal: 1.88s\tremaining: 5.38s\n",
      "259:\tlearn: 0.2138645\ttotal: 1.89s\tremaining: 5.38s\n",
      "260:\tlearn: 0.2138601\ttotal: 1.9s\tremaining: 5.37s\n",
      "261:\tlearn: 0.2138313\ttotal: 1.9s\tremaining: 5.36s\n",
      "262:\tlearn: 0.2138264\ttotal: 1.91s\tremaining: 5.35s\n",
      "263:\tlearn: 0.2138143\ttotal: 1.92s\tremaining: 5.34s\n",
      "264:\tlearn: 0.2137962\ttotal: 1.92s\tremaining: 5.33s\n",
      "265:\tlearn: 0.2137837\ttotal: 1.93s\tremaining: 5.32s\n",
      "266:\tlearn: 0.2137662\ttotal: 1.94s\tremaining: 5.32s\n",
      "267:\tlearn: 0.2137583\ttotal: 1.94s\tremaining: 5.31s\n",
      "268:\tlearn: 0.2137386\ttotal: 1.95s\tremaining: 5.3s\n",
      "269:\tlearn: 0.2137276\ttotal: 1.96s\tremaining: 5.29s\n",
      "270:\tlearn: 0.2137103\ttotal: 1.96s\tremaining: 5.28s\n",
      "271:\tlearn: 0.2136841\ttotal: 1.97s\tremaining: 5.28s\n",
      "272:\tlearn: 0.2136710\ttotal: 1.98s\tremaining: 5.27s\n",
      "273:\tlearn: 0.2136500\ttotal: 1.98s\tremaining: 5.26s\n",
      "274:\tlearn: 0.2136412\ttotal: 1.99s\tremaining: 5.25s\n",
      "275:\tlearn: 0.2136328\ttotal: 2s\tremaining: 5.25s\n",
      "276:\tlearn: 0.2136208\ttotal: 2.01s\tremaining: 5.24s\n",
      "277:\tlearn: 0.2136168\ttotal: 2.01s\tremaining: 5.23s\n",
      "278:\tlearn: 0.2136123\ttotal: 2.02s\tremaining: 5.23s\n",
      "279:\tlearn: 0.2135903\ttotal: 2.03s\tremaining: 5.22s\n",
      "280:\tlearn: 0.2135781\ttotal: 2.04s\tremaining: 5.21s\n",
      "281:\tlearn: 0.2135654\ttotal: 2.04s\tremaining: 5.21s\n",
      "282:\tlearn: 0.2135572\ttotal: 2.05s\tremaining: 5.2s\n",
      "283:\tlearn: 0.2135377\ttotal: 2.06s\tremaining: 5.19s\n",
      "284:\tlearn: 0.2135257\ttotal: 2.06s\tremaining: 5.18s\n",
      "285:\tlearn: 0.2135079\ttotal: 2.07s\tremaining: 5.17s\n",
      "286:\tlearn: 0.2135029\ttotal: 2.08s\tremaining: 5.17s\n",
      "287:\tlearn: 0.2134880\ttotal: 2.09s\tremaining: 5.16s\n",
      "288:\tlearn: 0.2134724\ttotal: 2.09s\tremaining: 5.15s\n",
      "289:\tlearn: 0.2134605\ttotal: 2.1s\tremaining: 5.14s\n",
      "290:\tlearn: 0.2134488\ttotal: 2.11s\tremaining: 5.13s\n",
      "291:\tlearn: 0.2134384\ttotal: 2.11s\tremaining: 5.13s\n",
      "292:\tlearn: 0.2134306\ttotal: 2.12s\tremaining: 5.12s\n",
      "293:\tlearn: 0.2134210\ttotal: 2.13s\tremaining: 5.11s\n",
      "294:\tlearn: 0.2134078\ttotal: 2.14s\tremaining: 5.11s\n",
      "295:\tlearn: 0.2134008\ttotal: 2.14s\tremaining: 5.1s\n",
      "296:\tlearn: 0.2133853\ttotal: 2.15s\tremaining: 5.09s\n",
      "297:\tlearn: 0.2133820\ttotal: 2.16s\tremaining: 5.08s\n",
      "298:\tlearn: 0.2133699\ttotal: 2.17s\tremaining: 5.08s\n",
      "299:\tlearn: 0.2133590\ttotal: 2.17s\tremaining: 5.07s\n",
      "300:\tlearn: 0.2133481\ttotal: 2.18s\tremaining: 5.06s\n",
      "301:\tlearn: 0.2133403\ttotal: 2.19s\tremaining: 5.06s\n",
      "302:\tlearn: 0.2133347\ttotal: 2.2s\tremaining: 5.05s\n",
      "303:\tlearn: 0.2133274\ttotal: 2.2s\tremaining: 5.04s\n",
      "304:\tlearn: 0.2133141\ttotal: 2.21s\tremaining: 5.04s\n",
      "305:\tlearn: 0.2133061\ttotal: 2.22s\tremaining: 5.03s\n",
      "306:\tlearn: 0.2132863\ttotal: 2.22s\tremaining: 5.02s\n",
      "307:\tlearn: 0.2132743\ttotal: 2.23s\tremaining: 5.01s\n",
      "308:\tlearn: 0.2132575\ttotal: 2.24s\tremaining: 5.01s\n",
      "309:\tlearn: 0.2132486\ttotal: 2.25s\tremaining: 5s\n",
      "310:\tlearn: 0.2132383\ttotal: 2.25s\tremaining: 4.99s\n",
      "311:\tlearn: 0.2132253\ttotal: 2.26s\tremaining: 4.98s\n",
      "312:\tlearn: 0.2132169\ttotal: 2.27s\tremaining: 4.98s\n",
      "313:\tlearn: 0.2132097\ttotal: 2.27s\tremaining: 4.97s\n",
      "314:\tlearn: 0.2131940\ttotal: 2.28s\tremaining: 4.96s\n",
      "315:\tlearn: 0.2131855\ttotal: 2.29s\tremaining: 4.95s\n",
      "316:\tlearn: 0.2131794\ttotal: 2.29s\tremaining: 4.95s\n",
      "317:\tlearn: 0.2131675\ttotal: 2.3s\tremaining: 4.94s\n",
      "318:\tlearn: 0.2131622\ttotal: 2.31s\tremaining: 4.93s\n",
      "319:\tlearn: 0.2131525\ttotal: 2.32s\tremaining: 4.92s\n",
      "320:\tlearn: 0.2131377\ttotal: 2.32s\tremaining: 4.92s\n",
      "321:\tlearn: 0.2131269\ttotal: 2.33s\tremaining: 4.91s\n",
      "322:\tlearn: 0.2131145\ttotal: 2.34s\tremaining: 4.9s\n",
      "323:\tlearn: 0.2130974\ttotal: 2.35s\tremaining: 4.89s\n",
      "324:\tlearn: 0.2130905\ttotal: 2.35s\tremaining: 4.89s\n",
      "325:\tlearn: 0.2130868\ttotal: 2.36s\tremaining: 4.88s\n",
      "326:\tlearn: 0.2130817\ttotal: 2.37s\tremaining: 4.87s\n",
      "327:\tlearn: 0.2130708\ttotal: 2.38s\tremaining: 4.87s\n",
      "328:\tlearn: 0.2130648\ttotal: 2.38s\tremaining: 4.86s\n",
      "329:\tlearn: 0.2130546\ttotal: 2.39s\tremaining: 4.85s\n",
      "330:\tlearn: 0.2130470\ttotal: 2.4s\tremaining: 4.84s\n",
      "331:\tlearn: 0.2130390\ttotal: 2.4s\tremaining: 4.84s\n",
      "332:\tlearn: 0.2130209\ttotal: 2.41s\tremaining: 4.83s\n",
      "333:\tlearn: 0.2130106\ttotal: 2.42s\tremaining: 4.82s\n",
      "334:\tlearn: 0.2129921\ttotal: 2.43s\tremaining: 4.82s\n",
      "335:\tlearn: 0.2129790\ttotal: 2.43s\tremaining: 4.81s\n",
      "336:\tlearn: 0.2129619\ttotal: 2.44s\tremaining: 4.8s\n",
      "337:\tlearn: 0.2129509\ttotal: 2.45s\tremaining: 4.79s\n",
      "338:\tlearn: 0.2129416\ttotal: 2.46s\tremaining: 4.79s\n",
      "339:\tlearn: 0.2129299\ttotal: 2.46s\tremaining: 4.78s\n",
      "340:\tlearn: 0.2129171\ttotal: 2.47s\tremaining: 4.77s\n",
      "341:\tlearn: 0.2129100\ttotal: 2.48s\tremaining: 4.76s\n",
      "342:\tlearn: 0.2128956\ttotal: 2.48s\tremaining: 4.76s\n",
      "343:\tlearn: 0.2128859\ttotal: 2.49s\tremaining: 4.75s\n",
      "344:\tlearn: 0.2128724\ttotal: 2.5s\tremaining: 4.74s\n",
      "345:\tlearn: 0.2128595\ttotal: 2.5s\tremaining: 4.73s\n",
      "346:\tlearn: 0.2128505\ttotal: 2.51s\tremaining: 4.73s\n",
      "347:\tlearn: 0.2128429\ttotal: 2.52s\tremaining: 4.72s\n",
      "348:\tlearn: 0.2128354\ttotal: 2.52s\tremaining: 4.71s\n",
      "349:\tlearn: 0.2128256\ttotal: 2.53s\tremaining: 4.71s\n",
      "350:\tlearn: 0.2128098\ttotal: 2.54s\tremaining: 4.7s\n",
      "351:\tlearn: 0.2128013\ttotal: 2.55s\tremaining: 4.69s\n"
     ]
    },
    {
     "name": "stdout",
     "output_type": "stream",
     "text": [
      "352:\tlearn: 0.2127933\ttotal: 2.56s\tremaining: 4.68s\n",
      "353:\tlearn: 0.2127794\ttotal: 2.56s\tremaining: 4.67s\n",
      "354:\tlearn: 0.2127735\ttotal: 2.57s\tremaining: 4.67s\n",
      "355:\tlearn: 0.2127658\ttotal: 2.58s\tremaining: 4.66s\n",
      "356:\tlearn: 0.2127455\ttotal: 2.58s\tremaining: 4.65s\n",
      "357:\tlearn: 0.2127368\ttotal: 2.59s\tremaining: 4.65s\n",
      "358:\tlearn: 0.2127315\ttotal: 2.6s\tremaining: 4.64s\n",
      "359:\tlearn: 0.2127260\ttotal: 2.61s\tremaining: 4.63s\n",
      "360:\tlearn: 0.2127196\ttotal: 2.61s\tremaining: 4.63s\n",
      "361:\tlearn: 0.2127103\ttotal: 2.62s\tremaining: 4.62s\n",
      "362:\tlearn: 0.2127063\ttotal: 2.63s\tremaining: 4.61s\n",
      "363:\tlearn: 0.2126992\ttotal: 2.63s\tremaining: 4.61s\n",
      "364:\tlearn: 0.2126932\ttotal: 2.64s\tremaining: 4.6s\n",
      "365:\tlearn: 0.2126853\ttotal: 2.65s\tremaining: 4.59s\n",
      "366:\tlearn: 0.2126804\ttotal: 2.66s\tremaining: 4.58s\n",
      "367:\tlearn: 0.2126753\ttotal: 2.66s\tremaining: 4.58s\n",
      "368:\tlearn: 0.2126686\ttotal: 2.67s\tremaining: 4.57s\n",
      "369:\tlearn: 0.2126599\ttotal: 2.68s\tremaining: 4.56s\n",
      "370:\tlearn: 0.2126549\ttotal: 2.69s\tremaining: 4.55s\n",
      "371:\tlearn: 0.2126411\ttotal: 2.69s\tremaining: 4.55s\n",
      "372:\tlearn: 0.2126377\ttotal: 2.7s\tremaining: 4.54s\n",
      "373:\tlearn: 0.2126290\ttotal: 2.71s\tremaining: 4.53s\n",
      "374:\tlearn: 0.2126225\ttotal: 2.71s\tremaining: 4.52s\n",
      "375:\tlearn: 0.2126179\ttotal: 2.72s\tremaining: 4.52s\n",
      "376:\tlearn: 0.2126066\ttotal: 2.73s\tremaining: 4.51s\n",
      "377:\tlearn: 0.2125978\ttotal: 2.74s\tremaining: 4.5s\n",
      "378:\tlearn: 0.2125900\ttotal: 2.74s\tremaining: 4.5s\n",
      "379:\tlearn: 0.2125837\ttotal: 2.75s\tremaining: 4.49s\n",
      "380:\tlearn: 0.2125750\ttotal: 2.76s\tremaining: 4.48s\n",
      "381:\tlearn: 0.2125688\ttotal: 2.77s\tremaining: 4.47s\n",
      "382:\tlearn: 0.2125643\ttotal: 2.77s\tremaining: 4.47s\n",
      "383:\tlearn: 0.2125476\ttotal: 2.78s\tremaining: 4.46s\n",
      "384:\tlearn: 0.2125303\ttotal: 2.79s\tremaining: 4.45s\n",
      "385:\tlearn: 0.2125239\ttotal: 2.79s\tremaining: 4.45s\n",
      "386:\tlearn: 0.2125101\ttotal: 2.8s\tremaining: 4.44s\n",
      "387:\tlearn: 0.2125014\ttotal: 2.81s\tremaining: 4.43s\n",
      "388:\tlearn: 0.2124806\ttotal: 2.82s\tremaining: 4.42s\n",
      "389:\tlearn: 0.2124713\ttotal: 2.82s\tremaining: 4.42s\n",
      "390:\tlearn: 0.2124530\ttotal: 2.83s\tremaining: 4.41s\n",
      "391:\tlearn: 0.2124407\ttotal: 2.84s\tremaining: 4.4s\n",
      "392:\tlearn: 0.2124366\ttotal: 2.85s\tremaining: 4.4s\n",
      "393:\tlearn: 0.2124286\ttotal: 2.85s\tremaining: 4.39s\n",
      "394:\tlearn: 0.2124224\ttotal: 2.86s\tremaining: 4.38s\n",
      "395:\tlearn: 0.2124170\ttotal: 2.87s\tremaining: 4.38s\n",
      "396:\tlearn: 0.2124004\ttotal: 2.88s\tremaining: 4.37s\n",
      "397:\tlearn: 0.2123974\ttotal: 2.88s\tremaining: 4.36s\n",
      "398:\tlearn: 0.2123896\ttotal: 2.89s\tremaining: 4.36s\n",
      "399:\tlearn: 0.2123856\ttotal: 2.9s\tremaining: 4.35s\n",
      "400:\tlearn: 0.2123755\ttotal: 2.91s\tremaining: 4.34s\n",
      "401:\tlearn: 0.2123682\ttotal: 2.91s\tremaining: 4.33s\n",
      "402:\tlearn: 0.2123597\ttotal: 2.92s\tremaining: 4.33s\n",
      "403:\tlearn: 0.2123476\ttotal: 2.93s\tremaining: 4.32s\n",
      "404:\tlearn: 0.2123448\ttotal: 2.94s\tremaining: 4.31s\n",
      "405:\tlearn: 0.2123338\ttotal: 2.94s\tremaining: 4.31s\n",
      "406:\tlearn: 0.2123278\ttotal: 2.95s\tremaining: 4.3s\n",
      "407:\tlearn: 0.2123240\ttotal: 2.96s\tremaining: 4.29s\n",
      "408:\tlearn: 0.2123098\ttotal: 2.96s\tremaining: 4.28s\n",
      "409:\tlearn: 0.2122966\ttotal: 2.97s\tremaining: 4.28s\n",
      "410:\tlearn: 0.2122939\ttotal: 2.98s\tremaining: 4.27s\n",
      "411:\tlearn: 0.2122898\ttotal: 2.99s\tremaining: 4.26s\n",
      "412:\tlearn: 0.2122708\ttotal: 2.99s\tremaining: 4.25s\n",
      "413:\tlearn: 0.2122665\ttotal: 3s\tremaining: 4.25s\n",
      "414:\tlearn: 0.2122608\ttotal: 3s\tremaining: 4.24s\n",
      "415:\tlearn: 0.2122487\ttotal: 3.01s\tremaining: 4.23s\n",
      "416:\tlearn: 0.2122414\ttotal: 3.02s\tremaining: 4.22s\n",
      "417:\tlearn: 0.2122326\ttotal: 3.03s\tremaining: 4.21s\n",
      "418:\tlearn: 0.2122268\ttotal: 3.03s\tremaining: 4.21s\n",
      "419:\tlearn: 0.2122174\ttotal: 3.04s\tremaining: 4.2s\n",
      "420:\tlearn: 0.2122119\ttotal: 3.05s\tremaining: 4.19s\n",
      "421:\tlearn: 0.2122023\ttotal: 3.06s\tremaining: 4.18s\n",
      "422:\tlearn: 0.2121872\ttotal: 3.06s\tremaining: 4.18s\n",
      "423:\tlearn: 0.2121805\ttotal: 3.07s\tremaining: 4.17s\n",
      "424:\tlearn: 0.2121722\ttotal: 3.08s\tremaining: 4.16s\n",
      "425:\tlearn: 0.2121657\ttotal: 3.08s\tremaining: 4.15s\n",
      "426:\tlearn: 0.2121529\ttotal: 3.09s\tremaining: 4.15s\n",
      "427:\tlearn: 0.2121421\ttotal: 3.1s\tremaining: 4.14s\n",
      "428:\tlearn: 0.2121365\ttotal: 3.11s\tremaining: 4.13s\n",
      "429:\tlearn: 0.2121326\ttotal: 3.11s\tremaining: 4.13s\n",
      "430:\tlearn: 0.2121268\ttotal: 3.12s\tremaining: 4.12s\n",
      "431:\tlearn: 0.2121211\ttotal: 3.13s\tremaining: 4.11s\n",
      "432:\tlearn: 0.2121101\ttotal: 3.14s\tremaining: 4.11s\n",
      "433:\tlearn: 0.2121018\ttotal: 3.14s\tremaining: 4.1s\n",
      "434:\tlearn: 0.2120873\ttotal: 3.15s\tremaining: 4.09s\n",
      "435:\tlearn: 0.2120733\ttotal: 3.16s\tremaining: 4.08s\n",
      "436:\tlearn: 0.2120669\ttotal: 3.17s\tremaining: 4.08s\n",
      "437:\tlearn: 0.2120540\ttotal: 3.17s\tremaining: 4.07s\n",
      "438:\tlearn: 0.2120452\ttotal: 3.18s\tremaining: 4.07s\n",
      "439:\tlearn: 0.2120333\ttotal: 3.19s\tremaining: 4.06s\n",
      "440:\tlearn: 0.2120271\ttotal: 3.19s\tremaining: 4.05s\n",
      "441:\tlearn: 0.2120210\ttotal: 3.2s\tremaining: 4.04s\n",
      "442:\tlearn: 0.2120170\ttotal: 3.21s\tremaining: 4.04s\n",
      "443:\tlearn: 0.2120006\ttotal: 3.22s\tremaining: 4.03s\n",
      "444:\tlearn: 0.2119914\ttotal: 3.22s\tremaining: 4.02s\n",
      "445:\tlearn: 0.2119860\ttotal: 3.23s\tremaining: 4.01s\n",
      "446:\tlearn: 0.2119808\ttotal: 3.24s\tremaining: 4s\n",
      "447:\tlearn: 0.2119682\ttotal: 3.24s\tremaining: 4s\n",
      "448:\tlearn: 0.2119659\ttotal: 3.25s\tremaining: 3.99s\n",
      "449:\tlearn: 0.2119539\ttotal: 3.26s\tremaining: 3.98s\n",
      "450:\tlearn: 0.2119422\ttotal: 3.27s\tremaining: 3.98s\n",
      "451:\tlearn: 0.2119396\ttotal: 3.27s\tremaining: 3.97s\n",
      "452:\tlearn: 0.2119325\ttotal: 3.28s\tremaining: 3.96s\n",
      "453:\tlearn: 0.2119272\ttotal: 3.29s\tremaining: 3.95s\n",
      "454:\tlearn: 0.2119218\ttotal: 3.29s\tremaining: 3.95s\n",
      "455:\tlearn: 0.2119168\ttotal: 3.3s\tremaining: 3.94s\n",
      "456:\tlearn: 0.2119104\ttotal: 3.31s\tremaining: 3.93s\n",
      "457:\tlearn: 0.2119038\ttotal: 3.31s\tremaining: 3.92s\n",
      "458:\tlearn: 0.2118966\ttotal: 3.32s\tremaining: 3.92s\n",
      "459:\tlearn: 0.2118900\ttotal: 3.33s\tremaining: 3.91s\n",
      "460:\tlearn: 0.2118839\ttotal: 3.34s\tremaining: 3.9s\n",
      "461:\tlearn: 0.2118782\ttotal: 3.35s\tremaining: 3.9s\n",
      "462:\tlearn: 0.2118747\ttotal: 3.35s\tremaining: 3.89s\n",
      "463:\tlearn: 0.2118698\ttotal: 3.36s\tremaining: 3.88s\n",
      "464:\tlearn: 0.2118619\ttotal: 3.37s\tremaining: 3.87s\n",
      "465:\tlearn: 0.2118564\ttotal: 3.37s\tremaining: 3.87s\n",
      "466:\tlearn: 0.2118431\ttotal: 3.38s\tremaining: 3.86s\n",
      "467:\tlearn: 0.2118381\ttotal: 3.39s\tremaining: 3.85s\n",
      "468:\tlearn: 0.2118314\ttotal: 3.4s\tremaining: 3.84s\n",
      "469:\tlearn: 0.2118114\ttotal: 3.4s\tremaining: 3.84s\n",
      "470:\tlearn: 0.2118034\ttotal: 3.41s\tremaining: 3.83s\n",
      "471:\tlearn: 0.2117877\ttotal: 3.42s\tremaining: 3.82s\n",
      "472:\tlearn: 0.2117821\ttotal: 3.42s\tremaining: 3.81s\n",
      "473:\tlearn: 0.2117766\ttotal: 3.43s\tremaining: 3.81s\n",
      "474:\tlearn: 0.2117716\ttotal: 3.44s\tremaining: 3.8s\n",
      "475:\tlearn: 0.2117649\ttotal: 3.44s\tremaining: 3.79s\n",
      "476:\tlearn: 0.2117496\ttotal: 3.45s\tremaining: 3.78s\n",
      "477:\tlearn: 0.2117330\ttotal: 3.46s\tremaining: 3.78s\n",
      "478:\tlearn: 0.2117299\ttotal: 3.47s\tremaining: 3.77s\n",
      "479:\tlearn: 0.2117265\ttotal: 3.47s\tremaining: 3.76s\n",
      "480:\tlearn: 0.2117175\ttotal: 3.48s\tremaining: 3.75s\n",
      "481:\tlearn: 0.2117110\ttotal: 3.49s\tremaining: 3.75s\n",
      "482:\tlearn: 0.2116983\ttotal: 3.5s\tremaining: 3.74s\n",
      "483:\tlearn: 0.2116920\ttotal: 3.5s\tremaining: 3.73s\n",
      "484:\tlearn: 0.2116840\ttotal: 3.51s\tremaining: 3.73s\n",
      "485:\tlearn: 0.2116780\ttotal: 3.52s\tremaining: 3.72s\n",
      "486:\tlearn: 0.2116736\ttotal: 3.52s\tremaining: 3.71s\n",
      "487:\tlearn: 0.2116665\ttotal: 3.53s\tremaining: 3.71s\n",
      "488:\tlearn: 0.2116593\ttotal: 3.54s\tremaining: 3.7s\n",
      "489:\tlearn: 0.2116505\ttotal: 3.55s\tremaining: 3.69s\n",
      "490:\tlearn: 0.2116421\ttotal: 3.55s\tremaining: 3.68s\n",
      "491:\tlearn: 0.2116353\ttotal: 3.56s\tremaining: 3.68s\n",
      "492:\tlearn: 0.2116245\ttotal: 3.57s\tremaining: 3.67s\n",
      "493:\tlearn: 0.2116176\ttotal: 3.58s\tremaining: 3.66s\n",
      "494:\tlearn: 0.2116082\ttotal: 3.58s\tremaining: 3.66s\n",
      "495:\tlearn: 0.2115943\ttotal: 3.59s\tremaining: 3.65s\n",
      "496:\tlearn: 0.2115879\ttotal: 3.6s\tremaining: 3.64s\n",
      "497:\tlearn: 0.2115767\ttotal: 3.6s\tremaining: 3.63s\n",
      "498:\tlearn: 0.2115720\ttotal: 3.61s\tremaining: 3.63s\n",
      "499:\tlearn: 0.2115686\ttotal: 3.62s\tremaining: 3.62s\n",
      "500:\tlearn: 0.2115634\ttotal: 3.63s\tremaining: 3.61s\n",
      "501:\tlearn: 0.2115567\ttotal: 3.63s\tremaining: 3.6s\n",
      "502:\tlearn: 0.2115476\ttotal: 3.64s\tremaining: 3.6s\n",
      "503:\tlearn: 0.2115367\ttotal: 3.65s\tremaining: 3.59s\n",
      "504:\tlearn: 0.2115314\ttotal: 3.66s\tremaining: 3.58s\n",
      "505:\tlearn: 0.2115259\ttotal: 3.66s\tremaining: 3.58s\n",
      "506:\tlearn: 0.2115215\ttotal: 3.67s\tremaining: 3.57s\n",
      "507:\tlearn: 0.2115113\ttotal: 3.68s\tremaining: 3.56s\n",
      "508:\tlearn: 0.2115075\ttotal: 3.68s\tremaining: 3.55s\n",
      "509:\tlearn: 0.2114987\ttotal: 3.69s\tremaining: 3.55s\n",
      "510:\tlearn: 0.2114931\ttotal: 3.7s\tremaining: 3.54s\n",
      "511:\tlearn: 0.2114863\ttotal: 3.71s\tremaining: 3.53s\n",
      "512:\tlearn: 0.2114806\ttotal: 3.71s\tremaining: 3.52s\n",
      "513:\tlearn: 0.2114757\ttotal: 3.72s\tremaining: 3.52s\n",
      "514:\tlearn: 0.2114704\ttotal: 3.73s\tremaining: 3.51s\n",
      "515:\tlearn: 0.2114672\ttotal: 3.73s\tremaining: 3.5s\n",
      "516:\tlearn: 0.2114593\ttotal: 3.74s\tremaining: 3.5s\n",
      "517:\tlearn: 0.2114571\ttotal: 3.75s\tremaining: 3.49s\n",
      "518:\tlearn: 0.2114522\ttotal: 3.75s\tremaining: 3.48s\n",
      "519:\tlearn: 0.2114475\ttotal: 3.76s\tremaining: 3.47s\n",
      "520:\tlearn: 0.2114359\ttotal: 3.77s\tremaining: 3.46s\n",
      "521:\tlearn: 0.2114266\ttotal: 3.78s\tremaining: 3.46s\n",
      "522:\tlearn: 0.2114219\ttotal: 3.78s\tremaining: 3.45s\n",
      "523:\tlearn: 0.2114160\ttotal: 3.79s\tremaining: 3.44s\n",
      "524:\tlearn: 0.2114115\ttotal: 3.8s\tremaining: 3.44s\n",
      "525:\tlearn: 0.2114051\ttotal: 3.8s\tremaining: 3.43s\n",
      "526:\tlearn: 0.2113959\ttotal: 3.81s\tremaining: 3.42s\n"
     ]
    },
    {
     "name": "stdout",
     "output_type": "stream",
     "text": [
      "527:\tlearn: 0.2113913\ttotal: 3.82s\tremaining: 3.41s\n",
      "528:\tlearn: 0.2113854\ttotal: 3.83s\tremaining: 3.4s\n",
      "529:\tlearn: 0.2113808\ttotal: 3.83s\tremaining: 3.4s\n",
      "530:\tlearn: 0.2113767\ttotal: 3.84s\tremaining: 3.39s\n",
      "531:\tlearn: 0.2113681\ttotal: 3.85s\tremaining: 3.38s\n",
      "532:\tlearn: 0.2113625\ttotal: 3.85s\tremaining: 3.38s\n",
      "533:\tlearn: 0.2113516\ttotal: 3.86s\tremaining: 3.37s\n",
      "534:\tlearn: 0.2113451\ttotal: 3.87s\tremaining: 3.36s\n",
      "535:\tlearn: 0.2113394\ttotal: 3.88s\tremaining: 3.35s\n",
      "536:\tlearn: 0.2113328\ttotal: 3.88s\tremaining: 3.35s\n",
      "537:\tlearn: 0.2113270\ttotal: 3.89s\tremaining: 3.34s\n",
      "538:\tlearn: 0.2113187\ttotal: 3.9s\tremaining: 3.33s\n",
      "539:\tlearn: 0.2113131\ttotal: 3.9s\tremaining: 3.33s\n",
      "540:\tlearn: 0.2113034\ttotal: 3.91s\tremaining: 3.32s\n",
      "541:\tlearn: 0.2112992\ttotal: 3.92s\tremaining: 3.31s\n",
      "542:\tlearn: 0.2112917\ttotal: 3.93s\tremaining: 3.3s\n",
      "543:\tlearn: 0.2112887\ttotal: 3.93s\tremaining: 3.3s\n",
      "544:\tlearn: 0.2112843\ttotal: 3.94s\tremaining: 3.29s\n",
      "545:\tlearn: 0.2112802\ttotal: 3.95s\tremaining: 3.28s\n",
      "546:\tlearn: 0.2112716\ttotal: 3.96s\tremaining: 3.27s\n",
      "547:\tlearn: 0.2112676\ttotal: 3.96s\tremaining: 3.27s\n",
      "548:\tlearn: 0.2112518\ttotal: 3.97s\tremaining: 3.26s\n",
      "549:\tlearn: 0.2112448\ttotal: 3.98s\tremaining: 3.25s\n",
      "550:\tlearn: 0.2112409\ttotal: 3.98s\tremaining: 3.25s\n",
      "551:\tlearn: 0.2112315\ttotal: 3.99s\tremaining: 3.24s\n",
      "552:\tlearn: 0.2112251\ttotal: 4s\tremaining: 3.23s\n",
      "553:\tlearn: 0.2112118\ttotal: 4s\tremaining: 3.22s\n",
      "554:\tlearn: 0.2112075\ttotal: 4.01s\tremaining: 3.22s\n",
      "555:\tlearn: 0.2111876\ttotal: 4.02s\tremaining: 3.21s\n",
      "556:\tlearn: 0.2111809\ttotal: 4.03s\tremaining: 3.2s\n",
      "557:\tlearn: 0.2111782\ttotal: 4.03s\tremaining: 3.2s\n",
      "558:\tlearn: 0.2111748\ttotal: 4.04s\tremaining: 3.19s\n",
      "559:\tlearn: 0.2111722\ttotal: 4.05s\tremaining: 3.18s\n",
      "560:\tlearn: 0.2111684\ttotal: 4.05s\tremaining: 3.17s\n",
      "561:\tlearn: 0.2111639\ttotal: 4.06s\tremaining: 3.17s\n",
      "562:\tlearn: 0.2111497\ttotal: 4.07s\tremaining: 3.16s\n",
      "563:\tlearn: 0.2111446\ttotal: 4.08s\tremaining: 3.15s\n",
      "564:\tlearn: 0.2111317\ttotal: 4.08s\tremaining: 3.14s\n",
      "565:\tlearn: 0.2111283\ttotal: 4.09s\tremaining: 3.14s\n",
      "566:\tlearn: 0.2111210\ttotal: 4.1s\tremaining: 3.13s\n",
      "567:\tlearn: 0.2111136\ttotal: 4.11s\tremaining: 3.12s\n",
      "568:\tlearn: 0.2111032\ttotal: 4.11s\tremaining: 3.12s\n",
      "569:\tlearn: 0.2110963\ttotal: 4.12s\tremaining: 3.11s\n",
      "570:\tlearn: 0.2110927\ttotal: 4.13s\tremaining: 3.1s\n",
      "571:\tlearn: 0.2110886\ttotal: 4.13s\tremaining: 3.09s\n",
      "572:\tlearn: 0.2110812\ttotal: 4.14s\tremaining: 3.09s\n",
      "573:\tlearn: 0.2110789\ttotal: 4.15s\tremaining: 3.08s\n",
      "574:\tlearn: 0.2110746\ttotal: 4.16s\tremaining: 3.07s\n",
      "575:\tlearn: 0.2110642\ttotal: 4.16s\tremaining: 3.06s\n",
      "576:\tlearn: 0.2110606\ttotal: 4.17s\tremaining: 3.06s\n",
      "577:\tlearn: 0.2110562\ttotal: 4.18s\tremaining: 3.05s\n",
      "578:\tlearn: 0.2110532\ttotal: 4.18s\tremaining: 3.04s\n",
      "579:\tlearn: 0.2110400\ttotal: 4.19s\tremaining: 3.04s\n",
      "580:\tlearn: 0.2110356\ttotal: 4.2s\tremaining: 3.03s\n",
      "581:\tlearn: 0.2110244\ttotal: 4.21s\tremaining: 3.02s\n",
      "582:\tlearn: 0.2110181\ttotal: 4.21s\tremaining: 3.02s\n",
      "583:\tlearn: 0.2110118\ttotal: 4.22s\tremaining: 3.01s\n",
      "584:\tlearn: 0.2110071\ttotal: 4.23s\tremaining: 3s\n",
      "585:\tlearn: 0.2110014\ttotal: 4.24s\tremaining: 2.99s\n",
      "586:\tlearn: 0.2109906\ttotal: 4.24s\tremaining: 2.98s\n",
      "587:\tlearn: 0.2109864\ttotal: 4.25s\tremaining: 2.98s\n",
      "588:\tlearn: 0.2109823\ttotal: 4.26s\tremaining: 2.97s\n",
      "589:\tlearn: 0.2109763\ttotal: 4.27s\tremaining: 2.96s\n",
      "590:\tlearn: 0.2109676\ttotal: 4.27s\tremaining: 2.96s\n",
      "591:\tlearn: 0.2109565\ttotal: 4.28s\tremaining: 2.95s\n",
      "592:\tlearn: 0.2109506\ttotal: 4.29s\tremaining: 2.94s\n",
      "593:\tlearn: 0.2109467\ttotal: 4.29s\tremaining: 2.94s\n",
      "594:\tlearn: 0.2109433\ttotal: 4.3s\tremaining: 2.93s\n",
      "595:\tlearn: 0.2109370\ttotal: 4.31s\tremaining: 2.92s\n",
      "596:\tlearn: 0.2109312\ttotal: 4.32s\tremaining: 2.91s\n",
      "597:\tlearn: 0.2109229\ttotal: 4.32s\tremaining: 2.91s\n",
      "598:\tlearn: 0.2109178\ttotal: 4.33s\tremaining: 2.9s\n",
      "599:\tlearn: 0.2109109\ttotal: 4.34s\tremaining: 2.89s\n",
      "600:\tlearn: 0.2109054\ttotal: 4.35s\tremaining: 2.88s\n",
      "601:\tlearn: 0.2109030\ttotal: 4.35s\tremaining: 2.88s\n",
      "602:\tlearn: 0.2108944\ttotal: 4.36s\tremaining: 2.87s\n",
      "603:\tlearn: 0.2108828\ttotal: 4.37s\tremaining: 2.86s\n",
      "604:\tlearn: 0.2108748\ttotal: 4.38s\tremaining: 2.86s\n",
      "605:\tlearn: 0.2108686\ttotal: 4.38s\tremaining: 2.85s\n",
      "606:\tlearn: 0.2108602\ttotal: 4.39s\tremaining: 2.84s\n",
      "607:\tlearn: 0.2108566\ttotal: 4.4s\tremaining: 2.83s\n",
      "608:\tlearn: 0.2108526\ttotal: 4.41s\tremaining: 2.83s\n",
      "609:\tlearn: 0.2108487\ttotal: 4.41s\tremaining: 2.82s\n",
      "610:\tlearn: 0.2108402\ttotal: 4.42s\tremaining: 2.81s\n",
      "611:\tlearn: 0.2108349\ttotal: 4.43s\tremaining: 2.81s\n",
      "612:\tlearn: 0.2108293\ttotal: 4.43s\tremaining: 2.8s\n",
      "613:\tlearn: 0.2108252\ttotal: 4.44s\tremaining: 2.79s\n",
      "614:\tlearn: 0.2108211\ttotal: 4.45s\tremaining: 2.79s\n",
      "615:\tlearn: 0.2108185\ttotal: 4.46s\tremaining: 2.78s\n",
      "616:\tlearn: 0.2108148\ttotal: 4.46s\tremaining: 2.77s\n",
      "617:\tlearn: 0.2108075\ttotal: 4.47s\tremaining: 2.76s\n",
      "618:\tlearn: 0.2107998\ttotal: 4.48s\tremaining: 2.75s\n",
      "619:\tlearn: 0.2107949\ttotal: 4.49s\tremaining: 2.75s\n",
      "620:\tlearn: 0.2107894\ttotal: 4.49s\tremaining: 2.74s\n",
      "621:\tlearn: 0.2107846\ttotal: 4.5s\tremaining: 2.73s\n",
      "622:\tlearn: 0.2107825\ttotal: 4.5s\tremaining: 2.73s\n",
      "623:\tlearn: 0.2107738\ttotal: 4.51s\tremaining: 2.72s\n",
      "624:\tlearn: 0.2107700\ttotal: 4.52s\tremaining: 2.71s\n",
      "625:\tlearn: 0.2107630\ttotal: 4.53s\tremaining: 2.71s\n",
      "626:\tlearn: 0.2107596\ttotal: 4.54s\tremaining: 2.7s\n",
      "627:\tlearn: 0.2107575\ttotal: 4.54s\tremaining: 2.69s\n",
      "628:\tlearn: 0.2107544\ttotal: 4.55s\tremaining: 2.68s\n",
      "629:\tlearn: 0.2107511\ttotal: 4.56s\tremaining: 2.68s\n",
      "630:\tlearn: 0.2107418\ttotal: 4.57s\tremaining: 2.67s\n",
      "631:\tlearn: 0.2107376\ttotal: 4.57s\tremaining: 2.66s\n",
      "632:\tlearn: 0.2107279\ttotal: 4.58s\tremaining: 2.65s\n",
      "633:\tlearn: 0.2107234\ttotal: 4.59s\tremaining: 2.65s\n",
      "634:\tlearn: 0.2107180\ttotal: 4.59s\tremaining: 2.64s\n",
      "635:\tlearn: 0.2107148\ttotal: 4.6s\tremaining: 2.63s\n",
      "636:\tlearn: 0.2107055\ttotal: 4.61s\tremaining: 2.63s\n",
      "637:\tlearn: 0.2107000\ttotal: 4.62s\tremaining: 2.62s\n",
      "638:\tlearn: 0.2106936\ttotal: 4.62s\tremaining: 2.61s\n",
      "639:\tlearn: 0.2106824\ttotal: 4.63s\tremaining: 2.6s\n",
      "640:\tlearn: 0.2106786\ttotal: 4.64s\tremaining: 2.6s\n",
      "641:\tlearn: 0.2106768\ttotal: 4.64s\tremaining: 2.59s\n",
      "642:\tlearn: 0.2106713\ttotal: 4.65s\tremaining: 2.58s\n",
      "643:\tlearn: 0.2106678\ttotal: 4.66s\tremaining: 2.58s\n",
      "644:\tlearn: 0.2106635\ttotal: 4.67s\tremaining: 2.57s\n",
      "645:\tlearn: 0.2106605\ttotal: 4.67s\tremaining: 2.56s\n",
      "646:\tlearn: 0.2106579\ttotal: 4.68s\tremaining: 2.56s\n",
      "647:\tlearn: 0.2106465\ttotal: 4.69s\tremaining: 2.55s\n",
      "648:\tlearn: 0.2106391\ttotal: 4.7s\tremaining: 2.54s\n",
      "649:\tlearn: 0.2106352\ttotal: 4.71s\tremaining: 2.53s\n",
      "650:\tlearn: 0.2106276\ttotal: 4.71s\tremaining: 2.53s\n",
      "651:\tlearn: 0.2106084\ttotal: 4.72s\tremaining: 2.52s\n",
      "652:\tlearn: 0.2106036\ttotal: 4.73s\tremaining: 2.51s\n",
      "653:\tlearn: 0.2105988\ttotal: 4.74s\tremaining: 2.51s\n",
      "654:\tlearn: 0.2105954\ttotal: 4.75s\tremaining: 2.5s\n",
      "655:\tlearn: 0.2105868\ttotal: 4.75s\tremaining: 2.49s\n",
      "656:\tlearn: 0.2105818\ttotal: 4.76s\tremaining: 2.49s\n",
      "657:\tlearn: 0.2105779\ttotal: 4.77s\tremaining: 2.48s\n",
      "658:\tlearn: 0.2105754\ttotal: 4.78s\tremaining: 2.47s\n",
      "659:\tlearn: 0.2105688\ttotal: 4.78s\tremaining: 2.46s\n",
      "660:\tlearn: 0.2105662\ttotal: 4.79s\tremaining: 2.46s\n",
      "661:\tlearn: 0.2105607\ttotal: 4.8s\tremaining: 2.45s\n",
      "662:\tlearn: 0.2105578\ttotal: 4.81s\tremaining: 2.44s\n",
      "663:\tlearn: 0.2105537\ttotal: 4.81s\tremaining: 2.44s\n",
      "664:\tlearn: 0.2105495\ttotal: 4.82s\tremaining: 2.43s\n",
      "665:\tlearn: 0.2105414\ttotal: 4.83s\tremaining: 2.42s\n",
      "666:\tlearn: 0.2105382\ttotal: 4.83s\tremaining: 2.41s\n",
      "667:\tlearn: 0.2105352\ttotal: 4.84s\tremaining: 2.41s\n",
      "668:\tlearn: 0.2105250\ttotal: 4.85s\tremaining: 2.4s\n",
      "669:\tlearn: 0.2105137\ttotal: 4.86s\tremaining: 2.39s\n",
      "670:\tlearn: 0.2105111\ttotal: 4.86s\tremaining: 2.38s\n",
      "671:\tlearn: 0.2105066\ttotal: 4.87s\tremaining: 2.38s\n",
      "672:\tlearn: 0.2104947\ttotal: 4.88s\tremaining: 2.37s\n",
      "673:\tlearn: 0.2104871\ttotal: 4.89s\tremaining: 2.36s\n",
      "674:\tlearn: 0.2104835\ttotal: 4.89s\tremaining: 2.36s\n",
      "675:\tlearn: 0.2104761\ttotal: 4.9s\tremaining: 2.35s\n",
      "676:\tlearn: 0.2104708\ttotal: 4.91s\tremaining: 2.34s\n",
      "677:\tlearn: 0.2104607\ttotal: 4.92s\tremaining: 2.33s\n",
      "678:\tlearn: 0.2104529\ttotal: 4.92s\tremaining: 2.33s\n",
      "679:\tlearn: 0.2104459\ttotal: 4.93s\tremaining: 2.32s\n",
      "680:\tlearn: 0.2104362\ttotal: 4.94s\tremaining: 2.31s\n",
      "681:\tlearn: 0.2104297\ttotal: 4.95s\tremaining: 2.31s\n",
      "682:\tlearn: 0.2104242\ttotal: 4.96s\tremaining: 2.3s\n",
      "683:\tlearn: 0.2104182\ttotal: 4.96s\tremaining: 2.29s\n",
      "684:\tlearn: 0.2104129\ttotal: 4.97s\tremaining: 2.29s\n",
      "685:\tlearn: 0.2104080\ttotal: 4.98s\tremaining: 2.28s\n",
      "686:\tlearn: 0.2104039\ttotal: 4.99s\tremaining: 2.27s\n",
      "687:\tlearn: 0.2104009\ttotal: 4.99s\tremaining: 2.26s\n",
      "688:\tlearn: 0.2103956\ttotal: 5s\tremaining: 2.26s\n",
      "689:\tlearn: 0.2103925\ttotal: 5.01s\tremaining: 2.25s\n",
      "690:\tlearn: 0.2103890\ttotal: 5.02s\tremaining: 2.24s\n",
      "691:\tlearn: 0.2103752\ttotal: 5.02s\tremaining: 2.24s\n",
      "692:\tlearn: 0.2103736\ttotal: 5.03s\tremaining: 2.23s\n",
      "693:\tlearn: 0.2103694\ttotal: 5.04s\tremaining: 2.22s\n",
      "694:\tlearn: 0.2103676\ttotal: 5.05s\tremaining: 2.21s\n",
      "695:\tlearn: 0.2103648\ttotal: 5.05s\tremaining: 2.21s\n",
      "696:\tlearn: 0.2103601\ttotal: 5.06s\tremaining: 2.2s\n",
      "697:\tlearn: 0.2103535\ttotal: 5.07s\tremaining: 2.19s\n",
      "698:\tlearn: 0.2103466\ttotal: 5.08s\tremaining: 2.19s\n",
      "699:\tlearn: 0.2103415\ttotal: 5.08s\tremaining: 2.18s\n",
      "700:\tlearn: 0.2103361\ttotal: 5.09s\tremaining: 2.17s\n",
      "701:\tlearn: 0.2103254\ttotal: 5.1s\tremaining: 2.16s\n"
     ]
    },
    {
     "name": "stdout",
     "output_type": "stream",
     "text": [
      "702:\tlearn: 0.2103238\ttotal: 5.11s\tremaining: 2.16s\n",
      "703:\tlearn: 0.2103212\ttotal: 5.12s\tremaining: 2.15s\n",
      "704:\tlearn: 0.2103184\ttotal: 5.12s\tremaining: 2.14s\n",
      "705:\tlearn: 0.2103140\ttotal: 5.13s\tremaining: 2.14s\n",
      "706:\tlearn: 0.2103109\ttotal: 5.14s\tremaining: 2.13s\n",
      "707:\tlearn: 0.2103061\ttotal: 5.14s\tremaining: 2.12s\n",
      "708:\tlearn: 0.2102982\ttotal: 5.15s\tremaining: 2.12s\n",
      "709:\tlearn: 0.2102935\ttotal: 5.16s\tremaining: 2.11s\n",
      "710:\tlearn: 0.2102846\ttotal: 5.17s\tremaining: 2.1s\n",
      "711:\tlearn: 0.2102811\ttotal: 5.18s\tremaining: 2.09s\n",
      "712:\tlearn: 0.2102760\ttotal: 5.18s\tremaining: 2.09s\n",
      "713:\tlearn: 0.2102690\ttotal: 5.19s\tremaining: 2.08s\n",
      "714:\tlearn: 0.2102665\ttotal: 5.2s\tremaining: 2.07s\n",
      "715:\tlearn: 0.2102580\ttotal: 5.21s\tremaining: 2.07s\n",
      "716:\tlearn: 0.2102509\ttotal: 5.22s\tremaining: 2.06s\n",
      "717:\tlearn: 0.2102476\ttotal: 5.22s\tremaining: 2.05s\n",
      "718:\tlearn: 0.2102441\ttotal: 5.23s\tremaining: 2.04s\n",
      "719:\tlearn: 0.2102327\ttotal: 5.24s\tremaining: 2.04s\n",
      "720:\tlearn: 0.2102273\ttotal: 5.25s\tremaining: 2.03s\n",
      "721:\tlearn: 0.2102199\ttotal: 5.25s\tremaining: 2.02s\n",
      "722:\tlearn: 0.2102140\ttotal: 5.26s\tremaining: 2.02s\n",
      "723:\tlearn: 0.2102107\ttotal: 5.27s\tremaining: 2.01s\n",
      "724:\tlearn: 0.2102089\ttotal: 5.28s\tremaining: 2s\n",
      "725:\tlearn: 0.2102048\ttotal: 5.28s\tremaining: 1.99s\n",
      "726:\tlearn: 0.2101977\ttotal: 5.29s\tremaining: 1.99s\n",
      "727:\tlearn: 0.2101932\ttotal: 5.3s\tremaining: 1.98s\n",
      "728:\tlearn: 0.2101903\ttotal: 5.31s\tremaining: 1.97s\n",
      "729:\tlearn: 0.2101876\ttotal: 5.32s\tremaining: 1.97s\n",
      "730:\tlearn: 0.2101859\ttotal: 5.32s\tremaining: 1.96s\n",
      "731:\tlearn: 0.2101836\ttotal: 5.33s\tremaining: 1.95s\n",
      "732:\tlearn: 0.2101805\ttotal: 5.34s\tremaining: 1.94s\n",
      "733:\tlearn: 0.2101733\ttotal: 5.34s\tremaining: 1.94s\n",
      "734:\tlearn: 0.2101674\ttotal: 5.35s\tremaining: 1.93s\n",
      "735:\tlearn: 0.2101637\ttotal: 5.36s\tremaining: 1.92s\n",
      "736:\tlearn: 0.2101599\ttotal: 5.37s\tremaining: 1.92s\n",
      "737:\tlearn: 0.2101517\ttotal: 5.38s\tremaining: 1.91s\n",
      "738:\tlearn: 0.2101487\ttotal: 5.38s\tremaining: 1.9s\n",
      "739:\tlearn: 0.2101462\ttotal: 5.39s\tremaining: 1.89s\n",
      "740:\tlearn: 0.2101319\ttotal: 5.4s\tremaining: 1.89s\n",
      "741:\tlearn: 0.2101295\ttotal: 5.41s\tremaining: 1.88s\n",
      "742:\tlearn: 0.2101233\ttotal: 5.41s\tremaining: 1.87s\n",
      "743:\tlearn: 0.2101142\ttotal: 5.42s\tremaining: 1.86s\n",
      "744:\tlearn: 0.2101031\ttotal: 5.43s\tremaining: 1.86s\n",
      "745:\tlearn: 0.2100969\ttotal: 5.44s\tremaining: 1.85s\n",
      "746:\tlearn: 0.2100946\ttotal: 5.44s\tremaining: 1.84s\n",
      "747:\tlearn: 0.2100918\ttotal: 5.45s\tremaining: 1.84s\n",
      "748:\tlearn: 0.2100873\ttotal: 5.46s\tremaining: 1.83s\n",
      "749:\tlearn: 0.2100838\ttotal: 5.47s\tremaining: 1.82s\n",
      "750:\tlearn: 0.2100769\ttotal: 5.47s\tremaining: 1.81s\n",
      "751:\tlearn: 0.2100738\ttotal: 5.48s\tremaining: 1.81s\n",
      "752:\tlearn: 0.2100707\ttotal: 5.49s\tremaining: 1.8s\n",
      "753:\tlearn: 0.2100641\ttotal: 5.5s\tremaining: 1.79s\n",
      "754:\tlearn: 0.2100578\ttotal: 5.5s\tremaining: 1.79s\n",
      "755:\tlearn: 0.2100471\ttotal: 5.51s\tremaining: 1.78s\n",
      "756:\tlearn: 0.2100421\ttotal: 5.52s\tremaining: 1.77s\n",
      "757:\tlearn: 0.2100346\ttotal: 5.53s\tremaining: 1.76s\n",
      "758:\tlearn: 0.2100262\ttotal: 5.53s\tremaining: 1.76s\n",
      "759:\tlearn: 0.2100174\ttotal: 5.54s\tremaining: 1.75s\n",
      "760:\tlearn: 0.2100095\ttotal: 5.55s\tremaining: 1.74s\n",
      "761:\tlearn: 0.2100041\ttotal: 5.55s\tremaining: 1.74s\n",
      "762:\tlearn: 0.2100014\ttotal: 5.56s\tremaining: 1.73s\n",
      "763:\tlearn: 0.2099900\ttotal: 5.57s\tremaining: 1.72s\n",
      "764:\tlearn: 0.2099862\ttotal: 5.58s\tremaining: 1.71s\n",
      "765:\tlearn: 0.2099768\ttotal: 5.58s\tremaining: 1.71s\n",
      "766:\tlearn: 0.2099718\ttotal: 5.59s\tremaining: 1.7s\n",
      "767:\tlearn: 0.2099682\ttotal: 5.6s\tremaining: 1.69s\n",
      "768:\tlearn: 0.2099664\ttotal: 5.61s\tremaining: 1.68s\n",
      "769:\tlearn: 0.2099625\ttotal: 5.61s\tremaining: 1.68s\n",
      "770:\tlearn: 0.2099575\ttotal: 5.62s\tremaining: 1.67s\n",
      "771:\tlearn: 0.2099496\ttotal: 5.63s\tremaining: 1.66s\n",
      "772:\tlearn: 0.2099472\ttotal: 5.63s\tremaining: 1.65s\n",
      "773:\tlearn: 0.2099452\ttotal: 5.64s\tremaining: 1.65s\n",
      "774:\tlearn: 0.2099388\ttotal: 5.65s\tremaining: 1.64s\n",
      "775:\tlearn: 0.2099358\ttotal: 5.66s\tremaining: 1.63s\n",
      "776:\tlearn: 0.2099326\ttotal: 5.67s\tremaining: 1.63s\n",
      "777:\tlearn: 0.2099264\ttotal: 5.67s\tremaining: 1.62s\n",
      "778:\tlearn: 0.2099234\ttotal: 5.68s\tremaining: 1.61s\n",
      "779:\tlearn: 0.2099079\ttotal: 5.69s\tremaining: 1.6s\n",
      "780:\tlearn: 0.2098925\ttotal: 5.7s\tremaining: 1.6s\n",
      "781:\tlearn: 0.2098892\ttotal: 5.7s\tremaining: 1.59s\n",
      "782:\tlearn: 0.2098840\ttotal: 5.71s\tremaining: 1.58s\n",
      "783:\tlearn: 0.2098782\ttotal: 5.72s\tremaining: 1.57s\n",
      "784:\tlearn: 0.2098747\ttotal: 5.73s\tremaining: 1.57s\n",
      "785:\tlearn: 0.2098693\ttotal: 5.73s\tremaining: 1.56s\n",
      "786:\tlearn: 0.2098660\ttotal: 5.74s\tremaining: 1.55s\n",
      "787:\tlearn: 0.2098626\ttotal: 5.75s\tremaining: 1.55s\n",
      "788:\tlearn: 0.2098553\ttotal: 5.76s\tremaining: 1.54s\n",
      "789:\tlearn: 0.2098536\ttotal: 5.76s\tremaining: 1.53s\n",
      "790:\tlearn: 0.2098467\ttotal: 5.77s\tremaining: 1.52s\n",
      "791:\tlearn: 0.2098440\ttotal: 5.78s\tremaining: 1.52s\n",
      "792:\tlearn: 0.2098396\ttotal: 5.79s\tremaining: 1.51s\n",
      "793:\tlearn: 0.2098367\ttotal: 5.79s\tremaining: 1.5s\n",
      "794:\tlearn: 0.2098333\ttotal: 5.8s\tremaining: 1.5s\n",
      "795:\tlearn: 0.2098287\ttotal: 5.81s\tremaining: 1.49s\n",
      "796:\tlearn: 0.2098244\ttotal: 5.82s\tremaining: 1.48s\n",
      "797:\tlearn: 0.2098213\ttotal: 5.83s\tremaining: 1.47s\n",
      "798:\tlearn: 0.2098176\ttotal: 5.83s\tremaining: 1.47s\n",
      "799:\tlearn: 0.2098127\ttotal: 5.84s\tremaining: 1.46s\n",
      "800:\tlearn: 0.2098082\ttotal: 5.85s\tremaining: 1.45s\n",
      "801:\tlearn: 0.2098023\ttotal: 5.86s\tremaining: 1.45s\n",
      "802:\tlearn: 0.2098006\ttotal: 5.87s\tremaining: 1.44s\n",
      "803:\tlearn: 0.2097970\ttotal: 5.88s\tremaining: 1.43s\n",
      "804:\tlearn: 0.2097885\ttotal: 5.88s\tremaining: 1.43s\n",
      "805:\tlearn: 0.2097835\ttotal: 5.89s\tremaining: 1.42s\n",
      "806:\tlearn: 0.2097805\ttotal: 5.9s\tremaining: 1.41s\n",
      "807:\tlearn: 0.2097768\ttotal: 5.91s\tremaining: 1.4s\n",
      "808:\tlearn: 0.2097734\ttotal: 5.92s\tremaining: 1.4s\n",
      "809:\tlearn: 0.2097715\ttotal: 5.92s\tremaining: 1.39s\n",
      "810:\tlearn: 0.2097685\ttotal: 5.93s\tremaining: 1.38s\n",
      "811:\tlearn: 0.2097651\ttotal: 5.94s\tremaining: 1.38s\n",
      "812:\tlearn: 0.2097613\ttotal: 5.95s\tremaining: 1.37s\n",
      "813:\tlearn: 0.2097589\ttotal: 5.96s\tremaining: 1.36s\n",
      "814:\tlearn: 0.2097484\ttotal: 5.97s\tremaining: 1.35s\n",
      "815:\tlearn: 0.2097409\ttotal: 5.98s\tremaining: 1.35s\n",
      "816:\tlearn: 0.2097346\ttotal: 5.98s\tremaining: 1.34s\n",
      "817:\tlearn: 0.2097318\ttotal: 5.99s\tremaining: 1.33s\n",
      "818:\tlearn: 0.2097274\ttotal: 6s\tremaining: 1.33s\n",
      "819:\tlearn: 0.2097234\ttotal: 6.01s\tremaining: 1.32s\n",
      "820:\tlearn: 0.2097197\ttotal: 6.02s\tremaining: 1.31s\n",
      "821:\tlearn: 0.2097165\ttotal: 6.02s\tremaining: 1.3s\n",
      "822:\tlearn: 0.2097084\ttotal: 6.03s\tremaining: 1.3s\n",
      "823:\tlearn: 0.2097062\ttotal: 6.04s\tremaining: 1.29s\n",
      "824:\tlearn: 0.2096993\ttotal: 6.05s\tremaining: 1.28s\n",
      "825:\tlearn: 0.2096913\ttotal: 6.05s\tremaining: 1.27s\n",
      "826:\tlearn: 0.2096780\ttotal: 6.06s\tremaining: 1.27s\n",
      "827:\tlearn: 0.2096726\ttotal: 6.07s\tremaining: 1.26s\n",
      "828:\tlearn: 0.2096697\ttotal: 6.08s\tremaining: 1.25s\n",
      "829:\tlearn: 0.2096666\ttotal: 6.08s\tremaining: 1.25s\n",
      "830:\tlearn: 0.2096625\ttotal: 6.09s\tremaining: 1.24s\n",
      "831:\tlearn: 0.2096594\ttotal: 6.1s\tremaining: 1.23s\n",
      "832:\tlearn: 0.2096553\ttotal: 6.1s\tremaining: 1.22s\n",
      "833:\tlearn: 0.2096520\ttotal: 6.11s\tremaining: 1.22s\n",
      "834:\tlearn: 0.2096495\ttotal: 6.12s\tremaining: 1.21s\n",
      "835:\tlearn: 0.2096464\ttotal: 6.13s\tremaining: 1.2s\n",
      "836:\tlearn: 0.2096413\ttotal: 6.13s\tremaining: 1.19s\n",
      "837:\tlearn: 0.2096393\ttotal: 6.14s\tremaining: 1.19s\n",
      "838:\tlearn: 0.2096362\ttotal: 6.15s\tremaining: 1.18s\n",
      "839:\tlearn: 0.2096330\ttotal: 6.15s\tremaining: 1.17s\n",
      "840:\tlearn: 0.2096310\ttotal: 6.16s\tremaining: 1.16s\n",
      "841:\tlearn: 0.2096288\ttotal: 6.17s\tremaining: 1.16s\n",
      "842:\tlearn: 0.2096265\ttotal: 6.17s\tremaining: 1.15s\n",
      "843:\tlearn: 0.2096239\ttotal: 6.18s\tremaining: 1.14s\n",
      "844:\tlearn: 0.2096219\ttotal: 6.19s\tremaining: 1.14s\n",
      "845:\tlearn: 0.2096196\ttotal: 6.2s\tremaining: 1.13s\n",
      "846:\tlearn: 0.2096122\ttotal: 6.2s\tremaining: 1.12s\n",
      "847:\tlearn: 0.2096078\ttotal: 6.21s\tremaining: 1.11s\n",
      "848:\tlearn: 0.2095987\ttotal: 6.22s\tremaining: 1.11s\n",
      "849:\tlearn: 0.2095919\ttotal: 6.23s\tremaining: 1.1s\n",
      "850:\tlearn: 0.2095844\ttotal: 6.24s\tremaining: 1.09s\n",
      "851:\tlearn: 0.2095822\ttotal: 6.25s\tremaining: 1.08s\n",
      "852:\tlearn: 0.2095704\ttotal: 6.25s\tremaining: 1.08s\n",
      "853:\tlearn: 0.2095641\ttotal: 6.26s\tremaining: 1.07s\n",
      "854:\tlearn: 0.2095587\ttotal: 6.27s\tremaining: 1.06s\n",
      "855:\tlearn: 0.2095529\ttotal: 6.28s\tremaining: 1.05s\n",
      "856:\tlearn: 0.2095511\ttotal: 6.28s\tremaining: 1.05s\n",
      "857:\tlearn: 0.2095441\ttotal: 6.29s\tremaining: 1.04s\n",
      "858:\tlearn: 0.2095419\ttotal: 6.3s\tremaining: 1.03s\n",
      "859:\tlearn: 0.2095313\ttotal: 6.3s\tremaining: 1.03s\n",
      "860:\tlearn: 0.2095250\ttotal: 6.31s\tremaining: 1.02s\n",
      "861:\tlearn: 0.2095226\ttotal: 6.32s\tremaining: 1.01s\n",
      "862:\tlearn: 0.2095175\ttotal: 6.33s\tremaining: 1s\n",
      "863:\tlearn: 0.2095151\ttotal: 6.33s\tremaining: 997ms\n",
      "864:\tlearn: 0.2095128\ttotal: 6.34s\tremaining: 990ms\n",
      "865:\tlearn: 0.2095107\ttotal: 6.35s\tremaining: 982ms\n",
      "866:\tlearn: 0.2095078\ttotal: 6.35s\tremaining: 975ms\n",
      "867:\tlearn: 0.2095056\ttotal: 6.36s\tremaining: 967ms\n",
      "868:\tlearn: 0.2095018\ttotal: 6.37s\tremaining: 960ms\n",
      "869:\tlearn: 0.2094987\ttotal: 6.38s\tremaining: 953ms\n",
      "870:\tlearn: 0.2094889\ttotal: 6.38s\tremaining: 945ms\n"
     ]
    },
    {
     "name": "stdout",
     "output_type": "stream",
     "text": [
      "871:\tlearn: 0.2094863\ttotal: 6.39s\tremaining: 938ms\n",
      "872:\tlearn: 0.2094822\ttotal: 6.4s\tremaining: 931ms\n",
      "873:\tlearn: 0.2094752\ttotal: 6.4s\tremaining: 923ms\n",
      "874:\tlearn: 0.2094662\ttotal: 6.41s\tremaining: 916ms\n",
      "875:\tlearn: 0.2094590\ttotal: 6.42s\tremaining: 909ms\n",
      "876:\tlearn: 0.2094554\ttotal: 6.43s\tremaining: 902ms\n",
      "877:\tlearn: 0.2094499\ttotal: 6.43s\tremaining: 894ms\n",
      "878:\tlearn: 0.2094475\ttotal: 6.44s\tremaining: 887ms\n",
      "879:\tlearn: 0.2094449\ttotal: 6.45s\tremaining: 879ms\n",
      "880:\tlearn: 0.2094415\ttotal: 6.46s\tremaining: 872ms\n",
      "881:\tlearn: 0.2094329\ttotal: 6.46s\tremaining: 865ms\n",
      "882:\tlearn: 0.2094319\ttotal: 6.47s\tremaining: 857ms\n",
      "883:\tlearn: 0.2094282\ttotal: 6.48s\tremaining: 850ms\n",
      "884:\tlearn: 0.2094245\ttotal: 6.49s\tremaining: 843ms\n",
      "885:\tlearn: 0.2094200\ttotal: 6.49s\tremaining: 836ms\n",
      "886:\tlearn: 0.2094141\ttotal: 6.5s\tremaining: 828ms\n",
      "887:\tlearn: 0.2094012\ttotal: 6.51s\tremaining: 821ms\n",
      "888:\tlearn: 0.2093983\ttotal: 6.52s\tremaining: 814ms\n",
      "889:\tlearn: 0.2093948\ttotal: 6.52s\tremaining: 806ms\n",
      "890:\tlearn: 0.2093926\ttotal: 6.53s\tremaining: 799ms\n",
      "891:\tlearn: 0.2093892\ttotal: 6.54s\tremaining: 792ms\n",
      "892:\tlearn: 0.2093869\ttotal: 6.54s\tremaining: 784ms\n",
      "893:\tlearn: 0.2093840\ttotal: 6.55s\tremaining: 777ms\n",
      "894:\tlearn: 0.2093821\ttotal: 6.56s\tremaining: 769ms\n",
      "895:\tlearn: 0.2093742\ttotal: 6.57s\tremaining: 762ms\n",
      "896:\tlearn: 0.2093659\ttotal: 6.57s\tremaining: 755ms\n",
      "897:\tlearn: 0.2093621\ttotal: 6.58s\tremaining: 748ms\n",
      "898:\tlearn: 0.2093580\ttotal: 6.59s\tremaining: 740ms\n",
      "899:\tlearn: 0.2093560\ttotal: 6.6s\tremaining: 733ms\n",
      "900:\tlearn: 0.2093517\ttotal: 6.6s\tremaining: 726ms\n",
      "901:\tlearn: 0.2093465\ttotal: 6.61s\tremaining: 718ms\n",
      "902:\tlearn: 0.2093430\ttotal: 6.62s\tremaining: 711ms\n",
      "903:\tlearn: 0.2093372\ttotal: 6.63s\tremaining: 704ms\n",
      "904:\tlearn: 0.2093337\ttotal: 6.63s\tremaining: 696ms\n",
      "905:\tlearn: 0.2093318\ttotal: 6.64s\tremaining: 689ms\n",
      "906:\tlearn: 0.2093257\ttotal: 6.65s\tremaining: 682ms\n",
      "907:\tlearn: 0.2093224\ttotal: 6.65s\tremaining: 674ms\n",
      "908:\tlearn: 0.2093149\ttotal: 6.66s\tremaining: 667ms\n",
      "909:\tlearn: 0.2093132\ttotal: 6.67s\tremaining: 659ms\n",
      "910:\tlearn: 0.2093090\ttotal: 6.67s\tremaining: 652ms\n",
      "911:\tlearn: 0.2093043\ttotal: 6.68s\tremaining: 645ms\n",
      "912:\tlearn: 0.2093012\ttotal: 6.69s\tremaining: 637ms\n",
      "913:\tlearn: 0.2092987\ttotal: 6.7s\tremaining: 630ms\n",
      "914:\tlearn: 0.2092960\ttotal: 6.7s\tremaining: 623ms\n",
      "915:\tlearn: 0.2092890\ttotal: 6.71s\tremaining: 615ms\n",
      "916:\tlearn: 0.2092856\ttotal: 6.72s\tremaining: 608ms\n",
      "917:\tlearn: 0.2092812\ttotal: 6.72s\tremaining: 601ms\n",
      "918:\tlearn: 0.2092749\ttotal: 6.73s\tremaining: 593ms\n",
      "919:\tlearn: 0.2092726\ttotal: 6.74s\tremaining: 586ms\n",
      "920:\tlearn: 0.2092712\ttotal: 6.75s\tremaining: 579ms\n",
      "921:\tlearn: 0.2092686\ttotal: 6.75s\tremaining: 571ms\n",
      "922:\tlearn: 0.2092661\ttotal: 6.76s\tremaining: 564ms\n",
      "923:\tlearn: 0.2092615\ttotal: 6.77s\tremaining: 557ms\n",
      "924:\tlearn: 0.2092582\ttotal: 6.78s\tremaining: 549ms\n",
      "925:\tlearn: 0.2092558\ttotal: 6.78s\tremaining: 542ms\n",
      "926:\tlearn: 0.2092541\ttotal: 6.79s\tremaining: 535ms\n",
      "927:\tlearn: 0.2092521\ttotal: 6.8s\tremaining: 527ms\n",
      "928:\tlearn: 0.2092479\ttotal: 6.8s\tremaining: 520ms\n",
      "929:\tlearn: 0.2092443\ttotal: 6.81s\tremaining: 513ms\n",
      "930:\tlearn: 0.2092401\ttotal: 6.82s\tremaining: 505ms\n",
      "931:\tlearn: 0.2092267\ttotal: 6.83s\tremaining: 498ms\n",
      "932:\tlearn: 0.2092235\ttotal: 6.83s\tremaining: 491ms\n",
      "933:\tlearn: 0.2092192\ttotal: 6.84s\tremaining: 483ms\n",
      "934:\tlearn: 0.2092162\ttotal: 6.85s\tremaining: 476ms\n",
      "935:\tlearn: 0.2092141\ttotal: 6.85s\tremaining: 469ms\n",
      "936:\tlearn: 0.2092118\ttotal: 6.86s\tremaining: 461ms\n",
      "937:\tlearn: 0.2092089\ttotal: 6.87s\tremaining: 454ms\n",
      "938:\tlearn: 0.2092049\ttotal: 6.87s\tremaining: 447ms\n",
      "939:\tlearn: 0.2092033\ttotal: 6.88s\tremaining: 439ms\n",
      "940:\tlearn: 0.2092008\ttotal: 6.89s\tremaining: 432ms\n",
      "941:\tlearn: 0.2091983\ttotal: 6.9s\tremaining: 425ms\n",
      "942:\tlearn: 0.2091931\ttotal: 6.9s\tremaining: 417ms\n",
      "943:\tlearn: 0.2091905\ttotal: 6.91s\tremaining: 410ms\n",
      "944:\tlearn: 0.2091838\ttotal: 6.92s\tremaining: 403ms\n",
      "945:\tlearn: 0.2091777\ttotal: 6.93s\tremaining: 395ms\n",
      "946:\tlearn: 0.2091733\ttotal: 6.93s\tremaining: 388ms\n",
      "947:\tlearn: 0.2091654\ttotal: 6.94s\tremaining: 381ms\n",
      "948:\tlearn: 0.2091633\ttotal: 6.95s\tremaining: 373ms\n",
      "949:\tlearn: 0.2091557\ttotal: 6.96s\tremaining: 366ms\n",
      "950:\tlearn: 0.2091491\ttotal: 6.96s\tremaining: 359ms\n",
      "951:\tlearn: 0.2091425\ttotal: 6.97s\tremaining: 351ms\n",
      "952:\tlearn: 0.2091366\ttotal: 6.98s\tremaining: 344ms\n",
      "953:\tlearn: 0.2091311\ttotal: 6.99s\tremaining: 337ms\n",
      "954:\tlearn: 0.2091285\ttotal: 6.99s\tremaining: 330ms\n",
      "955:\tlearn: 0.2091267\ttotal: 7s\tremaining: 322ms\n",
      "956:\tlearn: 0.2091232\ttotal: 7.01s\tremaining: 315ms\n",
      "957:\tlearn: 0.2091187\ttotal: 7.01s\tremaining: 308ms\n",
      "958:\tlearn: 0.2091166\ttotal: 7.02s\tremaining: 300ms\n",
      "959:\tlearn: 0.2091124\ttotal: 7.03s\tremaining: 293ms\n",
      "960:\tlearn: 0.2091105\ttotal: 7.04s\tremaining: 286ms\n",
      "961:\tlearn: 0.2091086\ttotal: 7.04s\tremaining: 278ms\n",
      "962:\tlearn: 0.2091069\ttotal: 7.05s\tremaining: 271ms\n",
      "963:\tlearn: 0.2091048\ttotal: 7.06s\tremaining: 264ms\n",
      "964:\tlearn: 0.2091038\ttotal: 7.06s\tremaining: 256ms\n",
      "965:\tlearn: 0.2091024\ttotal: 7.07s\tremaining: 249ms\n",
      "966:\tlearn: 0.2091006\ttotal: 7.08s\tremaining: 242ms\n",
      "967:\tlearn: 0.2090988\ttotal: 7.08s\tremaining: 234ms\n",
      "968:\tlearn: 0.2090973\ttotal: 7.09s\tremaining: 227ms\n",
      "969:\tlearn: 0.2090907\ttotal: 7.1s\tremaining: 220ms\n",
      "970:\tlearn: 0.2090821\ttotal: 7.11s\tremaining: 212ms\n",
      "971:\tlearn: 0.2090794\ttotal: 7.11s\tremaining: 205ms\n",
      "972:\tlearn: 0.2090770\ttotal: 7.12s\tremaining: 198ms\n",
      "973:\tlearn: 0.2090733\ttotal: 7.13s\tremaining: 190ms\n",
      "974:\tlearn: 0.2090675\ttotal: 7.14s\tremaining: 183ms\n",
      "975:\tlearn: 0.2090621\ttotal: 7.14s\tremaining: 176ms\n",
      "976:\tlearn: 0.2090595\ttotal: 7.15s\tremaining: 168ms\n",
      "977:\tlearn: 0.2090550\ttotal: 7.16s\tremaining: 161ms\n",
      "978:\tlearn: 0.2090496\ttotal: 7.17s\tremaining: 154ms\n",
      "979:\tlearn: 0.2090456\ttotal: 7.17s\tremaining: 146ms\n",
      "980:\tlearn: 0.2090358\ttotal: 7.18s\tremaining: 139ms\n",
      "981:\tlearn: 0.2090308\ttotal: 7.19s\tremaining: 132ms\n",
      "982:\tlearn: 0.2090290\ttotal: 7.19s\tremaining: 124ms\n",
      "983:\tlearn: 0.2090221\ttotal: 7.2s\tremaining: 117ms\n",
      "984:\tlearn: 0.2090207\ttotal: 7.21s\tremaining: 110ms\n",
      "985:\tlearn: 0.2090183\ttotal: 7.21s\tremaining: 102ms\n",
      "986:\tlearn: 0.2090141\ttotal: 7.22s\tremaining: 95.1ms\n",
      "987:\tlearn: 0.2090125\ttotal: 7.23s\tremaining: 87.8ms\n",
      "988:\tlearn: 0.2090086\ttotal: 7.24s\tremaining: 80.5ms\n",
      "989:\tlearn: 0.2089978\ttotal: 7.24s\tremaining: 73.2ms\n",
      "990:\tlearn: 0.2089921\ttotal: 7.25s\tremaining: 65.9ms\n",
      "991:\tlearn: 0.2089884\ttotal: 7.26s\tremaining: 58.5ms\n",
      "992:\tlearn: 0.2089835\ttotal: 7.27s\tremaining: 51.2ms\n",
      "993:\tlearn: 0.2089818\ttotal: 7.28s\tremaining: 43.9ms\n",
      "994:\tlearn: 0.2089754\ttotal: 7.28s\tremaining: 36.6ms\n",
      "995:\tlearn: 0.2089721\ttotal: 7.29s\tremaining: 29.3ms\n",
      "996:\tlearn: 0.2089678\ttotal: 7.3s\tremaining: 22ms\n",
      "997:\tlearn: 0.2089655\ttotal: 7.3s\tremaining: 14.6ms\n",
      "998:\tlearn: 0.2089565\ttotal: 7.31s\tremaining: 7.32ms\n",
      "999:\tlearn: 0.2089529\ttotal: 7.32s\tremaining: 0us\n",
      "Точность прогноза: 0.88\n"
     ]
    }
   ],
   "source": [
    "estimators = [('etr',best_etr),\n",
    "              ('xgb_reg',xgb_log)]\n",
    "\n",
    "st_cat = StackingRegressor(estimators=estimators,final_estimator=CatBoostRegressor())\n",
    "st_cat.fit(X_train, np.log(y_train))\n",
    "y_pred = np.exp(st_cat.predict(X_test))\n",
    "best_mape_value = round(mape(y_test, y_pred)/100,2)\n",
    "print (f\"Точность прогноза: {1 - best_mape_value}\")"
   ]
  },
  {
   "cell_type": "code",
   "execution_count": 167,
   "metadata": {},
   "outputs": [],
   "source": [
    "#y_sub = (st_cat.predict(X_t))\n",
    "#sample_submission = pd.read_csv(\"sample_submission.csv\", low_memory=False, encoding='utf-8')\n",
    "#sample_submission['price'] = y_sub\n",
    "#sample_submission.to_csv(f'submission_st_cat.csv', index=False)"
   ]
  },
  {
   "cell_type": "code",
   "execution_count": null,
   "metadata": {},
   "outputs": [],
   "source": [
    "#Точность модели MAPE 12\n",
    "#Точность модели на kaggle MAPE 99.99736"
   ]
  },
  {
   "cell_type": "markdown",
   "metadata": {},
   "source": [
    "# Вывод."
   ]
  },
  {
   "cell_type": "markdown",
   "metadata": {},
   "source": [
    "Наилучших показателей удалось достичь с использованием XGBRegressor."
   ]
  }
 ],
 "metadata": {
  "kernelspec": {
   "display_name": "Python 3 (ipykernel)",
   "language": "python",
   "name": "python3"
  },
  "language_info": {
   "codemirror_mode": {
    "name": "ipython",
    "version": 3
   },
   "file_extension": ".py",
   "mimetype": "text/x-python",
   "name": "python",
   "nbconvert_exporter": "python",
   "pygments_lexer": "ipython3",
   "version": "3.9.7"
  }
 },
 "nbformat": 4,
 "nbformat_minor": 4
}
